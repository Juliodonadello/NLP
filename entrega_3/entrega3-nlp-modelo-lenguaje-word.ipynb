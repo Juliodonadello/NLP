{
  "cells": [
    {
      "cell_type": "markdown",
      "source": [
        "# NLP - CEIA - 2024\n",
        "\n",
        "## Entrega 3 - Parte A\n",
        "\n",
        "\n",
        "### Autor: Julio Donadello\n",
        "### Email: juliodonadello@gmail.com\n",
        "\n",
        "---"
      ],
      "metadata": {
        "id": "JZcYDxqzVWW0"
      }
    },
    {
      "cell_type": "markdown",
      "metadata": {
        "id": "Iv5PEwGzZA9-"
      },
      "source": [
        "### Consigna\n",
        "- Seleccionar un corpus de texto sobre el cual entrenar el modelo de lenguaje.\n",
        "- Realizar el pre-procesamiento adecuado para tokenizar el corpus, estructurar el dataset y separar entre datos de entrenamiento y validación.\n",
        "- Proponer arquitecturas de redes neuronales basadas en unidades recurrentes para implementar un modelo de lenguaje.\n",
        "- Con el o los modelos que consideren adecuados, generar nuevas secuencias a partir de secuencias de contexto con las estrategias de greedy search y beam search determístico y estocástico. En este último caso observar el efecto de la temperatura en la generación de secuencias.\n",
        "\n",
        "\n",
        "### Sugerencias\n",
        "- Durante el entrenamiento, guiarse por el descenso de la perplejidad en los datos de validación para finalizar el entrenamiento. Para ello se provee un callback.\n",
        "- Explorar utilizar SimpleRNN (celda de Elman), LSTM y GRU.\n",
        "- rmsprop es el optimizador recomendado para la buena convergencia. No obstante se pueden explorar otros.\n"
      ]
    },
    {
      "cell_type": "markdown",
      "metadata": {
        "id": "g3yeJGnCYxuF"
      },
      "source": [
        "# Modelo de lenguaje con tokenización por palabras"
      ]
    },
    {
      "cell_type": "markdown",
      "source": [
        "## 1. Armado del dataset"
      ],
      "metadata": {
        "id": "HHia__UTVcRy"
      }
    },
    {
      "cell_type": "code",
      "execution_count": 64,
      "metadata": {
        "id": "Y-QdFbHZYj7C"
      },
      "outputs": [],
      "source": [
        "import random\n",
        "import io\n",
        "import pickle\n",
        "\n",
        "import numpy as np\n",
        "import pandas as pd\n",
        "import matplotlib.pyplot as plt\n",
        "from sklearn.model_selection import train_test_split\n",
        "\n",
        "from tensorflow import keras\n",
        "from tensorflow.keras import layers\n",
        "from keras.utils import to_categorical\n",
        "from keras.models import Sequential\n",
        "from keras.layers import Dense, LSTM, Embedding, Dropout, GRU\n",
        "from tensorflow.keras.losses import SparseCategoricalCrossentropy"
      ]
    },
    {
      "cell_type": "markdown",
      "metadata": {
        "id": "xTvXlEKQZdqx"
      },
      "source": [
        "### Datos\n",
        "Como ejemplo se utilizará como corpus un dataset de descripciones de empresas en linkedin: https://www.kaggle.com/datasets/arshkon/linkedin-job-postings"
      ]
    },
    {
      "cell_type": "code",
      "source": [
        "ls"
      ],
      "metadata": {
        "colab": {
          "base_uri": "https://localhost:8080/"
        },
        "id": "1gj47p7ZWRM0",
        "outputId": "93364c2b-67d1-4e19-e784-1be7bf02babf"
      },
      "execution_count": 2,
      "outputs": [
        {
          "output_type": "stream",
          "name": "stdout",
          "text": [
            "companies.csv.zip  \u001b[0m\u001b[01;34msample_data\u001b[0m/\n"
          ]
        }
      ]
    },
    {
      "cell_type": "code",
      "source": [
        "# Armar el dataset utilizando salto de línea para separar las oraciones/docs\n",
        "df = pd.read_csv('companies.csv.zip', compression='zip')\n",
        "df = df[['description']]"
      ],
      "metadata": {
        "id": "66KqmaUYeUQ2"
      },
      "execution_count": 3,
      "outputs": []
    },
    {
      "cell_type": "code",
      "source": [
        "# función que toma solo las primeras 13 palabras de cada descripción\n",
        "def first_13_words(text):\n",
        "    if isinstance(text, str):  # Verifica si es una cadena de texto\n",
        "        return ' '.join(text.split()[:13])\n",
        "    return text\n",
        "\n",
        "df['description'] = df['description'].apply(first_13_words)\n"
      ],
      "metadata": {
        "id": "suWe9aFgsTak"
      },
      "execution_count": 4,
      "outputs": []
    },
    {
      "cell_type": "code",
      "source": [
        "df = df.iloc[0:1000]"
      ],
      "metadata": {
        "id": "3C2f1osleVCq"
      },
      "execution_count": 5,
      "outputs": []
    },
    {
      "cell_type": "code",
      "execution_count": 6,
      "metadata": {
        "id": "Gb39v3PaZmRH",
        "colab": {
          "base_uri": "https://localhost:8080/",
          "height": 206
        },
        "outputId": "2b31262e-5e57-42a0-b11c-476b466f1aa3"
      },
      "outputs": [
        {
          "output_type": "execute_result",
          "data": {
            "text/plain": [
              "                                         description\n",
              "0  At IBM, we do more than work. We create. We cr...\n",
              "1  Every day millions of people feel the impact o...\n",
              "2  Official LinkedIn of Hewlett Packard Enterpris...\n",
              "3  We’re a cloud technology company that provides...\n",
              "4  Accenture is a leading global professional ser..."
            ],
            "text/html": [
              "\n",
              "  <div id=\"df-79480465-c171-4513-be69-788b224a2ab8\" class=\"colab-df-container\">\n",
              "    <div>\n",
              "<style scoped>\n",
              "    .dataframe tbody tr th:only-of-type {\n",
              "        vertical-align: middle;\n",
              "    }\n",
              "\n",
              "    .dataframe tbody tr th {\n",
              "        vertical-align: top;\n",
              "    }\n",
              "\n",
              "    .dataframe thead th {\n",
              "        text-align: right;\n",
              "    }\n",
              "</style>\n",
              "<table border=\"1\" class=\"dataframe\">\n",
              "  <thead>\n",
              "    <tr style=\"text-align: right;\">\n",
              "      <th></th>\n",
              "      <th>description</th>\n",
              "    </tr>\n",
              "  </thead>\n",
              "  <tbody>\n",
              "    <tr>\n",
              "      <th>0</th>\n",
              "      <td>At IBM, we do more than work. We create. We cr...</td>\n",
              "    </tr>\n",
              "    <tr>\n",
              "      <th>1</th>\n",
              "      <td>Every day millions of people feel the impact o...</td>\n",
              "    </tr>\n",
              "    <tr>\n",
              "      <th>2</th>\n",
              "      <td>Official LinkedIn of Hewlett Packard Enterpris...</td>\n",
              "    </tr>\n",
              "    <tr>\n",
              "      <th>3</th>\n",
              "      <td>We’re a cloud technology company that provides...</td>\n",
              "    </tr>\n",
              "    <tr>\n",
              "      <th>4</th>\n",
              "      <td>Accenture is a leading global professional ser...</td>\n",
              "    </tr>\n",
              "  </tbody>\n",
              "</table>\n",
              "</div>\n",
              "    <div class=\"colab-df-buttons\">\n",
              "\n",
              "  <div class=\"colab-df-container\">\n",
              "    <button class=\"colab-df-convert\" onclick=\"convertToInteractive('df-79480465-c171-4513-be69-788b224a2ab8')\"\n",
              "            title=\"Convert this dataframe to an interactive table.\"\n",
              "            style=\"display:none;\">\n",
              "\n",
              "  <svg xmlns=\"http://www.w3.org/2000/svg\" height=\"24px\" viewBox=\"0 -960 960 960\">\n",
              "    <path d=\"M120-120v-720h720v720H120Zm60-500h600v-160H180v160Zm220 220h160v-160H400v160Zm0 220h160v-160H400v160ZM180-400h160v-160H180v160Zm440 0h160v-160H620v160ZM180-180h160v-160H180v160Zm440 0h160v-160H620v160Z\"/>\n",
              "  </svg>\n",
              "    </button>\n",
              "\n",
              "  <style>\n",
              "    .colab-df-container {\n",
              "      display:flex;\n",
              "      gap: 12px;\n",
              "    }\n",
              "\n",
              "    .colab-df-convert {\n",
              "      background-color: #E8F0FE;\n",
              "      border: none;\n",
              "      border-radius: 50%;\n",
              "      cursor: pointer;\n",
              "      display: none;\n",
              "      fill: #1967D2;\n",
              "      height: 32px;\n",
              "      padding: 0 0 0 0;\n",
              "      width: 32px;\n",
              "    }\n",
              "\n",
              "    .colab-df-convert:hover {\n",
              "      background-color: #E2EBFA;\n",
              "      box-shadow: 0px 1px 2px rgba(60, 64, 67, 0.3), 0px 1px 3px 1px rgba(60, 64, 67, 0.15);\n",
              "      fill: #174EA6;\n",
              "    }\n",
              "\n",
              "    .colab-df-buttons div {\n",
              "      margin-bottom: 4px;\n",
              "    }\n",
              "\n",
              "    [theme=dark] .colab-df-convert {\n",
              "      background-color: #3B4455;\n",
              "      fill: #D2E3FC;\n",
              "    }\n",
              "\n",
              "    [theme=dark] .colab-df-convert:hover {\n",
              "      background-color: #434B5C;\n",
              "      box-shadow: 0px 1px 3px 1px rgba(0, 0, 0, 0.15);\n",
              "      filter: drop-shadow(0px 1px 2px rgba(0, 0, 0, 0.3));\n",
              "      fill: #FFFFFF;\n",
              "    }\n",
              "  </style>\n",
              "\n",
              "    <script>\n",
              "      const buttonEl =\n",
              "        document.querySelector('#df-79480465-c171-4513-be69-788b224a2ab8 button.colab-df-convert');\n",
              "      buttonEl.style.display =\n",
              "        google.colab.kernel.accessAllowed ? 'block' : 'none';\n",
              "\n",
              "      async function convertToInteractive(key) {\n",
              "        const element = document.querySelector('#df-79480465-c171-4513-be69-788b224a2ab8');\n",
              "        const dataTable =\n",
              "          await google.colab.kernel.invokeFunction('convertToInteractive',\n",
              "                                                    [key], {});\n",
              "        if (!dataTable) return;\n",
              "\n",
              "        const docLinkHtml = 'Like what you see? Visit the ' +\n",
              "          '<a target=\"_blank\" href=https://colab.research.google.com/notebooks/data_table.ipynb>data table notebook</a>'\n",
              "          + ' to learn more about interactive tables.';\n",
              "        element.innerHTML = '';\n",
              "        dataTable['output_type'] = 'display_data';\n",
              "        await google.colab.output.renderOutput(dataTable, element);\n",
              "        const docLink = document.createElement('div');\n",
              "        docLink.innerHTML = docLinkHtml;\n",
              "        element.appendChild(docLink);\n",
              "      }\n",
              "    </script>\n",
              "  </div>\n",
              "\n",
              "\n",
              "<div id=\"df-c2ed1b84-4aee-474f-96aa-61d7264dab7f\">\n",
              "  <button class=\"colab-df-quickchart\" onclick=\"quickchart('df-c2ed1b84-4aee-474f-96aa-61d7264dab7f')\"\n",
              "            title=\"Suggest charts\"\n",
              "            style=\"display:none;\">\n",
              "\n",
              "<svg xmlns=\"http://www.w3.org/2000/svg\" height=\"24px\"viewBox=\"0 0 24 24\"\n",
              "     width=\"24px\">\n",
              "    <g>\n",
              "        <path d=\"M19 3H5c-1.1 0-2 .9-2 2v14c0 1.1.9 2 2 2h14c1.1 0 2-.9 2-2V5c0-1.1-.9-2-2-2zM9 17H7v-7h2v7zm4 0h-2V7h2v10zm4 0h-2v-4h2v4z\"/>\n",
              "    </g>\n",
              "</svg>\n",
              "  </button>\n",
              "\n",
              "<style>\n",
              "  .colab-df-quickchart {\n",
              "      --bg-color: #E8F0FE;\n",
              "      --fill-color: #1967D2;\n",
              "      --hover-bg-color: #E2EBFA;\n",
              "      --hover-fill-color: #174EA6;\n",
              "      --disabled-fill-color: #AAA;\n",
              "      --disabled-bg-color: #DDD;\n",
              "  }\n",
              "\n",
              "  [theme=dark] .colab-df-quickchart {\n",
              "      --bg-color: #3B4455;\n",
              "      --fill-color: #D2E3FC;\n",
              "      --hover-bg-color: #434B5C;\n",
              "      --hover-fill-color: #FFFFFF;\n",
              "      --disabled-bg-color: #3B4455;\n",
              "      --disabled-fill-color: #666;\n",
              "  }\n",
              "\n",
              "  .colab-df-quickchart {\n",
              "    background-color: var(--bg-color);\n",
              "    border: none;\n",
              "    border-radius: 50%;\n",
              "    cursor: pointer;\n",
              "    display: none;\n",
              "    fill: var(--fill-color);\n",
              "    height: 32px;\n",
              "    padding: 0;\n",
              "    width: 32px;\n",
              "  }\n",
              "\n",
              "  .colab-df-quickchart:hover {\n",
              "    background-color: var(--hover-bg-color);\n",
              "    box-shadow: 0 1px 2px rgba(60, 64, 67, 0.3), 0 1px 3px 1px rgba(60, 64, 67, 0.15);\n",
              "    fill: var(--button-hover-fill-color);\n",
              "  }\n",
              "\n",
              "  .colab-df-quickchart-complete:disabled,\n",
              "  .colab-df-quickchart-complete:disabled:hover {\n",
              "    background-color: var(--disabled-bg-color);\n",
              "    fill: var(--disabled-fill-color);\n",
              "    box-shadow: none;\n",
              "  }\n",
              "\n",
              "  .colab-df-spinner {\n",
              "    border: 2px solid var(--fill-color);\n",
              "    border-color: transparent;\n",
              "    border-bottom-color: var(--fill-color);\n",
              "    animation:\n",
              "      spin 1s steps(1) infinite;\n",
              "  }\n",
              "\n",
              "  @keyframes spin {\n",
              "    0% {\n",
              "      border-color: transparent;\n",
              "      border-bottom-color: var(--fill-color);\n",
              "      border-left-color: var(--fill-color);\n",
              "    }\n",
              "    20% {\n",
              "      border-color: transparent;\n",
              "      border-left-color: var(--fill-color);\n",
              "      border-top-color: var(--fill-color);\n",
              "    }\n",
              "    30% {\n",
              "      border-color: transparent;\n",
              "      border-left-color: var(--fill-color);\n",
              "      border-top-color: var(--fill-color);\n",
              "      border-right-color: var(--fill-color);\n",
              "    }\n",
              "    40% {\n",
              "      border-color: transparent;\n",
              "      border-right-color: var(--fill-color);\n",
              "      border-top-color: var(--fill-color);\n",
              "    }\n",
              "    60% {\n",
              "      border-color: transparent;\n",
              "      border-right-color: var(--fill-color);\n",
              "    }\n",
              "    80% {\n",
              "      border-color: transparent;\n",
              "      border-right-color: var(--fill-color);\n",
              "      border-bottom-color: var(--fill-color);\n",
              "    }\n",
              "    90% {\n",
              "      border-color: transparent;\n",
              "      border-bottom-color: var(--fill-color);\n",
              "    }\n",
              "  }\n",
              "</style>\n",
              "\n",
              "  <script>\n",
              "    async function quickchart(key) {\n",
              "      const quickchartButtonEl =\n",
              "        document.querySelector('#' + key + ' button');\n",
              "      quickchartButtonEl.disabled = true;  // To prevent multiple clicks.\n",
              "      quickchartButtonEl.classList.add('colab-df-spinner');\n",
              "      try {\n",
              "        const charts = await google.colab.kernel.invokeFunction(\n",
              "            'suggestCharts', [key], {});\n",
              "      } catch (error) {\n",
              "        console.error('Error during call to suggestCharts:', error);\n",
              "      }\n",
              "      quickchartButtonEl.classList.remove('colab-df-spinner');\n",
              "      quickchartButtonEl.classList.add('colab-df-quickchart-complete');\n",
              "    }\n",
              "    (() => {\n",
              "      let quickchartButtonEl =\n",
              "        document.querySelector('#df-c2ed1b84-4aee-474f-96aa-61d7264dab7f button');\n",
              "      quickchartButtonEl.style.display =\n",
              "        google.colab.kernel.accessAllowed ? 'block' : 'none';\n",
              "    })();\n",
              "  </script>\n",
              "</div>\n",
              "\n",
              "    </div>\n",
              "  </div>\n"
            ],
            "application/vnd.google.colaboratory.intrinsic+json": {
              "type": "dataframe",
              "variable_name": "df",
              "summary": "{\n  \"name\": \"df\",\n  \"rows\": 1000,\n  \"fields\": [\n    {\n      \"column\": \"description\",\n      \"properties\": {\n        \"dtype\": \"string\",\n        \"num_unique_values\": 1000,\n        \"samples\": [\n          \"Our work at HMH is the outcome of our guiding purpose, vision, and\",\n          \"A global leader in water and process management solutions, Nalco Water, an Ecolab\",\n          \"Welcome to LHH! We're a global leader in HR solutions that future-proofs organizations\"\n        ],\n        \"semantic_type\": \"\",\n        \"description\": \"\"\n      }\n    }\n  ]\n}"
            }
          },
          "metadata": {},
          "execution_count": 6
        }
      ],
      "source": [
        "df.head()"
      ]
    },
    {
      "cell_type": "code",
      "source": [
        "print(\"Cantidad de documentos:\", df.shape[0])"
      ],
      "metadata": {
        "colab": {
          "base_uri": "https://localhost:8080/"
        },
        "id": "vqHz0L-pOzOX",
        "outputId": "97e82f78-0aea-4ca5-9743-964ab988a704"
      },
      "execution_count": 7,
      "outputs": [
        {
          "output_type": "stream",
          "name": "stdout",
          "text": [
            "Cantidad de documentos: 1000\n"
          ]
        }
      ]
    },
    {
      "cell_type": "markdown",
      "source": [
        "### Limpieza"
      ],
      "metadata": {
        "id": "_zdlGCUiXAdP"
      }
    },
    {
      "cell_type": "code",
      "source": [
        "#df['description'] = df['description'].str.split('\\n').explode().reset_index(drop=True)\n",
        "# Eliminar todo lo que está después del primer \\n\n",
        "#df['description'] = df['description'].str.split('\\n').str[0]"
      ],
      "metadata": {
        "id": "jhbGjMxCWgXD"
      },
      "execution_count": 8,
      "outputs": []
    },
    {
      "cell_type": "code",
      "source": [
        "df = df[df['description'].str.strip() != ''].reset_index(drop=True)"
      ],
      "metadata": {
        "id": "XCSRw4j7Wg4O"
      },
      "execution_count": 9,
      "outputs": []
    },
    {
      "cell_type": "code",
      "source": [
        "df = df[df['description'].apply(lambda x: isinstance(x, str))].dropna()"
      ],
      "metadata": {
        "id": "22lfQuvdWh_O"
      },
      "execution_count": 10,
      "outputs": []
    },
    {
      "cell_type": "code",
      "source": [
        "df['description'] = df['description'].apply(lambda x: x.replace(\"\\'\", \"'\") if isinstance(x, str) else x)"
      ],
      "metadata": {
        "id": "zOOEAH-uWkDV"
      },
      "execution_count": 11,
      "outputs": []
    },
    {
      "cell_type": "code",
      "source": [
        "len(df)"
      ],
      "metadata": {
        "colab": {
          "base_uri": "https://localhost:8080/"
        },
        "id": "Smod8lGrWlc8",
        "outputId": "f9355444-b247-4a6a-b5c3-d520a46f01c1"
      },
      "execution_count": 12,
      "outputs": [
        {
          "output_type": "execute_result",
          "data": {
            "text/plain": [
              "1000"
            ]
          },
          "metadata": {},
          "execution_count": 12
        }
      ]
    },
    {
      "cell_type": "code",
      "source": [
        "text = list(df['description'])\n",
        "text[3]"
      ],
      "metadata": {
        "colab": {
          "base_uri": "https://localhost:8080/",
          "height": 36
        },
        "id": "FEk-5VoPWnCd",
        "outputId": "18a1c399-2cbe-4c87-c3d5-2b1382ef06b7"
      },
      "execution_count": 13,
      "outputs": [
        {
          "output_type": "execute_result",
          "data": {
            "text/plain": [
              "'We’re a cloud technology company that provides organizations around the world with computing'"
            ],
            "application/vnd.google.colaboratory.intrinsic+json": {
              "type": "string"
            }
          },
          "metadata": {},
          "execution_count": 13
        }
      ]
    },
    {
      "cell_type": "code",
      "source": [
        "len(text[1])"
      ],
      "metadata": {
        "colab": {
          "base_uri": "https://localhost:8080/"
        },
        "id": "E58XgLSW4AwI",
        "outputId": "faa02c9d-ab1e-41ed-bc09-c476c0c89324"
      },
      "execution_count": 14,
      "outputs": [
        {
          "output_type": "execute_result",
          "data": {
            "text/plain": [
              "81"
            ]
          },
          "metadata": {},
          "execution_count": 14
        }
      ]
    },
    {
      "cell_type": "markdown",
      "metadata": {
        "id": "cP1JdiOIKQWi"
      },
      "source": [
        "### Elegir el tamaño del contexto"
      ]
    },
    {
      "cell_type": "code",
      "execution_count": 15,
      "metadata": {
        "id": "m5FeTaGvbDbw"
      },
      "outputs": [],
      "source": [
        "# Usaremos las utilidades de procesamiento de textos y secuencias de Keras\n",
        "from tensorflow.keras.preprocessing.text import Tokenizer # equivalente a ltokenizer de nltk\n",
        "from tensorflow.keras.preprocessing.text import text_to_word_sequence # equivalente a word_tokenize de nltk\n",
        "from tensorflow.keras.utils import pad_sequences # se utilizará para padding\n"
      ]
    },
    {
      "cell_type": "code",
      "execution_count": 16,
      "metadata": {
        "id": "CMu9CX34J8RQ"
      },
      "outputs": [],
      "source": [
        "# segmentamos el texto con la utilidad de Keras\n",
        "segmented_sentences = [text_to_word_sequence(sentence) for sentence in text]"
      ]
    },
    {
      "cell_type": "code",
      "source": [
        "text[0]"
      ],
      "metadata": {
        "id": "neCJEVNvkkjE",
        "colab": {
          "base_uri": "https://localhost:8080/",
          "height": 36
        },
        "outputId": "4d64ac0b-a474-41b2-931f-ffb0c7dcf94e"
      },
      "execution_count": 17,
      "outputs": [
        {
          "output_type": "execute_result",
          "data": {
            "text/plain": [
              "'At IBM, we do more than work. We create. We create as technologists,'"
            ],
            "application/vnd.google.colaboratory.intrinsic+json": {
              "type": "string"
            }
          },
          "metadata": {},
          "execution_count": 17
        }
      ]
    },
    {
      "cell_type": "code",
      "source": [
        "segmented_sentences[0]"
      ],
      "metadata": {
        "id": "duxuc-DVkcpP",
        "colab": {
          "base_uri": "https://localhost:8080/"
        },
        "outputId": "f038ff64-2001-4c7c-ef27-b8022cec56ae"
      },
      "execution_count": 18,
      "outputs": [
        {
          "output_type": "execute_result",
          "data": {
            "text/plain": [
              "['at',\n",
              " 'ibm',\n",
              " 'we',\n",
              " 'do',\n",
              " 'more',\n",
              " 'than',\n",
              " 'work',\n",
              " 'we',\n",
              " 'create',\n",
              " 'we',\n",
              " 'create',\n",
              " 'as',\n",
              " 'technologists']"
            ]
          },
          "metadata": {},
          "execution_count": 18
        }
      ]
    },
    {
      "cell_type": "code",
      "execution_count": 19,
      "metadata": {
        "id": "x35rV7QZH49n"
      },
      "outputs": [],
      "source": [
        "# calculamos la longitud de cada secuencia\n",
        "length_sentences = [len(sentence) for sentence in segmented_sentences]"
      ]
    },
    {
      "cell_type": "code",
      "execution_count": 20,
      "metadata": {
        "id": "R8P8vDXRII4c",
        "colab": {
          "base_uri": "https://localhost:8080/",
          "height": 521
        },
        "outputId": "f65f5810-28f2-4039-d4f7-2f9dc6027d3e"
      },
      "outputs": [
        {
          "output_type": "execute_result",
          "data": {
            "text/plain": [
              "(array([  1.,   0.,   0.,   1.,   0.,   0.,   0.,   1.,   0.,   0.,  32.,\n",
              "        750., 161.,  43.,   0.,   9.,   1.,   0.,   0.,   1.]),\n",
              " array([ 4. ,  4.8,  5.6,  6.4,  7.2,  8. ,  8.8,  9.6, 10.4, 11.2, 12. ,\n",
              "        12.8, 13.6, 14.4, 15.2, 16. , 16.8, 17.6, 18.4, 19.2, 20. ]),\n",
              " <BarContainer object of 20 artists>)"
            ]
          },
          "metadata": {},
          "execution_count": 20
        },
        {
          "output_type": "display_data",
          "data": {
            "text/plain": [
              "<Figure size 640x480 with 1 Axes>"
            ],
            "image/png": "[encoded data removed]"
          },
          "metadata": {}
        }
      ],
      "source": [
        "# podemos ver su distribución\n",
        "plt.hist(length_sentences,bins=20)"
      ]
    },
    {
      "cell_type": "code",
      "execution_count": 21,
      "metadata": {
        "id": "wumBNwdjJM3j",
        "colab": {
          "base_uri": "https://localhost:8080/"
        },
        "outputId": "2da0f15a-80c6-4d76-cd50-e060124a8b1c"
      },
      "outputs": [
        {
          "output_type": "stream",
          "name": "stdout",
          "text": [
            "max_context_size: 12\n"
          ]
        }
      ],
      "source": [
        "# a partir de la distribución de longitudes de secuencias elegimos algún criterio\n",
        "# para determinar el máximo tamaño de contexto. En este caso es un percentil, pero\n",
        "# otros criterios también pueden ser válidos con la justificación adecuada.\n",
        "# También puede ser una selección \"a mano\"\n",
        "\n",
        "# el -1 es porque el último token será el target\n",
        "max_context_size = int(np.percentile(length_sentences, 75)-1)\n",
        "\n",
        "# max_context_size = int(np.ceil(np.mean(length_sentences))) # criterio de media\n",
        "# max_context_size = int(np.ceil(np.median(length_sentences))) # criterio de mediana\n",
        "print(f'max_context_size: {max_context_size}')"
      ]
    },
    {
      "cell_type": "markdown",
      "metadata": {
        "id": "2oIUjVU0LB0r"
      },
      "source": [
        "###  Tokenizar"
      ]
    },
    {
      "cell_type": "code",
      "execution_count": 22,
      "metadata": {
        "id": "_XKQIpRiLNbg"
      },
      "outputs": [],
      "source": [
        "# instanciamos el tokenizador\n",
        "tok = Tokenizer()\n",
        "\n",
        "# El tokenizer \"aprende\" las palabras que se usaran\n",
        "# Se construye (fit) una vez por proyecto, se aplica N veces (tal cual un encoder)\n",
        "# El token 0 es reservado y no es asignado. Se utiliza para designar a palabras\n",
        "# fuera del vocabulario aprendido\n",
        "tok.fit_on_texts(segmented_sentences)\n",
        "\n",
        "# Convertimos las palabras a números\n",
        "# entran palabras -> salen números\n",
        "tokenized_sentences = tok.texts_to_sequences(segmented_sentences)"
      ]
    },
    {
      "cell_type": "code",
      "source": [
        "tokenized_sentences[0]"
      ],
      "metadata": {
        "id": "AK2wfHyslrTz",
        "colab": {
          "base_uri": "https://localhost:8080/"
        },
        "outputId": "d451fb00-7dce-4706-81e2-d83e8f5487b6"
      },
      "execution_count": 23,
      "outputs": [
        {
          "output_type": "execute_result",
          "data": {
            "text/plain": [
              "[14, 1147, 8, 101, 19, 30, 63, 8, 54, 8, 54, 22, 688]"
            ]
          },
          "metadata": {},
          "execution_count": 23
        }
      ]
    },
    {
      "cell_type": "code",
      "source": [
        "segmented_sentences[0]"
      ],
      "metadata": {
        "id": "s-93u9lxlwlP",
        "colab": {
          "base_uri": "https://localhost:8080/"
        },
        "outputId": "85ba0849-f894-4302-b4f3-7cf30a706e87"
      },
      "execution_count": 24,
      "outputs": [
        {
          "output_type": "execute_result",
          "data": {
            "text/plain": [
              "['at',\n",
              " 'ibm',\n",
              " 'we',\n",
              " 'do',\n",
              " 'more',\n",
              " 'than',\n",
              " 'work',\n",
              " 'we',\n",
              " 'create',\n",
              " 'we',\n",
              " 'create',\n",
              " 'as',\n",
              " 'technologists']"
            ]
          },
          "metadata": {},
          "execution_count": 24
        }
      ]
    },
    {
      "cell_type": "markdown",
      "metadata": {
        "id": "pfpYcaypKcI9"
      },
      "source": [
        "### Organizando y estructurando el dataset"
      ]
    },
    {
      "cell_type": "markdown",
      "metadata": {
        "id": "l3iPTx-UJl6r"
      },
      "source": [
        "En este punto tenemos en la variable `tokenized_sentences` las descipciones de companies tokenizadas. Vamos a quedarnos con un conjunto de validación que utilizaremos para medir la calidad de la generación de secuencias con la métrica de Perplejidad."
      ]
    },
    {
      "cell_type": "code",
      "execution_count": 25,
      "metadata": {
        "id": "cSeqVGyV_wz5"
      },
      "outputs": [],
      "source": [
        "tokenized_sentences_train, tokenized_sentences_val, _, _ = train_test_split(tokenized_sentences, tokenized_sentences, test_size=0.2, random_state=42)"
      ]
    },
    {
      "cell_type": "markdown",
      "metadata": {
        "id": "gmsoPbV6LxcW"
      },
      "source": [
        "*Vamos* a splitear las oraciones que tienen tamaño mayor al contexto máximo, para generarnos más secuencias de entrenamiento. Este paso puede obviarse si el tamaño de contexto máximo es muy grande.\n",
        "\n",
        "Por ejemplo, si tenemos el texto *La bella y graciosa moza marchóse a lavar la ropa* y nuestro contexto es de 5 palabras, tendremos:\n",
        "\n",
        "  - *La bella y graciosa moza*\n",
        "  - *bella y graciosa moza marchóse*\n",
        "  - *y graciosa moza marchóse a*\n",
        "  - *graciosa moza marchóse a lavar*\n",
        "  - *moza marchóse a lavar la*\n",
        "  - *marchóse a lavar la ropa*"
      ]
    },
    {
      "cell_type": "code",
      "execution_count": 26,
      "metadata": {
        "id": "E5BPO4qPPnNR"
      },
      "outputs": [],
      "source": [
        "tok_sent = []\n",
        "\n",
        "for sent in tokenized_sentences_train:\n",
        "\n",
        "  # si la secuencia tiene más términos que el tamaño de contexto máximo,\n",
        "  # armo varias sub-secuencias de tamaño máximo\n",
        "  if len(sent) > (max_context_size+1):\n",
        "    extra = len(sent)-(max_context_size+1) + 1\n",
        "    for i in range(extra):\n",
        "      tok_sent.append(sent[i:i+max_context_size+1])\n",
        "  else: # si la secuencia tiene menos términos el tamaño de contexto máximo, dejo la secuencia como está\n",
        "    tok_sent.append(sent)\n"
      ]
    },
    {
      "cell_type": "code",
      "execution_count": 27,
      "metadata": {
        "id": "RiEt0AAz_64v",
        "colab": {
          "base_uri": "https://localhost:8080/"
        },
        "outputId": "b5c9a34d-03b8-4f6d-935b-6e4165d0a03f"
      },
      "outputs": [
        {
          "output_type": "execute_result",
          "data": {
            "text/plain": [
              "1026"
            ]
          },
          "metadata": {},
          "execution_count": 27
        }
      ],
      "source": [
        "len(tok_sent)"
      ]
    },
    {
      "cell_type": "markdown",
      "metadata": {
        "id": "QnwSC7A_LWfd"
      },
      "source": [
        "### Data Augmentation"
      ]
    },
    {
      "cell_type": "code",
      "execution_count": 28,
      "metadata": {
        "id": "lWdhVV04htki"
      },
      "outputs": [],
      "source": [
        "tok_sent_augm = []\n",
        "\n",
        "for sent in tok_sent:\n",
        "\n",
        "  # generamos todas las sub-secuencias\n",
        "  subseq = [sent[:i+2] for i in range(len(sent)-1)]\n",
        "  # en esta línea paddeamos al tamaño de contexto máximo\n",
        "  tok_sent_augm.append(pad_sequences(subseq, maxlen=max_context_size+1, padding='pre'))\n"
      ]
    },
    {
      "cell_type": "code",
      "source": [
        "len(tok_sent_augm[3])"
      ],
      "metadata": {
        "colab": {
          "base_uri": "https://localhost:8080/"
        },
        "id": "_eyAEg20eK0E",
        "outputId": "08455fab-5c4d-4884-b008-f3178b7db67d"
      },
      "execution_count": 29,
      "outputs": [
        {
          "output_type": "execute_result",
          "data": {
            "text/plain": [
              "12"
            ]
          },
          "metadata": {},
          "execution_count": 29
        }
      ]
    },
    {
      "cell_type": "code",
      "source": [
        "max_context_size"
      ],
      "metadata": {
        "id": "mktc478lsJel",
        "outputId": "fd18f8c3-2513-4f94-d01a-383d24813836",
        "colab": {
          "base_uri": "https://localhost:8080/"
        }
      },
      "execution_count": 30,
      "outputs": [
        {
          "output_type": "execute_result",
          "data": {
            "text/plain": [
              "12"
            ]
          },
          "metadata": {},
          "execution_count": 30
        }
      ]
    },
    {
      "cell_type": "code",
      "execution_count": 31,
      "metadata": {
        "id": "THXXBya1tnZ8"
      },
      "outputs": [],
      "source": [
        "# finalmente concatenamos todas las secuencias en un único array de numpy\n",
        "train_seqs = np.concatenate(tok_sent_augm, axis=0)"
      ]
    },
    {
      "cell_type": "code",
      "source": [
        "train_seqs.shape"
      ],
      "metadata": {
        "colab": {
          "base_uri": "https://localhost:8080/"
        },
        "id": "jts-R0NZiSOz",
        "outputId": "2b7ac97f-830c-4326-b00f-20316222b55c"
      },
      "execution_count": 32,
      "outputs": [
        {
          "output_type": "execute_result",
          "data": {
            "text/plain": [
              "(12270, 13)"
            ]
          },
          "metadata": {},
          "execution_count": 32
        }
      ]
    },
    {
      "cell_type": "code",
      "source": [
        "len(tokenized_sentences_val)"
      ],
      "metadata": {
        "colab": {
          "base_uri": "https://localhost:8080/"
        },
        "id": "DhGe8tF9n_Sh",
        "outputId": "efc0375d-665f-4249-da26-63837fef10f8"
      },
      "execution_count": 33,
      "outputs": [
        {
          "output_type": "execute_result",
          "data": {
            "text/plain": [
              "200"
            ]
          },
          "metadata": {},
          "execution_count": 33
        }
      ]
    },
    {
      "cell_type": "code",
      "source": [
        "len(tokenized_sentences_val[5])"
      ],
      "metadata": {
        "colab": {
          "base_uri": "https://localhost:8080/"
        },
        "id": "d2sTIsJLoEXF",
        "outputId": "4e5fea51-477d-4a1c-e8e5-467b88991413"
      },
      "execution_count": 34,
      "outputs": [
        {
          "output_type": "execute_result",
          "data": {
            "text/plain": [
              "13"
            ]
          },
          "metadata": {},
          "execution_count": 34
        }
      ]
    },
    {
      "cell_type": "code",
      "execution_count": 35,
      "metadata": {
        "id": "o5Uiflnwt10J",
        "colab": {
          "base_uri": "https://localhost:8080/"
        },
        "outputId": "71fd1894-7d0c-48d8-c4ba-e2989742f0bc"
      },
      "outputs": [
        {
          "output_type": "execute_result",
          "data": {
            "text/plain": [
              "array([   0,    0,    0,    0,    0,    0,    0,    0,    0,   55,   56,\n",
              "       1192,  712], dtype=int32)"
            ]
          },
          "metadata": {},
          "execution_count": 35
        }
      ],
      "source": [
        "train_seqs[2]"
      ]
    },
    {
      "cell_type": "code",
      "source": [
        "train_seqs[10002]"
      ],
      "metadata": {
        "colab": {
          "base_uri": "https://localhost:8080/"
        },
        "id": "irvx3S7oeeKC",
        "outputId": "a29c1eb6-b467-4c94-fae6-17c7777dadd8"
      },
      "execution_count": 36,
      "outputs": [
        {
          "output_type": "execute_result",
          "data": {
            "text/plain": [
              "array([   0,    0,    0,    0,    0,    0,    0,    0,    0,    0,   13,\n",
              "         10, 2087], dtype=int32)"
            ]
          },
          "metadata": {},
          "execution_count": 36
        }
      ]
    },
    {
      "cell_type": "code",
      "execution_count": 37,
      "metadata": {
        "id": "yprwJHiMBQIS"
      },
      "outputs": [],
      "source": [
        "# y de aquí sacamos las entradas y los targets que consumirá nuestro sistema en\n",
        "# tiempo de entrenamiento\n",
        "X = train_seqs[:,:-1]\n",
        "y = train_seqs[:,1:]"
      ]
    },
    {
      "cell_type": "markdown",
      "source": [
        "Nótese que estamos estructurando el problema de aprendizaje como *many-to-many*:\n",
        "\n",
        "Entrada: secuencia de tokens [$x_0$, $x_1$, ..., $x_N$]\n",
        "\n",
        "Target: secuencia de tokens [$x_1$, $x_2$, ..., $x_{N+1}$]\n",
        "\n",
        "De manera que la red tiene que aprender que su salida deben ser los tokens desplazados en una posición y un nuevo token predicho (el N+1).\n",
        "\n",
        "La ventaja de estructurar el aprendizaje de esta manera es que para cada token de target se propaga una señal de gradiente por el grafo de cómputo recurrente, que es mejor que estructurar el problema como *many-to-one* en donde sólo una señal de gradiente se propaga."
      ],
      "metadata": {
        "id": "YxuKNI05Ttct"
      }
    },
    {
      "cell_type": "code",
      "source": [
        "X.shape"
      ],
      "metadata": {
        "colab": {
          "base_uri": "https://localhost:8080/"
        },
        "id": "jwOTkSNmZAaj",
        "outputId": "e96cc035-2076-4be6-dc1a-cb52fae57b71"
      },
      "execution_count": 38,
      "outputs": [
        {
          "output_type": "execute_result",
          "data": {
            "text/plain": [
              "(12270, 12)"
            ]
          },
          "metadata": {},
          "execution_count": 38
        }
      ]
    },
    {
      "cell_type": "code",
      "source": [
        "y.shape"
      ],
      "metadata": {
        "id": "KFAyA4zCWE-5",
        "colab": {
          "base_uri": "https://localhost:8080/"
        },
        "outputId": "60494571-8112-4981-b56b-29cd68d57831"
      },
      "execution_count": 39,
      "outputs": [
        {
          "output_type": "execute_result",
          "data": {
            "text/plain": [
              "(12270, 12)"
            ]
          },
          "metadata": {},
          "execution_count": 39
        }
      ]
    },
    {
      "cell_type": "code",
      "execution_count": 40,
      "metadata": {
        "id": "1D9ESMGyB_QD",
        "colab": {
          "base_uri": "https://localhost:8080/"
        },
        "outputId": "9dcdf2aa-d010-4632-bee9-d578d9784e66"
      },
      "outputs": [
        {
          "output_type": "execute_result",
          "data": {
            "text/plain": [
              "{1: 'the',\n",
              " 2: 'is',\n",
              " 3: 'a',\n",
              " 4: 'and',\n",
              " 5: 'of',\n",
              " 6: 'in',\n",
              " 7: 'to',\n",
              " 8: 'we',\n",
              " 9: 'global',\n",
              " 10: 'company',\n",
              " 11: 'leading',\n",
              " 12: 'for',\n",
              " 13: 'our',\n",
              " 14: 'at',\n",
              " 15: 'that',\n",
              " 16: 'with',\n",
              " 17: 'leader',\n",
              " 18: 'solutions',\n",
              " 19: 'more',\n",
              " 20: 'technology',\n",
              " 21: 'services',\n",
              " 22: 'as',\n",
              " 23: 'one',\n",
              " 24: 'are',\n",
              " 25: 'world',\n",
              " 26: 'people',\n",
              " 27: 'an',\n",
              " 28: 'university',\n",
              " 29: 'health',\n",
              " 30: 'than',\n",
              " 31: 'has',\n",
              " 32: 'on',\n",
              " 33: 'nyse',\n",
              " 34: 'world’s',\n",
              " 35: 'largest',\n",
              " 36: 'financial',\n",
              " 37: 'inc',\n",
              " 38: 'business',\n",
              " 39: 'founded',\n",
              " 40: 'provider',\n",
              " 41: 'by',\n",
              " 42: 'research',\n",
              " 43: 'years',\n",
              " 44: 'group',\n",
              " 45: 'you',\n",
              " 46: 'been',\n",
              " 47: 'mission',\n",
              " 48: 'industry',\n",
              " 49: 'corporation',\n",
              " 50: 'digital',\n",
              " 51: 'we’re',\n",
              " 52: 'companies',\n",
              " 53: 'firm',\n",
              " 54: 'create',\n",
              " 55: 'u',\n",
              " 56: 's',\n",
              " 57: 'energy',\n",
              " 58: 'it',\n",
              " 59: 'care',\n",
              " 60: 'international',\n",
              " 61: 'medical',\n",
              " 62: 'information',\n",
              " 63: 'work',\n",
              " 64: 'nasdaq',\n",
              " 65: '000',\n",
              " 66: 'help',\n",
              " 67: 'purpose',\n",
              " 68: 'customers',\n",
              " 69: 'management',\n",
              " 70: 'businesses',\n",
              " 71: 'their',\n",
              " 72: 'helps',\n",
              " 73: 'focused',\n",
              " 74: 'life',\n",
              " 75: 'make',\n",
              " 76: 'its',\n",
              " 77: 'over',\n",
              " 78: 'engineering',\n",
              " 79: 'most',\n",
              " 80: 'through',\n",
              " 81: 'products',\n",
              " 82: 'helping',\n",
              " 83: 'healthcare',\n",
              " 84: 'based',\n",
              " 85: 'state',\n",
              " 86: 'every',\n",
              " 87: 'innovative',\n",
              " 88: 'have',\n",
              " 89: \"world's\",\n",
              " 90: 'science',\n",
              " 91: 'center',\n",
              " 92: 'premier',\n",
              " 93: 'dedicated',\n",
              " 94: 'future',\n",
              " 95: 'from',\n",
              " 96: 'public',\n",
              " 97: 'consulting',\n",
              " 98: 'technologies',\n",
              " 99: \"we're\",\n",
              " 100: 'systems',\n",
              " 101: 'do',\n",
              " 102: 'organizations',\n",
              " 103: 'better',\n",
              " 104: 'was',\n",
              " 105: 'bank',\n",
              " 106: 'independent',\n",
              " 107: 'innovation',\n",
              " 108: 'committed',\n",
              " 109: 'clients',\n",
              " 110: 'insurance',\n",
              " 111: 'american',\n",
              " 112: 'what',\n",
              " 113: 'software',\n",
              " 114: 'media',\n",
              " 115: 'about',\n",
              " 116: 'since',\n",
              " 117: 'partner',\n",
              " 118: 'investment',\n",
              " 119: 'new',\n",
              " 120: 'law',\n",
              " 121: 'communications',\n",
              " 122: 'employees',\n",
              " 123: 'organization',\n",
              " 124: 'across',\n",
              " 125: 'data',\n",
              " 126: 'human',\n",
              " 127: 'linkedin',\n",
              " 128: 'america',\n",
              " 129: 'believe',\n",
              " 130: 'trusted',\n",
              " 131: 'deliver',\n",
              " 132: 'food',\n",
              " 133: 'talent',\n",
              " 134: 'power',\n",
              " 135: 'all',\n",
              " 136: 'worldwide',\n",
              " 137: 'delivers',\n",
              " 138: 'security',\n",
              " 139: 'nation’s',\n",
              " 140: 'north',\n",
              " 141: 'provides',\n",
              " 142: 'build',\n",
              " 143: 'part',\n",
              " 144: 'together',\n",
              " 145: 'medicine',\n",
              " 146: 'lives',\n",
              " 147: 'providing',\n",
              " 148: 'service',\n",
              " 149: 'welcome',\n",
              " 150: 'agency',\n",
              " 151: 'department',\n",
              " 152: 'system',\n",
              " 153: 'professional',\n",
              " 154: 'your',\n",
              " 155: 'provide',\n",
              " 156: 'delivering',\n",
              " 157: 'driven',\n",
              " 158: 'quality',\n",
              " 159: 'located',\n",
              " 160: '—',\n",
              " 161: 'design',\n",
              " 162: 'day',\n",
              " 163: 'advanced',\n",
              " 164: 'around',\n",
              " 165: 'creating',\n",
              " 166: 'sustainable',\n",
              " 167: 'place',\n",
              " 168: 'community',\n",
              " 169: 'be',\n",
              " 170: 'brands',\n",
              " 171: 'fortune',\n",
              " 172: 'first',\n",
              " 173: 'marketing',\n",
              " 174: 'materials',\n",
              " 175: 'customer',\n",
              " 176: 'diverse',\n",
              " 177: 'full',\n",
              " 178: 'national',\n",
              " 179: 'headquartered',\n",
              " 180: 'millions',\n",
              " 181: 'cloud',\n",
              " 182: 'mobility',\n",
              " 183: 'improve',\n",
              " 184: 'serving',\n",
              " 185: 'scientific',\n",
              " 186: 'everything',\n",
              " 187: 'commercial',\n",
              " 188: 'states',\n",
              " 189: 'home',\n",
              " 190: 'portfolio',\n",
              " 191: 'improving',\n",
              " 192: 'transportation',\n",
              " 193: 'safety',\n",
              " 194: 'where',\n",
              " 195: 'universities',\n",
              " 196: 'academic',\n",
              " 197: 'official',\n",
              " 198: 'enterprise',\n",
              " 199: 'progress',\n",
              " 200: 'leaders',\n",
              " 201: 'vision',\n",
              " 202: 'enables',\n",
              " 203: 'diversified',\n",
              " 204: 'entertainment',\n",
              " 205: 'tech',\n",
              " 206: 'top',\n",
              " 207: '100',\n",
              " 208: 'america’s',\n",
              " 209: 'news',\n",
              " 210: 'transform',\n",
              " 211: 'when',\n",
              " 212: 'general',\n",
              " 213: 'united',\n",
              " 214: 'operating',\n",
              " 215: 'air',\n",
              " 216: 'excellence',\n",
              " 217: 'institute',\n",
              " 218: 'com',\n",
              " 219: 'class',\n",
              " 220: 'brand',\n",
              " 221: 'built',\n",
              " 222: 'building',\n",
              " 223: 'real',\n",
              " 224: 'best',\n",
              " 225: 'integrated',\n",
              " 226: 'high',\n",
              " 227: 'california',\n",
              " 228: 'recognized',\n",
              " 229: 'trust',\n",
              " 230: 'education',\n",
              " 231: 'not',\n",
              " 232: 'knowledge',\n",
              " 233: 'this',\n",
              " 234: 'enable',\n",
              " 235: '500',\n",
              " 236: 'expertise',\n",
              " 237: 'can',\n",
              " 238: 'among',\n",
              " 239: 'put',\n",
              " 240: 'retailer',\n",
              " 241: 'who',\n",
              " 242: 'boston',\n",
              " 243: 'school',\n",
              " 244: 'san',\n",
              " 245: '–',\n",
              " 246: 'achieve',\n",
              " 247: 'way',\n",
              " 248: 'texas',\n",
              " 249: 'ohio',\n",
              " 250: 'develops',\n",
              " 251: 'georgia',\n",
              " 252: 'end',\n",
              " 253: 'edge',\n",
              " 254: 'firms',\n",
              " 255: 'history',\n",
              " 256: 'working',\n",
              " 257: 'development',\n",
              " 258: 'manufactures',\n",
              " 259: 'consultancy',\n",
              " 260: 'experience',\n",
              " 261: 'network',\n",
              " 262: 'us',\n",
              " 263: \"it's\",\n",
              " 264: 'retail',\n",
              " 265: 'known',\n",
              " 266: 'nearly',\n",
              " 267: 'pioneer',\n",
              " 268: 'live',\n",
              " 269: 'hospital',\n",
              " 270: 'communities',\n",
              " 271: 'workforce',\n",
              " 272: 'made',\n",
              " 273: 'market',\n",
              " 274: 'makes',\n",
              " 275: 'manufacturing',\n",
              " 276: 'construction',\n",
              " 277: 'some',\n",
              " 278: 'www',\n",
              " 279: 'multi',\n",
              " 280: 'we’ve',\n",
              " 281: 'so',\n",
              " 282: 'intelligence',\n",
              " 283: 'heart',\n",
              " 284: 'offers',\n",
              " 285: 'serve',\n",
              " 286: 'growth',\n",
              " 287: 'packaging',\n",
              " 288: 'federal',\n",
              " 289: 'uc',\n",
              " 290: 'schools',\n",
              " 291: 'government',\n",
              " 292: 'online',\n",
              " 293: 'living',\n",
              " 294: 'performance',\n",
              " 295: '50',\n",
              " 296: 'manufacture',\n",
              " 297: 'empower',\n",
              " 298: 'shape',\n",
              " 299: 'family',\n",
              " 300: 'value',\n",
              " 301: 'safer',\n",
              " 302: 'out',\n",
              " 303: 'career',\n",
              " 304: 'individuals',\n",
              " 305: 'experiences',\n",
              " 306: 'engineers',\n",
              " 307: 'led',\n",
              " 308: 'account',\n",
              " 309: 'but',\n",
              " 310: 'connects',\n",
              " 311: 'why',\n",
              " 312: 'transformation',\n",
              " 313: 'that’s',\n",
              " 314: 'beverage',\n",
              " 315: 'insights',\n",
              " 316: 'capital',\n",
              " 317: 'changing',\n",
              " 318: 'ways',\n",
              " 319: 'access',\n",
              " 320: 'connect',\n",
              " 321: 'ai',\n",
              " 322: 'transforming',\n",
              " 323: 'manufacturer',\n",
              " 324: 'cancer',\n",
              " 325: 'advancing',\n",
              " 326: 'legal',\n",
              " 327: 'comprehensive',\n",
              " 328: 'pioneering',\n",
              " 329: 'century',\n",
              " 330: 'culture',\n",
              " 331: 'modern',\n",
              " 332: 'partners',\n",
              " 333: 'started',\n",
              " 334: 'how',\n",
              " 335: 'page',\n",
              " 336: 'industrial',\n",
              " 337: 'applied',\n",
              " 338: 'commitment',\n",
              " 339: 'estate',\n",
              " 340: 'protect',\n",
              " 341: 'patients',\n",
              " 342: 'volvo',\n",
              " 343: 'manufacturers',\n",
              " 344: 'time',\n",
              " 345: 'like',\n",
              " 346: 'sustainability',\n",
              " 347: 'offices',\n",
              " 348: 'no',\n",
              " 349: 'now',\n",
              " 350: 'industries',\n",
              " 351: 'today',\n",
              " 352: 'subsidiaries',\n",
              " 353: 'francisco',\n",
              " 354: 'always',\n",
              " 355: 'owned',\n",
              " 356: 'will',\n",
              " 357: 'connected',\n",
              " 358: 'private',\n",
              " 359: \"america's\",\n",
              " 360: 'strategic',\n",
              " 361: 'advisory',\n",
              " 362: 'incorporated',\n",
              " 363: 'county',\n",
              " 364: 'whose',\n",
              " 365: 'member',\n",
              " 366: 'llp',\n",
              " 367: 'impact',\n",
              " 368: 'intelligent',\n",
              " 369: 'passion',\n",
              " 370: 'drives',\n",
              " 371: 'want',\n",
              " 372: 'connections',\n",
              " 373: 'possible',\n",
              " 374: 'powerful',\n",
              " 375: 'city',\n",
              " 376: 'long',\n",
              " 377: 'into',\n",
              " 378: 'ideas',\n",
              " 379: 'run',\n",
              " 380: 'ago',\n",
              " 381: 'different',\n",
              " 382: 'simple',\n",
              " 383: 'sony',\n",
              " 384: 'created',\n",
              " 385: 'powers',\n",
              " 386: 'next',\n",
              " 387: 'sports',\n",
              " 388: 'being',\n",
              " 389: 'professionals',\n",
              " 390: 'lead',\n",
              " 391: 'discovery',\n",
              " 392: 'bring',\n",
              " 393: 'tools',\n",
              " 394: 'keep',\n",
              " 395: 'banking',\n",
              " 396: 'open',\n",
              " 397: 'source',\n",
              " 398: 'premium',\n",
              " 399: 'money',\n",
              " 400: 'just',\n",
              " 401: 'analytics',\n",
              " 402: 'take',\n",
              " 403: 'enrich',\n",
              " 404: 'laboratory',\n",
              " 405: 'reach',\n",
              " 406: 'specialty',\n",
              " 407: 'associates',\n",
              " 408: '80',\n",
              " 409: 'focus',\n",
              " 410: 'stanford',\n",
              " 411: 'transforms',\n",
              " 412: 'teaching',\n",
              " 413: 'expert',\n",
              " 414: 'core',\n",
              " 415: 'proud',\n",
              " 416: 'apparel',\n",
              " 417: 'institution',\n",
              " 418: 'offering',\n",
              " 419: 'which',\n",
              " 420: 'designed',\n",
              " 421: 'fields',\n",
              " 422: 'land',\n",
              " 423: 'develop',\n",
              " 424: 'tobacco',\n",
              " 425: 'strategy',\n",
              " 426: 'range',\n",
              " 427: 'operates',\n",
              " 428: 'used',\n",
              " 429: 'move',\n",
              " 430: 'buses',\n",
              " 431: 'support',\n",
              " 432: 'equipment',\n",
              " 433: 'infrastructure',\n",
              " 434: 'brings',\n",
              " 435: 'challenges',\n",
              " 436: 'complex',\n",
              " 437: 'job',\n",
              " 438: 'distributor',\n",
              " 439: 'change',\n",
              " 440: 'everyday',\n",
              " 441: 'local',\n",
              " 442: 'co',\n",
              " 443: 'longer',\n",
              " 444: 'manage',\n",
              " 445: 'think',\n",
              " 446: 'here',\n",
              " 447: 'billion',\n",
              " 448: 'clear',\n",
              " 449: 'forefront',\n",
              " 450: 'economic',\n",
              " 451: 'success',\n",
              " 452: 'decades',\n",
              " 453: 'locations',\n",
              " 454: 'travel',\n",
              " 455: 'profit',\n",
              " 456: 'markets',\n",
              " 457: 'administration',\n",
              " 458: 'music',\n",
              " 459: 'experts',\n",
              " 460: 'southern',\n",
              " 461: 'cybersecurity',\n",
              " 462: 'llc',\n",
              " 463: 'commerce',\n",
              " 464: 'patient',\n",
              " 465: 'employee',\n",
              " 466: 'property',\n",
              " 467: 'logistics',\n",
              " 468: 'pacific',\n",
              " 469: 'great',\n",
              " 470: 'nonprofit',\n",
              " 471: 'ranked',\n",
              " 472: 'automotive',\n",
              " 473: 'million',\n",
              " 474: 'approximately',\n",
              " 475: 'it’s',\n",
              " 476: 'penske',\n",
              " 477: 'oil',\n",
              " 478: 'feel',\n",
              " 479: 'devices',\n",
              " 480: 'society',\n",
              " 481: 'solve',\n",
              " 482: 'important',\n",
              " 483: 'easier',\n",
              " 484: 'roots',\n",
              " 485: 'york',\n",
              " 486: 'smarter',\n",
              " 487: 'past',\n",
              " 488: 'drive',\n",
              " 489: 'celebrating',\n",
              " 490: 'johnson',\n",
              " 491: 'peace',\n",
              " 492: 'spirit',\n",
              " 493: 'those',\n",
              " 494: 'special',\n",
              " 495: 'subsidiary',\n",
              " 496: 'strong',\n",
              " 497: 'under',\n",
              " 498: 'countries',\n",
              " 499: 'know',\n",
              " 500: 'generation',\n",
              " 501: 'serves',\n",
              " 502: 'wipro',\n",
              " 503: 'limited',\n",
              " 504: 'aerospace',\n",
              " 505: 'needs',\n",
              " 506: 'get',\n",
              " 507: 'good',\n",
              " 508: 'universal',\n",
              " 509: 'problem',\n",
              " 510: 'exist',\n",
              " 511: 'designing',\n",
              " 512: 'thrive',\n",
              " 513: 'unlocks',\n",
              " 514: 'possibilities',\n",
              " 515: 'making',\n",
              " 516: 'fast',\n",
              " 517: 'easy',\n",
              " 518: 'give',\n",
              " 519: 'lincoln',\n",
              " 520: 'creates',\n",
              " 521: 'multinational',\n",
              " 522: 'difference',\n",
              " 523: '200',\n",
              " 524: 'finding',\n",
              " 525: 'water',\n",
              " 526: 'force',\n",
              " 527: 'taking',\n",
              " 528: 'action',\n",
              " 529: 'toward',\n",
              " 530: 'guided',\n",
              " 531: \"children's\",\n",
              " 532: 'harvard',\n",
              " 533: 'preeminent',\n",
              " 534: 'platform',\n",
              " 535: 'fedex',\n",
              " 536: 'team',\n",
              " 537: 'driving',\n",
              " 538: 'see',\n",
              " 539: 'half',\n",
              " 540: 'content',\n",
              " 541: 'investors',\n",
              " 542: 'leadership',\n",
              " 543: 'creativity',\n",
              " 544: 'boldly',\n",
              " 545: 'virtually',\n",
              " 546: 'capco',\n",
              " 547: 'division',\n",
              " 548: 'grow',\n",
              " 549: 'meaningful',\n",
              " 550: 'empowering',\n",
              " 551: 'dynamics',\n",
              " 552: 'foundation',\n",
              " 553: 'award',\n",
              " 554: 'winning',\n",
              " 555: 'five',\n",
              " 556: 'networks',\n",
              " 557: '60',\n",
              " 558: 'barriers',\n",
              " 559: 'many',\n",
              " 560: 'insight',\n",
              " 561: 'supplier',\n",
              " 562: 'complete',\n",
              " 563: 'highest',\n",
              " 564: 'accelerate',\n",
              " 565: 'recruitment',\n",
              " 566: 'careers',\n",
              " 567: 'payments',\n",
              " 568: 'transactions',\n",
              " 569: 'between',\n",
              " 570: 'canon',\n",
              " 571: 'regulatory',\n",
              " 572: 'asset',\n",
              " 573: 'governments',\n",
              " 574: 'austin',\n",
              " 575: 'loved',\n",
              " 576: 'consumers',\n",
              " 577: 'environments',\n",
              " 578: 'victoria’s',\n",
              " 579: 'secret',\n",
              " 580: 'choice',\n",
              " 581: 'jones',\n",
              " 582: 'they',\n",
              " 583: 'other',\n",
              " 584: 'leads',\n",
              " 585: 'beyond',\n",
              " 586: 'what’s',\n",
              " 587: 'low',\n",
              " 588: 'mutual',\n",
              " 589: 'families',\n",
              " 590: 'hospitality',\n",
              " 591: 'silicon',\n",
              " 592: 'spirits',\n",
              " 593: 'automation',\n",
              " 594: 'michigan',\n",
              " 595: 'corporate',\n",
              " 596: 'washington',\n",
              " 597: 'panasonic',\n",
              " 598: 'connection',\n",
              " 599: '250',\n",
              " 600: 'shop',\n",
              " 601: 'students',\n",
              " 602: 'supporting',\n",
              " 603: 'retirement',\n",
              " 604: 'throughout',\n",
              " 605: 'supply',\n",
              " 606: 'stands',\n",
              " 607: 'reimagining',\n",
              " 608: 'or',\n",
              " 609: 'santa',\n",
              " 610: 'including',\n",
              " 611: 'non',\n",
              " 612: '4',\n",
              " 613: 'drug',\n",
              " 614: 'such',\n",
              " 615: 'responsible',\n",
              " 616: 'within',\n",
              " 617: 'office',\n",
              " 618: 'enabled',\n",
              " 619: 'designs',\n",
              " 620: 'means',\n",
              " 621: 'helped',\n",
              " 622: 'specializing',\n",
              " 623: 'powered',\n",
              " 624: 'hotels',\n",
              " 625: 'you’re',\n",
              " 626: 'penn',\n",
              " 627: 'advance',\n",
              " 628: 'combining',\n",
              " 629: 'supplying',\n",
              " 630: 'producer',\n",
              " 631: 'casualty',\n",
              " 632: 'advantage',\n",
              " 633: 'empowers',\n",
              " 634: 'marketers',\n",
              " 635: 'love',\n",
              " 636: 'opportunity',\n",
              " 637: 'billions',\n",
              " 638: 'semiconductor',\n",
              " 639: '23',\n",
              " 640: 'plan',\n",
              " 641: 'ihg',\n",
              " 642: 'hughes',\n",
              " 643: 'satellite',\n",
              " 644: 'ourselves',\n",
              " 645: 'walgreens',\n",
              " 646: 'everyone',\n",
              " 647: 'tomorrow',\n",
              " 648: 'employment',\n",
              " 649: 'flagship',\n",
              " 650: 'consistently',\n",
              " 651: 'resources',\n",
              " 652: 'e',\n",
              " 653: 'behind',\n",
              " 654: 'assurance',\n",
              " 655: 'inspired',\n",
              " 656: 'heritage',\n",
              " 657: '70',\n",
              " 658: 'biggest',\n",
              " 659: 'smith',\n",
              " 660: 'gas',\n",
              " 661: 'los',\n",
              " 662: 'back',\n",
              " 663: 'goods',\n",
              " 664: 'engaged',\n",
              " 665: 'also',\n",
              " 666: 'model',\n",
              " 667: '1946',\n",
              " 668: 'earned',\n",
              " 669: 'risk',\n",
              " 670: 'works',\n",
              " 671: 'george',\n",
              " 672: 'exploration',\n",
              " 673: 'outcomes',\n",
              " 674: '7',\n",
              " 675: 'staff',\n",
              " 676: 'something',\n",
              " 677: 'ppg',\n",
              " 678: 'places',\n",
              " 679: 'deep',\n",
              " 680: 'cno',\n",
              " 681: 'chemicals',\n",
              " 682: 'pumps',\n",
              " 683: 'valley',\n",
              " 684: 'wine',\n",
              " 685: 'direct',\n",
              " 686: 'centered',\n",
              " 687: 'loyola',\n",
              " 688: 'technologists',\n",
              " 689: 'packard',\n",
              " 690: 'computing',\n",
              " 691: 'become',\n",
              " 692: 'siemens',\n",
              " 693: 'less',\n",
              " 694: 'using',\n",
              " 695: 'whether',\n",
              " 696: 'lenovo',\n",
              " 697: 'act',\n",
              " 698: 'fastest',\n",
              " 699: 'semiconductors',\n",
              " 700: 'n',\n",
              " 701: 'v',\n",
              " 702: 'transformed',\n",
              " 703: 'share',\n",
              " 704: 'p',\n",
              " 705: 'g',\n",
              " 706: 'institutions',\n",
              " 707: 'profitability',\n",
              " 708: '175',\n",
              " 709: 'done',\n",
              " 710: 'roles',\n",
              " 711: 'skills',\n",
              " 712: 'corps',\n",
              " 713: 'pictures',\n",
              " 714: 'exclusively',\n",
              " 715: 'foundations',\n",
              " 716: 'european',\n",
              " 717: 'dws',\n",
              " 718: 'assets',\n",
              " 719: 'guide',\n",
              " 720: 'features',\n",
              " 721: 'cutting',\n",
              " 722: 'well',\n",
              " 723: 'bse',\n",
              " 724: 'nse',\n",
              " 725: 'productive',\n",
              " 726: 'tata',\n",
              " 727: 'choose',\n",
              " 728: 'ncs',\n",
              " 729: 'workplace',\n",
              " 730: 't',\n",
              " 731: 'mobile',\n",
              " 732: 'carrier',\n",
              " 733: 'uniting',\n",
              " 734: 'allen',\n",
              " 735: 'reimagine',\n",
              " 736: 'close',\n",
              " 737: 'knit',\n",
              " 738: 'big',\n",
              " 739: 'thinkers',\n",
              " 740: '1976',\n",
              " 741: 'curious',\n",
              " 742: 'truly',\n",
              " 743: 'solved',\n",
              " 744: 'inspire',\n",
              " 745: 'play',\n",
              " 746: 'reliable',\n",
              " 747: 'secure',\n",
              " 748: 'exceptional',\n",
              " 749: 'zero',\n",
              " 750: 'emissions',\n",
              " 751: 'ally',\n",
              " 752: 'canada',\n",
              " 753: 'faster',\n",
              " 754: 'freedom',\n",
              " 755: 'deeply',\n",
              " 756: 'chartered',\n",
              " 757: 'rtx',\n",
              " 758: 'defense',\n",
              " 759: 'print',\n",
              " 760: 'imaging',\n",
              " 761: 'treat',\n",
              " 762: 'depot',\n",
              " 763: 'improvement',\n",
              " 764: 'values',\n",
              " 765: 'amazing',\n",
              " 766: 'unified',\n",
              " 767: 'principles',\n",
              " 768: 'reinvent',\n",
              " 769: 'scalable',\n",
              " 770: 'modular',\n",
              " 771: 'pharmaceuticals',\n",
              " 772: 'diagnostics',\n",
              " 773: 'unlocking',\n",
              " 774: 'fully',\n",
              " 775: 'integrator',\n",
              " 776: 'compassionate',\n",
              " 777: '40',\n",
              " 778: 'hospitals',\n",
              " 779: 'owens',\n",
              " 780: 'beth',\n",
              " 781: 'israel',\n",
              " 782: 'beauty',\n",
              " 783: 'true',\n",
              " 784: 'set',\n",
              " 785: 'ground',\n",
              " 786: 'inclusive',\n",
              " 787: 'members',\n",
              " 788: 'iconic',\n",
              " 789: 'bridge',\n",
              " 790: 'explore',\n",
              " 791: 'opportunities',\n",
              " 792: 'specialized',\n",
              " 793: 'need',\n",
              " 794: 'total',\n",
              " 795: 'hcltech',\n",
              " 796: 'aig',\n",
              " 797: 'street',\n",
              " 798: 'institutional',\n",
              " 799: 'single',\n",
              " 800: 'diversity',\n",
              " 801: 'ever',\n",
              " 802: 'follow',\n",
              " 803: 'updates',\n",
              " 804: 'advocates',\n",
              " 805: 'challenging',\n",
              " 806: 'problems',\n",
              " 807: 'should',\n",
              " 808: 'kind',\n",
              " 809: 'colleagues',\n",
              " 810: 'unit',\n",
              " 811: 'ipg',\n",
              " 812: 'ptc',\n",
              " 813: 'breaking',\n",
              " 814: 'everywhere',\n",
              " 815: 'energized',\n",
              " 816: 'shared',\n",
              " 817: 'decisions',\n",
              " 818: 'two',\n",
              " 819: 'connectivity',\n",
              " 820: 'potential',\n",
              " 821: 'guidance',\n",
              " 822: 'trucks',\n",
              " 823: 'both',\n",
              " 824: 'solving',\n",
              " 825: 'pride',\n",
              " 826: 'https',\n",
              " 827: 'upon',\n",
              " 828: 'transport',\n",
              " 829: 'unprecedented',\n",
              " 830: 'williams',\n",
              " 831: 'franchise',\n",
              " 832: 'brighter',\n",
              " 833: 'staffing',\n",
              " 834: 'recruiting',\n",
              " 835: 'delta',\n",
              " 836: 'airline',\n",
              " 837: 'facing',\n",
              " 838: '37',\n",
              " 839: 'outstanding',\n",
              " 840: 'includes',\n",
              " 841: \"macy's\",\n",
              " 842: 'enterprises',\n",
              " 843: 'find',\n",
              " 844: 'any',\n",
              " 845: 'marriott',\n",
              " 846: 'maryland',\n",
              " 847: 'usa',\n",
              " 848: 'encompasses',\n",
              " 849: 'electric',\n",
              " 850: 'delivered',\n",
              " 851: 'saving',\n",
              " 852: 'story',\n",
              " 853: '25',\n",
              " 854: 'propulsion',\n",
              " 855: 'northwestern',\n",
              " 856: 'providers',\n",
              " 857: 'achievement',\n",
              " 858: 'ucla',\n",
              " 859: 'provided',\n",
              " 860: 'breadth',\n",
              " 861: 'goals',\n",
              " 862: 'moments',\n",
              " 863: 'channel',\n",
              " 864: 'realize',\n",
              " 865: 'promise',\n",
              " 866: 'technology™',\n",
              " 867: 'crédit',\n",
              " 868: 'agricole',\n",
              " 869: 'oldest',\n",
              " 870: 'supported',\n",
              " 871: 'simply',\n",
              " 872: 'processing',\n",
              " 873: 'airlines',\n",
              " 874: 'columbia',\n",
              " 875: 'clinical',\n",
              " 876: 'educational',\n",
              " 877: 'adventure',\n",
              " 878: 'pioneered',\n",
              " 879: '12',\n",
              " 880: 'tradition',\n",
              " 881: 'highways',\n",
              " 882: 'eight',\n",
              " 883: 'attorney',\n",
              " 884: 'attorneys',\n",
              " 885: 'ingredients',\n",
              " 886: 'john',\n",
              " 887: 'pursue',\n",
              " 888: 'electronics',\n",
              " 889: 'servicing',\n",
              " 890: 'chain',\n",
              " 891: 'caring',\n",
              " 892: 'healthier',\n",
              " 893: 'reserve',\n",
              " 894: 'then',\n",
              " 895: 'original',\n",
              " 896: 'movement',\n",
              " 897: 'davis',\n",
              " 898: 'protecting',\n",
              " 899: 'process',\n",
              " 900: 'massachusetts',\n",
              " 901: 'albertsons',\n",
              " 902: 'retailers',\n",
              " 903: 'grocer',\n",
              " 904: 'save',\n",
              " 905: 'regional',\n",
              " 906: 'smart',\n",
              " 907: 'essential',\n",
              " 908: 'commission',\n",
              " 909: 'elected',\n",
              " 910: 'allianz',\n",
              " 911: 'saint',\n",
              " 912: 'gobain',\n",
              " 913: 'distributes',\n",
              " 914: 'forward',\n",
              " 915: 'thing',\n",
              " 916: 'homeland',\n",
              " 917: 'ucsf',\n",
              " 918: 'fuel',\n",
              " 919: 'journey',\n",
              " 920: 'aluminum',\n",
              " 921: 'phoenix',\n",
              " 922: 'centric',\n",
              " 923: 'thermo',\n",
              " 924: 'fisher',\n",
              " 925: 'check',\n",
              " 926: 'bridges',\n",
              " 927: 'developer',\n",
              " 928: 'flow',\n",
              " 929: 'sei',\n",
              " 930: 'pennsylvania',\n",
              " 931: 'specializes',\n",
              " 932: 'generations',\n",
              " 933: 'extensive',\n",
              " 934: 'up',\n",
              " 935: 'paper',\n",
              " 936: 'ip',\n",
              " 937: 'planet',\n",
              " 938: 'productivity',\n",
              " 939: 'don’t',\n",
              " 940: 'contract',\n",
              " 941: 'specialist',\n",
              " 942: 'speed',\n",
              " 943: 'own',\n",
              " 944: 'there’s',\n",
              " 945: 'much',\n",
              " 946: 'textron',\n",
              " 947: '15',\n",
              " 948: 'sciences',\n",
              " 949: 'events',\n",
              " 950: 'approach',\n",
              " 951: 'born',\n",
              " 952: 'kentucky',\n",
              " 953: 'upmc',\n",
              " 954: 'cities',\n",
              " 955: 'michael',\n",
              " 956: 'profile',\n",
              " 957: 'identify',\n",
              " 958: 'impactful',\n",
              " 959: 'nationally',\n",
              " 960: 'cornell',\n",
              " 961: 'privately',\n",
              " 962: 'johns',\n",
              " 963: '1876',\n",
              " 964: 'innovate',\n",
              " 965: 'invest',\n",
              " 966: 'innovator',\n",
              " 967: 'enabling',\n",
              " 968: 'daily',\n",
              " 969: 'pharmacy',\n",
              " 970: '1993',\n",
              " 971: 'physician',\n",
              " 972: 'comes',\n",
              " 973: 'strives',\n",
              " 974: 'revenue',\n",
              " 975: 'h',\n",
              " 976: 'r',\n",
              " 977: 'confidence',\n",
              " 978: 'caci',\n",
              " 979: 'corning',\n",
              " 980: 'innovators',\n",
              " 981: 'continues',\n",
              " 982: 'thinking',\n",
              " 983: 'reynolds',\n",
              " 984: 'korn',\n",
              " 985: 'ferry',\n",
              " 986: 'makers',\n",
              " 987: 'push',\n",
              " 988: 'boundaries',\n",
              " 989: 'vibrant',\n",
              " 990: 'programs',\n",
              " 991: 'standing',\n",
              " 992: 'discover',\n",
              " 993: 'colorado',\n",
              " 994: 'role',\n",
              " 995: 'positioned',\n",
              " 996: 'gases',\n",
              " 997: 'wealth',\n",
              " 998: 'swiss',\n",
              " 999: 'recycling',\n",
              " 1000: '3',\n",
              " ...}"
            ]
          },
          "metadata": {},
          "execution_count": 40
        }
      ],
      "source": [
        "# Palabras del vocabulario\n",
        "tok.index_word"
      ]
    },
    {
      "cell_type": "code",
      "execution_count": 41,
      "metadata": {
        "id": "WtzINYjWCMf1",
        "colab": {
          "base_uri": "https://localhost:8080/"
        },
        "outputId": "89056562-46ae-4e7e-bfe2-4b71d18e1296"
      },
      "outputs": [
        {
          "output_type": "execute_result",
          "data": {
            "text/plain": [
              "3129"
            ]
          },
          "metadata": {},
          "execution_count": 41
        }
      ],
      "source": [
        "# Cantidad de palabras en el vocabulario\n",
        "vocab_size = len(tok.word_counts)\n",
        "vocab_size"
      ]
    },
    {
      "cell_type": "code",
      "execution_count": 42,
      "metadata": {
        "id": "spTBxmFQc6h8",
        "colab": {
          "base_uri": "https://localhost:8080/"
        },
        "outputId": "d6d08d41-740f-4760-bd58-17b8d12fd991"
      },
      "outputs": [
        {
          "output_type": "stream",
          "name": "stdout",
          "text": [
            "{'the': 1, 'is': 2, 'a': 3, 'and': 4, 'of': 5, 'in': 6, 'to': 7, 'we': 8, 'global': 9, 'company': 10, 'leading': 11, 'for': 12, 'our': 13, 'at': 14, 'that': 15, 'with': 16, 'leader': 17, 'solutions': 18, 'more': 19, 'technology': 20, 'services': 21, 'as': 22, 'one': 23, 'are': 24, 'world': 25, 'people': 26, 'an': 27, 'university': 28, 'health': 29, 'than': 30, 'has': 31, 'on': 32, 'nyse': 33, 'world’s': 34, 'largest': 35, 'financial': 36, 'inc': 37, 'business': 38, 'founded': 39, 'provider': 40, 'by': 41, 'research': 42, 'years': 43, 'group': 44, 'you': 45, 'been': 46, 'mission': 47, 'industry': 48, 'corporation': 49, 'digital': 50, 'we’re': 51, 'companies': 52, 'firm': 53, 'create': 54, 'u': 55, 's': 56, 'energy': 57, 'it': 58, 'care': 59, 'international': 60, 'medical': 61, 'information': 62, 'work': 63, 'nasdaq': 64, '000': 65, 'help': 66, 'purpose': 67, 'customers': 68, 'management': 69, 'businesses': 70, 'their': 71, 'helps': 72, 'focused': 73, 'life': 74, 'make': 75, 'its': 76, 'over': 77, 'engineering': 78, 'most': 79, 'through': 80, 'products': 81, 'helping': 82, 'healthcare': 83, 'based': 84, 'state': 85, 'every': 86, 'innovative': 87, 'have': 88, \"world's\": 89, 'science': 90, 'center': 91, 'premier': 92, 'dedicated': 93, 'future': 94, 'from': 95, 'public': 96, 'consulting': 97, 'technologies': 98, \"we're\": 99, 'systems': 100, 'do': 101, 'organizations': 102, 'better': 103, 'was': 104, 'bank': 105, 'independent': 106, 'innovation': 107, 'committed': 108, 'clients': 109, 'insurance': 110, 'american': 111, 'what': 112, 'software': 113, 'media': 114, 'about': 115, 'since': 116, 'partner': 117, 'investment': 118, 'new': 119, 'law': 120, 'communications': 121, 'employees': 122, 'organization': 123, 'across': 124, 'data': 125, 'human': 126, 'linkedin': 127, 'america': 128, 'believe': 129, 'trusted': 130, 'deliver': 131, 'food': 132, 'talent': 133, 'power': 134, 'all': 135, 'worldwide': 136, 'delivers': 137, 'security': 138, 'nation’s': 139, 'north': 140, 'provides': 141, 'build': 142, 'part': 143, 'together': 144, 'medicine': 145, 'lives': 146, 'providing': 147, 'service': 148, 'welcome': 149, 'agency': 150, 'department': 151, 'system': 152, 'professional': 153, 'your': 154, 'provide': 155, 'delivering': 156, 'driven': 157, 'quality': 158, 'located': 159, '—': 160, 'design': 161, 'day': 162, 'advanced': 163, 'around': 164, 'creating': 165, 'sustainable': 166, 'place': 167, 'community': 168, 'be': 169, 'brands': 170, 'fortune': 171, 'first': 172, 'marketing': 173, 'materials': 174, 'customer': 175, 'diverse': 176, 'full': 177, 'national': 178, 'headquartered': 179, 'millions': 180, 'cloud': 181, 'mobility': 182, 'improve': 183, 'serving': 184, 'scientific': 185, 'everything': 186, 'commercial': 187, 'states': 188, 'home': 189, 'portfolio': 190, 'improving': 191, 'transportation': 192, 'safety': 193, 'where': 194, 'universities': 195, 'academic': 196, 'official': 197, 'enterprise': 198, 'progress': 199, 'leaders': 200, 'vision': 201, 'enables': 202, 'diversified': 203, 'entertainment': 204, 'tech': 205, 'top': 206, '100': 207, 'america’s': 208, 'news': 209, 'transform': 210, 'when': 211, 'general': 212, 'united': 213, 'operating': 214, 'air': 215, 'excellence': 216, 'institute': 217, 'com': 218, 'class': 219, 'brand': 220, 'built': 221, 'building': 222, 'real': 223, 'best': 224, 'integrated': 225, 'high': 226, 'california': 227, 'recognized': 228, 'trust': 229, 'education': 230, 'not': 231, 'knowledge': 232, 'this': 233, 'enable': 234, '500': 235, 'expertise': 236, 'can': 237, 'among': 238, 'put': 239, 'retailer': 240, 'who': 241, 'boston': 242, 'school': 243, 'san': 244, '–': 245, 'achieve': 246, 'way': 247, 'texas': 248, 'ohio': 249, 'develops': 250, 'georgia': 251, 'end': 252, 'edge': 253, 'firms': 254, 'history': 255, 'working': 256, 'development': 257, 'manufactures': 258, 'consultancy': 259, 'experience': 260, 'network': 261, 'us': 262, \"it's\": 263, 'retail': 264, 'known': 265, 'nearly': 266, 'pioneer': 267, 'live': 268, 'hospital': 269, 'communities': 270, 'workforce': 271, 'made': 272, 'market': 273, 'makes': 274, 'manufacturing': 275, 'construction': 276, 'some': 277, 'www': 278, 'multi': 279, 'we’ve': 280, 'so': 281, 'intelligence': 282, 'heart': 283, 'offers': 284, 'serve': 285, 'growth': 286, 'packaging': 287, 'federal': 288, 'uc': 289, 'schools': 290, 'government': 291, 'online': 292, 'living': 293, 'performance': 294, '50': 295, 'manufacture': 296, 'empower': 297, 'shape': 298, 'family': 299, 'value': 300, 'safer': 301, 'out': 302, 'career': 303, 'individuals': 304, 'experiences': 305, 'engineers': 306, 'led': 307, 'account': 308, 'but': 309, 'connects': 310, 'why': 311, 'transformation': 312, 'that’s': 313, 'beverage': 314, 'insights': 315, 'capital': 316, 'changing': 317, 'ways': 318, 'access': 319, 'connect': 320, 'ai': 321, 'transforming': 322, 'manufacturer': 323, 'cancer': 324, 'advancing': 325, 'legal': 326, 'comprehensive': 327, 'pioneering': 328, 'century': 329, 'culture': 330, 'modern': 331, 'partners': 332, 'started': 333, 'how': 334, 'page': 335, 'industrial': 336, 'applied': 337, 'commitment': 338, 'estate': 339, 'protect': 340, 'patients': 341, 'volvo': 342, 'manufacturers': 343, 'time': 344, 'like': 345, 'sustainability': 346, 'offices': 347, 'no': 348, 'now': 349, 'industries': 350, 'today': 351, 'subsidiaries': 352, 'francisco': 353, 'always': 354, 'owned': 355, 'will': 356, 'connected': 357, 'private': 358, \"america's\": 359, 'strategic': 360, 'advisory': 361, 'incorporated': 362, 'county': 363, 'whose': 364, 'member': 365, 'llp': 366, 'impact': 367, 'intelligent': 368, 'passion': 369, 'drives': 370, 'want': 371, 'connections': 372, 'possible': 373, 'powerful': 374, 'city': 375, 'long': 376, 'into': 377, 'ideas': 378, 'run': 379, 'ago': 380, 'different': 381, 'simple': 382, 'sony': 383, 'created': 384, 'powers': 385, 'next': 386, 'sports': 387, 'being': 388, 'professionals': 389, 'lead': 390, 'discovery': 391, 'bring': 392, 'tools': 393, 'keep': 394, 'banking': 395, 'open': 396, 'source': 397, 'premium': 398, 'money': 399, 'just': 400, 'analytics': 401, 'take': 402, 'enrich': 403, 'laboratory': 404, 'reach': 405, 'specialty': 406, 'associates': 407, '80': 408, 'focus': 409, 'stanford': 410, 'transforms': 411, 'teaching': 412, 'expert': 413, 'core': 414, 'proud': 415, 'apparel': 416, 'institution': 417, 'offering': 418, 'which': 419, 'designed': 420, 'fields': 421, 'land': 422, 'develop': 423, 'tobacco': 424, 'strategy': 425, 'range': 426, 'operates': 427, 'used': 428, 'move': 429, 'buses': 430, 'support': 431, 'equipment': 432, 'infrastructure': 433, 'brings': 434, 'challenges': 435, 'complex': 436, 'job': 437, 'distributor': 438, 'change': 439, 'everyday': 440, 'local': 441, 'co': 442, 'longer': 443, 'manage': 444, 'think': 445, 'here': 446, 'billion': 447, 'clear': 448, 'forefront': 449, 'economic': 450, 'success': 451, 'decades': 452, 'locations': 453, 'travel': 454, 'profit': 455, 'markets': 456, 'administration': 457, 'music': 458, 'experts': 459, 'southern': 460, 'cybersecurity': 461, 'llc': 462, 'commerce': 463, 'patient': 464, 'employee': 465, 'property': 466, 'logistics': 467, 'pacific': 468, 'great': 469, 'nonprofit': 470, 'ranked': 471, 'automotive': 472, 'million': 473, 'approximately': 474, 'it’s': 475, 'penske': 476, 'oil': 477, 'feel': 478, 'devices': 479, 'society': 480, 'solve': 481, 'important': 482, 'easier': 483, 'roots': 484, 'york': 485, 'smarter': 486, 'past': 487, 'drive': 488, 'celebrating': 489, 'johnson': 490, 'peace': 491, 'spirit': 492, 'those': 493, 'special': 494, 'subsidiary': 495, 'strong': 496, 'under': 497, 'countries': 498, 'know': 499, 'generation': 500, 'serves': 501, 'wipro': 502, 'limited': 503, 'aerospace': 504, 'needs': 505, 'get': 506, 'good': 507, 'universal': 508, 'problem': 509, 'exist': 510, 'designing': 511, 'thrive': 512, 'unlocks': 513, 'possibilities': 514, 'making': 515, 'fast': 516, 'easy': 517, 'give': 518, 'lincoln': 519, 'creates': 520, 'multinational': 521, 'difference': 522, '200': 523, 'finding': 524, 'water': 525, 'force': 526, 'taking': 527, 'action': 528, 'toward': 529, 'guided': 530, \"children's\": 531, 'harvard': 532, 'preeminent': 533, 'platform': 534, 'fedex': 535, 'team': 536, 'driving': 537, 'see': 538, 'half': 539, 'content': 540, 'investors': 541, 'leadership': 542, 'creativity': 543, 'boldly': 544, 'virtually': 545, 'capco': 546, 'division': 547, 'grow': 548, 'meaningful': 549, 'empowering': 550, 'dynamics': 551, 'foundation': 552, 'award': 553, 'winning': 554, 'five': 555, 'networks': 556, '60': 557, 'barriers': 558, 'many': 559, 'insight': 560, 'supplier': 561, 'complete': 562, 'highest': 563, 'accelerate': 564, 'recruitment': 565, 'careers': 566, 'payments': 567, 'transactions': 568, 'between': 569, 'canon': 570, 'regulatory': 571, 'asset': 572, 'governments': 573, 'austin': 574, 'loved': 575, 'consumers': 576, 'environments': 577, 'victoria’s': 578, 'secret': 579, 'choice': 580, 'jones': 581, 'they': 582, 'other': 583, 'leads': 584, 'beyond': 585, 'what’s': 586, 'low': 587, 'mutual': 588, 'families': 589, 'hospitality': 590, 'silicon': 591, 'spirits': 592, 'automation': 593, 'michigan': 594, 'corporate': 595, 'washington': 596, 'panasonic': 597, 'connection': 598, '250': 599, 'shop': 600, 'students': 601, 'supporting': 602, 'retirement': 603, 'throughout': 604, 'supply': 605, 'stands': 606, 'reimagining': 607, 'or': 608, 'santa': 609, 'including': 610, 'non': 611, '4': 612, 'drug': 613, 'such': 614, 'responsible': 615, 'within': 616, 'office': 617, 'enabled': 618, 'designs': 619, 'means': 620, 'helped': 621, 'specializing': 622, 'powered': 623, 'hotels': 624, 'you’re': 625, 'penn': 626, 'advance': 627, 'combining': 628, 'supplying': 629, 'producer': 630, 'casualty': 631, 'advantage': 632, 'empowers': 633, 'marketers': 634, 'love': 635, 'opportunity': 636, 'billions': 637, 'semiconductor': 638, '23': 639, 'plan': 640, 'ihg': 641, 'hughes': 642, 'satellite': 643, 'ourselves': 644, 'walgreens': 645, 'everyone': 646, 'tomorrow': 647, 'employment': 648, 'flagship': 649, 'consistently': 650, 'resources': 651, 'e': 652, 'behind': 653, 'assurance': 654, 'inspired': 655, 'heritage': 656, '70': 657, 'biggest': 658, 'smith': 659, 'gas': 660, 'los': 661, 'back': 662, 'goods': 663, 'engaged': 664, 'also': 665, 'model': 666, '1946': 667, 'earned': 668, 'risk': 669, 'works': 670, 'george': 671, 'exploration': 672, 'outcomes': 673, '7': 674, 'staff': 675, 'something': 676, 'ppg': 677, 'places': 678, 'deep': 679, 'cno': 680, 'chemicals': 681, 'pumps': 682, 'valley': 683, 'wine': 684, 'direct': 685, 'centered': 686, 'loyola': 687, 'technologists': 688, 'packard': 689, 'computing': 690, 'become': 691, 'siemens': 692, 'less': 693, 'using': 694, 'whether': 695, 'lenovo': 696, 'act': 697, 'fastest': 698, 'semiconductors': 699, 'n': 700, 'v': 701, 'transformed': 702, 'share': 703, 'p': 704, 'g': 705, 'institutions': 706, 'profitability': 707, '175': 708, 'done': 709, 'roles': 710, 'skills': 711, 'corps': 712, 'pictures': 713, 'exclusively': 714, 'foundations': 715, 'european': 716, 'dws': 717, 'assets': 718, 'guide': 719, 'features': 720, 'cutting': 721, 'well': 722, 'bse': 723, 'nse': 724, 'productive': 725, 'tata': 726, 'choose': 727, 'ncs': 728, 'workplace': 729, 't': 730, 'mobile': 731, 'carrier': 732, 'uniting': 733, 'allen': 734, 'reimagine': 735, 'close': 736, 'knit': 737, 'big': 738, 'thinkers': 739, '1976': 740, 'curious': 741, 'truly': 742, 'solved': 743, 'inspire': 744, 'play': 745, 'reliable': 746, 'secure': 747, 'exceptional': 748, 'zero': 749, 'emissions': 750, 'ally': 751, 'canada': 752, 'faster': 753, 'freedom': 754, 'deeply': 755, 'chartered': 756, 'rtx': 757, 'defense': 758, 'print': 759, 'imaging': 760, 'treat': 761, 'depot': 762, 'improvement': 763, 'values': 764, 'amazing': 765, 'unified': 766, 'principles': 767, 'reinvent': 768, 'scalable': 769, 'modular': 770, 'pharmaceuticals': 771, 'diagnostics': 772, 'unlocking': 773, 'fully': 774, 'integrator': 775, 'compassionate': 776, '40': 777, 'hospitals': 778, 'owens': 779, 'beth': 780, 'israel': 781, 'beauty': 782, 'true': 783, 'set': 784, 'ground': 785, 'inclusive': 786, 'members': 787, 'iconic': 788, 'bridge': 789, 'explore': 790, 'opportunities': 791, 'specialized': 792, 'need': 793, 'total': 794, 'hcltech': 795, 'aig': 796, 'street': 797, 'institutional': 798, 'single': 799, 'diversity': 800, 'ever': 801, 'follow': 802, 'updates': 803, 'advocates': 804, 'challenging': 805, 'problems': 806, 'should': 807, 'kind': 808, 'colleagues': 809, 'unit': 810, 'ipg': 811, 'ptc': 812, 'breaking': 813, 'everywhere': 814, 'energized': 815, 'shared': 816, 'decisions': 817, 'two': 818, 'connectivity': 819, 'potential': 820, 'guidance': 821, 'trucks': 822, 'both': 823, 'solving': 824, 'pride': 825, 'https': 826, 'upon': 827, 'transport': 828, 'unprecedented': 829, 'williams': 830, 'franchise': 831, 'brighter': 832, 'staffing': 833, 'recruiting': 834, 'delta': 835, 'airline': 836, 'facing': 837, '37': 838, 'outstanding': 839, 'includes': 840, \"macy's\": 841, 'enterprises': 842, 'find': 843, 'any': 844, 'marriott': 845, 'maryland': 846, 'usa': 847, 'encompasses': 848, 'electric': 849, 'delivered': 850, 'saving': 851, 'story': 852, '25': 853, 'propulsion': 854, 'northwestern': 855, 'providers': 856, 'achievement': 857, 'ucla': 858, 'provided': 859, 'breadth': 860, 'goals': 861, 'moments': 862, 'channel': 863, 'realize': 864, 'promise': 865, 'technology™': 866, 'crédit': 867, 'agricole': 868, 'oldest': 869, 'supported': 870, 'simply': 871, 'processing': 872, 'airlines': 873, 'columbia': 874, 'clinical': 875, 'educational': 876, 'adventure': 877, 'pioneered': 878, '12': 879, 'tradition': 880, 'highways': 881, 'eight': 882, 'attorney': 883, 'attorneys': 884, 'ingredients': 885, 'john': 886, 'pursue': 887, 'electronics': 888, 'servicing': 889, 'chain': 890, 'caring': 891, 'healthier': 892, 'reserve': 893, 'then': 894, 'original': 895, 'movement': 896, 'davis': 897, 'protecting': 898, 'process': 899, 'massachusetts': 900, 'albertsons': 901, 'retailers': 902, 'grocer': 903, 'save': 904, 'regional': 905, 'smart': 906, 'essential': 907, 'commission': 908, 'elected': 909, 'allianz': 910, 'saint': 911, 'gobain': 912, 'distributes': 913, 'forward': 914, 'thing': 915, 'homeland': 916, 'ucsf': 917, 'fuel': 918, 'journey': 919, 'aluminum': 920, 'phoenix': 921, 'centric': 922, 'thermo': 923, 'fisher': 924, 'check': 925, 'bridges': 926, 'developer': 927, 'flow': 928, 'sei': 929, 'pennsylvania': 930, 'specializes': 931, 'generations': 932, 'extensive': 933, 'up': 934, 'paper': 935, 'ip': 936, 'planet': 937, 'productivity': 938, 'don’t': 939, 'contract': 940, 'specialist': 941, 'speed': 942, 'own': 943, 'there’s': 944, 'much': 945, 'textron': 946, '15': 947, 'sciences': 948, 'events': 949, 'approach': 950, 'born': 951, 'kentucky': 952, 'upmc': 953, 'cities': 954, 'michael': 955, 'profile': 956, 'identify': 957, 'impactful': 958, 'nationally': 959, 'cornell': 960, 'privately': 961, 'johns': 962, '1876': 963, 'innovate': 964, 'invest': 965, 'innovator': 966, 'enabling': 967, 'daily': 968, 'pharmacy': 969, '1993': 970, 'physician': 971, 'comes': 972, 'strives': 973, 'revenue': 974, 'h': 975, 'r': 976, 'confidence': 977, 'caci': 978, 'corning': 979, 'innovators': 980, 'continues': 981, 'thinking': 982, 'reynolds': 983, 'korn': 984, 'ferry': 985, 'makers': 986, 'push': 987, 'boundaries': 988, 'vibrant': 989, 'programs': 990, 'standing': 991, 'discover': 992, 'colorado': 993, 'role': 994, 'positioned': 995, 'gases': 996, 'wealth': 997, 'swiss': 998, 'recycling': 999, '3': 1000, 'intellectual': 1001, 'chicago': 1002, 'emory': 1003, 'offer': 1004, 'atlanta': 1005, 'tire': 1006, 'representatives': 1007, 'times': 1008, 'nation': 1009, 'significant': 1010, 'biotechnology': 1011, 'wtw': 1012, 'agriculture': 1013, 'ambition': 1014, 'angeles': 1015, 'bose': 1016, '1964': 1017, 'retire': 1018, 'safe': 1019, '150': 1020, 'renowned': 1021, '20': 1022, 'introduced': 1023, 'ecosystem': 1024, 'growing': 1025, 'operation': 1026, '1983': 1027, 'critical': 1028, 'rutgers': 1029, 'jersey': 1030, 'industry’s': 1031, 'uf': 1032, 'developed': 1033, 'began': 1034, 'tv': 1035, 'bringing': 1036, 'virginia': 1037, 'logic': 1038, 'matter': 1039, 'uses': 1040, 'reputation': 1041, 'supports': 1042, 'ready': 1043, 'publisher': 1044, 'connecting': 1045, 'hearst': 1046, 'product': 1047, 'almost': 1048, '1': 1049, '300': 1050, 'league': 1051, '49ers': 1052, 'indianapolis': 1053, 'm': 1054, 'biomedical': 1055, 'tennessee': 1056, 'biopharmaceutical': 1057, 'parker': 1058, 'motion': 1059, 'louis': 1060, 'hard': 1061, 'turning': 1062, 'vf': 1063, 'accessories': 1064, 'takeda': 1065, 'oncology': 1066, 'brown': 1067, 'ecolab': 1068, 'advances': 1069, 'clinic': 1070, 'quest': 1071, 'nice': 1072, 'select': 1073, 'record': 1074, 'believes': 1075, 'pultegroup': 1076, 'phm': 1077, 'only': 1078, 'fitness': 1079, 'bankers': 1080, 'unique': 1081, 'epam': 1082, 'firmware': 1083, 'middle': 1084, 'income': 1085, 'americans': 1086, 'rochester': 1087, 'corp': 1088, 'technical': 1089, 'urban': 1090, 'foundational': 1091, 'affordable': 1092, 'singular': 1093, 'lam': 1094, 'technological': 1095, 'forbes': 1096, 'igt': 1097, 'sandvik': 1098, 'eye': 1099, 'l': 1100, 'hr': 1101, 'distinctive': 1102, 'dxc': 1103, 'roofing': 1104, 'after': 1105, 'selling': 1106, 'broad': 1107, 'omnichannel': 1108, 'state’s': 1109, 'ferrero': 1110, 'mason': 1111, 'marketplace': 1112, 'complexity': 1113, 'degree': 1114, 'increasing': 1115, 'smiles': 1116, 'capella': 1117, 'audio': 1118, 'envision': 1119, 'chemical': 1120, 'cleveland': 1121, 'south': 1122, 'info': 1123, 'acco': 1124, 'architecture': 1125, 'planning': 1126, 'authority': 1127, 'vericast': 1128, 'smithsonian': 1129, 'tds': 1130, 'nebraska': 1131, 'novonesis': 1132, 'railroad': 1133, 'grant': 1134, 'powering': 1135, 'goal': 1136, 'harman': 1137, 'moved': 1138, 'reporting': 1139, 'advocate': 1140, 'msa': 1141, 'name': 1142, 'wvu': 1143, 'stand': 1144, 'rite': 1145, 'aid': 1146, 'ibm': 1147, 'hewlett': 1148, 'sharing': 1149, 'accenture': 1150, \"what's\": 1151, 'ours': 1152, 'person': 1153, 'deloitte': 1154, 'wherever': 1155, 'ag': 1156, 'berlin': 1157, 'munich': 1158, 'pwc': 1159, 'understand': 1160, 'complicated': 1161, 'intel’s': 1162, 'unimaginable': 1163, 'cisco': 1164, 'csco': 1165, 'philanthropy': 1166, 'motorola': 1167, 'smartphones': 1168, 'tracing': 1169, '1799': 1170, 'jpmorgan': 1171, 'nokia': 1172, 'ey': 1173, 'exists': 1174, 'term': 1175, 'kpmg': 1176, 'nxp': 1177, 'nxpi': 1178, 'decade': 1179, 'sap': 1180, '185': 1181, 'soap': 1182, 'candle': 1183, 'elite': 1184, 'bt': 1185, 'daring': 1186, 'innovation—and': 1187, 'yet': 1188, 'gaining': 1189, 'acquiring': 1190, 'fresh': 1191, 'army': 1192, 'vital': 1193, 'wells': 1194, 'fargo': 1195, 'wfc': 1196, 'successful': 1197, 'sony’s': 1198, 'aim': 1199, 'fill': 1200, 'emotion': 1201, 'challenge': 1202, 'spe': 1203, 'tokyo': 1204, \"spe's\": 1205, 'discusses': 1206, 'mainly': 1207, 'activities': 1208, 'deutsche': 1209, 'german': 1210, 'eur': 1211, '896bn': 1212, '31': 1213, 'chubb': 1214, 'operations': 1215, '54': 1216, 'shell': 1217, '87': 1218, 'express': 1219, 'right': 1220, 'backing': 1221, 'breakthroughs': 1222, 'infosys': 1223, 'yahoo': 1224, 'hundreds': 1225, 'globally': 1226, 'classic': 1227, 'animated': 1228, 'exhilarating': 1229, 'theme': 1230, 'park': 1231, 'attractions': 1232, 'fidelity’s': 1233, 'strengthen': 1234, 'wit': 1235, '507685': 1236, '2003': 1237, 'them': 1238, 'delivery': 1239, 'warfighting': 1240, 'honeywell': 1241, 'invents': 1242, 'address': 1243, 'there': 1244, 'nsa': 1245, 'whatever': 1246, '5': 1247, 'reasons': 1248, 'mckinsey': 1249, 'xerox': 1250, 'continually': 1251, 'redefined': 1252, 'harnessing': 1253, 'fujitsu': 1254, 'goldman': 1255, 'sachs': 1256, 'everyone’s': 1257, 'commit': 1258, 'airplanes': 1259, 'wants': 1260, 'balanced': 1261, 'tmus': 1262, 'supercharged': 1263, 'un': 1264, '4g': 1265, 'ahead': 1266, 'disease': 1267, 'thomson': 1268, 'reuters': 1269, 'missions': 1270, 'tomorrow’s': 1271, 'booz': 1272, 'hamilton': 1273, 'novartis': 1274, 'medicines': 1275, 'collaborating': 1276, 'cgi': 1277, 'were': 1278, 'barclays': 1279, 'british': 1280, 'pepsico': 1281, 'playground': 1282, 'invite': 1283, 'doers': 1284, 'changemakers': 1285, \"isn't\": 1286, 'until': 1287, 'googlers': 1288, 'suse': 1289, 'cdk': 1290, 'teradata': 1291, 'empowered': 1292, 'benefit': 1293, 'motors’': 1294, 'crashes': 1295, 'adobe': 1296, 'ebay': 1297, 'pathways': 1298, 'sellers': 1299, 'buyers': 1300, 'championing': 1301, 'enjoyable': 1302, \"don't\": 1303, 'ford': 1304, 'merck': 1305, 'msd': 1306, 'outside': 1307, 'avaya': 1308, 'amd': 1309, 'mit': 1310, 'federally': 1311, 'funded': 1312, 'raytheon': 1313, 'bnp': 1314, 'paribas': 1315, 'europe': 1316, 'mondelēz': 1317, 'mdlz': 1318, 'confectionery': 1319, 'kodak': 1320, \"carestream's\": 1321, 'carestream': 1322, 'territories': 1323, 'moving': 1324, 'agilent': 1325, 'ensure': 1326, 'rewards': 1327, '140': 1328, 'relentless': 1329, 'pursuit': 1330, 'amazon': 1331, 'four': 1332, 'obsession': 1333, 'rather': 1334, 'competitor': 1335, 'bmc': 1336, 'roche': 1337, 'abbott': 1338, 'saic®': 1339, '500®': 1340, 'minor': 1341, 'omi': 1342, 'children’s': 1343, 'lucile': 1344, 'sanofi': 1345, 'chase': 1346, 'miracles': 1347, 'nurture': 1348, 'devoted': 1349, 'learning': 1350, 'centers': 1351, 'dana': 1352, 'farber': 1353, 'children': 1354, '404': 1355, 'bed': 1356, 'pediatric': 1357, 'deaconess': 1358, 'bidmc': 1359, 'lahey': 1360, 'stayed': 1361, 'intuit': 1362, 'overcome': 1363, 'extremely': 1364, 'coordinate': 1365, 'sales': 1366, 'ogilvy': 1367, 'gaps': 1368, 'old': 1369, 'navy': 1370, 'democratizes': 1371, 'jobs': 1372, 'bananarepublic': 1373, 'banana': 1374, 'republic': 1375, 'cognizant': 1376, 'ctsh': 1377, 'modernize': 1378, 'robert': 1379, \"that's\": 1380, 'exxonmobil': 1381, 'scientists': 1382, 'societe': 1383, 'generale': 1384, 'groups': 1385, 'coca‑cola': 1386, 'sold': 1387, 'comcast': 1388, 'broadband': 1389, 'video': 1390, 'delight': 1391, 'nielsen': 1392, 'shapes': 1393, 'audience': 1394, '224': 1395, 'bbc': 1396, 'broadcaster': 1397, 'impartial': 1398, 'bristol': 1399, 'myers': 1400, 'squibb': 1401, 'patients’': 1402, 'tackle': 1403, 'improves': 1404, 'collaborative': 1405, 'discoveries': 1406, 'manpowergroup®': 1407, 'man': 1408, 'royal': 1409, 'thought': 1410, '75': 1411, 'distribute': 1412, 'film': 1413, 'television': 1414, \"cnbc's\": 1415, 'regular': 1416, 'allstate': 1417, 'mind': 1418, 'attacking': 1419, 'prudential': 1420, 'pru': 1421, 'belief': 1422, 'charles': 1423, 'schwab': 1424, '3m': 1425, 'touches': 1426, 'autodesk': 1427, 'spans': 1428, 'remarkable': 1429, 'bae': 1430, 'nickelodeon': 1431, 'number': 1432, 'kids': 1433, 'bayer': 1434, 'competencies': 1435, 'mckesson': 1436, 'gdit': 1437, 'dna': 1438, 'philip': 1439, 'morris': 1440, 'pmi': 1441, 'mccann': 1442, 'worldgroup': 1443, 'interpublic': 1444, 'irrefutable': 1445, 'mrm': 1446, 'um': 1447, 'futureproof': 1448, 'unleashes': 1449, 'proven': 1450, 'thales': 1451, '77': 1452, 'capgemini': 1453, 'sogeti': 1454, 'coöperatieve': 1455, 'rabobank': 1456, 'cooperative': 1457, 'mavenir': 1458, 'focusing': 1459, 'nasa': 1460, 'produce': 1461, 'send': 1462, 'friends': 1463, 'nike': 1464, 'spectrum': 1465, 'charter': 1466, 'coldwell': 1467, 'banker': 1468, 'realty': 1469, 'brokerages': 1470, 'cnn': 1471, 'dozen': 1472, 'te': 1473, 'amgen': 1474, 'biology': 1475, 'suffering': 1476, 'actionable': 1477, 'objective': 1478, 'executives': 1479, 'teams': 1480, 'penta': 1481, 'engines': 1482, 'bus': 1483, 'mack': 1484, 'ce': 1485, 'netapp': 1486, 'toyota': 1487, 'vehicles': 1488, 'bain': 1489, 'ambitious': 1490, 'avis': 1491, 'budget': 1492, 'buy': 1493, 'pearson': 1494, 'add': 1495, 'lifetime': 1496, 'crucial': 1497, 'teksystems': 1498, 'beware': 1499, 'scams': 1500, 'please': 1501, 'read': 1502, 'seekers': 1503, 'dupont': 1504, 'hiring': 1505, 'faqs': 1506, 'html': 1507, 'cadence': 1508, 'pivotal': 1509, 'electronic': 1510, 'cardinal': 1511, 'agencies': 1512, 'visa': 1513, 'facilitating': 1514, 'greatest': 1515, 'resource': 1516, 'ingenuity': 1517, 'collaboration': 1518, 'met': 1519, 'bosch': 1520, 'lexisnexis': 1521, 'economies': 1522, 'regulations': 1523, 'collaborate': 1524, 'engineer': 1525, 'maximize': 1526, 'keller': 1527, 'agent': 1528, 'count': 1529, 'novo': 1530, 'nordisk': 1531, '1923': 1532, 'hanesbrands': 1533, 'hbi': 1534, 'danone': 1535, 'juniper': 1536, 'revolution': 1537, 'networking': 1538, 'controls': 1539, 'jci': 1540, 'learn': 1541, 'vs': 1542, 'pink': 1543, 'happier': 1544, 'fragrance': 1545, 'spherion—a': 1546, 'starbucks': 1547, 'say': 1548, 'coffee': 1549, 'lines': 1550, 'dal': 1551, 'genentech': 1552, 'passionate': 1553, 'base': 1554, 'winner': 1555, 'pulitzer': 1556, 'prizes': 1557, 'journalism': 1558, 'wall': 1559, 'journal': 1560, 'dow': 1561, 'store': 1562, 'bethesda': 1563, 'dimension': 1564, 'cbre': 1565, 'sees': 1566, 'randstad': 1567, 'schneider': 1568, 'promotes': 1569, 'nationwide': 1570, 'columbus': 1571, 'farm®': 1572, 'risks': 1573, 'dun': 1574, 'bradstreet': 1575, 'decisioning': 1576, 'mercer': 1577, 'futures': 1578, 'pratt': 1579, 'whitney': 1580, 'inventor': 1581, 'conditioning': 1582, 'forget': 1583, 'go': 1584, 'alstom': 1585, 'commits': 1586, 'contribute': 1587, 'carbon': 1588, 'developing': 1589, 'promoting': 1590, 'important—helping': 1591, 'hilton': 1592, '22': 1593, 'oliver': 1594, 'wyman': 1595, 'catalyzing': 1596, 'era': 1597, 'pervasive': 1598, 'synopsys': 1599, 'zurich': 1600, 'digitas': 1601, 'networked': 1602, 'chla': 1603, 'child': 1604, 'deserves': 1605, 'enjoy': 1606, 'combination': 1607, 'rare': 1608, 'especially': 1609, 'wolters': 1610, 'kluwer': 1611, 'euronext': 1612, 'wkl': 1613, 'benefits': 1614, 'bloomberg': 1615, \"diageo's\": 1616, 'drinks': 1617, 'rockwell': 1618, 'imaginations': 1619, 'ann': 1620, 'arbor': 1621, 'experian': 1622, 'during': 1623, \"life's\": 1624, 'quarter': 1625, 'monthly': 1626, 'listeners': 1627, 'outdoor': 1628, '111': 1629, 'ingram': 1630, 'micro': 1631, 'cib': 1632, 'arm': 1633, '1861': 1634, 'satisfied': 1635, 'hearing': 1636, '\\u200b': 1637, \"brand's\": 1638, 'message': 1639, 'eaton': 1640, 'specialists': 1641, 'distribution': 1642, 'avionics': 1643, 'strengthened': 1644, 'irving': 1645, 'cuimc': 1646, 'higher': 1647, 'basf': 1648, 'chemistry': 1649, 'combine': 1650, 'embark': 1651, 'humanity': 1652, 'remote': 1653, 'believed': 1654, 'able': 1655, 'sixty': 1656, 'sam': 1657, 'walton': 1658, 'mom': 1659, 'pop': 1660, 'uic': 1661, \"chicago's\": 1662, '33': 1663, '16': 1664, 'illinois': 1665, 'urbana': 1666, 'champaign': 1667, 'roads': 1668, 'traveled': 1669, 'california’s': 1670, 'demanding': 1671, 'commute': 1672, 'retain': 1673, 'skilled': 1674, 'adaptable': 1675, 'calpers': 1676, 'rob': 1677, 'bonta': 1678, 'calling': 1679, 'agents': 1680, 'automakers': 1681, 'players': 1682, 'mcdonald’s': 1683, 'foodservice': 1684, 'cargill': 1685, 'agricultural': 1686, 'hancock': 1687, 'manulife': 1688, 'liberty': 1689, 'embrace': 1690, 'confidently': 1691, 'opentext': 1692, 'securely': 1693, 'capture': 1694, 'govern': 1695, 'kla': 1696, 'bombardier': 1697, 'aviation': 1698, 'rrd': 1699, 'acxiom®': 1700, 'ikea': 1701, 'colgate': 1702, 'expedia': 1703, 'expe': 1704, 'emerson': 1705, 'toronto': 1706, 'dominion': 1707, 'collectively': 1708, 'td': 1709, '115': 1710, 'andersen': 1711, 'manufactured': 1712, 'marketed': 1713, 'windows': 1714, 'central': 1715, 'fed': 1716, 'servants': 1717, 'congressionally': 1718, 'mandated': 1719, 'banks': 1720, 'sage': 1721, 'knock': 1722, 'down': 1723, 'either': 1724, 'adapt': 1725, 'ignore': 1726, 'publicis': 1727, 'loves': 1728, 'converge': 1729, 'blackberry': 1730, 'defend': 1731, 'against': 1732, 'cyber': 1733, 'threats': 1734, 'mary': 1735, 'kay': 1736, 'glass': 1737, 'ceiling': 1738, 'cruz': 1739, '1965': 1740, 'away': 1741, '1908': 1742, 'excellent': 1743, 'australia’s': 1744, 'measure': 1745, 'bdo': 1746, 'visteon': 1747, 'defined': 1748, 'seagate': 1749, 'storing': 1750, 'activating': 1751, 'explosive': 1752, 'agility': 1753, 'itt': 1754, 'headwinds': 1755, 'complexities': 1756, \"boston's\": 1757, 'brigham': 1758, \"women's\": 1759, 'bwh': 1760, 'newton': 1761, 'wellesley': 1762, 'branch': 1763, 'municipal': 1764, '1860': 1765, \"shaw's\": 1766, 'supermarkets': 1767, 'longest': 1768, 'continuously': 1769, 'favorite': 1770, 'supermarket': 1771, '130': 1772, 'neighborhood': 1773, 'acme': 1774, 'mart': 1775, 'teradyne': 1776, 'innovations': 1777, 'spgi': 1778, 'teacher': 1779, 'trs': 1780, 'investing': 1781, 'funds': 1782, 'overview': 1783, 'hhsc': 1784, 'twc': 1785, 'charged': 1786, 'overseeing': 1787, 'constitutional': 1788, 'life®': 1789, 'keeping': 1790, 'lexmark': 1791, 'iot': 1792, 'quickly': 1793, 'forever': 1794, '\\u200b\\u200b\\u200b\\u200bat': 1795, 'csaa': 1796, 'ig': 1797, 'endure': 1798, 'certainteed®': 1799, 'exterior': 1800, 'vmware': 1801, 'broadcom': 1802, 'unifies': 1803, 'streamlines': 1804, 'hybrid': 1805, 'tsa': 1806, 'wake': 1807, 'september': 1808, 'emergency': 1809, 'fema': 1810, 'customs': 1811, 'border': 1812, 'umg': 1813, 'fifth': 1814, 'third': 1815, 'rooted': 1816, 'mastercard': 1817, 'staples': 1818, '‘think': 1819, 'algorithm’': 1820, 'elsevier': 1821, 'researchers': 1822, 'idea': 1823, 'encompassing': 1824, 'several': 1825, 'entities': 1826, 'ameriprise': 1827, 'confident': 1828, 'creative': 1829, 'played': 1830, 'alcoa': 1831, 'aa': 1832, 'bauxite': 1833, 'alumina': 1834, 'launching': 1835, 'courses': 1836, 'accor': 1837, '290': 1838, 'placing': 1839, 'mahindra': 1840, 'represents': 1841, 'kforce': 1842, 'travelers': 1843, 'coverage': 1844, 'things': 1845, 'point': 1846, 'ltd': 1847, 'checkpoint': 1848, 'heal': 1849, 'accomplishing': 1850, 'diplomacy': 1851, 'bd': 1852, 'odp': 1853, 'lionbridge': 1854, 'break': 1855, 'vacuum': 1856, 'abatement': 1857, 'edwards': 1858, 'fis': 1859, 'heineken': 1860, 'brewer': 1861, 'hyatt': 1862, 'regency': 1863, 'seamlessly': 1864, 'traveling': 1865, 'scotiabank': 1866, 'thousands': 1867, 'freddie': 1868, 'mac': 1869, 'homebuyers': 1870, 'homeowners': 1871, 'renters': 1872, 'financing': 1873, 'creation': 1874, 'stop': 1875, 'stern': 1876, 'greenwich': 1877, 'medicine’s': 1878, 'wexner': 1879, 'ingersoll': 1880, 'rand': 1881, 'ir': 1882, 'entrepreneurial': 1883, 'ownership': 1884, 'mindset': 1885, 'minnesota': 1886, 'baccalaureate': 1887, 'master’s': 1888, '👋': 1889, 'salesforce': 1890, 'crm': 1891, 'mallinckrodt': 1892, 'use': 1893, 'momentum': 1894, 'wonder': 1895, 'childhood': 1896, '1792': 1897, 'paints': 1898, 'coatings': 1899, 'agfa': 1900, 'gevaert': 1901, 'analogue': 1902, 'strength': 1903, '56': 1904, 'comprising': 1905, 'farmers': 1906, 'companies®': 1907, 'currently': 1908, 'friendly': 1909, 'pulp': 1910, 'cna': 1911, 'keybank': 1912, 'excited': 1913, 'danfoss': 1914, 'increase': 1915, 'machine': 1916, 'reduce': 1917, 'lower': 1918, 'consumption': 1919, 'reality': 1920, 'dreaming': 1921, 'competitive': 1922, 'stryker': 1923, 'physio': 1924, 'bechtel': 1925, 'project': 1926, 'too': 1927, 'processes': 1928, 'identification': 1929, 'cox': 1930, 'cdw': 1931, 'leverages': 1932, 'aircraft': 1933, 'kaplan': 1934, 'fiserv': 1935, 'nordstrom': 1936, 'sights': 1937, 'blaze': 1938, 'diego': 1939, 'idc': 1940, 'celestica': 1941, 'unrivaled': 1942, 'bozeman': 1943, 'montana': 1944, 'fico®': 1945, 'fico': 1946, 'marseille': 1947, '1966': 1948, 'pierre': 1949, 'bellon': 1950, 'sodexo': 1951, 'pizza': 1952, 'hut™': 1953, 'breakthrough': 1954, 'taco': 1955, 'bell': 1956, 'raised': 1957, 'yum': 1958, 'louisville': 1959, 'operate': 1960, \"we've\": 1961, 'kimberly': 1962, 'clark': 1963, 'analog': 1964, 'adi': 1965, 'insurer': 1966, 'pittsburgh': 1967, 'inventing': 1968, 'electrolux': 1969, 'appliance': 1970, 'shaped': 1971, 'greener': 1972, 'idemia': 1973, 'simpler': 1974, 'pay': 1975, 'conagra': 1976, 'prgs': 1977, 'deploy': 1978, 'safeway': 1979, 'banner': 1980, 'locally': 1981, 'weill': 1982, 'endowed': 1983, 'hopkins': 1984, 'principle': 1985, 'continental': 1986, 'edelman': 1987, 'macquarie': 1988, 'red': 1989, 'hat': 1990, 'ihg®': 1991, 'resorts': 1992, 'lon': 1993, 'adrs': 1994, 'gtri': 1995, \"nation's\": 1996, 'arrow': 1997, 'guides': 1998, 'computacenter': 1999, 'large': 2000, 'included': 2001, 'segment': 2002, 'boots': 2003, 'espn': 2004, 'multimedia': 2005, 'founding': 2006, 'nvidia': 2007, 'nvda': 2008, 'cummins': 2009, 'hca': 2010, 'giving': 2011, 'practice': 2012, 'urgent': 2013, 'existence': 2014, 'quite': 2015, 'obsessed': 2016, 'nothing': 2017, \"state's\": 2018, 'umd': 2019, '62': 2020, 'powerhouse': 2021, '217': 2022, 'reason': 2023, 'ranks': 2024, 'percent': 2025, 'block’s': 2026, 'talented': 2027, 'dynamic': 2028, 'franklin': 2029, 'ben': 2030, 'edward': 2031, 'fluor': 2032, 'procurement': 2033, 'fit': 2034, 'looking': 2035, 'micron': 2036, 'memory': 2037, 'postal': 2038, 'evolution': 2039, 'acting': 2040, 'equifax': 2041, 'efx': 2042, 'lear': 2043, 'seating': 2044, 'superior': 2045, 'vehicle': 2046, 'dayton': 2047, '1866': 2048, 'lego': 2049, 'lego®': 2050, 'arcelormittal': 2051, 'steel': 2052, 'mining': 2053, 'presence': 2054, 'advisors': 2055, 'organizational': 2056, 'rsm': 2057, 'tax': 2058, 'zf': 2059, 'carolina’s': 2060, 'attest': 2061, 'university’s': 2062, 'groupm': 2063, 'wpp’s': 2064, 'plays': 2065, 'profound': 2066, 'cu': 2067, 'boulder': 2068, 'execution': 2069, 'epsilon': 2070, 'advertising': 2071, 'iron': 2072, 'mountain': 2073, 'irm': 2074, '1837': 2075, 'deere': 2076, 'alliancebernstein': 2077, 'ab': 2078, 'liquide': 2079, 're': 2080, 'wholesale': 2081, 'reinsurance': 2082, 'mitre': 2083, 'ds': 2084, 'informatica': 2085, 'infa': 2086, 'webmd': 2087, '2': 2088, 'rely': 2089, 'grainger': 2090, 'printing': 2091, 'packing': 2092, 'shipping': 2093, 'sea': 2094, 'destinations': 2095, 'scholars': 2096, 'inquiry': 2097, 'asml': 2098, '1905': 2099, 'framatome': 2100, 'nuclear': 2101, 'goodyear': 2102, 'employs': 2103, '72': 2104, 'house': 2105, 'ushr': 2106, 'chambers': 2107, 'akamai': 2108, 'hillsborough': 2109, 'seventh': 2110, 'district': 2111, 'depth': 2112, 'ciena': 2113, 'cien': 2114, 'optical': 2115, 'routing': 2116, '1978': 2117, 'biogen': 2118, 'pioneers': 2119, 'heidrick': 2120, 'struggles': 2121, 'executive': 2122, 'search': 2123, 'hmh': 2124, 'outcome': 2125, 'guiding': 2126, 'areas': 2127, 'chosen': 2128, 'aflac': 2129, 'because': 2130, 'syngenta': 2131, 'fighting': 2132, 'established': 2133, '1931': 2134, 'dr': 2135, 'amar': 2136, 'fmc': 2137, 'educators': 2138, 'dignity': 2139, 'invesco': 2140, 'rethink': 2141, 'possibility': 2142, 'iqvia': 2143, 'iqv': 2144, 'estée': 2145, 'lauder': 2146, 'cushman': 2147, 'wakefield': 2148, 'cwk': 2149, 'faurecia': 2150, 'duke': 2151, 'charlotte': 2152, 'c': 2153, '1810': 2154, 'yale': 2155, 'sun': 2156, 'dreamworks': 2157, 'animation': 2158, 'enabler': 2159, 'today’s': 2160, 'economy': 2161, 'honda': 2162, 'dreams': 2163, 'determination': 2164, 'prestige': 2165, 'wisconsin–madison': 2166, 'dates': 2167, 'starcom': 2168, 'michelin': 2169, 'sustainably': 2170, 'solvay': 2171, 'mastery': 2172, 'come': 2173, 'pottery': 2174, 'barn': 2175, 'represented': 2176, 'unparalleled': 2177, '1956': 2178, 'sonoma': 2179, 'forrester': 2180, 'influential': 2181, 'sgs': 2182, 'testing': 2183, 'inspection': 2184, 'certification': 2185, 'lowe’s': 2186, 'fortune®': 2187, 'pirelli': 2188, 'milan': 2189, '1872': 2190, 'apd': 2191, 'careerbuilder': 2192, 'employers': 2193, 'we’ll': 2194, 'boring': 2195, 'doesn’t': 2196, 'hydro': 2197, 'builds': 2198, 'partnerships': 2199, 'gannett': 2200, 'gci': 2201, 'expansive': 2202, '1962': 2203, 'raymond': 2204, 'james': 2205, 'brazil': 2206, 'embraer': 2207, 'ttec': 2208, 'pronounced': 2209, 'tec': 2210, 'happy': 2211, 'profitable': 2212, 'regions': 2213, 'rf': 2214, '155': 2215, 'aspire': 2216, 'prolong': 2217, 'difficult': 2218, 'evolve': 2219, 'paychex': 2220, 'cae': 2221, 'equip': 2222, 'humana': 2223, 'never': 2224, 'ask': 2225, 'nor': 2226, 'require': 2227, 'candidate': 2228, 'vestas': 2229, 'jacksonville': 2230, 'exemplary': 2231, 'complemented': 2232, 'asu': 2233, 'amc': 2234, 'ultimate': 2235, 'destination': 2236, 'mold': 2237, 'genre': 2238, 'defying': 2239, 'watched': 2240, 'dish': 2241, 'charlottesville': 2242, 'va': 2243, 'uva': 2244, 'embodies': 2245, 'inventiveness': 2246, 'personified': 2247, '1819': 2248, 'transunion': 2249, 'baker': 2250, 'bkr': 2251, 'skanska': 2252, 'foresight': 2253, 'rise': 2254, 'above': 2255, '89': 2256, 'sanmina': 2257, 'sanm': 2258, '30': 2259, 'weber': 2260, 'shandwick': 2261, 'coloplast': 2262, 'assurant': 2263, 'protects': 2264, 'principal': 2265, 'group®': 2266, 'cemex': 2267, 'producing': 2268, 'cement': 2269, 'aggregates': 2270, 'mix': 2271, 'dnv': 2272, '1912': 2273, 'paramount': 2274, 'filmmakers': 2275, 'primerica': 2276, 'barnes': 2277, 'noble': 2278, 'proudly': 2279, '600': 2280, 'bookstores': 2281, 'fifty': 2282, 'uci': 2283, 'orange': 2284, 'dla': 2285, 'piper': 2286, 'capable': 2287, 'aquent': 2288, 'nomura': 2289, 'spanning': 2290, 'aspentech': 2291, 'parexel': 2292, 'cros': 2293, 'ryder': 2294, 'automate': 2295, 'digitize': 2296, 'forests': 2297, 'beginning': 2298, 'scholastic': 2299, 'schl': 2300, '160': 2301, 'anheuser': 2302, 'busch': 2303, 'woven': 2304, 'cultural': 2305, 'fabric': 2306, 'umass': 2307, 'chan': 2308, '1869': 2309, 'magazines': 2310, 'houston': 2311, 'methodist': 2312, 'description': 2313, 'nous': 2314, 'infosystems': 2315, 'sites': 2316, 'football': 2317, 'popular': 2318, 'comprised': 2319, '32': 2320, 'super': 2321, 'bowl': 2322, 'champion': 2323, 'colts': 2324, 'stretches': 2325, '85': 2326, 'perkinelmer': 2327, 'pushed': 2328, 'vanderbilt': 2329, 'nashville': 2330, 'lundbeck': 2331, 'neuroscience': 2332, 'hannifin': 2333, 'control': 2334, 'invention': 2335, 'self': 2336, 'aligning': 2337, 'bearing': 2338, '1907': 2339, 'western': 2340, 'storage': 2341, 'southwest®': 2342, 'do—from': 2343, 'smiling': 2344, 'policies—is': 2345, 'overy': 2346, 'st': 2347, 'medium': 2348, 'sized': 2349, 'prevents': 2350, 'illness': 2351, 'injury': 2352, 'premature': 2353, 'death': 2354, 'assures': 2355, 'they’re': 2356, 'cnh': 2357, 'cnhi': 2358, 'congress': 2359, '90': 2360, 'endless': 2361, 'challengethenorm': 2362, 'birlasoft': 2363, 'combines': 2364, 'domain': 2365, 'face®': 2366, 'nautical': 2367, 'footwear': 2368, 'exelon': 2369, 'exc': 2370, 'utility': 2371, 'cvs': 2372, 'pharmaceutical': 2373, 'ralph': 2374, 'lauren': 2375, 'rl': 2376, 'spirent': 2377, 'automated': 2378, 'test': 2379, 'brothers': 2380, 'harriman': 2381, 'bbh': 2382, 'held': 2383, 'liberating': 2384, 'employed': 2385, 'wherein': 2386, 'ecl': 2387, 'northwest': 2388, 'frontiers': 2389, 'ul': 2390, 'mayo': 2391, 'expanded': 2392, 'changed': 2393, 'remain': 2394, 'dgx': 2395, 'premises': 2396, 'considering': 2397, 'social': 2398, 'protection': 2399, '64': 2400, '1848': 2401, 'lazard': 2402, 'blackrock': 2403, 'manager': 2404, 'deluxe': 2405, 'champions': 2406, 'freshfields': 2407, 'bruckhaus': 2408, 'deringer': 2409, 'track': 2410, 'ifc': 2411, 'apex': 2412, 'incorporates': 2413, 'nephew': 2414, 'hallmark': 2415, 'if': 2416, 'enough': 2417, 'atlas': 2418, 'copco': 2419, '34': 2420, 'faculty': 2421, 'carolina': 2422, 'db': 2423, 'schenker': 2424, 'seic': 2425, 'jti': 2426, 'japan': 2427, 'konica': 2428, 'minolta': 2429, 'reshaping': 2430, 'revolutionizing': 2431, 'commerce’s': 2432, 'conditions': 2433, 'f5': 2434, 'application': 2435, 'jabil': 2436, 'jbl': 2437, 'ef': 2438, 'you’ll': 2439, 'beautify': 2440, '®': 2441, 'skadden': 2442, 'arps': 2443, 'slate': 2444, 'meagher': 2445, 'flom': 2446, 'affiliates': 2447, 'educate': 2448, 'mba': 2449, 'program': 2450, 'unicef': 2451, 'toughest': 2452, 'pulte': 2453, 'mortgage': 2454, 'wholly': 2455, 'utah': 2456, 'intermountain': 2457, 'west’s': 2458, 'blue': 2459, 'shield': 2460, 'worthy': 2461, '1944': 2462, 'parsons': 2463, 'digitally': 2464, 'cars': 2465, 'suvs': 2466, 'motivating': 2467, 'kroger': 2468, 'metso': 2469, 'frontrunner': 2470, 'white': 2471, 'case': 2472, 'longstanding': 2473, 'internal': 2474, \"service's\": 2475, 'irs': 2476, 'otis': 2477, 'latham': 2478, 'watkins': 2479, 'lawyers': 2480, 'hasbro': 2481, 'toy': 2482, 'game': 2483, 'entertain': 2484, 'reebok': 2485, 'porter': 2486, 'novelli': 2487, 'eagle': 2488, 'outfitters': 2489, 'aeo': 2490, 'enduring': 2491, 'temple': 2492, 'lawrence': 2493, 'livermore': 2494, 'bay': 2495, 'area': 2496, 'french': 2497, 'luxury': 2498, 'maison': 2499, 'minded': 2500, 'cartier': 2501, 'timeless': 2502, 'secures': 2503, 'focuses': 2504, 'ur': 2505, 'nonsectarian': 2506, 'intensive': 2507, 'modernization': 2508, 'faa': 2509, 'frontier': 2510, 'usaid': 2511, 'extreme': 2512, 'cintas': 2513, 'cincinnati': 2514, 'kone': 2515, 'accelerating': 2516, 'alfa': 2517, 'laval': 2518, 'defeat': 2519, 'cyberattacks': 2520, 'sophos': 2521, 'ketchum': 2522, 'fueled': 2523, 'empathy': 2524, 'architects': 2525, 'intelsat': 2526, 'chep': 2527, 'wheeled': 2528, 'might': 2529, 'taken': 2530, 'granted': 2531, 'clean': 2532, 'widely': 2533, 'client': 2534, 'ticketmaster': 2535, 'gives': 2536, 'fans': 2537, 'fair': 2538, 'lrcx': 2539, 'acer': 2540, 'ict': 2541, 'look': 2542, 'did': 2543, 'baltimore': 2544, 'constellation': 2545, 'ceg': 2546, 'tjx': 2547, 'off': 2548, 'price': 2549, 'fashions': 2550, '1895': 2551, 'anritsu': 2552, 'virtusa': 2553, '2000': 2554, 'gaming': 2555, 'entertaining': 2556, 'vestcom': 2557, 'shelf': 2558, 'cpgs': 2559, 'jefferies': 2560, 'trimble': 2561, 'morningstar': 2562, 'metropolitan': 2563, 'newspaper': 2564, 'country': 2565, 'enhance': 2566, 'coromant': 2567, 'ascensus': 2568, 'efficient': 2569, 'comfort': 2570, 'k': 2571, 'teleperformance': 2572, 'scale': 2573, 'nalco': 2574, 'colliers': 2575, 'tsx': 2576, 'cigi': 2577, 'multicloud': 2578, 'rackspace': 2579, 'lhh': 2580, 'proofs': 2581, 'zs': 2582, 'ambitions': 2583, 'welcomed': 2584, 'changes': 2585, '221': 2586, 'dsv': 2587, 'chains': 2588, 'flowing': 2589, 'mcmaster': 2590, 'carr': 2591, 'sri': 2592, '1898': 2593, 'northeastern': 2594, 'alcon': 2595, 'brilliantly': 2596, 'rent': 2597, 'period': 2598, 'lpl': 2599, 'advice': 2600, 'luxoft': 2601, 'esri': 2602, 'geographic': 2603, 'gis': 2604, 'location': 2605, 'oc': 2606, 'insulation': 2607, 'fiberglass': 2608, 'composites': 2609, 'tenet': 2610, 'thc': 2611, 'mfs': 2612, 'alten': 2613, 'alamos': 2614, 'multidisciplinary': 2615, 'yourself': 2616, 'blizzard': 2617, 'establishing': 2618, 'sysco': 2619, 'distributing': 2620, '1982': 2621, 'small': 2622, 'entrepreneurs': 2623, 'softtek': 2624, 'enhances': 2625, 'gsa': 2626, 'g4s': 2627, 'facility': 2628, 'proactive': 2629, 'barbara': 2630, 'study': 2631, 'velux': 2632, 'sandia': 2633, 'laboratories': 2634, 'doe': 2635, 'lab': 2636, 'hanover': 2637, 'abercrombie': 2638, 'fitch': 2639, 'anf': 2640, 'missouri': 2641, 'mizzou': 2642, 'distinct': 2643, \"missouri's\": 2644, 'hess': 2645, 'mantech': 2646, 'ashland': 2647, 'ash': 2648, 'additives': 2649, 'pietro': 2650, 'giovanni': 2651, 'strive': 2652, 'while': 2653, 'constantly': 2654, 'evolving': 2655, 'mercatus': 2656, 'virginia’s': 2657, 'derivatives': 2658, 'cme': 2659, 'cmegroup': 2660, 'consilio': 2661, 'ediscovery': 2662, 'document': 2663, 'review': 2664, 'crowe': 2665, 'accounting': 2666, 'morrison': 2667, 'foerster': 2668, 'collective': 2669, 'fti': 2670, 'concurrent': 2671, 'ctc': 2672, 'seven': 2673, 'granting': 2674, 'smu': 2675, 'distinguished': 2676, 'kpit': 2677, 'premera': 2678, 'adm': 2679, 'nature': 2680, 'standard': 2681, '1979': 2682, 'plexus': 2683, 'partnering': 2684, 'rate': 2685, 'lotus': 2686, 'solid': 2687, 'rich': 2688, \"nintendo's\": 2689, 'faces': 2690, 'touch': 2691, 'branding': 2692, 'usana': 2693, 'researches': 2694, 'mercury': 2695, 'edu': 2696, 'accredited': 2697, 'greenberg': 2698, 'traurig': 2699, '2750': 2700, '47': 2701, 'cirrus': 2702, 'mixed': 2703, 'signal': 2704, 'coach': 2705, '1941': 2706, 'workshop': 2707, 'manhattan': 2708, 'loft': 2709, 'herbalife': 2710, 'wellness': 2711, 'mcclatchy': 2712, 'varian': 2713, 'healthineers': 2714, 'without': 2715, 'fear': 2716, 'memorial': 2717, 'sloan': 2718, 'kettering': 2719, 'msk': 2720, 'huntsman': 2721, 'multispecialty': 2722, '6': 2723, 'energize': 2724, 'homes': 2725, 'lyondellbasell': 2726, 'lyb': 2727, 'creators': 2728, 'status': 2729, 'quo': 2730, 'busters': 2731, 'cooper': 2732, 'invent': 2733, 'affiliate': 2734, 'netia': 2735, 'enhanced': 2736, \"labor's\": 2737, 'designers': 2738, 'santander': 2739, 'prosper': 2740, 'sasol': 2741, 'harness': 2742, '1864': 2743, 'few': 2744, 'denver': 2745, 'ball': 2746, 'hubs': 2747, 'icf': 2748, '9': 2749, 'kohl’s': 2750, 'stores': 2751, '49': 2752, 'cps': 2753, 'placed': 2754, 'desired': 2755, 'huron': 2756, 'collaborates': 2757, 'truck': 2758, 'leasing': 2759, 'reading': 2760, 'line': 2761, 'cooling': 2762, 'tower': 2763, 'cooled': 2764, 'heat': 2765, 'exchanger': 2766, 'viasat': 2767, 'turner': 2768, 'hispanic': 2769, 'univision': 2770, 'entertains': 2771, 'men': 2772, 'women': 2773, 'vuitton': 2774, 'consume': 2775, 'foods': 2776, 'beverages': 2777, 'containing': 2778, 'radio': 2779, 'communication': 2780, 'gensler': 2781, '53': 2782, 'each': 2783, 'imagine': 2784, 'rti': 2785, 'tommy': 2786, 'hilfiger': 2787, 'designer': 2788, 'lifestyle': 2789, 'corners': 2790, 'understanding': 2791, 'before': 2792, 'becomes': 2793, 'fairfax': 2794, 'fcps': 2795, 'northern': 2796, '11th': 2797, 'dublin': 2798, 'ireland': 2799, '1990': 2800, 'orrick': 2801, 'herrington': 2802, 'sutcliffe': 2803, 'arcadis': 2804, 'manville': 2805, 'electricity': 2806, 'highway': 2807, 'fhwa': 2808, 'occupy': 2809, 'meet': 2810, 'iff': 2811, 'se': 2812, 'formed': 2813, '1999': 2814, \"institution's\": 2815, 'board': 2816, 'mks': 2817, 'instruments': 2818, 'hire': 2819, 'managed': 2820, 'telecommunications': 2821, 'telecom': 2822, 'tds®': 2823, 'internet': 2824, 'phone': 2825, 'cubic': 2826, 'people’s': 2827, 'grid': 2828, 'lies': 2829, 'o’melveny': 2830, '1936': 2831, 'flowserve': 2832, 'valves': 2833, 'seals': 2834, 'india': 2835, 'listed': 2836, 'autoliv': 2837, 'birthplace': 2838, 'armstrong': 2839, 'awi': 2840, 'chr': 2841, 'hansen': 2842, 'combined': 2843, 'novozymes': 2844, 'biosolutions': 2845, 'fm': 2846, 'insurers': 2847, 'fresenius': 2848, 'fmcna': 2849, 'union': 2850, 'w': 2851, 'gore': 2852, 'cooley': 2853, 'transformative': 2854, 'deals': 2855, 'matters': 2856, 'michaels': 2857, 'joy': 2858, 'yoh': 2859, 'precisely': 2860, 'navigate': 2861, 'fulfill': 2862, 'mayer': 2863, 'represent': 2864, 'chh': 2865, 'rensselaer': 2866, 'polytechnic': 2867, '1824': 2868, 'aligns': 2869, '120': 2870, 'cbiz': 2871, 'lands’': 2872, 'le': 2873, 'clothing': 2874, 'appleone': 2875, 'wales': 2876, 'unsw': 2877, \"australia's\": 2878, 'nyu': 2879, 'langone': 2880, 'atlanticus’': 2881, 'allows': 2882, '1998': 2883, 'oracle': 2884, 'netsuite': 2885, 'agilysys': 2886, 'seeking': 2887, 'clara': 2888, 'icahn': 2889, 'mount': 2890, 'sinai': 2891, 'match': 2892, 'concept': 2893, 'dating': 2894, 'launched': 2895, '1995': 2896, 'eleven': 2897, 'convenience': 2898, 'return': 2899, 'zions': 2900, 'bancorporation': 2901, 'schindler': 2902, 'related': 2903, 'elevator': 2904, 'escalator': 2905, 'brunswick': 2906, 'marine': 2907, 'recreation': 2908, 'eplus': 2909, 'results': 2910, 'brady': 2911, 'marketer': 2912, 'fujifilm': 2913, 'holdings': 2914, 'headquarters': 2915, 'americas': 2916, 'fresche': 2917, 'ams': 2918, 'thrivent': 2919, 'matters—and': 2920, 'producers': 2921, 'baylor': 2922, 'scott': 2923, 'wertheim': 2924, 'scripps': 2925, 'csx': 2926, 'crain': 2927, 'instruction': 2928, 'outreach': 2929, '1890': 2930, 'infogain': 2931, 'forging': 2932, 'marketplaces': 2933, 'quinstreet': 2934, 'decentralized': 2935, '125': 2936, 'landis': 2937, 'gyr': 2938, 'kleen': 2939, 'environmental': 2940, 'paul': 2941, 'hastings': 2942, 'reed': 2943, 'apply': 2944, '𝐡𝐮𝐦𝐚𝐧™': 2945, 'marcus': 2946, 'millichap': 2947, '1971': 2948, 'student': 2949, 'standards': 2950, 'nist': 2951, 'newyork': 2952, 'presbyterian': 2953, 'requires': 2954, 'dräger': 2955, 'fulfilling': 2956, 'russell': 2957, 'investments': 2958, 'outsourced': 2959, 'cio': 2960, 'ocio': 2961, 'msci': 2962, 'decision': 2963, 'axis': 2964, 'deeper': 2965, 'cookie': 2966, 'cutter': 2967, 'sector': 2968, 'oregon': 2969, 'altria': 2970, 'age': 2971, 'stamford': 2972, 'connecticut': 2973, 'tungstenautomation': 2974, 'tungsten': 2975, 'zimmer': 2976, 'biomet': 2977, 'pure': 2978, 'erm': 2979, 'fortinet': 2980, 'trinity': 2981, '1870': 2982, 'jesuit': 2983, 'microchip': 2984, 'greyhound': 2985, 'length': 2986, 'davita': 2987, '“to': 2988, '”': 2989, 'reflecting': 2990, 'dialysis—an': 2991, 'tetra': 2992, '35': 2993, '24': 2994, 'hour': 2995, 'ut': 2996, 'southwestern': 2997, 'regarded': 2998, 'arc': 2999, 'accelerates': 3000, 'globe': 3001, \"england's\": 3002, 'newsgathering': 3003, 'ansys': 3004, 'connexity': 3005, 'taboola': 3006, 'gallagher': 3007, 'brokerage': 3008, 'softserve': 3009, 'expand': 3010, 'sappi': 3011, 'woodfibre': 3012, 'umb': 3013, '95': 3014, 'shure': 3015, 'florence': 3016, 'italy': 3017, '1921': 3018, 'gucci': 3019, '1827': 3020, 'norfolk': 3021, 'nsc': 3022, 'predecessor': 3023, 'safely': 3024, 'three': 3025, 'row': 3026, 'work®': 3027, 'named': 3028, 'dunnhumby': 3029, '1975': 3030, 'contractor': 3031, 'hok': 3032, 'studios': 3033, 'gibson': 3034, 'dunn': 3035, 'advising': 3036, 'marathon': 3037, 'mro': 3038, 'natural': 3039, 'pro': 3040, 'acquisition': 3041, 'eisai': 3042, 'hhc': 3043, 'worley': 3044, 'hollister': 3045, 'join': 3046, 'tight': 3047, 'publishing': 3048, 'invited': 3049, 'reflection': 3050, 'inclusivity': 3051, 'welcoming': 3052, 'collection': 3053, 'cas': 3054, 'spells': 3055, 'cleaner': 3056, 'msnbc': 3057, 'defines': 3058, 'classics': 3059, 'character': 3060, 'philadelphia': 3061, 'housing': 3062, 'pha': 3063, 'landlord': 3064, 'isd': 3065, '10': 3066, 'incyte': 3067, 'serious': 3068, 'unmet': 3069, '350': 3070, 'b': 3071, 'braun': 3072, 'infusion': 3073, 'therapy': 3074, 'pain': 3075, 'multiplan': 3076, 'payors': 3077, 'cost': 3078, 'sirva': 3079, 'prestigious': 3080, 'association': 3081, 'tulane': 3082, 'sephora': 3083, 'empowerment': 3084, 'glazer’s': 3085, 'pre': 3086, 'eminent': 3087, 'alcohol': 3088, 'bitdefender': 3089, 'threat': 3090, 'prevention': 3091, 'detection': 3092, 'response': 3093, 'milliken': 3094, 'senators': 3095, 'officials': 3096, 'licensee': 3097, 'epic': 3098, 'concerts': 3099, 'festivals': 3100, 'stopping': 3101, 'sporting': 3102, 'aeg': 3103, 'devon': 3104, 'dice’s': 3105, 'recruiters': 3106, 'simpson': 3107, 'thacher': 3108, 'bartlett': 3109, 'vacations': 3110, 'vertex': 3111, 'invests': 3112, 'healthy': 3113, 'hennepin': 3114, 'blend': 3115, '45': 3116, 'ars®': 3117, 'rescue': 3118, 'rooter®': 3119, 'residential': 3120, 'dental': 3121, 'counting': 3122, 'institutes': 3123, 'evidence': 3124, 'bjc': 3125, 'florida': 3126, 'dtcc': 3127, 'post': 3128, 'trade': 3129}\n"
          ]
        }
      ],
      "source": [
        "# El índice para cada palabra\n",
        "# El sistema las ordena de las más populares a las menos populares\n",
        "print(tok.word_index)"
      ]
    },
    {
      "cell_type": "code",
      "execution_count": 43,
      "metadata": {
        "id": "nUDkjy80c77h",
        "colab": {
          "base_uri": "https://localhost:8080/"
        },
        "outputId": "f326547d-cb29-4168-c877-bfadc0a3b6f0"
      },
      "outputs": [
        {
          "output_type": "stream",
          "name": "stdout",
          "text": [
            "defaultdict(<class 'int'>, {'we': 201, 'as': 72, 'more': 76, 'ibm': 1, 'do': 15, 'work': 22, 'technologists': 2, 'create': 24, 'at': 117, 'than': 58, 'devices': 3, 'every': 16, 'people': 64, 'day': 10, 'intelligent': 4, 'impact': 4, 'millions': 9, 'feel': 3, 'advanced': 10, 'our': 117, 'of': 329, 'the': 460, 'official': 8, 'hewlett': 1, 'global': 181, 'passion': 4, 'enterprise': 8, 'sharing': 1, 'linkedin': 12, 'to': 235, 'company': 137, 'cloud': 9, 'packard': 2, 'edge': 6, 'with': 111, 'world': 63, 'computing': 2, 'around': 10, 'provides': 12, 'that': 114, 'we’re': 25, 'a': 438, 'technology': 77, 'organizations': 16, 'world’s': 49, 'professional': 11, 'is': 511, 'accenture': 1, 'helps': 20, 'services': 77, 'leading': 135, 'ours': 1, \"what's\": 1, 'empower': 5, 'person': 1, 'and': 418, 'mission': 27, 'has': 55, 'become': 2, 'drives': 4, 'help': 21, 'wherever': 1, 'deloitte': 1, 'leaders': 8, 'clients': 15, 'progress': 8, 'firms': 6, 'berlin': 1, 'on': 55, 'munich': 1, 'ag': 1, 'focused': 20, 'industry': 26, 'siemens': 2, 'in': 266, 'pwc': 1, 'purpose': 21, 'important': 3, 'solve': 3, 'society': 3, 'trust': 7, 'build': 12, 'less': 2, 'using': 2, 'understand': 1, 'want': 4, 'an': 64, 'complicated': 1, 'life': 20, 'customers': 21, 'easier': 3, 'shape': 5, 'future': 17, 'intel’s': 1, 'vision': 8, 'unimaginable': 1, 'make': 19, 'connections': 4, 'possible': 4, 'cisco': 1, 'education': 7, 'business': 39, 'powerful': 4, 'nasdaq': 22, 'philanthropy': 1, 'enables': 8, 'whether': 2, 'csco': 1, 'innovative': 18, 'part': 12, 'lenovo': 2, 'creating': 10, 'smartphones': 1, 'mobility': 9, 'motorola': 1, 'family': 5, '1799': 1, 'roots': 3, 'new': 14, 'york': 3, 'its': 20, 'city': 4, 'history': 6, 'tracing': 1, 'jpmorgan': 1, 'act': 2, 'together': 12, 'nokia': 1, 'working': 6, 'for': 133, 'long': 4, 'value': 5, 'better': 16, 'helping': 19, 'exists': 1, 'ey': 1, 'term': 1, 'fastest': 2, 'kpmg': 1, 'one': 74, 'n': 2, 'semiconductors': 2, 'smarter': 3, 'v': 2, 'sustainable': 10, 'safer': 5, 'nxpi': 1, 'nxp': 1, 'decade': 1, 'health': 51, 'into': 4, 'over': 20, 'leader': 85, 'past': 3, 'transformed': 2, 'have': 18, 'ideas': 3, 'your': 9, 'share': 2, 'place': 10, 'career': 5, 'you': 23, 'out': 5, 'sap': 1, 'improve': 9, 'run': 4, 'g': 2, 'was': 16, '185': 1, 'years': 37, 'soap': 1, 'founded': 42, 'candle': 1, 'p': 2, 'ago': 4, 'largest': 45, 'individuals': 5, \"world's\": 18, 'bank': 14, 'institutions': 2, 'financial': 39, 'serving': 9, 'america': 13, 'elite': 1, 'independent': 16, 'profitability': 2, 'drive': 3, 'law': 14, 'group': 36, 'bt': 1, 'communications': 14, 'companies': 26, 'daring': 1, 'done': 2, 'innovation—and': 1, '175': 2, 'not': 7, 'scientific': 7, 'celebrating': 3, 'yet': 1, 'healthcare': 18, 'believe': 13, 'everything': 9, 'johnson': 2, 'from': 17, 'acquiring': 1, 'knowledge': 7, 'experiences': 5, 'fresh': 1, 'gaining': 1, 'roles': 2, 'skills': 2, 'different': 4, 'engineers': 5, 'public': 16, 'peace': 3, 'army': 1, 'engineering': 19, 'corps': 2, 'provide': 11, 'u': 24, 's': 24, 'vital': 1, 'wells': 1, 'community': 10, 'based': 19, 'fargo': 1, 'nyse': 54, 'diversified': 8, 'wfc': 1, 'successful': 1, 'most': 20, 'led': 5, 'be': 10, 'brands': 10, 'simple': 4, 'through': 20, 'emotion': 1, 'aim': 1, 'sony’s': 1, 'fill': 1, 'are': 71, 'sony': 3, 'those': 3, 'created': 4, 'special': 3, 'challenge': 1, 'innovation': 16, 'spirit': 3, 'subsidiary': 3, 'entertainment': 7, 'spe': 1, 'tokyo': 1, \"spe's\": 1, 'corporation': 27, 'pictures': 2, 'discusses': 1, 'foundations': 2, 'tech': 8, 'this': 7, 'activities': 1, 'mainly': 1, 'account': 5, 'exclusively': 2, 'but': 5, 'german': 1, 'european': 2, 'deutsche': 1, 'strong': 3, '896bn': 1, 'management': 21, 'eur': 1, 'assets': 2, 'under': 3, '31': 1, 'dws': 1, 'chubb': 1, 'insurance': 15, '54': 1, 'countries': 3, 'operations': 1, '87': 1, '000': 20, 'shell': 1, 'employees': 14, 'energy': 22, 'express': 1, 'american': 15, 'backing': 1, 'know': 3, 'businesses': 21, 'right': 1, 'powers': 4, 'breakthroughs': 1, 'solutions': 83, 'consulting': 16, 'digital': 23, 'enable': 7, 'next': 4, 'infosys': 1, 'generation': 3, 'yahoo': 1, 'guide': 2, 'serves': 3, 'trusted': 13, 'hundreds': 1, 'globally': 1, 'exhilarating': 1, 'cutting': 2, 'park': 1, 'features': 2, 'classic': 1, 'theme': 1, 'animated': 1, 'attractions': 1, 'sports': 3, 'deliver': 13, 'fidelity’s': 1, 'being': 4, 'strengthen': 1, 'well': 2, '507685': 1, 'nse': 2, 'limited': 3, 'wipro': 2, 'bse': 2, 'wit': 1, '2003': 1, 'them': 1, 'productive': 2, 'connects': 5, 'professionals': 4, 'discovery': 4, 'what': 15, 'lead': 4, 'warfighting': 1, 'delivery': 1, 'technologies': 17, 'development': 6, 'invents': 1, 'honeywell': 1, 'address': 1, 'manufactures': 6, '500': 7, 'fortune': 10, 'consultancy': 6, 'organization': 14, 'tata': 2, 'it': 23, 'bring': 4, 'expertise': 7, 'nsa': 1, 'whatever': 1, 'there': 1, 'their': 21, 'reasons': 1, 'top': 8, 'why': 4, '5': 1, 'choose': 1, 'ncs': 1, 'mckinsey': 1, 'firm': 26, 'redefined': 1, 'continually': 1, 'experience': 6, 'workplace': 2, '100': 8, 'harnessing': 1, 'xerox': 1, 'provider': 42, 'network': 6, 'transformation': 5, 'fujitsu': 1, 'inc': 44, 'everyone’s': 1, 'goldman': 1, 'that’s': 5, 'commit': 1, 'sachs': 1, 'airplanes': 1, 'commercial': 9, 'aerospace': 3, 'wants': 1, 'needs': 3, 'balanced': 1, 't': 2, 'carrier': 2, '4g': 1, 'tmus': 1, 'un': 1, 'delivering': 11, 'us': 6, 'mobile': 2, 'america’s': 8, 'supercharged': 1, 'by': 40, 'food': 13, 'driven': 11, 'beverage': 5, 'disease': 1, 'get': 3, 'science': 18, 'talent': 12, 'uniting': 2, 'ahead': 1, 'thomson': 1, 'information': 23, 'reuters': 1, 'news': 8, 'tools': 4, 'allen': 2, 'missions': 1, 'transform': 8, 'power': 13, 'tomorrow’s': 1, 'hamilton': 1, 'booz': 1, 'novartis': 1, 'reimagine': 2, 'medicine': 11, 'medicines': 1, 'keep': 4, 'close': 2, 'big': 2, 'thinkers': 2, 'knit': 2, 'collaborating': 1, 'insights': 5, 'cgi': 1, 'among': 7, '1976': 2, 'can': 7, 'banking': 4, 'good': 3, 'changing': 5, 'capital': 5, 'were': 1, 'british': 1, 'barclays': 1, 'universal': 3, 'doers': 1, 'playground': 1, 'pepsico': 1, 'curious': 2, 'invite': 1, 'changemakers': 1, \"it's\": 6, 'truly': 2, 'problem': 2, 'solved': 1, 'all': 13, 'until': 1, 'products': 20, 'googlers': 1, \"isn't\": 1, 'first': 10, 'play': 2, 'put': 7, 'exist': 3, 'inspire': 2, 'open': 4, 'source': 4, 'reliable': 2, 'suse': 1, 'secure': 2, 'exceptional': 2, 'premium': 4, 'ways': 5, 'designing': 3, 'retail': 6, 'software': 15, 'cdk': 1, 'when': 8, 'thrive': 3, 'teradata': 1, 'empowered': 1, 'access': 5, 'benefit': 1, 'unlocks': 3, 'emissions': 2, 'motors’': 1, 'general': 7, 'crashes': 1, 'zero': 1, 'ally': 1, 'media': 13, 'adobe': 1, 'marketing': 10, 'pathways': 1, 'connect': 5, 'buyers': 1, 'sellers': 1, 'ebay': 1, 'easy': 3, 'fast': 3, 'championing': 1, 'possibilities': 3, \"we're\": 16, 'money': 4, 'making': 3, 'enjoyable': 1, 'just': 4, 'ford': 1, \"don't\": 1, 'known': 6, 'merck': 1, 'canada': 2, 'states': 9, 'msd': 1, 'united': 8, 'outside': 1, 'faster': 2, 'analytics': 4, 'ai': 5, 'avaya': 1, 'take': 4, 'freedom': 2, 'give': 3, 'transforming': 5, 'about': 14, 'care': 23, 'lives': 12, 'amd': 1, 'deeply': 2, 'enrich': 4, 'laboratory': 4, 'funded': 1, 'chartered': 2, 'research': 39, 'center': 18, 'mit': 1, 'federally': 1, 'lincoln': 3, 'creates': 3, 'defense': 2, 'raytheon': 1, 'rtx': 2, 'bnp': 1, 'international': 23, 'reach': 4, 'paribas': 1, 'europe': 1, 'mondelēz': 1, 'mdlz': 1, 'multinational': 3, 'confectionery': 1, 'kodak': 1, 'print': 2, 'materials': 9, 'manufacturer': 5, \"carestream's\": 1, 'worldwide': 13, 'difference': 3, 'imaging': 2, 'carestream': 1, '200': 3, 'territories': 1, 'moving': 1, 'operating': 8, 'committed': 16, 'ensure': 1, 'air': 8, 'treat': 2, 'cancer': 4, 'finding': 3, 'water': 2, 'agilent': 1, 'rewards': 1, 'specialty': 4, 'home': 8, 'retailer': 7, 'improvement': 2, 'depot': 2, 'values': 2, 'amazing': 2, 'who': 7, 'unified': 2, '140': 1, 'toward': 3, 'force': 3, 'taking': 3, 'action': 3, 'associates': 4, 'relentless': 1, 'pursuit': 1, 'excellence': 8, 'nearly': 6, '80': 4, 'rather': 1, 'amazon': 1, 'principles': 2, 'four': 1, 'customer': 10, 'obsession': 1, 'focus': 4, 'guided': 3, 'competitor': 1, 'reinvent': 2, 'modular': 2, 'bmc': 1, 'scalable': 2, 'diagnostics': 2, 'pharmaceuticals': 2, 'advancing': 5, 'roche': 1, 'pioneer': 6, 'unlocking': 2, 'abbott': 1, 'fully': 2, 'live': 6, 'premier': 18, 'integrator': 2, '500®': 1, 'saic®': 1, 'quality': 11, 'compassionate': 2, 'hospitals': 2, '40': 2, 'minor': 1, 'owens': 2, 'omi': 1, 'hospital': 6, 'lucile': 1, 'stanford': 3, \"children's\": 3, 'children’s': 1, 'boston': 7, 'medical': 23, 'transforms': 4, 'miracles': 1, 'sanofi': 1, 'chase': 1, 'diverse': 10, 'school': 7, 'nurture': 1, 'harvard': 3, 'university': 49, 'devoted': 1, 'teaching': 4, 'learning': 1, 'preeminent': 3, 'legal': 4, 'centers': 1, 'children': 1, 'farber': 1, 'institute': 8, 'providing': 12, 'expert': 4, 'dana': 1, '404': 1, 'pediatric': 1, 'comprehensive': 5, 'bed': 1, 'beth': 1, 'deaconess': 1, 'israel': 1, 'bidmc': 1, 'lahey': 1, 'beauty': 1, 'pioneering': 5, 'stayed': 1, 'true': 2, 'century': 5, 'core': 4, 'set': 2, 'overcome': 1, 'platform': 3, 'communities': 6, 'intuit': 1, 'fedex': 3, 'ground': 2, 'proud': 4, 'extremely': 1, 'inclusive': 2, 'workforce': 6, 'coordinate': 1, 'members': 2, 'team': 3, 'sales': 1, 'iconic': 2, 'been': 29, 'since': 15, 'culture': 5, 'ogilvy': 1, 'driving': 3, 'bridge': 2, 'democratizes': 1, 'see': 3, 'gaps': 1, 'navy': 1, 'old': 1, 'jobs': 1, 'bananarepublic': 1, 'explore': 2, 'com': 8, 'republic': 1, 'banana': 1, 'apparel': 4, 'opportunities': 2, 'modern': 4, 'ctsh': 1, 'modernize': 1, 'cognizant': 1, 'specialized': 2, 'robert': 1, 'half': 3, 'need': 2, 'exxonmobil': 1, \"that's\": 1, 'scientists': 1, 'generale': 1, 'groups': 1, 'societe': 1, 'sold': 1, 'coca‑cola': 1, 'total': 2, 'delivers': 13, 'broadband': 1, 'delight': 1, 'video': 1, 'comcast': 1, 'shapes': 1, 'audience': 1, 'content': 3, 'nielsen': 1, 'hcltech': 2, '224': 1, 'across': 14, 'aig': 1, 'service': 12, 'impartial': 1, 'bbc': 1, 'broadcaster': 1, 'institutional': 2, 'investors': 3, 'state': 19, 'street': 2, 'partner': 15, 'myers': 1, 'bristol': 1, 'patients’': 1, 'squibb': 1, 'tackle': 1, 'partners': 5, 'started': 5, 'single': 2, 'improves': 1, 'diversity': 2, 'collaborative': 1, 'discoveries': 1, 'leadership': 3, 'located': 11, 'san': 6, 'creativity': 3, 'manpowergroup®': 1, 'man': 1, 'royal': 1, 'institution': 4, 'offering': 4, 'ever': 2, 'thought': 1, '75': 1, 'film': 1, 'which': 4, 'class': 8, 'distribute': 1, 'portfolio': 9, 'television': 1, 'welcome': 12, 'updates': 2, 'follow': 2, 'regular': 1, \"cnbc's\": 1, 'mind': 1, 'allstate': 1, 'advocates': 2, 'problems': 2, '—': 10, 'attacking': 1, 'challenging': 2, 'boldly': 3, 'should': 2, 'belief': 1, 'security': 12, 'prudential': 1, 'pru': 1, '–': 6, 'kind': 2, 'investment': 14, 'schwab': 1, 'charles': 1, '3m': 1, 'virtually': 3, 'touches': 1, 'capco': 2, 'division': 3, 'colleagues': 2, 'grow': 3, 'how': 5, 'spans': 1, 'designed': 4, 'made': 6, 'autodesk': 1, 'remarkable': 1, 'systems': 17, 'bae': 1, 'empowering': 3, 'improving': 9, 'meaningful': 3, 'number': 1, 'brand': 8, 'nickelodeon': 1, 'kids': 1, 'built': 8, 'bayer': 1, 'fields': 4, 'competencies': 1, 'mckesson': 1, 'page': 4, 'gdit': 1, 'land': 4, 'dynamics': 2, 'dna': 1, 'unit': 2, 'develop': 4, 'morris': 1, 'pmi': 1, 'tobacco': 3, 'philip': 1, 'ipg': 2, 'worldgroup': 1, 'interpublic': 1, 'irrefutable': 1, 'mccann': 1, 'agency': 12, 'foundation': 3, 'strategy': 4, 'mrm': 1, 'data': 13, 'futureproof': 1, 'um': 1, 'ptc': 1, 'award': 3, 'market': 6, 'unleashes': 1, 'proven': 1, 'winning': 3, 'industrial': 5, 'five': 3, '77': 1, 'thales': 1, 'makes': 6, 'capgemini': 1, 'sogeti': 1, 'full': 9, 'rabobank': 1, 'range': 4, 'operates': 4, 'cooperative': 1, 'coöperatieve': 1, 'networks': 3, 'focusing': 1, 'building': 8, 'mavenir': 1, 'barriers': 3, 'achieve': 7, '60': 3, 'nasa': 1, 'breaking': 2, 'everywhere': 2, 'used': 4, 'produce': 1, 'applied': 5, 'many': 3, 'friends': 1, 'send': 1, 'way': 7, 'shared': 2, 'nike': 1, 'commitment': 5, 'move': 4, 'energized': 2, 'national': 10, 'spectrum': 1, 'charter': 1, 'nation’s': 13, 'brokerages': 1, 'realty': 1, 'real': 8, 'banker': 1, 'estate': 5, 'coldwell': 1, 'protect': 5, 'decisions': 2, 'cnn': 1, 'dozen': 1, 'two': 2, 'manufacturing': 6, 'te': 1, 'connectivity': 2, 'patients': 5, 'suffering': 1, 'potential': 2, 'amgen': 1, 'biology': 1, 'insight': 3, 'objective': 1, 'teams': 1, 'executives': 1, 'guidance': 2, 'actionable': 1, 'buses': 3, 'volvo': 4, 'manufacturers': 5, 'trucks': 2, 'penta': 1, 'supplier': 3, 'complete': 3, 'engines': 1, 'bus': 1, 'mack': 1, 'design': 11, 'support': 4, 'construction': 5, 'equipment': 4, 'ce': 1, 'netapp': 1, 'brings': 4, 'infrastructure': 4, 'vehicles': 1, 'some': 6, 'toyota': 1, 'highest': 3, 'ambitious': 1, 'bain': 1, 'budget': 1, 'avis': 1, 'both': 2, 'transportation': 9, 'best': 8, 'buy': 1, 'add': 1, 'lifetime': 1, 'pearson': 1, 'crucial': 1, 'challenges': 4, 'time': 4, 'teksystems': 1, 'solving': 2, 'accelerate': 3, 'complex': 4, 'pride': 2, 'beware': 1, 'careers': 3, 'html': 1, 'faqs': 1, 'job': 4, 'read': 1, 'dupont': 1, 'www': 6, 'please': 1, 'hiring': 1, 'seekers': 1, 'scams': 1, 'recruitment': 3, 'https': 2, 'pivotal': 1, 'electronic': 1, 'upon': 2, 'cadence': 1, 'distributor': 3, 'cardinal': 1, 'transport': 2, 'agencies': 1, 'visa': 1, 'payments': 3, 'facilitating': 1, 'transactions': 3, 'between': 3, 'ingenuity': 1, 'collaboration': 1, 'resource': 1, 'greatest': 1, 'met': 1, 'integrated': 8, 'canon': 2, 'bosch': 1, 'safety': 7, 'lexisnexis': 1, 'regulatory': 3, 'change': 4, 'unprecedented': 2, 'regulations': 1, 'economies': 1, 'collaborate': 1, 'engineer': 1, 'asset': 3, 'maximize': 1, 'governments': 3, 'count': 1, 'keller': 1, 'agent': 1, 'texas': 7, 'williams': 2, 'franchise': 2, 'austin': 3, 'novo': 1, '1923': 1, 'nordisk': 1, 'headquartered': 10, 'hbi': 1, 'loved': 3, 'everyday': 4, 'consumers': 3, 'hanesbrands': 1, 'local': 4, 'multi': 6, 'danone': 1, 'juniper': 1, 'revolution': 1, 'networking': 1, 'learn': 1, 'controls': 1, 'environments': 3, 'where': 8, 'jci': 1, 'co': 3, 'vs': 1, 'pink': 1, 'secret': 1, 'victoria’s': 1, 'fragrance': 1, 'brighter': 2, 'happier': 1, 'staffing': 2, 'spherion—a': 1, 'recruiting': 2, 'say': 1, 'like': 5, 'starbucks': 1, 'coffee': 1, 'airline': 2, 'lines': 1, 'delta': 2, 'dal': 1, 'passionate': 1, 'facing': 2, 'genentech': 1, 'choice': 3, 'base': 1, 'journalism': 1, 'wall': 1, '37': 2, 'pulitzer': 1, 'journal': 1, 'outstanding': 2, 'includes': 2, 'prizes': 1, 'winner': 1, 'dow': 1, 'jones': 3, \"macy's\": 1, 'store': 1, 'enterprises': 2, 'longer': 4, 'any': 2, 'other': 3, 'find': 2, 'we’ve': 6, 'they': 3, 'maryland': 2, 'bethesda': 1, 'usa': 2, 'encompasses': 2, 'marriott': 2, 'sees': 1, 'cbre': 1, 'dimension': 1, 'so': 6, 'randstad': 1, 'electric': 2, 'promotes': 1, 'schneider': 1, 'sustainability': 4, 'ohio': 7, 'columbus': 1, 'nationwide': 1, 'saving': 2, 'delivered': 2, 'leads': 3, 'story': 2, 'farm®': 1, 'manage': 4, 'risks': 1, 'decisioning': 1, 'bradstreet': 1, 'dun': 1, 'futures': 1, 'mercer': 1, '25': 2, 'propulsion': 2, 'whitney': 1, 'pratt': 1, 'conditioning': 1, 'inventor': 1, 'forget': 1, 'think': 4, 'go': 1, 'beyond': 3, 'what’s': 3, 'carbon': 1, 'low': 3, 'developing': 1, 'commits': 1, 'alstom': 1, 'contribute': 1, 'promoting': 1, 'here': 4, 'mutual': 3, 'important—helping': 1, 'families': 3, 'northwestern': 2, 'hospitality': 3, '22': 1, 'hilton': 1, 'offices': 5, 'oliver': 1, 'wyman': 1, 'catalyzing': 1, 'pervasive': 1, 'silicon': 3, 'era': 1, 'intelligence': 6, 'synopsys': 1, 'providers': 2, 'zurich': 1, 'north': 13, 'digitas': 1, 'networked': 1, 'human': 14, 'heart': 6, 'achievement': 2, 'provided': 2, 'ucla': 2, 'child': 1, 'chla': 1, 'deserves': 1, 'enjoy': 1, 'offers': 6, 'especially': 1, 'combination': 1, 'breadth': 2, 'rare': 1, 'universities': 9, 'kluwer': 1, 'wolters': 1, 'wkl': 1, 'euronext': 1, 'benefits': 1, 'bloomberg': 1, 'drinks': 1, \"diageo's\": 1, 'spirits': 3, 'automation': 3, 'imaginations': 1, 'rockwell': 1, 'ann': 1, 'michigan': 2, 'arbor': 1, 'serve': 6, 'goals': 2, 'during': 1, \"life's\": 1, 'experian': 1, 'moments': 2, 'listeners': 1, 'quarter': 1, 'billion': 4, 'monthly': 1, 'forefront': 4, 'outdoor': 1, 'clear': 4, 'channel': 2, '111': 1, 'growth': 6, 'high': 8, 'realize': 2, 'micro': 1, 'ingram': 1, 'technology™': 2, 'promise': 2, 'arm': 1, 'agricole': 1, 'crédit': 1, 'corporate': 3, 'cib': 1, '1861': 1, 'supported': 2, 'washington': 3, 'oldest': 2, \"brand's\": 1, 'hearing': 1, '\\u200b': 1, 'satisfied': 1, 'no': 5, 'simply': 2, 'message': 1, 'now': 5, 'eaton': 1, 'dedicated': 18, 'processing': 2, 'distribution': 1, 'packaging': 5, 'specialists': 1, 'industries': 5, 'panasonic': 3, 'airlines': 2, 'strengthened': 1, 'avionics': 1, 'connection': 3, 'educational': 2, 'columbia': 2, 'irving': 1, 'cuimc': 1, 'clinical': 2, '250': 3, 'higher': 1, 'economic': 4, 'chemistry': 1, 'success': 4, 'combine': 1, 'basf': 1, 'adventure': 2, 'humanity': 1, 'embark': 1, 'pioneered': 2, 'remote': 1, 'believed': 1, 'able': 1, 'pop': 1, 'mom': 1, 'shop': 3, 'sixty': 1, 'sam': 1, 'walton': 1, '12': 2, '16': 1, \"chicago's\": 1, 'uic': 1, '33': 1, 'students': 3, 'illinois': 1, 'champaign': 1, 'tradition': 2, 'urbana': 1, 'commute': 1, 'highways': 2, 'roads': 1, 'california’s': 1, 'traveled': 1, 'supporting': 3, 'california': 8, 'demanding': 1, 'department': 12, 'adaptable': 1, 'retain': 1, 'skilled': 1, 'eight': 2, 'retirement': 3, 'calpers': 1, 'decades': 4, 'calling': 1, 'agents': 1, 'attorney': 2, 'rob': 1, 'bonta': 1, 'attorneys': 2, 'automakers': 1, 'players': 1, 'mcdonald’s': 1, 'locations': 4, 'foodservice': 1, 'cargill': 1, 'agricultural': 1, 'ingredients': 2, 'hancock': 1, 'john': 2, 'manulife': 1, 'today': 5, 'embrace': 1, 'confidently': 1, 'liberty': 1, 'pursue': 2, 'opentext': 1, 'govern': 1, 'capture': 1, 'securely': 1, 'electronics': 2, 'throughout': 3, 'kla': 1, 'develops': 7, 'aviation': 1, 'servicing': 2, 'bombardier': 1, 'rrd': 1, 'supply': 3, 'chain': 2, 'stands': 3, 'acxiom®': 1, 'ikea': 1, 'caring': 2, 'reimagining': 3, 'healthier': 2, 'colgate': 1, 'expe': 1, 'travel': 4, 'expedia': 1, 'emerson': 1, 'collectively': 1, 'td': 1, 'dominion': 1, 'toronto': 1, 'subsidiaries': 5, 'andersen': 1, 'marketed': 1, '115': 1, 'windows': 1, 'manufactured': 1, 'system': 12, 'federal': 6, 'reserve': 2, 'central': 1, 'congressionally': 1, 'fed': 1, 'servants': 1, 'francisco': 4, 'mandated': 1, 'banks': 1, 'sage': 1, 'down': 1, 'knock': 1, 'publicis': 1, 'ignore': 1, 'or': 3, 'either': 1, 'adapt': 1, 'loves': 1, 'cyber': 1, 'threats': 1, 'blackberry': 1, 'converge': 1, 'against': 1, 'defend': 1, 'mary': 1, 'then': 2, 'glass': 1, 'always': 5, 'original': 2, 'kay': 1, 'ceiling': 1, '1965': 1, 'away': 1, 'cruz': 1, 'movement': 2, 'uc': 6, 'santa': 3, '1908': 1, 'davis': 2, 'excellent': 1, 'australia’s': 1, 'including': 3, 'bdo': 1, 'measure': 1, 'visteon': 1, 'defined': 1, 'explosive': 1, 'activating': 1, 'protecting': 2, 'seagate': 1, 'storing': 1, 'agility': 1, 'process': 2, 'itt': 1, 'headwinds': 1, 'complexities': 1, 'brigham': 1, \"women's\": 1, \"boston's\": 1, 'bwh': 1, 'massachusetts': 2, 'profit': 4, 'non': 3, '4': 3, 'wellesley': 1, 'newton': 1, 'government': 6, 'schools': 6, 'branch': 1, 'municipal': 1, 'albertsons': 2, 'drug': 3, 'retailers': 2, '1860': 1, 'supermarkets': 1, 'longest': 1, 'continuously': 1, \"shaw's\": 1, 'owned': 5, 'grocer': 2, '130': 1, 'acme': 1, 'markets': 4, 'supermarket': 1, 'favorite': 1, 'neighborhood': 1, 'mart': 1, 'save': 2, 'regional': 2, 'smart': 2, 'teradyne': 1, 'such': 3, 'innovations': 1, 'essential': 2, 'spgi': 1, 'investing': 1, 'teacher': 1, 'trs': 1, 'funds': 1, 'responsible': 3, 'overview': 1, 'hhsc': 1, 'commission': 2, 'within': 3, 'charged': 1, 'twc': 1, 'overseeing': 1, 'elected': 2, 'office': 3, 'constitutional': 1, 'allianz': 1, 'life®': 1, 'keeping': 1, 'quickly': 1, 'lexmark': 1, 'enabled': 3, 'iot': 1, 'distributes': 2, 'saint': 2, 'gobain': 2, 'designs': 3, 'ig': 1, 'thing': 2, 'forever': 1, 'will': 5, 'forward': 2, '\\u200b\\u200b\\u200b\\u200bat': 1, 'csaa': 1, 'endure': 1, 'exterior': 1, 'certainteed®': 1, 'unifies': 1, 'broadcom': 1, 'vmware': 1, 'hybrid': 1, 'streamlines': 1, 'september': 1, 'administration': 4, 'tsa': 1, 'wake': 1, 'fema': 1, 'emergency': 1, 'homeland': 2, 'customs': 1, 'border': 1, 'music': 3, 'umg': 1, 'third': 1, 'rooted': 1, 'fifth': 1, 'mastercard': 1, 'staples': 1, '‘think': 1, 'means': 3, 'algorithm’': 1, 'researchers': 1, 'elsevier': 1, 'idea': 1, 'entities': 1, 'encompassing': 1, 'several': 1, 'ucsf': 1, 'helped': 3, 'confident': 1, 'ameriprise': 1, 'creative': 1, 'fuel': 2, 'played': 1, 'journey': 2, 'alcoa': 1, 'alumina': 1, 'bauxite': 1, 'aa': 1, 'aluminum': 2, 'phoenix': 2, 'launching': 1, 'online': 4, 'courses': 1, '290': 1, 'placing': 1, 'experts': 4, 'accor': 1, 'represents': 1, 'centric': 2, 'connected': 5, 'mahindra': 1, 'kforce': 1, 'specializing': 3, 'thermo': 1, 'fisher': 1, 'southern': 4, 'private': 5, 'travelers': 1, 'coverage': 1, 'things': 1, 'point': 1, 'cybersecurity': 4, 'check': 2, 'checkpoint': 1, 'powered': 3, 'ltd': 1, 'heal': 1, 'diplomacy': 1, 'accomplishing': 1, \"america's\": 5, 'bd': 1, 'odp': 1, 'llc': 4, 'bridges': 2, 'lionbridge': 1, 'break': 1, 'edwards': 1, 'vacuum': 1, 'abatement': 1, 'commerce': 4, 'fis': 1, 'heineken': 1, 'developer': 2, 'brewer': 1, 'hotels': 3, 'flow': 2, 'regency': 1, 'hyatt': 1, 'traveling': 1, 'you’re': 3, 'seamlessly': 1, 'thousands': 1, 'scotiabank': 1, 'creation': 1, 'homeowners': 1, 'freddie': 1, 'mac': 1, 'financing': 1, 'renters': 1, 'homebuyers': 1, 'stop': 1, 'sei': 2, 'greenwich': 1, 'stern': 1, 'advance': 3, 'patient': 4, 'medicine’s': 1, 'penn': 3, 'pennsylvania': 2, 'wexner': 1, 'ingersoll': 1, 'ownership': 1, 'ir': 1, 'rand': 1, 'mindset': 1, 'entrepreneurial': 1, 'specializes': 2, 'baccalaureate': 1, 'master’s': 1, 'minnesota': 1, '👋': 1, 'crm': 1, 'salesforce': 1, 'employee': 4, 'strategic': 5, 'use': 1, 'mallinckrodt': 1, 'momentum': 1, 'combining': 3, 'childhood': 1, 'wonder': 1, 'generations': 2, 'supplying': 3, 'coatings': 1, 'paints': 1, '1792': 1, 'extensive': 2, 'analogue': 1, 'agfa': 1, 'gevaert': 1, 'strength': 1, '56': 1, 'currently': 1, 'farmers': 1, 'up': 2, 'companies®': 1, 'comprising': 1, 'planet': 2, 'ip': 2, 'pulp': 1, 'producer': 3, 'friendly': 1, 'paper': 2, 'casualty': 3, 'property': 4, 'cna': 1, 'keybank': 1, 'excited': 1, 'living': 6, 'reduce': 1, 'productivity': 2, 'lower': 1, 'consumption': 1, 'machine': 1, 'increase': 1, 'danfoss': 1, 'reality': 1, 'dreaming': 1, 'don’t': 2, 'competitive': 1, 'logistics': 4, 'advantage': 3, 'contract': 2, 'specialist': 2, 'stryker': 1, 'own': 2, 'empowers': 3, 'physio': 1, 'speed': 2, 'bechtel': 1, 'project': 1, 'there’s': 2, 'processes': 1, 'too': 1, 'much': 2, 'identification': 1, 'cox': 1, 'cdw': 1, 'textron': 2, 'leverages': 1, 'aircraft': 1, 'kaplan': 1, 'fiserv': 1, 'nordstrom': 1, 'sights': 1, 'blaze': 1, 'recognized': 8, '15': 2, 'sciences': 2, 'diego': 1, 'events': 2, 'advisory': 5, 'idc': 1, 'approach': 2, 'unrivaled': 1, 'celestica': 1, 'bozeman': 1, 'fico': 1, 'fico®': 1, 'montana': 1, 'sodexo': 1, 'bellon': 1, '1966': 1, 'marseille': 1, 'pierre': 1, 'pizza': 1, 'breakthrough': 1, 'hut™': 1, 'raised': 1, 'bell': 1, 'born': 2, 'taco': 1, 'louisville': 1, 'yum': 1, 'kentucky': 2, 'operate': 1, 'pacific': 4, 'georgia': 7, 'marketers': 3, 'love': 3, \"we've\": 1, 'kimberly': 1, 'billions': 2, 'opportunity': 3, 'clark': 1, 'semiconductor': 3, 'analog': 1, 'adi': 1, 'insurer': 1, 'pittsburgh': 1, 'inventing': 1, 'upmc': 2, '23': 3, 'plan': 3, 'shaped': 1, 'appliance': 1, 'electrolux': 1, 'greener': 1, 'cities': 2, 'profile': 2, 'michael': 1, 'identify': 2, 'idemia': 1, 'pay': 1, 'simpler': 1, 'impactful': 2, 'conagra': 1, 'deploy': 1, 'prgs': 1, 'great': 4, 'locally': 1, 'banner': 1, 'nationally': 2, 'safeway': 1, 'weill': 1, 'cornell': 2, 'privately': 2, 'endowed': 1, 'hopkins': 1, 'johns': 2, 'principle': 1, '1876': 2, 'continental': 1, 'edelman': 1, 'invest': 2, 'macquarie': 1, 'innovate': 2, 'red': 1, 'hat': 1, 'adrs': 1, 'resorts': 1, 'lon': 1, 'ihg®': 1, 'ihg': 1, 'nonprofit': 4, 'gtri': 1, \"nation's\": 1, 'innovator': 2, 'satellite': 3, 'hughes': 2, 'daily': 2, 'enabling': 2, 'arrow': 1, 'guides': 1, 'computacenter': 1, 'large': 1, 'ourselves': 3, 'walgreens': 1, 'boots': 1, 'segment': 1, 'included': 1, 'pharmacy': 2, 'espn': 1, 'multimedia': 1, '1993': 2, 'nvda': 1, 'founding': 1, 'nvidia': 1, 'cummins': 1, 'everyone': 3, 'hca': 1, 'giving': 1, 'tomorrow': 3, 'urgent': 1, 'practice': 1, 'employment': 2, 'physician': 1, 'existence': 1, 'obsessed': 1, 'comes': 2, 'quite': 1, 'nothing': 1, 'strives': 2, 'flagship': 3, \"state's\": 1, 'umd': 1, 'powerhouse': 1, 'ranked': 4, 'revenue': 2, '62': 1, '217': 1, 'percent': 1, 'consistently': 3, 'ranks': 1, 'reason': 1, 'r': 2, 'h': 2, 'confidence': 2, 'block’s': 1, 'dynamic': 1, 'talented': 1, 'caci': 1, 'resources': 3, 'franklin': 1, 'ben': 1, 'edward': 1, 'innovators': 2, 'corning': 2, 'procurement': 1, 'fluor': 1, 'fit': 1, 'looking': 1, 'memory': 1, 'micron': 1, 'postal': 1, 'acting': 1, 'evolution': 1, 'continues': 2, 'thinking': 2, 'efx': 1, 'equifax': 1, 'superior': 1, 'vehicle': 1, 'e': 3, 'seating': 1, 'lear': 1, 'automotive': 4, '1866': 1, 'reynolds': 1, 'dayton': 1, 'behind': 3, 'lego': 1, 'lego®': 1, 'presence': 1, 'mining': 1, 'steel': 1, 'arcelormittal': 1, 'korn': 1, 'makers': 2, 'organizational': 1, 'ferry': 1, 'advisors': 1, 'rsm': 1, 'tax': 1, 'assurance': 3, 'zf': 1, 'inspired': 3, 'push': 2, 'performance': 6, 'boundaries': 2, 'heritage': 3, 'standing': 2, 'vibrant': 2, 'carolina’s': 1, 'attest': 1, 'university’s': 1, 'programs': 2, 'discover': 2, 'wpp’s': 1, 'groupm': 1, 'profound': 1, 'colorado': 2, 'role': 2, 'plays': 1, 'boulder': 1, 'cu': 1, 'execution': 1, 'positioned': 2, 'epsilon': 1, 'advertising': 1, 'mountain': 1, '70': 3, 'iron': 1, 'incorporated': 5, 'irm': 1, '1837': 1, 'deere': 1, 'alliancebernstein': 1, 'ab': 1, 'gases': 2, 'liquide': 1, 'wealth': 2, 'swiss': 2, 'reinsurance': 1, 're': 1, 'wholesale': 1, 'biggest': 3, 'mitre': 1, 'ds': 1, 'smith': 3, 'recycling': 2, 'infa': 1, 'informatica': 1, 'webmd': 1, 'rely': 1, '2': 1, 'grainger': 1, '3': 2, 'million': 4, 'packing': 1, 'printing': 1, 'shipping': 1, 'sea': 1, 'scholars': 1, 'destinations': 1, 'intellectual': 2, 'chicago': 2, 'offer': 2, 'emory': 2, 'inquiry': 1, 'atlanta': 2, 'asml': 1, 'gas': 3, '1905': 1, 'framatome': 1, 'nuclear': 1, 'tire': 2, '72': 1, 'employs': 1, 'goodyear': 1, 'ushr': 1, 'house': 1, 'representatives': 2, 'chambers': 1, 'times': 2, 'akamai': 1, 'nation': 2, 'hillsborough': 1, 'county': 5, 'district': 1, 'seventh': 1, 'depth': 1, 'significant': 2, 'cien': 1, 'ciena': 1, 'optical': 1, 'routing': 1, 'biotechnology': 2, 'pioneers': 1, '1978': 1, 'biogen': 1, 'search': 1, 'struggles': 1, 'executive': 1, 'heidrick': 1, 'guiding': 1, 'outcome': 1, 'hmh': 1, 'areas': 1, 'wtw': 1, 'because': 1, 'chosen': 1, 'aflac': 1, '50': 6, 'syngenta': 1, 'agriculture': 2, 'ambition': 2, 'fighting': 1, 'los': 3, '1931': 1, 'angeles': 2, 'established': 1, '1964': 2, 'bose': 1, 'dr': 1, 'amar': 1, 'fmc': 1, 'dignity': 1, 'retire': 2, 'educators': 1, 'invesco': 1, 'rethink': 1, 'possibility': 1, 'iqvia': 1, 'iqv': 1, 'lauder': 1, 'estée': 1, 'cwk': 1, 'wakefield': 1, 'cushman': 1, 'safe': 2, 'faurecia': 1, 'c': 1, 'duke': 1, '150': 2, 'charlotte': 1, 'yale': 1, '1810': 1, 'renowned': 2, 'sun': 1, 'introduced': 2, 'animation': 1, 'dreamworks': 1, '20': 2, 'economy': 1, 'today’s': 1, 'growing': 2, 'ecosystem': 2, 'enabler': 1, 'dreams': 1, 'honda': 1, 'determination': 1, 'wisconsin–madison': 1, 'prestige': 1, 'starcom': 1, 'back': 3, 'dates': 1, 'michelin': 1, 'sustainably': 1, 'come': 1, 'solvay': 1, 'mastery': 1, 'pottery': 1, 'represented': 1, 'barn': 1, 'unparalleled': 1, 'sonoma': 1, '1956': 1, 'forrester': 1, 'influential': 1, 'certification': 1, 'inspection': 1, 'sgs': 1, 'testing': 1, 'lowe’s': 1, 'fortune®': 1, 'pirelli': 1, '1872': 1, 'milan': 1, 'operation': 2, 'apd': 1, 'employers': 1, 'end': 5, 'careerbuilder': 1, 'boring': 1, 'doesn’t': 1, 'we’ll': 1, 'builds': 1, 'partnerships': 1, 'hydro': 1, 'expansive': 1, 'gannett': 1, 'gci': 1, '1962': 1, 'raymond': 1, 'james': 1, '1983': 2, 'brazil': 1, 'embraer': 1, 'goods': 3, 'whose': 5, 'ttec': 1, 'engaged': 3, 'tec': 1, 'pronounced': 1, 'happy': 1, 'profitable': 1, 'member': 5, '155': 1, 'regions': 1, 'rf': 1, 'difficult': 1, 'prolong': 1, 'aspire': 1, 'evolve': 1, 'paychex': 1, 'critical': 2, 'equip': 1, 'cae': 1, 'ask': 1, 'humana': 1, 'nor': 1, 'never': 1, 'require': 1, 'candidate': 1, 'rutgers': 1, 'also': 3, 'jersey': 2, 'vestas': 1, 'industry’s': 2, 'exemplary': 1, 'complemented': 1, 'uf': 2, 'jacksonville': 1, 'model': 3, 'asu': 1, 'developed': 2, 'defying': 1, 'mold': 1, 'destination': 1, 'ultimate': 1, 'amc': 1, 'genre': 1, 'tv': 2, 'began': 2, 'watched': 1, 'bringing': 2, 'dish': 1, 'va': 1, 'inventiveness': 1, 'charlottesville': 1, 'personified': 1, 'embodies': 1, 'uva': 1, '1819': 1, 'virginia': 2, 'transunion': 1, 'logic': 2, 'matter': 2, 'baker': 1, 'bkr': 1, 'foresight': 1, 'skanska': 1, 'uses': 2, 'above': 1, 'rise': 1, '1946': 3, '89': 1, 'earned': 3, 'sanmina': 1, 'sanm': 1, 'reputation': 2, '30': 1, 'shandwick': 1, 'weber': 1, 'coloplast': 1, 'supports': 2, 'protects': 1, 'assurant': 1, 'group®': 1, 'principal': 1, 'producing': 1, 'cemex': 1, 'ready': 2, 'aggregates': 1, 'mix': 1, 'cement': 1, 'dnv': 1, 'risk': 3, 'filmmakers': 1, '1912': 1, 'paramount': 1, 'works': 3, 'primerica': 1, 'barnes': 1, 'noble': 1, 'fifty': 1, 'proudly': 1, 'approximately': 4, 'bookstores': 1, '600': 1, 'orange': 1, 'uci': 1, 'piper': 1, 'dla': 1, 'capable': 1, 'aquent': 1, 'spanning': 1, 'nomura': 1, 'aspentech': 1, 'parexel': 1, 'cros': 1, 'ryder': 1, 'digitize': 1, 'automate': 1, 'manufacture': 6, 'forests': 1, 'beginning': 1, 'schl': 1, 'scholastic': 1, 'publisher': 2, '160': 1, 'busch': 1, 'cultural': 1, 'woven': 1, 'anheuser': 1, 'fabric': 1, 'chan': 1, 'umass': 1, '1869': 1, 'connecting': 2, 'hearst': 1, 'magazines': 1, 'methodist': 1, 'houston': 1, 'description': 1, 'product': 2, 'nous': 1, 'infosystems': 1, '300': 2, '1': 2, 'sites': 1, 'almost': 2, '32': 1, 'league': 1, 'comprised': 1, 'popular': 1, 'football': 1, 'champion': 1, '49ers': 1, 'bowl': 1, 'super': 1, 'colts': 1, 'indianapolis': 1, 'm': 2, 'stretches': 1, '85': 1, 'perkinelmer': 1, 'pushed': 1, 'biomedical': 2, 'vanderbilt': 1, 'nashville': 1, 'tennessee': 2, 'lundbeck': 1, 'neuroscience': 1, 'biopharmaceutical': 2, 'parker': 2, 'motion': 2, 'hannifin': 1, 'control': 1, 'self': 1, 'bearing': 1, 'aligning': 1, '1907': 1, 'invention': 1, 'storage': 1, 'western': 1, 'smiling': 1, 'do—from': 1, 'policies—is': 1, 'southwest®': 1, 'overy': 1, 'st': 1, 'sized': 1, 'louis': 2, 'medium': 1, 'injury': 1, 'prevents': 1, 'premature': 1, 'illness': 1, 'assures': 1, 'death': 1, 'they’re': 1, 'hard': 2, 'turning': 2, 'cnh': 1, 'cnhi': 1, 'congress': 1, 'george': 3, 'academic': 9, '90': 1, 'endless': 1, 'combines': 1, 'birlasoft': 1, 'domain': 1, 'challengethenorm': 1, 'vf': 2, 'exploration': 3, 'face®': 1, 'nautical': 1, 'accessories': 2, 'footwear': 1, 'exc': 1, 'utility': 1, 'exelon': 1, 'cvs': 1, 'takeda': 1, 'oncology': 1, 'pharmaceutical': 1, 'rl': 1, 'ralph': 1, 'lauren': 1, 'automated': 1, 'spirent': 1, 'test': 1, 'brown': 2, 'brothers': 1, 'bbh': 1, 'held': 1, 'harriman': 1, 'liberating': 1, 'employed': 1, 'wherein': 1, 'ecl': 1, 'ecolab': 2, 'northwest': 1, 'advances': 2, 'frontiers': 1, 'ul': 1, 'changed': 1, 'mayo': 1, 'expanded': 1, 'clinic': 2, 'remain': 1, 'quest': 2, 'outcomes': 3, 'dgx': 1, 'premises': 1, 'nice': 1, 'considering': 1, 'select': 2, 'protection': 1, '64': 1, 'social': 1, 'lazard': 1, '1848': 1, 'manager': 1, 'blackrock': 1, 'deluxe': 1, 'champions': 1, 'record': 2, 'deringer': 1, 'freshfields': 1, 'bruckhaus': 1, 'track': 1, 'ifc': 1, 'apex': 1, 'incorporates': 1, 'nephew': 1, 'believes': 2, 'hallmark': 1, 'if': 1, 'enough': 1, 'copco': 1, 'atlas': 1, 'carolina': 1, 'staff': 3, 'faculty': 1, '7': 3, '34': 1, 'db': 1, 'schenker': 1, 'seic': 1, 'jti': 1, 'japan': 1, 'reshaping': 1, 'konica': 1, 'revolutionizing': 1, 'minolta': 1, 'conditions': 1, 'commerce’s': 1, 'application': 1, 'f5': 1, 'jbl': 1, 'jabil': 1, 'you’ll': 1, 'something': 3, 'ef': 1, '®': 1, 'beautify': 1, 'ppg': 1, 'flom': 1, 'meagher': 1, 'llp': 5, 'arps': 1, 'slate': 1, 'skadden': 1, 'affiliates': 1, 'educate': 1, 'program': 1, 'mba': 1, 'places': 3, 'unicef': 1, 'toughest': 1, 'wholly': 1, 'phm': 2, 'pulte': 1, 'pultegroup': 2, 'mortgage': 1, 'only': 2, 'utah': 1, 'west’s': 1, 'intermountain': 1, 'worthy': 1, 'shield': 1, 'blue': 1, '1944': 1, 'parsons': 1, 'digitally': 1, 'motivating': 1, 'cars': 1, 'suvs': 1, 'kroger': 1, 'frontrunner': 1, 'metso': 1, 'case': 1, 'white': 1, 'longstanding': 1, 'irs': 1, 'internal': 1, \"service's\": 1, 'otis': 1, 'latham': 1, 'lawyers': 1, 'watkins': 1, 'toy': 1, 'hasbro': 1, 'game': 1, 'entertain': 1, 'reebok': 1, 'fitness': 2, 'deep': 3, 'novelli': 1, 'porter': 1, 'bankers': 2, 'aeo': 1, 'outfitters': 1, 'eagle': 1, 'unique': 2, 'enduring': 1, 'epam': 1, 'temple': 1, 'firmware': 1, 'bay': 1, 'area': 1, 'livermore': 1, 'lawrence': 1, 'minded': 1, 'luxury': 1, 'cartier': 1, 'maison': 1, 'timeless': 1, 'french': 1, 'middle': 2, 'secures': 1, 'income': 2, 'cno': 1, 'americans': 2, 'focuses': 1, 'rochester': 2, 'nonsectarian': 1, 'intensive': 1, 'ur': 1, 'corp': 2, 'technical': 2, 'modernization': 1, 'faa': 1, 'frontier': 1, 'usaid': 1, 'extreme': 1, 'cincinnati': 1, 'cintas': 1, 'urban': 2, 'kone': 1, 'alfa': 1, 'laval': 1, 'accelerating': 1, 'cyberattacks': 1, 'defeat': 1, 'sophos': 1, 'fueled': 1, 'empathy': 1, 'ketchum': 1, 'foundational': 2, 'intelsat': 1, 'architects': 1, 'chep': 1, 'might': 1, 'granted': 1, 'wheeled': 1, 'taken': 1, 'clean': 1, 'affordable': 2, 'widely': 1, 'client': 1, 'singular': 2, 'ticketmaster': 1, 'fair': 1, 'fans': 1, 'gives': 1, 'chemicals': 3, 'technological': 2, 'lrcx': 1, 'lam': 1, 'acer': 1, 'ict': 1, 'look': 1, 'did': 1, 'constellation': 1, 'baltimore': 1, 'ceg': 1, 'fashions': 1, 'tjx': 1, 'off': 1, 'price': 1, '1895': 1, 'anritsu': 1, 'virtusa': 1, 'forbes': 2, '2000': 1, 'gaming': 1, 'igt': 1, 'entertaining': 1, 'cpgs': 1, 'vestcom': 1, 'shelf': 1, 'jefferies': 1, 'trimble': 1, 'morningstar': 1, 'newspaper': 1, 'country': 1, 'metropolitan': 1, 'sandvik': 2, 'enhance': 1, 'coromant': 1, 'eye': 2, 'ascensus': 1, 'pumps': 2, 'comfort': 1, 'efficient': 1, 'k': 1, 'l': 2, 'scale': 1, 'teleperformance': 1, 'nalco': 1, 'colliers': 1, 'tsx': 1, 'cigi': 1, 'rackspace': 1, 'multicloud': 1, 'lhh': 1, 'hr': 2, 'proofs': 1, 'ambitions': 1, 'welcomed': 1, 'zs': 1, 'changes': 1, '221': 1, 'flowing': 1, 'dsv': 1, 'chains': 1, 'carr': 1, 'mcmaster': 1, 'valley': 3, 'sri': 1, '1898': 1, 'northeastern': 1, 'distinctive': 2, 'alcon': 1, 'brilliantly': 1, 'rent': 1, 'period': 1, 'advice': 1, 'lpl': 1, 'luxoft': 1, 'dxc': 1, 'geographic': 1, 'esri': 1, 'location': 1, 'gis': 1, 'oc': 1, 'insulation': 1, 'roofing': 2, 'fiberglass': 1, 'composites': 1, 'thc': 1, 'tenet': 1, 'mfs': 1, 'alten': 1, 'multidisciplinary': 1, 'alamos': 1, 'yourself': 1, 'blizzard': 1, 'establishing': 1, 'after': 2, 'sysco': 1, 'distributing': 1, 'selling': 2, '1982': 1, 'entrepreneurs': 1, 'small': 1, 'softtek': 1, 'enhances': 1, 'gsa': 1, 'g4s': 1, 'facility': 1, 'proactive': 1, 'barbara': 1, 'broad': 2, 'study': 1, 'velux': 1, 'doe': 1, 'sandia': 1, 'lab': 1, 'laboratories': 1, 'hanover': 1, 'anf': 1, 'omnichannel': 2, 'fitch': 1, 'abercrombie': 1, 'missouri': 1, 'state’s': 2, 'distinct': 1, \"missouri's\": 1, 'mizzou': 1, 'hess': 1, 'mantech': 1, 'ashland': 1, 'ash': 1, 'additives': 1, 'wine': 2, 'giovanni': 1, 'ferrero': 1, 'pietro': 1, 'while': 1, 'evolving': 1, 'strive': 1, 'constantly': 1, 'mercatus': 1, 'mason': 2, 'virginia’s': 1, 'marketplace': 2, 'derivatives': 1, 'cmegroup': 1, 'cme': 1, 'review': 1, 'consilio': 1, 'ediscovery': 1, 'document': 1, 'accounting': 1, 'crowe': 1, 'collective': 1, 'foerster': 1, 'complexity': 2, 'morrison': 1, 'fti': 1, 'concurrent': 1, 'ctc': 1, 'seven': 1, 'granting': 1, 'smu': 1, 'degree': 2, 'distinguished': 1, 'kpit': 1, 'premera': 1, 'adm': 1, 'nature': 1, 'standard': 1, 'partnering': 1, 'plexus': 1, '1979': 1, 'increasing': 1, 'rate': 1, 'lotus': 1, 'solid': 1, 'rich': 1, \"nintendo's\": 1, 'touch': 1, 'faces': 1, 'smiles': 2, 'branding': 1, 'direct': 3, 'researches': 1, 'usana': 1, 'mercury': 1, 'capella': 1, 'accredited': 1, 'edu': 1, '2750': 1, 'greenberg': 1, '47': 1, 'traurig': 1, 'audio': 2, 'signal': 1, 'mixed': 1, 'cirrus': 1, 'workshop': 1, 'manhattan': 1, '1941': 1, 'loft': 1, 'coach': 1, 'herbalife': 1, 'wellness': 1, 'mcclatchy': 1, 'varian': 1, 'fear': 1, 'without': 1, 'healthineers': 1, 'envision': 2, 'kettering': 1, 'msk': 1, 'memorial': 1, 'sloan': 1, 'huntsman': 1, 'chemical': 2, 'multispecialty': 1, 'cleveland': 1, 'energize': 1, '6': 1, 'homes': 1, 'lyb': 1, 'lyondellbasell': 1, 'creators': 1, 'quo': 1, 'status': 1, 'busters': 1, 'south': 2, 'cooper': 1, 'invent': 1, 'affiliate': 1, 'netia': 1, 'enhanced': 1, 'info': 2, \"labor's\": 1, 'designers': 1, 'acco': 1, 'prosper': 1, 'it’s': 3, 'santander': 1, 'sasol': 1, 'harness': 1, 'few': 1, '1864': 1, 'denver': 1, 'ball': 1, 'hubs': 1, 'icf': 1, '9': 1, 'stores': 1, 'kohl’s': 1, '49': 1, 'desired': 1, 'placed': 1, 'cps': 1, 'huron': 1, 'collaborates': 1, 'penske': 2, 'truck': 1, 'leasing': 1, 'reading': 1, 'tower': 1, 'line': 1, 'cooled': 1, 'cooling': 1, 'exchanger': 1, 'heat': 1, 'viasat': 1, 'turner': 1, 'entertains': 1, 'hispanic': 1, 'univision': 1, 'vuitton': 1, 'men': 1, 'women': 1, 'beverages': 1, 'containing': 1, 'foods': 1, 'consume': 1, 'radio': 1, 'communication': 1, 'gensler': 1, 'architecture': 2, '53': 1, 'planning': 2, 'each': 1, 'imagine': 1, 'rti': 1, 'tommy': 1, 'lifestyle': 1, 'hilfiger': 1, 'designer': 1, 'before': 1, 'becomes': 1, 'understanding': 1, 'corners': 1, 'fairfax': 1, 'northern': 1, '11th': 1, 'fcps': 1, 'ireland': 1, '1990': 1, 'dublin': 1, 'herrington': 1, 'sutcliffe': 1, 'orrick': 1, 'arcadis': 1, 'manville': 1, 'authority': 2, 'electricity': 1, 'vericast': 1, 'highway': 1, 'fhwa': 1, 'occupy': 1, 'meet': 1, 'iff': 1, 'board': 1, '1999': 1, \"institution's\": 1, 'smithsonian': 1, 'formed': 1, 'se': 1, 'instruments': 1, 'mks': 1, 'managed': 1, 'hire': 1, 'phone': 1, 'tds®': 1, 'internet': 1, 'telecommunications': 1, 'telecom': 1, 'tds': 1, 'cubic': 1, 'people’s': 1, 'grid': 1, 'lies': 1, 'o’melveny': 1, 'nebraska': 2, '1936': 1, 'flowserve': 1, 'valves': 1, 'seals': 1, 'india': 1, 'listed': 1, 'autoliv': 1, 'birthplace': 1, 'awi': 1, 'armstrong': 1, 'novonesis': 1, 'biosolutions': 1, 'novozymes': 1, 'combined': 1, 'chr': 1, 'hansen': 1, 'fm': 1, 'insurers': 1, 'fmcna': 1, 'fresenius': 1, 'union': 1, 'railroad': 2, 'gore': 1, 'w': 1, 'grant': 2, 'matters': 1, 'transformative': 1, 'deals': 1, 'cooley': 1, 'joy': 1, 'michaels': 1, 'fulfill': 1, 'navigate': 1, 'precisely': 1, 'yoh': 1, 'represent': 1, 'mayer': 1, 'chh': 1, '1824': 1, 'rensselaer': 1, 'polytechnic': 1, 'aligns': 1, '120': 1, 'cbiz': 1, 'clothing': 1, 'lands’': 1, 'le': 1, 'appleone': 1, \"australia's\": 1, 'wales': 1, 'unsw': 1, 'centered': 3, 'langone': 1, 'nyu': 1, 'atlanticus’': 1, 'allows': 1, 'oracle': 1, '1998': 1, 'netsuite': 1, 'agilysys': 1, 'seeking': 1, 'clara': 1, 'icahn': 1, 'mount': 1, 'sinai': 1, 'concept': 1, 'match': 1, 'dating': 1, '1995': 1, 'launched': 1, 'return': 1, 'eleven': 1, 'convenience': 1, 'zions': 1, 'bancorporation': 1, 'related': 1, 'schindler': 1, 'elevator': 1, 'escalator': 1, 'brunswick': 1, 'recreation': 1, 'marine': 1, 'eplus': 1, 'results': 1, 'brady': 1, 'marketer': 1, 'headquarters': 1, 'holdings': 1, 'fujifilm': 1, 'americas': 1, 'fresche': 1, 'ams': 1, 'thrivent': 1, 'matters—and': 1, 'producers': 1, 'scott': 1, 'baylor': 1, 'scripps': 1, 'wertheim': 1, 'csx': 1, 'crain': 1, '1890': 1, 'outreach': 1, 'instruction': 1, 'forging': 1, 'infogain': 1, 'decentralized': 1, 'marketplaces': 1, 'quinstreet': 1, 'powering': 1, 'landis': 1, 'gyr': 1, '125': 1, 'oil': 3, 'environmental': 1, 'kleen': 1, 'hastings': 1, 'paul': 1, 'apply': 1, 'reed': 1, '𝐡𝐮𝐦𝐚𝐧™': 1, 'millichap': 1, '1971': 1, 'goal': 2, 'marcus': 1, 'student': 1, 'nist': 1, 'standards': 1, 'presbyterian': 1, 'newyork': 1, 'requires': 1, 'dräger': 1, 'fulfilling': 1, 'russell': 1, 'investments': 1, 'cio': 1, 'outsourced': 1, 'ocio': 1, 'decision': 1, 'msci': 1, 'axis': 1, 'cutter': 1, 'cookie': 1, 'deeper': 1, 'sector': 1, 'oregon': 1, 'altria': 1, 'age': 1, 'harman': 1, 'connecticut': 1, 'stamford': 1, 'moved': 2, 'tungsten': 1, 'tungstenautomation': 1, 'zimmer': 1, 'biomet': 1, 'pure': 1, 'erm': 1, 'fortinet': 1, 'trinity': 1, 'loyola': 2, 'jesuit': 1, '1870': 1, 'microchip': 1, 'length': 1, 'greyhound': 1, '“to': 1, 'reflecting': 1, '”': 1, 'dialysis—an': 1, 'davita': 1, 'tetra': 1, '24': 1, 'hour': 1, '35': 1, 'regarded': 1, 'ut': 1, 'southwestern': 1, 'accelerates': 1, 'reporting': 2, 'arc': 1, 'newsgathering': 1, 'globe': 1, \"england's\": 1, 'ansys': 1, 'taboola': 1, 'connexity': 1, 'gallagher': 1, 'brokerage': 1, 'softserve': 1, 'expand': 1, 'sappi': 1, 'woodfibre': 1, 'umb': 1, 'advocate': 1, 'shure': 1, '95': 1, '1921': 1, 'italy': 1, 'gucci': 1, 'florence': 1, 'msa': 1, '1827': 1, 'norfolk': 1, 'safely': 1, 'predecessor': 1, 'nsc': 1, 'three': 1, 'named': 1, 'row': 1, 'work®': 1, 'dunnhumby': 1, '1975': 1, 'contractor': 1, 'studios': 1, 'hok': 1, 'dunn': 1, 'advising': 1, 'gibson': 1, 'natural': 1, 'marathon': 1, 'mro': 1, 'pro': 1, 'acquisition': 1, 'hhc': 1, 'eisai': 1, 'worley': 1, 'hollister': 1, 'tight': 1, 'publishing': 1, 'join': 1, 'reflection': 1, 'collection': 1, 'inclusivity': 1, 'welcoming': 1, 'invited': 1, 'cas': 1, 'name': 2, 'cleaner': 1, 'spells': 1, 'msnbc': 1, 'defines': 1, 'character': 1, 'classics': 1, 'wvu': 1, 'housing': 1, 'pha': 1, 'landlord': 1, 'philadelphia': 1, 'isd': 1, '10': 1, 'unmet': 1, 'incyte': 1, 'serious': 1, '350': 1, 'braun': 1, 'pain': 1, 'therapy': 1, 'b': 1, 'infusion': 1, 'multiplan': 1, 'payors': 1, 'cost': 1, 'sirva': 1, 'tulane': 1, 'association': 1, 'prestigious': 1, 'empowerment': 1, 'stand': 1, 'sephora': 1, 'pre': 1, 'alcohol': 1, 'eminent': 1, 'glazer’s': 1, 'response': 1, 'threat': 1, 'detection': 1, 'prevention': 1, 'bitdefender': 1, 'milliken': 1, 'senators': 1, 'officials': 1, 'licensee': 1, 'concerts': 1, 'sporting': 1, 'stopping': 1, 'aeg': 1, 'epic': 1, 'festivals': 1, 'devon': 1, 'recruiters': 1, 'dice’s': 1, 'simpson': 1, 'bartlett': 1, 'thacher': 1, 'vacations': 1, 'invests': 1, 'vertex': 1, 'healthy': 1, 'blend': 1, 'hennepin': 1, '45': 1, 'rooter®': 1, 'ars®': 1, 'rescue': 1, 'residential': 1, 'dental': 1, 'counting': 1, 'institutes': 1, 'evidence': 1, 'bjc': 1, 'florida': 1, 'rite': 1, 'aid': 1, 'dtcc': 1, 'post': 1, 'trade': 1})\n"
          ]
        }
      ],
      "source": [
        "# Cantidad de veces quea aparece cada palabra en cada \"documento\"\n",
        "# (1 documento = 1 caso de entrada)\n",
        "print(tok.word_docs)"
      ]
    },
    {
      "cell_type": "markdown",
      "source": [
        "\n",
        "## Definir el modelo"
      ],
      "metadata": {
        "id": "uYfhWVLLzKVO"
      }
    },
    {
      "cell_type": "code",
      "source": [
        "model = Sequential()\n",
        "\n",
        "# la primera capa es de embedding entrenable. Recordar que se puede variar el tamaño\n",
        "# del embedding a entrenar\n",
        "model.add(Embedding(input_dim=vocab_size+1, output_dim=50, input_shape=(None,)))\n",
        "\n",
        "model.add(LSTM(100, return_sequences=True))\n",
        "model.add(Dropout(0.3))\n",
        "\n",
        "model.add(LSTM(100, return_sequences=True))\n",
        "#model.add(Dense(32, activation='relu'))\n",
        "\n",
        "# Predicción de clasificación con softmax\n",
        "# La salida es del tamaño del vocabulario\n",
        "model.add(Dense(vocab_size+1, activation='softmax'))\n",
        "\n",
        "\n",
        "# Clasificación multiple categórica --> loss = categorical_crossentropy\n",
        "# notar que usamos la versión Sparse para utilizar sólo índices en lugar de OHE\n",
        "model.compile(loss=SparseCategoricalCrossentropy(), optimizer='rmsprop')\n",
        "\n",
        "model.summary()"
      ],
      "metadata": {
        "id": "5UXA5hQfWVX1",
        "colab": {
          "base_uri": "https://localhost:8080/",
          "height": 345
        },
        "outputId": "e4216f65-ac66-486b-c0aa-dcafb870c62b"
      },
      "execution_count": 44,
      "outputs": [
        {
          "output_type": "stream",
          "name": "stderr",
          "text": [
            "/usr/local/lib/python3.10/dist-packages/keras/src/layers/core/embedding.py:93: UserWarning: Do not pass an `input_shape`/`input_dim` argument to a layer. When using Sequential models, prefer using an `Input(shape)` object as the first layer in the model instead.\n",
            "  super().__init__(**kwargs)\n"
          ]
        },
        {
          "output_type": "display_data",
          "data": {
            "text/plain": [
              "\u001b[1mModel: \"sequential\"\u001b[0m\n"
            ],
            "text/html": [
              "<pre style=\"white-space:pre;overflow-x:auto;line-height:normal;font-family:Menlo,'DejaVu Sans Mono',consolas,'Courier New',monospace\"><span style=\"font-weight: bold\">Model: \"sequential\"</span>\n",
              "</pre>\n"
            ]
          },
          "metadata": {}
        },
        {
          "output_type": "display_data",
          "data": {
            "text/plain": [
              "┏━━━━━━━━━━━━━━━━━━━━━━━━━━━━━━━━━━━━━━┳━━━━━━━━━━━━━━━━━━━━━━━━━━━━━┳━━━━━━━━━━━━━━━━━┓\n",
              "┃\u001b[1m \u001b[0m\u001b[1mLayer (type)                        \u001b[0m\u001b[1m \u001b[0m┃\u001b[1m \u001b[0m\u001b[1mOutput Shape               \u001b[0m\u001b[1m \u001b[0m┃\u001b[1m \u001b[0m\u001b[1m        Param #\u001b[0m\u001b[1m \u001b[0m┃\n",
              "┡━━━━━━━━━━━━━━━━━━━━━━━━━━━━━━━━━━━━━━╇━━━━━━━━━━━━━━━━━━━━━━━━━━━━━╇━━━━━━━━━━━━━━━━━┩\n",
              "│ embedding (\u001b[38;5;33mEmbedding\u001b[0m)                │ (\u001b[38;5;45mNone\u001b[0m, \u001b[38;5;45mNone\u001b[0m, \u001b[38;5;34m50\u001b[0m)            │         \u001b[38;5;34m156,500\u001b[0m │\n",
              "├──────────────────────────────────────┼─────────────────────────────┼─────────────────┤\n",
              "│ lstm (\u001b[38;5;33mLSTM\u001b[0m)                          │ (\u001b[38;5;45mNone\u001b[0m, \u001b[38;5;45mNone\u001b[0m, \u001b[38;5;34m100\u001b[0m)           │          \u001b[38;5;34m60,400\u001b[0m │\n",
              "├──────────────────────────────────────┼─────────────────────────────┼─────────────────┤\n",
              "│ dropout (\u001b[38;5;33mDropout\u001b[0m)                    │ (\u001b[38;5;45mNone\u001b[0m, \u001b[38;5;45mNone\u001b[0m, \u001b[38;5;34m100\u001b[0m)           │               \u001b[38;5;34m0\u001b[0m │\n",
              "├──────────────────────────────────────┼─────────────────────────────┼─────────────────┤\n",
              "│ lstm_1 (\u001b[38;5;33mLSTM\u001b[0m)                        │ (\u001b[38;5;45mNone\u001b[0m, \u001b[38;5;45mNone\u001b[0m, \u001b[38;5;34m100\u001b[0m)           │          \u001b[38;5;34m80,400\u001b[0m │\n",
              "├──────────────────────────────────────┼─────────────────────────────┼─────────────────┤\n",
              "│ dense (\u001b[38;5;33mDense\u001b[0m)                        │ (\u001b[38;5;45mNone\u001b[0m, \u001b[38;5;45mNone\u001b[0m, \u001b[38;5;34m3130\u001b[0m)          │         \u001b[38;5;34m316,130\u001b[0m │\n",
              "└──────────────────────────────────────┴─────────────────────────────┴─────────────────┘\n"
            ],
            "text/html": [
              "<pre style=\"white-space:pre;overflow-x:auto;line-height:normal;font-family:Menlo,'DejaVu Sans Mono',consolas,'Courier New',monospace\">┏━━━━━━━━━━━━━━━━━━━━━━━━━━━━━━━━━━━━━━┳━━━━━━━━━━━━━━━━━━━━━━━━━━━━━┳━━━━━━━━━━━━━━━━━┓\n",
              "┃<span style=\"font-weight: bold\"> Layer (type)                         </span>┃<span style=\"font-weight: bold\"> Output Shape                </span>┃<span style=\"font-weight: bold\">         Param # </span>┃\n",
              "┡━━━━━━━━━━━━━━━━━━━━━━━━━━━━━━━━━━━━━━╇━━━━━━━━━━━━━━━━━━━━━━━━━━━━━╇━━━━━━━━━━━━━━━━━┩\n",
              "│ embedding (<span style=\"color: #0087ff; text-decoration-color: #0087ff\">Embedding</span>)                │ (<span style=\"color: #00d7ff; text-decoration-color: #00d7ff\">None</span>, <span style=\"color: #00d7ff; text-decoration-color: #00d7ff\">None</span>, <span style=\"color: #00af00; text-decoration-color: #00af00\">50</span>)            │         <span style=\"color: #00af00; text-decoration-color: #00af00\">156,500</span> │\n",
              "├──────────────────────────────────────┼─────────────────────────────┼─────────────────┤\n",
              "│ lstm (<span style=\"color: #0087ff; text-decoration-color: #0087ff\">LSTM</span>)                          │ (<span style=\"color: #00d7ff; text-decoration-color: #00d7ff\">None</span>, <span style=\"color: #00d7ff; text-decoration-color: #00d7ff\">None</span>, <span style=\"color: #00af00; text-decoration-color: #00af00\">100</span>)           │          <span style=\"color: #00af00; text-decoration-color: #00af00\">60,400</span> │\n",
              "├──────────────────────────────────────┼─────────────────────────────┼─────────────────┤\n",
              "│ dropout (<span style=\"color: #0087ff; text-decoration-color: #0087ff\">Dropout</span>)                    │ (<span style=\"color: #00d7ff; text-decoration-color: #00d7ff\">None</span>, <span style=\"color: #00d7ff; text-decoration-color: #00d7ff\">None</span>, <span style=\"color: #00af00; text-decoration-color: #00af00\">100</span>)           │               <span style=\"color: #00af00; text-decoration-color: #00af00\">0</span> │\n",
              "├──────────────────────────────────────┼─────────────────────────────┼─────────────────┤\n",
              "│ lstm_1 (<span style=\"color: #0087ff; text-decoration-color: #0087ff\">LSTM</span>)                        │ (<span style=\"color: #00d7ff; text-decoration-color: #00d7ff\">None</span>, <span style=\"color: #00d7ff; text-decoration-color: #00d7ff\">None</span>, <span style=\"color: #00af00; text-decoration-color: #00af00\">100</span>)           │          <span style=\"color: #00af00; text-decoration-color: #00af00\">80,400</span> │\n",
              "├──────────────────────────────────────┼─────────────────────────────┼─────────────────┤\n",
              "│ dense (<span style=\"color: #0087ff; text-decoration-color: #0087ff\">Dense</span>)                        │ (<span style=\"color: #00d7ff; text-decoration-color: #00d7ff\">None</span>, <span style=\"color: #00d7ff; text-decoration-color: #00d7ff\">None</span>, <span style=\"color: #00af00; text-decoration-color: #00af00\">3130</span>)          │         <span style=\"color: #00af00; text-decoration-color: #00af00\">316,130</span> │\n",
              "└──────────────────────────────────────┴─────────────────────────────┴─────────────────┘\n",
              "</pre>\n"
            ]
          },
          "metadata": {}
        },
        {
          "output_type": "display_data",
          "data": {
            "text/plain": [
              "\u001b[1m Total params: \u001b[0m\u001b[38;5;34m613,430\u001b[0m (2.34 MB)\n"
            ],
            "text/html": [
              "<pre style=\"white-space:pre;overflow-x:auto;line-height:normal;font-family:Menlo,'DejaVu Sans Mono',consolas,'Courier New',monospace\"><span style=\"font-weight: bold\"> Total params: </span><span style=\"color: #00af00; text-decoration-color: #00af00\">613,430</span> (2.34 MB)\n",
              "</pre>\n"
            ]
          },
          "metadata": {}
        },
        {
          "output_type": "display_data",
          "data": {
            "text/plain": [
              "\u001b[1m Trainable params: \u001b[0m\u001b[38;5;34m613,430\u001b[0m (2.34 MB)\n"
            ],
            "text/html": [
              "<pre style=\"white-space:pre;overflow-x:auto;line-height:normal;font-family:Menlo,'DejaVu Sans Mono',consolas,'Courier New',monospace\"><span style=\"font-weight: bold\"> Trainable params: </span><span style=\"color: #00af00; text-decoration-color: #00af00\">613,430</span> (2.34 MB)\n",
              "</pre>\n"
            ]
          },
          "metadata": {}
        },
        {
          "output_type": "display_data",
          "data": {
            "text/plain": [
              "\u001b[1m Non-trainable params: \u001b[0m\u001b[38;5;34m0\u001b[0m (0.00 B)\n"
            ],
            "text/html": [
              "<pre style=\"white-space:pre;overflow-x:auto;line-height:normal;font-family:Menlo,'DejaVu Sans Mono',consolas,'Courier New',monospace\"><span style=\"font-weight: bold\"> Non-trainable params: </span><span style=\"color: #00af00; text-decoration-color: #00af00\">0</span> (0.00 B)\n",
              "</pre>\n"
            ]
          },
          "metadata": {}
        }
      ]
    },
    {
      "cell_type": "markdown",
      "metadata": {
        "id": "YWK3z85sQfUe"
      },
      "source": [
        "Dado que por el momento no hay implementaciones adecuadas de la perplejidad que puedan operar en tiempo de entrenamiento, armaremos un Callback *ad-hoc* que la calcule en cada epoch.\n",
        "\n",
        "**Nota**: un Callback es una rutina gatillada por algún evento, son muy útiles para relevar datos en diferentes momentos del desarrollo del modelo. En este caso queremos hacer un cálculo cada vez que termina una epoch de entrenamiento."
      ]
    },
    {
      "cell_type": "code",
      "execution_count": 45,
      "metadata": {
        "id": "zUHX3r5JD-MG"
      },
      "outputs": [],
      "source": [
        "class PplCallback(keras.callbacks.Callback):\n",
        "\n",
        "    '''\n",
        "    Este callback es una solución ad-hoc para calcular al final de cada epoch de\n",
        "    entrenamiento la métrica de Perplejidad sobre un conjunto de datos de validación.\n",
        "    La perplejidad es una métrica cuantitativa para evaluar la calidad de la generación de secuencias.\n",
        "    Además implementa la finalización del entrenamiento (Early Stopping)\n",
        "    si la perplejidad no mejora después de `patience` epochs.\n",
        "    '''\n",
        "\n",
        "    def __init__(self, val_data, history_ppl, patience=5):\n",
        "      # El callback lo inicializamos con secuencias de validación sobre las cuales\n",
        "      # mediremos la perplejidad y la paciencia para detener el entrenamiento.\n",
        "      self.val_data = val_data\n",
        "\n",
        "      self.target = []\n",
        "      self.padded = []\n",
        "\n",
        "      count = 0\n",
        "      self.info = []\n",
        "      self.history_ppl = []\n",
        "      self.min_score = np.inf\n",
        "      self.patience_counter = 0\n",
        "      self.patience = patience\n",
        "\n",
        "      # nos movemos en todas las secuencias de los datos de validación\n",
        "      for seq in self.val_data:\n",
        "\n",
        "        len_seq = len(seq)\n",
        "        # armamos todas las subsecuencias\n",
        "        subseq = [seq[:i] for i in range(len_seq)]\n",
        "        self.target.extend([seq[i] for i in range(len_seq)])\n",
        "\n",
        "        if len(subseq)!=0:\n",
        "\n",
        "          self.padded.append(pad_sequences(subseq, maxlen=max_context_size, padding='pre'))\n",
        "\n",
        "          self.info.append((count,count+len_seq))\n",
        "          count += len_seq\n",
        "\n",
        "      self.padded = np.vstack(self.padded)\n",
        "\n",
        "\n",
        "    def on_epoch_end(self, epoch, logs=None):\n",
        "\n",
        "        # en `scores` iremos guardando la perplejidad de cada secuencia\n",
        "        scores = []\n",
        "\n",
        "        predictions = self.model.predict(self.padded,verbose=0)\n",
        "\n",
        "        # para cada secuencia de validación\n",
        "        for start,end in self.info:\n",
        "\n",
        "          # en `probs` iremos guardando las probabilidades de los términos target\n",
        "          probs = [predictions[idx_seq,-1,idx_vocab] for idx_seq, idx_vocab in zip(range(start,end),self.target[start:end])]\n",
        "\n",
        "          # calculamos la perplejidad por medio de logaritmos\n",
        "          scores.append(np.exp(-np.sum(np.log(probs))/(end-start)))\n",
        "\n",
        "        # promediamos todos los scores e imprimimos el valor promedio\n",
        "        current_score = np.mean(scores)\n",
        "        history_ppl.append(current_score)\n",
        "        print(f'\\n mean perplexity: {current_score} \\n')\n",
        "\n",
        "        # chequeamos si tenemos que detener el entrenamiento\n",
        "        if current_score < self.min_score:\n",
        "          self.min_score = current_score\n",
        "          self.model.save(\"my_model.h5\")\n",
        "          print(\"Saved new model!\")\n",
        "          self.patience_counter = 0\n",
        "        else:\n",
        "          self.patience_counter += 1\n",
        "          if self.patience_counter == self.patience:\n",
        "            print(\"Stopping training...\")\n",
        "            self.model.stop_training = True\n"
      ]
    },
    {
      "cell_type": "markdown",
      "metadata": {
        "id": "8HBZIwR0gruA"
      },
      "source": [
        "## Entrenamiento"
      ]
    },
    {
      "cell_type": "code",
      "source": [
        "X[1]"
      ],
      "metadata": {
        "colab": {
          "base_uri": "https://localhost:8080/"
        },
        "id": "ymR4WwSb79kn",
        "outputId": "afec0af3-1078-42ad-9944-b035218e42f4"
      },
      "execution_count": 46,
      "outputs": [
        {
          "output_type": "execute_result",
          "data": {
            "text/plain": [
              "array([ 0,  0,  0,  0,  0,  0,  0,  0,  0,  0, 55, 56], dtype=int32)"
            ]
          },
          "metadata": {},
          "execution_count": 46
        }
      ]
    },
    {
      "cell_type": "markdown",
      "source": [
        "Nota: El callback para el calculo de la perplejidad carga todas las predicciones del conjunto de validación en memoria para cada época"
      ],
      "metadata": {
        "id": "Y6E77fEqodSA"
      }
    },
    {
      "cell_type": "code",
      "execution_count": 47,
      "metadata": {
        "id": "oQq1PHDkxDvN",
        "colab": {
          "base_uri": "https://localhost:8080/"
        },
        "outputId": "46313685-5d84-4952-9377-a0fda96171c1"
      },
      "outputs": [
        {
          "output_type": "stream",
          "name": "stdout",
          "text": [
            "Epoch 1/10\n",
            "\u001b[1m191/192\u001b[0m \u001b[32m━━━━━━━━━━━━━━━━━━━\u001b[0m\u001b[37m━\u001b[0m \u001b[1m0s\u001b[0m 8ms/step - loss: 5.8567"
          ]
        },
        {
          "output_type": "stream",
          "name": "stderr",
          "text": [
            "WARNING:absl:You are saving your model as an HDF5 file via `model.save()` or `keras.saving.save_model(model)`. This file format is considered legacy. We recommend using instead the native Keras format, e.g. `model.save('my_model.keras')` or `keras.saving.save_model(model, 'my_model.keras')`. \n"
          ]
        },
        {
          "output_type": "stream",
          "name": "stdout",
          "text": [
            "\n",
            " mean perplexity: 999.5016711708905 \n",
            "\n",
            "Saved new model!\n",
            "\b\b\b\b\b\b\b\b\b\b\b\b\b\b\b\b\b\b\b\b\b\b\b\b\b\b\b\b\b\b\b\b\b\b\b\b\b\b\b\b\b\b\b\b\b\b\b\b\b\b\b\b\b\b\b\r\u001b[1m192/192\u001b[0m \u001b[32m━━━━━━━━━━━━━━━━━━━━\u001b[0m\u001b[37m\u001b[0m \u001b[1m8s\u001b[0m 15ms/step - loss: 5.8460\n",
            "Epoch 2/10\n",
            "\u001b[1m192/192\u001b[0m \u001b[32m━━━━━━━━━━━━━━━━━━━━\u001b[0m\u001b[37m\u001b[0m \u001b[1m0s\u001b[0m 13ms/step - loss: 4.0239\n",
            " mean perplexity: 1177.157702378931 \n",
            "\n",
            "\u001b[1m192/192\u001b[0m \u001b[32m━━━━━━━━━━━━━━━━━━━━\u001b[0m\u001b[37m\u001b[0m \u001b[1m7s\u001b[0m 17ms/step - loss: 4.0239\n",
            "Epoch 3/10\n",
            "\u001b[1m191/192\u001b[0m \u001b[32m━━━━━━━━━━━━━━━━━━━\u001b[0m\u001b[37m━\u001b[0m \u001b[1m0s\u001b[0m 7ms/step - loss: 3.9780\n",
            " mean perplexity: 1046.0915130468297 \n",
            "\n",
            "\u001b[1m192/192\u001b[0m \u001b[32m━━━━━━━━━━━━━━━━━━━━\u001b[0m\u001b[37m\u001b[0m \u001b[1m2s\u001b[0m 11ms/step - loss: 3.9776\n",
            "Epoch 4/10\n",
            "\u001b[1m185/192\u001b[0m \u001b[32m━━━━━━━━━━━━━━━━━━━\u001b[0m\u001b[37m━\u001b[0m \u001b[1m0s\u001b[0m 7ms/step - loss: 3.8894\n",
            " mean perplexity: 1073.718646638741 \n",
            "\n",
            "\u001b[1m192/192\u001b[0m \u001b[32m━━━━━━━━━━━━━━━━━━━━\u001b[0m\u001b[37m\u001b[0m \u001b[1m3s\u001b[0m 14ms/step - loss: 3.8884\n",
            "Epoch 5/10\n",
            "\u001b[1m191/192\u001b[0m \u001b[32m━━━━━━━━━━━━━━━━━━━\u001b[0m\u001b[37m━\u001b[0m \u001b[1m0s\u001b[0m 7ms/step - loss: 3.7866\n",
            " mean perplexity: 1089.1040361806508 \n",
            "\n",
            "Stopping training...\n",
            "\u001b[1m192/192\u001b[0m \u001b[32m━━━━━━━━━━━━━━━━━━━━\u001b[0m\u001b[37m\u001b[0m \u001b[1m2s\u001b[0m 11ms/step - loss: 3.7867\n"
          ]
        }
      ],
      "source": [
        "# fiteamos, nótese el agregado del callback con su inicialización. El batch_size lo podemos seleccionar a mano\n",
        "# en general, lo mejor es escoger el batch más grande posible que minimice el tiempo de cada época.\n",
        "# En la variable `history_ppl` se guardarán los valores de perplejidad para cada época.\n",
        "history_ppl = []\n",
        "hist = model.fit(X, y, epochs=10, callbacks=[PplCallback(tokenized_sentences_val,history_ppl, patience=4)], batch_size=64)"
      ]
    },
    {
      "cell_type": "code",
      "source": [
        "import matplotlib.pyplot as plt\n",
        "import seaborn as sns\n",
        "\n",
        "# Podemos graficar la evolución de la perplejidad con las épocas.\n",
        "# Recordar que el valor de perplejidad del modelo trivial es el tamaño del vocabulario.\n",
        "print()\n",
        "epoch_count = range(1, len(history_ppl) + 1)\n",
        "sns.lineplot(x=epoch_count,  y=history_ppl)\n",
        "plt.show()"
      ],
      "metadata": {
        "id": "K30JHB3Dv-mx",
        "colab": {
          "base_uri": "https://localhost:8080/",
          "height": 448
        },
        "outputId": "9e1197e0-7d59-4446-e6a1-20e9cce21b04"
      },
      "execution_count": 48,
      "outputs": [
        {
          "output_type": "stream",
          "name": "stdout",
          "text": [
            "\n"
          ]
        },
        {
          "output_type": "display_data",
          "data": {
            "text/plain": [
              "<Figure size 640x480 with 1 Axes>"
            ],
            "image/png": "[encoded data removed]"
          },
          "metadata": {}
        }
      ]
    },
    {
      "cell_type": "code",
      "source": [
        "# Cargamos el mejor modelo guardado del entrenamiento para hacer inferencia\n",
        "model = keras.models.load_model('my_model.h5')"
      ],
      "metadata": {
        "id": "Rhy5hZN38qfO",
        "colab": {
          "base_uri": "https://localhost:8080/"
        },
        "outputId": "abdd741e-6a29-48c3-cc03-48e8420e5e50"
      },
      "execution_count": 49,
      "outputs": [
        {
          "output_type": "stream",
          "name": "stderr",
          "text": [
            "WARNING:absl:Compiled the loaded model, but the compiled metrics have yet to be built. `model.compile_metrics` will be empty until you train or evaluate the model.\n"
          ]
        }
      ]
    },
    {
      "cell_type": "markdown",
      "metadata": {
        "id": "KN6Fg_BsxJe6"
      },
      "source": [
        "\n",
        "## Predicción de próxima palabra"
      ]
    },
    {
      "cell_type": "code",
      "execution_count": 50,
      "metadata": {
        "id": "IBvKHFPmzpy2",
        "colab": {
          "base_uri": "https://localhost:8080/"
        },
        "outputId": "595296c9-0323-46b8-8054-fa74b5cbd690"
      },
      "outputs": [
        {
          "output_type": "stream",
          "name": "stdout",
          "text": [
            "\u001b[2K     \u001b[90m━━━━━━━━━━━━━━━━━━━━━━━━━━━━━━━━━━━━━━━━\u001b[0m \u001b[32m50.4/50.4 kB\u001b[0m \u001b[31m4.3 MB/s\u001b[0m eta \u001b[36m0:00:00\u001b[0m\n",
            "\u001b[2K   \u001b[90m━━━━━━━━━━━━━━━━━━━━━━━━━━━━━━━━━━━━━━━━\u001b[0m \u001b[32m18.1/18.1 MB\u001b[0m \u001b[31m77.6 MB/s\u001b[0m eta \u001b[36m0:00:00\u001b[0m\n",
            "\u001b[2K   \u001b[90m━━━━━━━━━━━━━━━━━━━━━━━━━━━━━━━━━━━━━━━━\u001b[0m \u001b[32m318.7/318.7 kB\u001b[0m \u001b[31m30.0 MB/s\u001b[0m eta \u001b[36m0:00:00\u001b[0m\n",
            "\u001b[2K   \u001b[90m━━━━━━━━━━━━━━━━━━━━━━━━━━━━━━━━━━━━━━━━\u001b[0m \u001b[32m94.6/94.6 kB\u001b[0m \u001b[31m10.0 MB/s\u001b[0m eta \u001b[36m0:00:00\u001b[0m\n",
            "\u001b[2K   \u001b[90m━━━━━━━━━━━━━━━━━━━━━━━━━━━━━━━━━━━━━━━━\u001b[0m \u001b[32m76.4/76.4 kB\u001b[0m \u001b[31m8.2 MB/s\u001b[0m eta \u001b[36m0:00:00\u001b[0m\n",
            "\u001b[2K   \u001b[90m━━━━━━━━━━━━━━━━━━━━━━━━━━━━━━━━━━━━━━━━\u001b[0m \u001b[32m77.9/77.9 kB\u001b[0m \u001b[31m8.4 MB/s\u001b[0m eta \u001b[36m0:00:00\u001b[0m\n",
            "\u001b[2K   \u001b[90m━━━━━━━━━━━━━━━━━━━━━━━━━━━━━━━━━━━━━━━━\u001b[0m \u001b[32m141.9/141.9 kB\u001b[0m \u001b[31m14.8 MB/s\u001b[0m eta \u001b[36m0:00:00\u001b[0m\n",
            "\u001b[2K   \u001b[90m━━━━━━━━━━━━━━━━━━━━━━━━━━━━━━━━━━━━━━━━\u001b[0m \u001b[32m10.8/10.8 MB\u001b[0m \u001b[31m71.9 MB/s\u001b[0m eta \u001b[36m0:00:00\u001b[0m\n",
            "\u001b[2K   \u001b[90m━━━━━━━━━━━━━━━━━━━━━━━━━━━━━━━━━━━━━━━━\u001b[0m \u001b[32m62.8/62.8 kB\u001b[0m \u001b[31m6.5 MB/s\u001b[0m eta \u001b[36m0:00:00\u001b[0m\n",
            "\u001b[2K   \u001b[90m━━━━━━━━━━━━━━━━━━━━━━━━━━━━━━━━━━━━━━━━\u001b[0m \u001b[32m58.3/58.3 kB\u001b[0m \u001b[31m6.5 MB/s\u001b[0m eta \u001b[36m0:00:00\u001b[0m\n",
            "\u001b[2K   \u001b[90m━━━━━━━━━━━━━━━━━━━━━━━━━━━━━━━━━━━━━━━━\u001b[0m \u001b[32m71.5/71.5 kB\u001b[0m \u001b[31m7.5 MB/s\u001b[0m eta \u001b[36m0:00:00\u001b[0m\n",
            "\u001b[2K   \u001b[90m━━━━━━━━━━━━━━━━━━━━━━━━━━━━━━━━━━━━━━━━\u001b[0m \u001b[32m130.2/130.2 kB\u001b[0m \u001b[31m14.4 MB/s\u001b[0m eta \u001b[36m0:00:00\u001b[0m\n",
            "\u001b[?25h"
          ]
        }
      ],
      "source": [
        "# Se puede usar gradio para probar el modelo\n",
        "# Gradio es una herramienta muy útil para crear interfaces para ensayar modelos\n",
        "# https://gradio.app/\n",
        "\n",
        "!pip install -q gradio"
      ]
    },
    {
      "cell_type": "code",
      "execution_count": 51,
      "metadata": {
        "id": "HNyBykvhzs7-",
        "colab": {
          "base_uri": "https://localhost:8080/",
          "height": 704
        },
        "outputId": "3d9710e5-137a-4ca4-ac4b-76055b02f23e"
      },
      "outputs": [
        {
          "output_type": "stream",
          "name": "stdout",
          "text": [
            "Setting queue=True in a Colab notebook requires sharing enabled. Setting `share=True` (you can turn this off by setting `share=False` in `launch()` explicitly).\n",
            "\n",
            "Colab notebook detected. This cell will run indefinitely so that you can see errors and logs. To turn off, set debug=False in launch().\n",
            "Running on public URL: https://2000a8d4279e23569e.gradio.live\n",
            "\n",
            "This share link expires in 72 hours. For free permanent hosting and GPU upgrades, run `gradio deploy` from Terminal to deploy to Spaces (https://huggingface.co/spaces)\n"
          ]
        },
        {
          "output_type": "display_data",
          "data": {
            "text/plain": [
              "<IPython.core.display.HTML object>"
            ],
            "text/html": [
              "<div><iframe src=\"https://2000a8d4279e23569e.gradio.live\" width=\"100%\" height=\"500\" allow=\"autoplay; camera; microphone; clipboard-read; clipboard-write;\" frameborder=\"0\" allowfullscreen></iframe></div>"
            ]
          },
          "metadata": {}
        },
        {
          "output_type": "stream",
          "name": "stdout",
          "text": [
            "\u001b[1m1/1\u001b[0m \u001b[32m━━━━━━━━━━━━━━━━━━━━\u001b[0m\u001b[37m\u001b[0m \u001b[1m0s\u001b[0m 191ms/step\n",
            "Keyboard interruption in main thread... closing server.\n",
            "Killing tunnel 127.0.0.1:7860 <> https://2000a8d4279e23569e.gradio.live\n"
          ]
        },
        {
          "output_type": "execute_result",
          "data": {
            "text/plain": []
          },
          "metadata": {},
          "execution_count": 51
        }
      ],
      "source": [
        "import gradio as gr\n",
        "\n",
        "def model_response(human_text):\n",
        "\n",
        "    # Encodeamos\n",
        "    encoded = tok.texts_to_sequences([human_text])[0]\n",
        "    # Si tienen distinto largo\n",
        "    encoded = pad_sequences([encoded], maxlen=max_context_size, padding='pre')\n",
        "\n",
        "    # Predicción softmax\n",
        "    y_hat = np.argmax(model.predict(encoded)[0,-1,:])\n",
        "\n",
        "\n",
        "    # Debemos buscar en el vocabulario la palabra\n",
        "    # que corresopnde al indice (y_hat) predicho por le modelo\n",
        "    out_word = ''\n",
        "    for word, index in tok.word_index.items():\n",
        "        if index == y_hat:\n",
        "            out_word = word\n",
        "            break\n",
        "\n",
        "    # Agrego la palabra a la frase predicha\n",
        "    return human_text + ' ' + out_word\n",
        "\n",
        "iface = gr.Interface(\n",
        "    fn=model_response,\n",
        "    inputs=[\"textbox\"],\n",
        "    outputs=\"text\")\n",
        "\n",
        "iface.launch(debug=True)"
      ]
    },
    {
      "cell_type": "markdown",
      "metadata": {
        "id": "mCeMWWupxN1-"
      },
      "source": [
        "## Generación de secuencias"
      ]
    },
    {
      "cell_type": "code",
      "execution_count": 52,
      "metadata": {
        "id": "bwbS_pfhxvB3"
      },
      "outputs": [],
      "source": [
        "def generate_seq(model, tokenizer, seed_text, max_length, n_words):\n",
        "    \"\"\"\n",
        "        Exec model sequence prediction\n",
        "\n",
        "        Args:\n",
        "            model (keras): modelo entrenado\n",
        "            tokenizer (keras tokenizer): tonenizer utilizado en el preprocesamiento\n",
        "            seed_text (string): texto de entrada (input_seq)\n",
        "            max_length (int): máxima longitud de la sequencia de entrada\n",
        "            n_words (int): números de palabras a agregar a la sequencia de entrada\n",
        "        returns:\n",
        "            output_text (string): sentencia con las \"n_words\" agregadas\n",
        "    \"\"\"\n",
        "    output_text = seed_text\n",
        "\t  # generate a fixed number of words\n",
        "    for _ in range(n_words):\n",
        "\t\t  # Tokenizamos\n",
        "      encoded = tokenizer.texts_to_sequences([output_text])[0]\n",
        "\n",
        "\t\t  # Si tienen distinto largo\n",
        "      encoded = pad_sequences([encoded], maxlen=max_length, padding='pre')\n",
        "\n",
        "\t\t  # Predicción softmax\n",
        "      y_hat = np.argmax(model.predict(encoded)[0,-1,:])\n",
        "\n",
        "      # Vamos concatenando las predicciones\n",
        "      out_word = ''\n",
        "\n",
        "      # Debemos buscar en el vocabulario la palabra\n",
        "      # que corresopnde al indice (y_hat) predicho por le modelo\n",
        "      for word, index in tokenizer.word_index.items():\n",
        "        if index == y_hat:\n",
        "          out_word = word\n",
        "          break\n",
        "\n",
        "\t\t  # Agrego las palabras a la frase predicha\n",
        "      output_text += ' ' + out_word\n",
        "\n",
        "    return output_text"
      ]
    },
    {
      "cell_type": "code",
      "execution_count": 53,
      "metadata": {
        "id": "JoFqRC5pxzqS",
        "colab": {
          "base_uri": "https://localhost:8080/",
          "height": 217
        },
        "outputId": "b3e37729-04bb-45a6-85b5-c827e9ee4643"
      },
      "outputs": [
        {
          "output_type": "stream",
          "name": "stdout",
          "text": [
            "\u001b[1m1/1\u001b[0m \u001b[32m━━━━━━━━━━━━━━━━━━━━\u001b[0m\u001b[37m\u001b[0m \u001b[1m0s\u001b[0m 17ms/step\n",
            "\u001b[1m1/1\u001b[0m \u001b[32m━━━━━━━━━━━━━━━━━━━━\u001b[0m\u001b[37m\u001b[0m \u001b[1m0s\u001b[0m 17ms/step\n",
            "\u001b[1m1/1\u001b[0m \u001b[32m━━━━━━━━━━━━━━━━━━━━\u001b[0m\u001b[37m\u001b[0m \u001b[1m0s\u001b[0m 15ms/step\n",
            "\u001b[1m1/1\u001b[0m \u001b[32m━━━━━━━━━━━━━━━━━━━━\u001b[0m\u001b[37m\u001b[0m \u001b[1m0s\u001b[0m 17ms/step\n",
            "\u001b[1m1/1\u001b[0m \u001b[32m━━━━━━━━━━━━━━━━━━━━\u001b[0m\u001b[37m\u001b[0m \u001b[1m0s\u001b[0m 16ms/step\n",
            "\u001b[1m1/1\u001b[0m \u001b[32m━━━━━━━━━━━━━━━━━━━━\u001b[0m\u001b[37m\u001b[0m \u001b[1m0s\u001b[0m 17ms/step\n",
            "\u001b[1m1/1\u001b[0m \u001b[32m━━━━━━━━━━━━━━━━━━━━\u001b[0m\u001b[37m\u001b[0m \u001b[1m0s\u001b[0m 16ms/step\n",
            "\u001b[1m1/1\u001b[0m \u001b[32m━━━━━━━━━━━━━━━━━━━━\u001b[0m\u001b[37m\u001b[0m \u001b[1m0s\u001b[0m 18ms/step\n",
            "\u001b[1m1/1\u001b[0m \u001b[32m━━━━━━━━━━━━━━━━━━━━\u001b[0m\u001b[37m\u001b[0m \u001b[1m0s\u001b[0m 22ms/step\n",
            "\u001b[1m1/1\u001b[0m \u001b[32m━━━━━━━━━━━━━━━━━━━━\u001b[0m\u001b[37m\u001b[0m \u001b[1m0s\u001b[0m 21ms/step\n"
          ]
        },
        {
          "output_type": "execute_result",
          "data": {
            "text/plain": [
              "'At amazon we think is is is is is is is is is is'"
            ],
            "application/vnd.google.colaboratory.intrinsic+json": {
              "type": "string"
            }
          },
          "metadata": {},
          "execution_count": 53
        }
      ],
      "source": [
        "input_text='At amazon we think'\n",
        "\n",
        "generate_seq(model, tok, input_text, max_length=max_context_size, n_words=10)"
      ]
    },
    {
      "cell_type": "markdown",
      "metadata": {
        "id": "drJ6xn5qW1Hl"
      },
      "source": [
        "##  Beam search y muestreo aleatorio"
      ]
    },
    {
      "cell_type": "code",
      "execution_count": 54,
      "metadata": {
        "id": "_vovn9XZW1Hl"
      },
      "outputs": [],
      "source": [
        "# funcionalidades para hacer encoding y decoding\n",
        "\n",
        "def encode(text,max_length=max_context_size):\n",
        "\n",
        "    encoded = tok.texts_to_sequences([text])[0]\n",
        "    encoded = pad_sequences([encoded], maxlen=max_length, padding='pre')\n",
        "\n",
        "    return encoded\n",
        "\n",
        "def decode(seq):\n",
        "    return tok.sequences_to_texts([seq])"
      ]
    },
    {
      "cell_type": "code",
      "execution_count": 55,
      "metadata": {
        "id": "I_lZiQwkW1Hl"
      },
      "outputs": [],
      "source": [
        "from scipy.special import softmax\n",
        "\n",
        "# función que selecciona candidatos para el beam search\n",
        "def select_candidates(pred,num_beams,vocab_size,history_probs,history_tokens,temp,mode):\n",
        "\n",
        "  # colectar todas las probabilidades para la siguiente búsqueda\n",
        "  pred_large = []\n",
        "\n",
        "  for idx,pp in enumerate(pred):\n",
        "    pred_large.extend(np.log(pp+1E-10)+history_probs[idx])\n",
        "\n",
        "  pred_large = np.array(pred_large)\n",
        "\n",
        "  # criterio de selección\n",
        "  if mode == 'det':\n",
        "    idx_select = np.argsort(pred_large)[::-1][:num_beams] # beam search determinista\n",
        "  elif mode == 'sto':\n",
        "    idx_select = np.random.choice(np.arange(pred_large.shape[0]), num_beams, p=softmax(pred_large/temp)) # beam search con muestreo aleatorio\n",
        "  else:\n",
        "    raise ValueError(f'Wrong selection mode. {mode} was given. det and sto are supported.')\n",
        "\n",
        "  # traducir a índices de token en el vocabulario\n",
        "  new_history_tokens = np.concatenate((np.array(history_tokens)[idx_select//vocab_size],\n",
        "                        np.array([idx_select%vocab_size]).T),\n",
        "                      axis=1)\n",
        "\n",
        "  # devolver el producto de las probabilidades (log) y la secuencia de tokens seleccionados\n",
        "  return pred_large[idx_select.astype(int)], new_history_tokens.astype(int)\n",
        "\n",
        "\n",
        "def beam_search(model,num_beams,num_words,input,temp=1,mode='det'):\n",
        "\n",
        "    # first iteration\n",
        "\n",
        "    # encode\n",
        "    encoded = encode(input)\n",
        "\n",
        "    # first prediction\n",
        "    y_hat = model.predict(encoded,verbose=0)[0,-1,:]\n",
        "\n",
        "    # get vocabulary size\n",
        "    vocab_size = y_hat.shape[0]\n",
        "\n",
        "    # initialize history\n",
        "    history_probs = [0]*num_beams\n",
        "    history_tokens = [encoded[0]]*num_beams\n",
        "\n",
        "    # select num_beams candidates\n",
        "    history_probs, history_tokens = select_candidates([y_hat],\n",
        "                                        num_beams,\n",
        "                                        vocab_size,\n",
        "                                        history_probs,\n",
        "                                        history_tokens,\n",
        "                                        temp,\n",
        "                                        mode)\n",
        "\n",
        "    # beam search loop\n",
        "    for i in range(num_words-1):\n",
        "\n",
        "      preds = []\n",
        "\n",
        "      for hist in history_tokens:\n",
        "\n",
        "        # actualizar secuencia de tokens\n",
        "        input_update = np.array([hist[i+1:]]).copy()\n",
        "\n",
        "        # predicción\n",
        "        y_hat = model.predict(input_update,verbose=0)[0,-1,:]\n",
        "\n",
        "        preds.append(y_hat)\n",
        "\n",
        "      history_probs, history_tokens = select_candidates(preds,\n",
        "                                                        num_beams,\n",
        "                                                        vocab_size,\n",
        "                                                        history_probs,\n",
        "                                                        history_tokens,\n",
        "                                                        temp,\n",
        "                                                        mode)\n",
        "\n",
        "    return history_tokens"
      ]
    },
    {
      "cell_type": "code",
      "execution_count": 56,
      "metadata": {
        "id": "GeLqAoOYW1Hm"
      },
      "outputs": [],
      "source": [
        "# predicción con beam search.\n",
        "# Se pueden camiar los modos entre 'det' (determinista) y\n",
        "# 'sto' (estocástico)\n",
        "# para el caso estocástico también se puede variar la temperatura\n",
        "salidas_Amazon = beam_search(model,num_beams=3,num_words=20,input=\"At amazon we think\",temp=1,mode='sto')\n",
        "salidas_IBM = beam_search(model,num_beams=3,num_words=20,input=\"At ibm we think\",temp=1,mode='sto')\n",
        "salidas_google = beam_search(model,num_beams=3,num_words=20,input=\"At google we think\",temp=1,mode='sto')"
      ]
    },
    {
      "cell_type": "code",
      "source": [
        "# tenemos `num_beams` salidas ordenadas de mayor a menor likelihood\n",
        "salidas_Amazon.shape"
      ],
      "metadata": {
        "id": "P8HQoLhw-NYg",
        "colab": {
          "base_uri": "https://localhost:8080/"
        },
        "outputId": "e8d6de86-7f29-4646-a701-2e1bb43ab3a6"
      },
      "execution_count": 57,
      "outputs": [
        {
          "output_type": "execute_result",
          "data": {
            "text/plain": [
              "(3, 32)"
            ]
          },
          "metadata": {},
          "execution_count": 57
        }
      ]
    },
    {
      "cell_type": "code",
      "execution_count": 58,
      "metadata": {
        "id": "2S3_I3S1W1Hm",
        "colab": {
          "base_uri": "https://localhost:8080/"
        },
        "outputId": "be93d751-96f6-47ba-9188-4fe941f70e58"
      },
      "outputs": [
        {
          "output_type": "stream",
          "name": "stdout",
          "text": [
            "['at amazon we think and the in follow candidate is nasdaq the global agency more and']\n",
            "['at ibm we think the construction more data customer group award is help the is the we that the the at and herbalife the']\n",
            "['at we think services a global schools the the world’s price powers an the 000 crain people read the nyse to a of']\n"
          ]
        }
      ],
      "source": [
        "# veamos las salidas\n",
        "print(decode(salidas_Amazon[0]))\n",
        "print(decode(salidas_IBM[0]))\n",
        "print(decode(salidas_google[0]))"
      ]
    },
    {
      "cell_type": "markdown",
      "source": [
        "# Conclusión"
      ],
      "metadata": {
        "id": "bUmvka9PoyZG"
      }
    },
    {
      "cell_type": "markdown",
      "source": [
        "1. La primera iteración de este trabajo práctico se realizó sobre un dataset de tweets sin resultados exitosos en términos de la métrica de perplejidad, ni en el comportamiento del modelo para predecir palabras. En este caso, se trabajó con un tamaño de contexto de 20 palabras, lo cual pudo haber limitado la capacidad del modelo para captar adecuadamente las dependencias entre palabras, sobre todo considerando la naturaleza corta y el lenguaje informal de los tweets.\n",
        "\n",
        "2. En la segunda iteración, se utilizó un dataset con mayor cantidad de datos y un tamaño de contexto ampliado a 77 palabras, con la intención de mejorar la captura de contexto y reducir la perplejidad. Sin embargo, la métrica de perplejidad seguía siendo alta, superando incluso el tamaño del vocabulario, lo que indica que el modelo no lograba generalizar adecuadamente. Este resultado puede deberse a varios factores, entre ellos un vocabulario muy amplio, la falta de suficiente entrenamiento o la necesidad de ajustar otros hiperparámetros como el tamaño del embedding o la arquitectura del modelo.\n",
        "Se probó aplicar técnicas de regularización como el dropout, para evitar el sobreajuste. Y también se probo agregando nuevas capas densas, pero esto aumentaba el consumo en memoria.\n",
        "\n",
        "\n",
        "3. A partir de los resultados obtenidos, es evidente que el modelo necesita una mayor optimización. La elección del dataset y de los contextos utilizados puede no ser adecuada. Una posible solución podría ser reducir el tamaño del vocabulario. Por otro lado, se podría explorar arquitecturas de modelos más sofisticadas, como redes neuronales recurrentes, que suelen manejar mejor secuencias largas.También podría ayudar el uso de capas preentrenadas.\n",
        "\n",
        "4. Por ultimo se sobreescribió el notebook acortando los documentos del dataset a 13 palabras cada uno. Luego se reentreno y los resultados obtenidos son mejores.\n",
        "  - La metrica de perplejidad es menor al tamaño del vocabulario.\n",
        "  - Se logró disminuir en gran medida el valor de la métrica (la misma divergia con el dataset de context_size=77)\n",
        "  - El comportamiento del modelo a la hora de predecir es malo pero logra escapar de predecir siempre el mismo token por default mediante el muestreo estocástico."
      ],
      "metadata": {
        "id": "T1FltWVYo08a"
      }
    },
    {
      "cell_type": "markdown",
      "source": [
        "---"
      ],
      "metadata": {
        "id": "xbkTdc4csAfi"
      }
    },
    {
      "cell_type": "markdown",
      "source": [
        "## Prueba con GRU"
      ],
      "metadata": {
        "id": "xtgvR7dJgjq1"
      }
    },
    {
      "cell_type": "code",
      "source": [
        "model.pop()\n",
        "model.pop()\n",
        "model.pop()"
      ],
      "metadata": {
        "colab": {
          "base_uri": "https://localhost:8080/"
        },
        "id": "J2xYR67RhCU_",
        "outputId": "cc5d3a61-5957-4ed5-8381-ce218052556b"
      },
      "execution_count": 60,
      "outputs": [
        {
          "output_type": "execute_result",
          "data": {
            "text/plain": [
              "<Dropout name=dropout, built=True>"
            ]
          },
          "metadata": {},
          "execution_count": 60
        }
      ]
    },
    {
      "cell_type": "code",
      "source": [
        "model.summary()"
      ],
      "metadata": {
        "colab": {
          "base_uri": "https://localhost:8080/",
          "height": 209
        },
        "id": "Fam2D5HKhCxt",
        "outputId": "e8354198-f490-473e-c42e-30188e7da9a3"
      },
      "execution_count": 61,
      "outputs": [
        {
          "output_type": "display_data",
          "data": {
            "text/plain": [
              "\u001b[1mModel: \"sequential\"\u001b[0m\n"
            ],
            "text/html": [
              "<pre style=\"white-space:pre;overflow-x:auto;line-height:normal;font-family:Menlo,'DejaVu Sans Mono',consolas,'Courier New',monospace\"><span style=\"font-weight: bold\">Model: \"sequential\"</span>\n",
              "</pre>\n"
            ]
          },
          "metadata": {}
        },
        {
          "output_type": "display_data",
          "data": {
            "text/plain": [
              "┏━━━━━━━━━━━━━━━━━━━━━━━━━━━━━━━━━━━━━━┳━━━━━━━━━━━━━━━━━━━━━━━━━━━━━┳━━━━━━━━━━━━━━━━━┓\n",
              "┃\u001b[1m \u001b[0m\u001b[1mLayer (type)                        \u001b[0m\u001b[1m \u001b[0m┃\u001b[1m \u001b[0m\u001b[1mOutput Shape               \u001b[0m\u001b[1m \u001b[0m┃\u001b[1m \u001b[0m\u001b[1m        Param #\u001b[0m\u001b[1m \u001b[0m┃\n",
              "┡━━━━━━━━━━━━━━━━━━━━━━━━━━━━━━━━━━━━━━╇━━━━━━━━━━━━━━━━━━━━━━━━━━━━━╇━━━━━━━━━━━━━━━━━┩\n",
              "│ embedding (\u001b[38;5;33mEmbedding\u001b[0m)                │ (\u001b[38;5;45mNone\u001b[0m, \u001b[38;5;45mNone\u001b[0m, \u001b[38;5;34m50\u001b[0m)            │         \u001b[38;5;34m156,500\u001b[0m │\n",
              "├──────────────────────────────────────┼─────────────────────────────┼─────────────────┤\n",
              "│ lstm (\u001b[38;5;33mLSTM\u001b[0m)                          │ (\u001b[38;5;45mNone\u001b[0m, \u001b[38;5;45mNone\u001b[0m, \u001b[38;5;34m100\u001b[0m)           │          \u001b[38;5;34m60,400\u001b[0m │\n",
              "└──────────────────────────────────────┴─────────────────────────────┴─────────────────┘\n"
            ],
            "text/html": [
              "<pre style=\"white-space:pre;overflow-x:auto;line-height:normal;font-family:Menlo,'DejaVu Sans Mono',consolas,'Courier New',monospace\">┏━━━━━━━━━━━━━━━━━━━━━━━━━━━━━━━━━━━━━━┳━━━━━━━━━━━━━━━━━━━━━━━━━━━━━┳━━━━━━━━━━━━━━━━━┓\n",
              "┃<span style=\"font-weight: bold\"> Layer (type)                         </span>┃<span style=\"font-weight: bold\"> Output Shape                </span>┃<span style=\"font-weight: bold\">         Param # </span>┃\n",
              "┡━━━━━━━━━━━━━━━━━━━━━━━━━━━━━━━━━━━━━━╇━━━━━━━━━━━━━━━━━━━━━━━━━━━━━╇━━━━━━━━━━━━━━━━━┩\n",
              "│ embedding (<span style=\"color: #0087ff; text-decoration-color: #0087ff\">Embedding</span>)                │ (<span style=\"color: #00d7ff; text-decoration-color: #00d7ff\">None</span>, <span style=\"color: #00d7ff; text-decoration-color: #00d7ff\">None</span>, <span style=\"color: #00af00; text-decoration-color: #00af00\">50</span>)            │         <span style=\"color: #00af00; text-decoration-color: #00af00\">156,500</span> │\n",
              "├──────────────────────────────────────┼─────────────────────────────┼─────────────────┤\n",
              "│ lstm (<span style=\"color: #0087ff; text-decoration-color: #0087ff\">LSTM</span>)                          │ (<span style=\"color: #00d7ff; text-decoration-color: #00d7ff\">None</span>, <span style=\"color: #00d7ff; text-decoration-color: #00d7ff\">None</span>, <span style=\"color: #00af00; text-decoration-color: #00af00\">100</span>)           │          <span style=\"color: #00af00; text-decoration-color: #00af00\">60,400</span> │\n",
              "└──────────────────────────────────────┴─────────────────────────────┴─────────────────┘\n",
              "</pre>\n"
            ]
          },
          "metadata": {}
        },
        {
          "output_type": "display_data",
          "data": {
            "text/plain": [
              "\u001b[1m Total params: \u001b[0m\u001b[38;5;34m216,902\u001b[0m (847.28 KB)\n"
            ],
            "text/html": [
              "<pre style=\"white-space:pre;overflow-x:auto;line-height:normal;font-family:Menlo,'DejaVu Sans Mono',consolas,'Courier New',monospace\"><span style=\"font-weight: bold\"> Total params: </span><span style=\"color: #00af00; text-decoration-color: #00af00\">216,902</span> (847.28 KB)\n",
              "</pre>\n"
            ]
          },
          "metadata": {}
        },
        {
          "output_type": "display_data",
          "data": {
            "text/plain": [
              "\u001b[1m Trainable params: \u001b[0m\u001b[38;5;34m216,900\u001b[0m (847.27 KB)\n"
            ],
            "text/html": [
              "<pre style=\"white-space:pre;overflow-x:auto;line-height:normal;font-family:Menlo,'DejaVu Sans Mono',consolas,'Courier New',monospace\"><span style=\"font-weight: bold\"> Trainable params: </span><span style=\"color: #00af00; text-decoration-color: #00af00\">216,900</span> (847.27 KB)\n",
              "</pre>\n"
            ]
          },
          "metadata": {}
        },
        {
          "output_type": "display_data",
          "data": {
            "text/plain": [
              "\u001b[1m Non-trainable params: \u001b[0m\u001b[38;5;34m0\u001b[0m (0.00 B)\n"
            ],
            "text/html": [
              "<pre style=\"white-space:pre;overflow-x:auto;line-height:normal;font-family:Menlo,'DejaVu Sans Mono',consolas,'Courier New',monospace\"><span style=\"font-weight: bold\"> Non-trainable params: </span><span style=\"color: #00af00; text-decoration-color: #00af00\">0</span> (0.00 B)\n",
              "</pre>\n"
            ]
          },
          "metadata": {}
        },
        {
          "output_type": "display_data",
          "data": {
            "text/plain": [
              "\u001b[1m Optimizer params: \u001b[0m\u001b[38;5;34m2\u001b[0m (12.00 B)\n"
            ],
            "text/html": [
              "<pre style=\"white-space:pre;overflow-x:auto;line-height:normal;font-family:Menlo,'DejaVu Sans Mono',consolas,'Courier New',monospace\"><span style=\"font-weight: bold\"> Optimizer params: </span><span style=\"color: #00af00; text-decoration-color: #00af00\">2</span> (12.00 B)\n",
              "</pre>\n"
            ]
          },
          "metadata": {}
        }
      ]
    },
    {
      "cell_type": "code",
      "source": [
        "model.pop()\n",
        "model.summary()"
      ],
      "metadata": {
        "colab": {
          "base_uri": "https://localhost:8080/",
          "height": 177
        },
        "id": "NiZ_W7IihQXv",
        "outputId": "521d8fee-4b53-4d5c-a417-79f3b27c05a4"
      },
      "execution_count": 62,
      "outputs": [
        {
          "output_type": "display_data",
          "data": {
            "text/plain": [
              "\u001b[1mModel: \"sequential\"\u001b[0m\n"
            ],
            "text/html": [
              "<pre style=\"white-space:pre;overflow-x:auto;line-height:normal;font-family:Menlo,'DejaVu Sans Mono',consolas,'Courier New',monospace\"><span style=\"font-weight: bold\">Model: \"sequential\"</span>\n",
              "</pre>\n"
            ]
          },
          "metadata": {}
        },
        {
          "output_type": "display_data",
          "data": {
            "text/plain": [
              "┏━━━━━━━━━━━━━━━━━━━━━━━━━━━━━━━━━━━━━━┳━━━━━━━━━━━━━━━━━━━━━━━━━━━━━┳━━━━━━━━━━━━━━━━━┓\n",
              "┃\u001b[1m \u001b[0m\u001b[1mLayer (type)                        \u001b[0m\u001b[1m \u001b[0m┃\u001b[1m \u001b[0m\u001b[1mOutput Shape               \u001b[0m\u001b[1m \u001b[0m┃\u001b[1m \u001b[0m\u001b[1m        Param #\u001b[0m\u001b[1m \u001b[0m┃\n",
              "┡━━━━━━━━━━━━━━━━━━━━━━━━━━━━━━━━━━━━━━╇━━━━━━━━━━━━━━━━━━━━━━━━━━━━━╇━━━━━━━━━━━━━━━━━┩\n",
              "│ embedding (\u001b[38;5;33mEmbedding\u001b[0m)                │ (\u001b[38;5;45mNone\u001b[0m, \u001b[38;5;45mNone\u001b[0m, \u001b[38;5;34m50\u001b[0m)            │         \u001b[38;5;34m156,500\u001b[0m │\n",
              "└──────────────────────────────────────┴─────────────────────────────┴─────────────────┘\n"
            ],
            "text/html": [
              "<pre style=\"white-space:pre;overflow-x:auto;line-height:normal;font-family:Menlo,'DejaVu Sans Mono',consolas,'Courier New',monospace\">┏━━━━━━━━━━━━━━━━━━━━━━━━━━━━━━━━━━━━━━┳━━━━━━━━━━━━━━━━━━━━━━━━━━━━━┳━━━━━━━━━━━━━━━━━┓\n",
              "┃<span style=\"font-weight: bold\"> Layer (type)                         </span>┃<span style=\"font-weight: bold\"> Output Shape                </span>┃<span style=\"font-weight: bold\">         Param # </span>┃\n",
              "┡━━━━━━━━━━━━━━━━━━━━━━━━━━━━━━━━━━━━━━╇━━━━━━━━━━━━━━━━━━━━━━━━━━━━━╇━━━━━━━━━━━━━━━━━┩\n",
              "│ embedding (<span style=\"color: #0087ff; text-decoration-color: #0087ff\">Embedding</span>)                │ (<span style=\"color: #00d7ff; text-decoration-color: #00d7ff\">None</span>, <span style=\"color: #00d7ff; text-decoration-color: #00d7ff\">None</span>, <span style=\"color: #00af00; text-decoration-color: #00af00\">50</span>)            │         <span style=\"color: #00af00; text-decoration-color: #00af00\">156,500</span> │\n",
              "└──────────────────────────────────────┴─────────────────────────────┴─────────────────┘\n",
              "</pre>\n"
            ]
          },
          "metadata": {}
        },
        {
          "output_type": "display_data",
          "data": {
            "text/plain": [
              "\u001b[1m Total params: \u001b[0m\u001b[38;5;34m156,502\u001b[0m (611.34 KB)\n"
            ],
            "text/html": [
              "<pre style=\"white-space:pre;overflow-x:auto;line-height:normal;font-family:Menlo,'DejaVu Sans Mono',consolas,'Courier New',monospace\"><span style=\"font-weight: bold\"> Total params: </span><span style=\"color: #00af00; text-decoration-color: #00af00\">156,502</span> (611.34 KB)\n",
              "</pre>\n"
            ]
          },
          "metadata": {}
        },
        {
          "output_type": "display_data",
          "data": {
            "text/plain": [
              "\u001b[1m Trainable params: \u001b[0m\u001b[38;5;34m156,500\u001b[0m (611.33 KB)\n"
            ],
            "text/html": [
              "<pre style=\"white-space:pre;overflow-x:auto;line-height:normal;font-family:Menlo,'DejaVu Sans Mono',consolas,'Courier New',monospace\"><span style=\"font-weight: bold\"> Trainable params: </span><span style=\"color: #00af00; text-decoration-color: #00af00\">156,500</span> (611.33 KB)\n",
              "</pre>\n"
            ]
          },
          "metadata": {}
        },
        {
          "output_type": "display_data",
          "data": {
            "text/plain": [
              "\u001b[1m Non-trainable params: \u001b[0m\u001b[38;5;34m0\u001b[0m (0.00 B)\n"
            ],
            "text/html": [
              "<pre style=\"white-space:pre;overflow-x:auto;line-height:normal;font-family:Menlo,'DejaVu Sans Mono',consolas,'Courier New',monospace\"><span style=\"font-weight: bold\"> Non-trainable params: </span><span style=\"color: #00af00; text-decoration-color: #00af00\">0</span> (0.00 B)\n",
              "</pre>\n"
            ]
          },
          "metadata": {}
        },
        {
          "output_type": "display_data",
          "data": {
            "text/plain": [
              "\u001b[1m Optimizer params: \u001b[0m\u001b[38;5;34m2\u001b[0m (12.00 B)\n"
            ],
            "text/html": [
              "<pre style=\"white-space:pre;overflow-x:auto;line-height:normal;font-family:Menlo,'DejaVu Sans Mono',consolas,'Courier New',monospace\"><span style=\"font-weight: bold\"> Optimizer params: </span><span style=\"color: #00af00; text-decoration-color: #00af00\">2</span> (12.00 B)\n",
              "</pre>\n"
            ]
          },
          "metadata": {}
        }
      ]
    },
    {
      "cell_type": "code",
      "source": [
        "model.add(GRU(100, return_sequences=True))\n",
        "model.add(Dropout(0.3))\n",
        "model.add(GRU(100, return_sequences=True))\n",
        "model.add(Dense(vocab_size+1, activation='softmax'))\n",
        "model.summary()"
      ],
      "metadata": {
        "colab": {
          "base_uri": "https://localhost:8080/",
          "height": 305
        },
        "id": "lx9KcGaMhTut",
        "outputId": "1bfe53c5-6508-41ee-876b-b59784db9261"
      },
      "execution_count": 65,
      "outputs": [
        {
          "output_type": "display_data",
          "data": {
            "text/plain": [
              "\u001b[1mModel: \"sequential\"\u001b[0m\n"
            ],
            "text/html": [
              "<pre style=\"white-space:pre;overflow-x:auto;line-height:normal;font-family:Menlo,'DejaVu Sans Mono',consolas,'Courier New',monospace\"><span style=\"font-weight: bold\">Model: \"sequential\"</span>\n",
              "</pre>\n"
            ]
          },
          "metadata": {}
        },
        {
          "output_type": "display_data",
          "data": {
            "text/plain": [
              "┏━━━━━━━━━━━━━━━━━━━━━━━━━━━━━━━━━━━━━━┳━━━━━━━━━━━━━━━━━━━━━━━━━━━━━┳━━━━━━━━━━━━━━━━━┓\n",
              "┃\u001b[1m \u001b[0m\u001b[1mLayer (type)                        \u001b[0m\u001b[1m \u001b[0m┃\u001b[1m \u001b[0m\u001b[1mOutput Shape               \u001b[0m\u001b[1m \u001b[0m┃\u001b[1m \u001b[0m\u001b[1m        Param #\u001b[0m\u001b[1m \u001b[0m┃\n",
              "┡━━━━━━━━━━━━━━━━━━━━━━━━━━━━━━━━━━━━━━╇━━━━━━━━━━━━━━━━━━━━━━━━━━━━━╇━━━━━━━━━━━━━━━━━┩\n",
              "│ embedding (\u001b[38;5;33mEmbedding\u001b[0m)                │ (\u001b[38;5;45mNone\u001b[0m, \u001b[38;5;45mNone\u001b[0m, \u001b[38;5;34m50\u001b[0m)            │         \u001b[38;5;34m156,500\u001b[0m │\n",
              "├──────────────────────────────────────┼─────────────────────────────┼─────────────────┤\n",
              "│ gru (\u001b[38;5;33mGRU\u001b[0m)                            │ (\u001b[38;5;45mNone\u001b[0m, \u001b[38;5;45mNone\u001b[0m, \u001b[38;5;34m100\u001b[0m)           │          \u001b[38;5;34m45,600\u001b[0m │\n",
              "├──────────────────────────────────────┼─────────────────────────────┼─────────────────┤\n",
              "│ dropout_1 (\u001b[38;5;33mDropout\u001b[0m)                  │ (\u001b[38;5;45mNone\u001b[0m, \u001b[38;5;45mNone\u001b[0m, \u001b[38;5;34m100\u001b[0m)           │               \u001b[38;5;34m0\u001b[0m │\n",
              "├──────────────────────────────────────┼─────────────────────────────┼─────────────────┤\n",
              "│ gru_1 (\u001b[38;5;33mGRU\u001b[0m)                          │ (\u001b[38;5;45mNone\u001b[0m, \u001b[38;5;45mNone\u001b[0m, \u001b[38;5;34m100\u001b[0m)           │          \u001b[38;5;34m60,600\u001b[0m │\n",
              "├──────────────────────────────────────┼─────────────────────────────┼─────────────────┤\n",
              "│ dense_1 (\u001b[38;5;33mDense\u001b[0m)                      │ (\u001b[38;5;45mNone\u001b[0m, \u001b[38;5;45mNone\u001b[0m, \u001b[38;5;34m3130\u001b[0m)          │         \u001b[38;5;34m316,130\u001b[0m │\n",
              "└──────────────────────────────────────┴─────────────────────────────┴─────────────────┘\n"
            ],
            "text/html": [
              "<pre style=\"white-space:pre;overflow-x:auto;line-height:normal;font-family:Menlo,'DejaVu Sans Mono',consolas,'Courier New',monospace\">┏━━━━━━━━━━━━━━━━━━━━━━━━━━━━━━━━━━━━━━┳━━━━━━━━━━━━━━━━━━━━━━━━━━━━━┳━━━━━━━━━━━━━━━━━┓\n",
              "┃<span style=\"font-weight: bold\"> Layer (type)                         </span>┃<span style=\"font-weight: bold\"> Output Shape                </span>┃<span style=\"font-weight: bold\">         Param # </span>┃\n",
              "┡━━━━━━━━━━━━━━━━━━━━━━━━━━━━━━━━━━━━━━╇━━━━━━━━━━━━━━━━━━━━━━━━━━━━━╇━━━━━━━━━━━━━━━━━┩\n",
              "│ embedding (<span style=\"color: #0087ff; text-decoration-color: #0087ff\">Embedding</span>)                │ (<span style=\"color: #00d7ff; text-decoration-color: #00d7ff\">None</span>, <span style=\"color: #00d7ff; text-decoration-color: #00d7ff\">None</span>, <span style=\"color: #00af00; text-decoration-color: #00af00\">50</span>)            │         <span style=\"color: #00af00; text-decoration-color: #00af00\">156,500</span> │\n",
              "├──────────────────────────────────────┼─────────────────────────────┼─────────────────┤\n",
              "│ gru (<span style=\"color: #0087ff; text-decoration-color: #0087ff\">GRU</span>)                            │ (<span style=\"color: #00d7ff; text-decoration-color: #00d7ff\">None</span>, <span style=\"color: #00d7ff; text-decoration-color: #00d7ff\">None</span>, <span style=\"color: #00af00; text-decoration-color: #00af00\">100</span>)           │          <span style=\"color: #00af00; text-decoration-color: #00af00\">45,600</span> │\n",
              "├──────────────────────────────────────┼─────────────────────────────┼─────────────────┤\n",
              "│ dropout_1 (<span style=\"color: #0087ff; text-decoration-color: #0087ff\">Dropout</span>)                  │ (<span style=\"color: #00d7ff; text-decoration-color: #00d7ff\">None</span>, <span style=\"color: #00d7ff; text-decoration-color: #00d7ff\">None</span>, <span style=\"color: #00af00; text-decoration-color: #00af00\">100</span>)           │               <span style=\"color: #00af00; text-decoration-color: #00af00\">0</span> │\n",
              "├──────────────────────────────────────┼─────────────────────────────┼─────────────────┤\n",
              "│ gru_1 (<span style=\"color: #0087ff; text-decoration-color: #0087ff\">GRU</span>)                          │ (<span style=\"color: #00d7ff; text-decoration-color: #00d7ff\">None</span>, <span style=\"color: #00d7ff; text-decoration-color: #00d7ff\">None</span>, <span style=\"color: #00af00; text-decoration-color: #00af00\">100</span>)           │          <span style=\"color: #00af00; text-decoration-color: #00af00\">60,600</span> │\n",
              "├──────────────────────────────────────┼─────────────────────────────┼─────────────────┤\n",
              "│ dense_1 (<span style=\"color: #0087ff; text-decoration-color: #0087ff\">Dense</span>)                      │ (<span style=\"color: #00d7ff; text-decoration-color: #00d7ff\">None</span>, <span style=\"color: #00d7ff; text-decoration-color: #00d7ff\">None</span>, <span style=\"color: #00af00; text-decoration-color: #00af00\">3130</span>)          │         <span style=\"color: #00af00; text-decoration-color: #00af00\">316,130</span> │\n",
              "└──────────────────────────────────────┴─────────────────────────────┴─────────────────┘\n",
              "</pre>\n"
            ]
          },
          "metadata": {}
        },
        {
          "output_type": "display_data",
          "data": {
            "text/plain": [
              "\u001b[1m Total params: \u001b[0m\u001b[38;5;34m578,832\u001b[0m (2.21 MB)\n"
            ],
            "text/html": [
              "<pre style=\"white-space:pre;overflow-x:auto;line-height:normal;font-family:Menlo,'DejaVu Sans Mono',consolas,'Courier New',monospace\"><span style=\"font-weight: bold\"> Total params: </span><span style=\"color: #00af00; text-decoration-color: #00af00\">578,832</span> (2.21 MB)\n",
              "</pre>\n"
            ]
          },
          "metadata": {}
        },
        {
          "output_type": "display_data",
          "data": {
            "text/plain": [
              "\u001b[1m Trainable params: \u001b[0m\u001b[38;5;34m578,830\u001b[0m (2.21 MB)\n"
            ],
            "text/html": [
              "<pre style=\"white-space:pre;overflow-x:auto;line-height:normal;font-family:Menlo,'DejaVu Sans Mono',consolas,'Courier New',monospace\"><span style=\"font-weight: bold\"> Trainable params: </span><span style=\"color: #00af00; text-decoration-color: #00af00\">578,830</span> (2.21 MB)\n",
              "</pre>\n"
            ]
          },
          "metadata": {}
        },
        {
          "output_type": "display_data",
          "data": {
            "text/plain": [
              "\u001b[1m Non-trainable params: \u001b[0m\u001b[38;5;34m0\u001b[0m (0.00 B)\n"
            ],
            "text/html": [
              "<pre style=\"white-space:pre;overflow-x:auto;line-height:normal;font-family:Menlo,'DejaVu Sans Mono',consolas,'Courier New',monospace\"><span style=\"font-weight: bold\"> Non-trainable params: </span><span style=\"color: #00af00; text-decoration-color: #00af00\">0</span> (0.00 B)\n",
              "</pre>\n"
            ]
          },
          "metadata": {}
        },
        {
          "output_type": "display_data",
          "data": {
            "text/plain": [
              "\u001b[1m Optimizer params: \u001b[0m\u001b[38;5;34m2\u001b[0m (12.00 B)\n"
            ],
            "text/html": [
              "<pre style=\"white-space:pre;overflow-x:auto;line-height:normal;font-family:Menlo,'DejaVu Sans Mono',consolas,'Courier New',monospace\"><span style=\"font-weight: bold\"> Optimizer params: </span><span style=\"color: #00af00; text-decoration-color: #00af00\">2</span> (12.00 B)\n",
              "</pre>\n"
            ]
          },
          "metadata": {}
        }
      ]
    },
    {
      "cell_type": "code",
      "source": [
        "model.compile(loss=SparseCategoricalCrossentropy(), optimizer='rmsprop')"
      ],
      "metadata": {
        "id": "Q2Aw85B8hguM"
      },
      "execution_count": 66,
      "outputs": []
    },
    {
      "cell_type": "markdown",
      "source": [
        "### Reentrenamiento"
      ],
      "metadata": {
        "id": "rZr6lfMRhqET"
      }
    },
    {
      "cell_type": "code",
      "source": [
        "history_ppl = []\n",
        "hist = model.fit(X, y, epochs=10, callbacks=[PplCallback(tokenized_sentences_val,history_ppl, patience=4)], batch_size=64)"
      ],
      "metadata": {
        "colab": {
          "base_uri": "https://localhost:8080/"
        },
        "id": "htg3e7-3hrr8",
        "outputId": "71caa998-7e0a-47e5-e869-b8df008315d3"
      },
      "execution_count": 67,
      "outputs": [
        {
          "output_type": "stream",
          "name": "stdout",
          "text": [
            "Epoch 1/10\n",
            "\u001b[1m185/192\u001b[0m \u001b[32m━━━━━━━━━━━━━━━━━━━\u001b[0m\u001b[37m━\u001b[0m \u001b[1m0s\u001b[0m 8ms/step - loss: 5.2544"
          ]
        },
        {
          "output_type": "stream",
          "name": "stderr",
          "text": [
            "WARNING:absl:You are saving your model as an HDF5 file via `model.save()` or `keras.saving.save_model(model)`. This file format is considered legacy. We recommend using instead the native Keras format, e.g. `model.save('my_model.keras')` or `keras.saving.save_model(model, 'my_model.keras')`. \n"
          ]
        },
        {
          "output_type": "stream",
          "name": "stdout",
          "text": [
            "\n",
            " mean perplexity: 1073.6215591111184 \n",
            "\n",
            "Saved new model!\n",
            "\b\b\b\b\b\b\b\b\b\b\b\b\b\b\b\b\b\b\b\b\b\b\b\b\b\b\b\b\b\b\b\b\b\b\b\b\b\b\b\b\b\b\b\b\b\b\b\b\b\b\b\b\b\b\b\r\u001b[1m192/192\u001b[0m \u001b[32m━━━━━━━━━━━━━━━━━━━━\u001b[0m\u001b[37m\u001b[0m \u001b[1m4s\u001b[0m 13ms/step - loss: 5.2218\n",
            "Epoch 2/10\n",
            "\u001b[1m189/192\u001b[0m \u001b[32m━━━━━━━━━━━━━━━━━━━\u001b[0m\u001b[37m━\u001b[0m \u001b[1m0s\u001b[0m 7ms/step - loss: 3.9007\n",
            " mean perplexity: 1100.137314402379 \n",
            "\n",
            "\u001b[1m192/192\u001b[0m \u001b[32m━━━━━━━━━━━━━━━━━━━━\u001b[0m\u001b[37m\u001b[0m \u001b[1m2s\u001b[0m 12ms/step - loss: 3.9001\n",
            "Epoch 3/10\n",
            "\u001b[1m185/192\u001b[0m \u001b[32m━━━━━━━━━━━━━━━━━━━\u001b[0m\u001b[37m━\u001b[0m \u001b[1m0s\u001b[0m 9ms/step - loss: 3.7751\n",
            " mean perplexity: 1112.055099624159 \n",
            "\n",
            "\u001b[1m192/192\u001b[0m \u001b[32m━━━━━━━━━━━━━━━━━━━━\u001b[0m\u001b[37m\u001b[0m \u001b[1m3s\u001b[0m 16ms/step - loss: 3.7723\n",
            "Epoch 4/10\n",
            "\u001b[1m190/192\u001b[0m \u001b[32m━━━━━━━━━━━━━━━━━━━\u001b[0m\u001b[37m━\u001b[0m \u001b[1m0s\u001b[0m 8ms/step - loss: 3.5875\n",
            " mean perplexity: 1154.9732415653664 \n",
            "\n",
            "\u001b[1m192/192\u001b[0m \u001b[32m━━━━━━━━━━━━━━━━━━━━\u001b[0m\u001b[37m\u001b[0m \u001b[1m4s\u001b[0m 13ms/step - loss: 3.5868\n",
            "Epoch 5/10\n",
            "\u001b[1m185/192\u001b[0m \u001b[32m━━━━━━━━━━━━━━━━━━━\u001b[0m\u001b[37m━\u001b[0m \u001b[1m0s\u001b[0m 9ms/step - loss: 3.4402\n",
            " mean perplexity: 1190.624492784935 \n",
            "\n",
            "Stopping training...\n",
            "\u001b[1m192/192\u001b[0m \u001b[32m━━━━━━━━━━━━━━━━━━━━\u001b[0m\u001b[37m\u001b[0m \u001b[1m3s\u001b[0m 16ms/step - loss: 3.4387\n"
          ]
        }
      ]
    },
    {
      "cell_type": "code",
      "source": [
        "epoch_count = range(1, len(history_ppl) + 1)\n",
        "sns.lineplot(x=epoch_count,  y=history_ppl)\n",
        "plt.show()"
      ],
      "metadata": {
        "colab": {
          "base_uri": "https://localhost:8080/",
          "height": 430
        },
        "id": "nMf414CmhtnX",
        "outputId": "8fecbb5e-79b6-4c2b-f81f-6ceefe44ad54"
      },
      "execution_count": 68,
      "outputs": [
        {
          "output_type": "display_data",
          "data": {
            "text/plain": [
              "<Figure size 640x480 with 1 Axes>"
            ],
            "image/png": "[encoded data removed]"
          },
          "metadata": {}
        }
      ]
    },
    {
      "cell_type": "markdown",
      "source": [
        "## Beam Search"
      ],
      "metadata": {
        "id": "5HnJjLdLh-rF"
      }
    },
    {
      "cell_type": "code",
      "source": [
        "input_text = \"At amazon we think\"\n",
        "generate_seq(model, tok, input_text, max_length=max_context_size, n_words=10)"
      ],
      "metadata": {
        "colab": {
          "base_uri": "https://localhost:8080/",
          "height": 217
        },
        "id": "d7xuwYmZiBzs",
        "outputId": "34044934-c8fc-485a-aaa2-7021890a0720"
      },
      "execution_count": 69,
      "outputs": [
        {
          "output_type": "stream",
          "name": "stdout",
          "text": [
            "\u001b[1m1/1\u001b[0m \u001b[32m━━━━━━━━━━━━━━━━━━━━\u001b[0m\u001b[37m\u001b[0m \u001b[1m0s\u001b[0m 29ms/step\n",
            "\u001b[1m1/1\u001b[0m \u001b[32m━━━━━━━━━━━━━━━━━━━━\u001b[0m\u001b[37m\u001b[0m \u001b[1m0s\u001b[0m 34ms/step\n",
            "\u001b[1m1/1\u001b[0m \u001b[32m━━━━━━━━━━━━━━━━━━━━\u001b[0m\u001b[37m\u001b[0m \u001b[1m0s\u001b[0m 27ms/step\n",
            "\u001b[1m1/1\u001b[0m \u001b[32m━━━━━━━━━━━━━━━━━━━━\u001b[0m\u001b[37m\u001b[0m \u001b[1m0s\u001b[0m 29ms/step\n",
            "\u001b[1m1/1\u001b[0m \u001b[32m━━━━━━━━━━━━━━━━━━━━\u001b[0m\u001b[37m\u001b[0m \u001b[1m0s\u001b[0m 28ms/step\n",
            "\u001b[1m1/1\u001b[0m \u001b[32m━━━━━━━━━━━━━━━━━━━━\u001b[0m\u001b[37m\u001b[0m \u001b[1m0s\u001b[0m 28ms/step\n",
            "\u001b[1m1/1\u001b[0m \u001b[32m━━━━━━━━━━━━━━━━━━━━\u001b[0m\u001b[37m\u001b[0m \u001b[1m0s\u001b[0m 30ms/step\n",
            "\u001b[1m1/1\u001b[0m \u001b[32m━━━━━━━━━━━━━━━━━━━━\u001b[0m\u001b[37m\u001b[0m \u001b[1m0s\u001b[0m 26ms/step\n",
            "\u001b[1m1/1\u001b[0m \u001b[32m━━━━━━━━━━━━━━━━━━━━\u001b[0m\u001b[37m\u001b[0m \u001b[1m0s\u001b[0m 33ms/step\n",
            "\u001b[1m1/1\u001b[0m \u001b[32m━━━━━━━━━━━━━━━━━━━━\u001b[0m\u001b[37m\u001b[0m \u001b[1m0s\u001b[0m 27ms/step\n"
          ]
        },
        {
          "output_type": "execute_result",
          "data": {
            "text/plain": [
              "'At amazon we think and than than than years years and the in the'"
            ],
            "application/vnd.google.colaboratory.intrinsic+json": {
              "type": "string"
            }
          },
          "metadata": {},
          "execution_count": 69
        }
      ]
    },
    {
      "cell_type": "markdown",
      "source": [
        "### Estocástico"
      ],
      "metadata": {
        "id": "figA0EbNilML"
      }
    },
    {
      "cell_type": "code",
      "source": [
        "salidas = beam_search(model, num_beams=3, num_words=10, input=\"At amazon we think\", temp=1, mode='sto')"
      ],
      "metadata": {
        "id": "gp_9iIu3iE4n"
      },
      "execution_count": 72,
      "outputs": []
    },
    {
      "cell_type": "code",
      "source": [
        "print(decode(salidas[0]))"
      ],
      "metadata": {
        "colab": {
          "base_uri": "https://localhost:8080/"
        },
        "id": "A1ktgSoNiG5n",
        "outputId": "f1c32a5e-e366-420f-8fc3-dec21b51ae17"
      },
      "execution_count": 73,
      "outputs": [
        {
          "output_type": "stream",
          "name": "stdout",
          "text": [
            "['at amazon we think it 300 solutions is a leading fortune do thinkers acxiom®']\n"
          ]
        }
      ]
    },
    {
      "cell_type": "markdown",
      "source": [
        "### Determinista"
      ],
      "metadata": {
        "id": "fWuoOdgciibZ"
      }
    },
    {
      "cell_type": "code",
      "source": [
        "salidas = beam_search(model, num_beams=3, num_words=10, input=\"At amazon we think\", temp=1, mode='det')"
      ],
      "metadata": {
        "id": "icP5vt6FibPM"
      },
      "execution_count": 74,
      "outputs": []
    },
    {
      "cell_type": "code",
      "source": [
        "print(decode(salidas[0]))"
      ],
      "metadata": {
        "colab": {
          "base_uri": "https://localhost:8080/"
        },
        "id": "Pgwbd8bvicMI",
        "outputId": "6f5a8c21-c61b-4dac-d1e5-64e8dc7710fb"
      },
      "execution_count": 75,
      "outputs": [
        {
          "output_type": "stream",
          "name": "stdout",
          "text": [
            "['at amazon we think is a leading the of the in the in the']\n"
          ]
        }
      ]
    },
    {
      "cell_type": "markdown",
      "source": [
        "### Variando la temperatura"
      ],
      "metadata": {
        "id": "90W1Cs3diqT_"
      }
    },
    {
      "cell_type": "code",
      "source": [
        "salidas = beam_search(model, num_beams=3, num_words=10, input=\"At amazon we think\", temp=2, mode='sto')"
      ],
      "metadata": {
        "id": "s8F5zIoIiuop"
      },
      "execution_count": 82,
      "outputs": []
    },
    {
      "cell_type": "code",
      "source": [
        "print(decode(salidas[0]))"
      ],
      "metadata": {
        "colab": {
          "base_uri": "https://localhost:8080/"
        },
        "id": "99inCLWqiwYM",
        "outputId": "fc2c28f1-d9c3-47a2-899f-75f3389c3580"
      },
      "execution_count": 83,
      "outputs": [
        {
          "output_type": "stream",
          "name": "stdout",
          "text": [
            "['at amazon we think bidmc in reliable health at “to cancer chicago serving people']\n"
          ]
        }
      ]
    },
    {
      "cell_type": "code",
      "source": [
        "salidas = beam_search(model, num_beams=3, num_words=10, input=\"At amazon we think\", temp=7, mode='sto')"
      ],
      "metadata": {
        "id": "l_v5xhz8jMNg"
      },
      "execution_count": 84,
      "outputs": []
    },
    {
      "cell_type": "code",
      "source": [
        "print(decode(salidas[0]))"
      ],
      "metadata": {
        "colab": {
          "base_uri": "https://localhost:8080/"
        },
        "id": "bCMfIeOrjNyd",
        "outputId": "d2436cd3-7538-4a0d-d782-5f42eabda7e2"
      },
      "execution_count": 85,
      "outputs": [
        {
          "output_type": "stream",
          "name": "stdout",
          "text": [
            "['at amazon we think williams driving reshaping assurance 1848 board tracing providers jesuit commitment']\n"
          ]
        }
      ]
    }
  ],
  "metadata": {
    "colab": {
      "provenance": [],
      "gpuType": "T4"
    },
    "kernelspec": {
      "display_name": "Python 3",
      "name": "python3"
    },
    "language_info": {
      "name": "python"
    },
    "accelerator": "GPU"
  },
  "nbformat": 4,
  "nbformat_minor": 0
}