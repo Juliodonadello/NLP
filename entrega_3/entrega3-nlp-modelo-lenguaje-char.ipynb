{
  "cells": [
    {
      "cell_type": "markdown",
      "metadata": {
        "id": "Iv5PEwGzZA9-"
      },
      "source": [
        "### Consigna\n",
        "- Seleccionar un corpus de texto sobre el cual entrenar el modelo de lenguaje.\n",
        "- Realizar el pre-procesamiento adecuado para tokenizar el corpus, estructurar el dataset y separar entre datos de entrenamiento y validación.\n",
        "- Proponer arquitecturas de redes neuronales basadas en unidades recurrentes para implementar un modelo de lenguaje.\n",
        "- Con el o los modelos que consideren adecuados, generar nuevas secuencias a partir de secuencias de contexto con las estrategias de greedy search y beam search determístico y estocástico. En este último caso observar el efecto de la temperatura en la generación de secuencias.\n",
        "\n",
        "\n",
        "### Sugerencias\n",
        "- Durante el entrenamiento, guiarse por el descenso de la perplejidad en los datos de validación para finalizar el entrenamiento. Para ello se provee un callback.\n",
        "- Explorar utilizar SimpleRNN (celda de Elman), LSTM y GRU.\n",
        "- rmsprop es el optimizador recomendado para la buena convergencia. No obstante se pueden explorar otros.\n"
      ]
    },
    {
      "cell_type": "code",
      "execution_count": 1,
      "metadata": {
        "id": "Y-QdFbHZYj7C"
      },
      "outputs": [],
      "source": [
        "import random\n",
        "import io\n",
        "import pickle\n",
        "\n",
        "import numpy as np\n",
        "import pandas as pd\n",
        "import matplotlib.pyplot as plt\n",
        "from sklearn.model_selection import train_test_split\n",
        "\n",
        "from tensorflow import keras\n",
        "from tensorflow.keras import layers\n",
        "from keras.utils import to_categorical\n",
        "from keras.models import Sequential\n",
        "from keras.layers import Dense, LSTM, Embedding, Dropout\n",
        "from tensorflow.keras.losses import SparseCategoricalCrossentropy"
      ]
    },
    {
      "cell_type": "markdown",
      "metadata": {
        "id": "xTvXlEKQZdqx"
      },
      "source": [
        "### Datos\n",
        "Como ejemplo se utilizará como corpus un dataset de descripciones de empresas en linkedin: https://www.kaggle.com/datasets/arshkon/linkedin-job-postings"
      ]
    },
    {
      "cell_type": "code",
      "source": [
        "ls"
      ],
      "metadata": {
        "colab": {
          "base_uri": "https://localhost:8080/"
        },
        "id": "lm_MSLovp1H2",
        "outputId": "15b476e5-1066-4cde-8b1d-2180d010033c"
      },
      "execution_count": 2,
      "outputs": [
        {
          "output_type": "stream",
          "name": "stdout",
          "text": [
            "\u001b[0m\u001b[01;34msample_data\u001b[0m/\n"
          ]
        }
      ]
    },
    {
      "cell_type": "code",
      "source": [
        "# Armar el dataset utilizando salto de línea para separar las oraciones/docs\n",
        "df = pd.read_csv('companies.csv.zip', compression='zip')\n",
        "df = df[['description']]"
      ],
      "metadata": {
        "id": "GN6RLeZ3p1jr"
      },
      "execution_count": 7,
      "outputs": []
    },
    {
      "cell_type": "code",
      "source": [
        "# función que toma solo las primeras 13 palabras de cada descripción\n",
        "def first_13_words(text):\n",
        "    if isinstance(text, str):  # Verifica si es una cadena de texto\n",
        "        return ' '.join(text.split()[:13])\n",
        "    return text\n",
        "\n",
        "df['description'] = df['description'].apply(first_13_words)"
      ],
      "metadata": {
        "id": "ml2_s_gYp24E"
      },
      "execution_count": 8,
      "outputs": []
    },
    {
      "cell_type": "code",
      "source": [
        "df = df.iloc[0:1000]"
      ],
      "metadata": {
        "id": "UGKuMBEIp_MM"
      },
      "execution_count": 9,
      "outputs": []
    },
    {
      "cell_type": "code",
      "source": [
        "df.head()"
      ],
      "metadata": {
        "colab": {
          "base_uri": "https://localhost:8080/",
          "height": 206
        },
        "id": "xQ_cagcRqAvc",
        "outputId": "01bcf421-fe62-4082-a332-36fd76c45d57"
      },
      "execution_count": 10,
      "outputs": [
        {
          "output_type": "execute_result",
          "data": {
            "text/plain": [
              "                                         description\n",
              "0  At IBM, we do more than work. We create. We cr...\n",
              "1  Every day millions of people feel the impact o...\n",
              "2  Official LinkedIn of Hewlett Packard Enterpris...\n",
              "3  We’re a cloud technology company that provides...\n",
              "4  Accenture is a leading global professional ser..."
            ],
            "text/html": [
              "\n",
              "  <div id=\"df-49696edd-ee56-42d5-a63e-138bfcd60d94\" class=\"colab-df-container\">\n",
              "    <div>\n",
              "<style scoped>\n",
              "    .dataframe tbody tr th:only-of-type {\n",
              "        vertical-align: middle;\n",
              "    }\n",
              "\n",
              "    .dataframe tbody tr th {\n",
              "        vertical-align: top;\n",
              "    }\n",
              "\n",
              "    .dataframe thead th {\n",
              "        text-align: right;\n",
              "    }\n",
              "</style>\n",
              "<table border=\"1\" class=\"dataframe\">\n",
              "  <thead>\n",
              "    <tr style=\"text-align: right;\">\n",
              "      <th></th>\n",
              "      <th>description</th>\n",
              "    </tr>\n",
              "  </thead>\n",
              "  <tbody>\n",
              "    <tr>\n",
              "      <th>0</th>\n",
              "      <td>At IBM, we do more than work. We create. We cr...</td>\n",
              "    </tr>\n",
              "    <tr>\n",
              "      <th>1</th>\n",
              "      <td>Every day millions of people feel the impact o...</td>\n",
              "    </tr>\n",
              "    <tr>\n",
              "      <th>2</th>\n",
              "      <td>Official LinkedIn of Hewlett Packard Enterpris...</td>\n",
              "    </tr>\n",
              "    <tr>\n",
              "      <th>3</th>\n",
              "      <td>We’re a cloud technology company that provides...</td>\n",
              "    </tr>\n",
              "    <tr>\n",
              "      <th>4</th>\n",
              "      <td>Accenture is a leading global professional ser...</td>\n",
              "    </tr>\n",
              "  </tbody>\n",
              "</table>\n",
              "</div>\n",
              "    <div class=\"colab-df-buttons\">\n",
              "\n",
              "  <div class=\"colab-df-container\">\n",
              "    <button class=\"colab-df-convert\" onclick=\"convertToInteractive('df-49696edd-ee56-42d5-a63e-138bfcd60d94')\"\n",
              "            title=\"Convert this dataframe to an interactive table.\"\n",
              "            style=\"display:none;\">\n",
              "\n",
              "  <svg xmlns=\"http://www.w3.org/2000/svg\" height=\"24px\" viewBox=\"0 -960 960 960\">\n",
              "    <path d=\"M120-120v-720h720v720H120Zm60-500h600v-160H180v160Zm220 220h160v-160H400v160Zm0 220h160v-160H400v160ZM180-400h160v-160H180v160Zm440 0h160v-160H620v160ZM180-180h160v-160H180v160Zm440 0h160v-160H620v160Z\"/>\n",
              "  </svg>\n",
              "    </button>\n",
              "\n",
              "  <style>\n",
              "    .colab-df-container {\n",
              "      display:flex;\n",
              "      gap: 12px;\n",
              "    }\n",
              "\n",
              "    .colab-df-convert {\n",
              "      background-color: #E8F0FE;\n",
              "      border: none;\n",
              "      border-radius: 50%;\n",
              "      cursor: pointer;\n",
              "      display: none;\n",
              "      fill: #1967D2;\n",
              "      height: 32px;\n",
              "      padding: 0 0 0 0;\n",
              "      width: 32px;\n",
              "    }\n",
              "\n",
              "    .colab-df-convert:hover {\n",
              "      background-color: #E2EBFA;\n",
              "      box-shadow: 0px 1px 2px rgba(60, 64, 67, 0.3), 0px 1px 3px 1px rgba(60, 64, 67, 0.15);\n",
              "      fill: #174EA6;\n",
              "    }\n",
              "\n",
              "    .colab-df-buttons div {\n",
              "      margin-bottom: 4px;\n",
              "    }\n",
              "\n",
              "    [theme=dark] .colab-df-convert {\n",
              "      background-color: #3B4455;\n",
              "      fill: #D2E3FC;\n",
              "    }\n",
              "\n",
              "    [theme=dark] .colab-df-convert:hover {\n",
              "      background-color: #434B5C;\n",
              "      box-shadow: 0px 1px 3px 1px rgba(0, 0, 0, 0.15);\n",
              "      filter: drop-shadow(0px 1px 2px rgba(0, 0, 0, 0.3));\n",
              "      fill: #FFFFFF;\n",
              "    }\n",
              "  </style>\n",
              "\n",
              "    <script>\n",
              "      const buttonEl =\n",
              "        document.querySelector('#df-49696edd-ee56-42d5-a63e-138bfcd60d94 button.colab-df-convert');\n",
              "      buttonEl.style.display =\n",
              "        google.colab.kernel.accessAllowed ? 'block' : 'none';\n",
              "\n",
              "      async function convertToInteractive(key) {\n",
              "        const element = document.querySelector('#df-49696edd-ee56-42d5-a63e-138bfcd60d94');\n",
              "        const dataTable =\n",
              "          await google.colab.kernel.invokeFunction('convertToInteractive',\n",
              "                                                    [key], {});\n",
              "        if (!dataTable) return;\n",
              "\n",
              "        const docLinkHtml = 'Like what you see? Visit the ' +\n",
              "          '<a target=\"_blank\" href=https://colab.research.google.com/notebooks/data_table.ipynb>data table notebook</a>'\n",
              "          + ' to learn more about interactive tables.';\n",
              "        element.innerHTML = '';\n",
              "        dataTable['output_type'] = 'display_data';\n",
              "        await google.colab.output.renderOutput(dataTable, element);\n",
              "        const docLink = document.createElement('div');\n",
              "        docLink.innerHTML = docLinkHtml;\n",
              "        element.appendChild(docLink);\n",
              "      }\n",
              "    </script>\n",
              "  </div>\n",
              "\n",
              "\n",
              "<div id=\"df-645135d3-c334-43ad-9d78-4163e115ded0\">\n",
              "  <button class=\"colab-df-quickchart\" onclick=\"quickchart('df-645135d3-c334-43ad-9d78-4163e115ded0')\"\n",
              "            title=\"Suggest charts\"\n",
              "            style=\"display:none;\">\n",
              "\n",
              "<svg xmlns=\"http://www.w3.org/2000/svg\" height=\"24px\"viewBox=\"0 0 24 24\"\n",
              "     width=\"24px\">\n",
              "    <g>\n",
              "        <path d=\"M19 3H5c-1.1 0-2 .9-2 2v14c0 1.1.9 2 2 2h14c1.1 0 2-.9 2-2V5c0-1.1-.9-2-2-2zM9 17H7v-7h2v7zm4 0h-2V7h2v10zm4 0h-2v-4h2v4z\"/>\n",
              "    </g>\n",
              "</svg>\n",
              "  </button>\n",
              "\n",
              "<style>\n",
              "  .colab-df-quickchart {\n",
              "      --bg-color: #E8F0FE;\n",
              "      --fill-color: #1967D2;\n",
              "      --hover-bg-color: #E2EBFA;\n",
              "      --hover-fill-color: #174EA6;\n",
              "      --disabled-fill-color: #AAA;\n",
              "      --disabled-bg-color: #DDD;\n",
              "  }\n",
              "\n",
              "  [theme=dark] .colab-df-quickchart {\n",
              "      --bg-color: #3B4455;\n",
              "      --fill-color: #D2E3FC;\n",
              "      --hover-bg-color: #434B5C;\n",
              "      --hover-fill-color: #FFFFFF;\n",
              "      --disabled-bg-color: #3B4455;\n",
              "      --disabled-fill-color: #666;\n",
              "  }\n",
              "\n",
              "  .colab-df-quickchart {\n",
              "    background-color: var(--bg-color);\n",
              "    border: none;\n",
              "    border-radius: 50%;\n",
              "    cursor: pointer;\n",
              "    display: none;\n",
              "    fill: var(--fill-color);\n",
              "    height: 32px;\n",
              "    padding: 0;\n",
              "    width: 32px;\n",
              "  }\n",
              "\n",
              "  .colab-df-quickchart:hover {\n",
              "    background-color: var(--hover-bg-color);\n",
              "    box-shadow: 0 1px 2px rgba(60, 64, 67, 0.3), 0 1px 3px 1px rgba(60, 64, 67, 0.15);\n",
              "    fill: var(--button-hover-fill-color);\n",
              "  }\n",
              "\n",
              "  .colab-df-quickchart-complete:disabled,\n",
              "  .colab-df-quickchart-complete:disabled:hover {\n",
              "    background-color: var(--disabled-bg-color);\n",
              "    fill: var(--disabled-fill-color);\n",
              "    box-shadow: none;\n",
              "  }\n",
              "\n",
              "  .colab-df-spinner {\n",
              "    border: 2px solid var(--fill-color);\n",
              "    border-color: transparent;\n",
              "    border-bottom-color: var(--fill-color);\n",
              "    animation:\n",
              "      spin 1s steps(1) infinite;\n",
              "  }\n",
              "\n",
              "  @keyframes spin {\n",
              "    0% {\n",
              "      border-color: transparent;\n",
              "      border-bottom-color: var(--fill-color);\n",
              "      border-left-color: var(--fill-color);\n",
              "    }\n",
              "    20% {\n",
              "      border-color: transparent;\n",
              "      border-left-color: var(--fill-color);\n",
              "      border-top-color: var(--fill-color);\n",
              "    }\n",
              "    30% {\n",
              "      border-color: transparent;\n",
              "      border-left-color: var(--fill-color);\n",
              "      border-top-color: var(--fill-color);\n",
              "      border-right-color: var(--fill-color);\n",
              "    }\n",
              "    40% {\n",
              "      border-color: transparent;\n",
              "      border-right-color: var(--fill-color);\n",
              "      border-top-color: var(--fill-color);\n",
              "    }\n",
              "    60% {\n",
              "      border-color: transparent;\n",
              "      border-right-color: var(--fill-color);\n",
              "    }\n",
              "    80% {\n",
              "      border-color: transparent;\n",
              "      border-right-color: var(--fill-color);\n",
              "      border-bottom-color: var(--fill-color);\n",
              "    }\n",
              "    90% {\n",
              "      border-color: transparent;\n",
              "      border-bottom-color: var(--fill-color);\n",
              "    }\n",
              "  }\n",
              "</style>\n",
              "\n",
              "  <script>\n",
              "    async function quickchart(key) {\n",
              "      const quickchartButtonEl =\n",
              "        document.querySelector('#' + key + ' button');\n",
              "      quickchartButtonEl.disabled = true;  // To prevent multiple clicks.\n",
              "      quickchartButtonEl.classList.add('colab-df-spinner');\n",
              "      try {\n",
              "        const charts = await google.colab.kernel.invokeFunction(\n",
              "            'suggestCharts', [key], {});\n",
              "      } catch (error) {\n",
              "        console.error('Error during call to suggestCharts:', error);\n",
              "      }\n",
              "      quickchartButtonEl.classList.remove('colab-df-spinner');\n",
              "      quickchartButtonEl.classList.add('colab-df-quickchart-complete');\n",
              "    }\n",
              "    (() => {\n",
              "      let quickchartButtonEl =\n",
              "        document.querySelector('#df-645135d3-c334-43ad-9d78-4163e115ded0 button');\n",
              "      quickchartButtonEl.style.display =\n",
              "        google.colab.kernel.accessAllowed ? 'block' : 'none';\n",
              "    })();\n",
              "  </script>\n",
              "</div>\n",
              "\n",
              "    </div>\n",
              "  </div>\n"
            ],
            "application/vnd.google.colaboratory.intrinsic+json": {
              "type": "dataframe",
              "variable_name": "df",
              "summary": "{\n  \"name\": \"df\",\n  \"rows\": 1000,\n  \"fields\": [\n    {\n      \"column\": \"description\",\n      \"properties\": {\n        \"dtype\": \"string\",\n        \"num_unique_values\": 1000,\n        \"samples\": [\n          \"Our work at HMH is the outcome of our guiding purpose, vision, and\",\n          \"A global leader in water and process management solutions, Nalco Water, an Ecolab\",\n          \"Welcome to LHH! We're a global leader in HR solutions that future-proofs organizations\"\n        ],\n        \"semantic_type\": \"\",\n        \"description\": \"\"\n      }\n    }\n  ]\n}"
            }
          },
          "metadata": {},
          "execution_count": 10
        }
      ]
    },
    {
      "cell_type": "code",
      "source": [
        "# Concatenar los primeros 1000 elementos del DataFrame (suponiendo que la columna con los textos se llama 'documento')\n",
        "article_text = '\\n'.join(df['description'].head(1000))\n",
        "article_text"
      ],
      "metadata": {
        "colab": {
          "base_uri": "https://localhost:8080/",
          "height": 139
        },
        "id": "sK8bLO2-WzZw",
        "outputId": "5d22d7bc-0ed5-484e-9348-7c5831e67c86"
      },
      "execution_count": 12,
      "outputs": [
        {
          "output_type": "execute_result",
          "data": {
            "text/plain": [
              "'At IBM, we do more than work. We create. We create as technologists,\\nEvery day millions of people feel the impact of our intelligent devices, advanced\\nOfficial LinkedIn of Hewlett Packard Enterprise, the global edge-to-cloud company. Sharing our passion\\nWe’re a cloud technology company that provides organizations around the world with computing\\nAccenture is a leading global professional services company that helps the world’s leading\\nEvery company has a mission. What\\'s ours? To empower every person and every\\nDeloitte drives progress. Our firms around the world help clients become leaders wherever\\nSiemens AG (Berlin and Munich) is a leading technology company focused on industry,\\nAt PwC, our purpose is to build trust in society and solve important\\nWe understand that our customers want an easier, less complicated life. We’re using\\nIntel’s mission is to shape the future of technology to help create a\\nOur purpose To create connections that make the unimaginable possible. Our vision A\\nCisco (NASDAQ: CSCO) enables people to make powerful connections--whether in business, education, philanthropy,\\nAs part of the Lenovo family, Motorola Mobility is creating innovative smartphones and\\nWith a history tracing its roots to 1799 in New York City, JPMorgan\\nAt Nokia, we create technology that helps the world act together. As a\\nEY exists to build a better working world, helping create long-term value for\\nKPMG is one of the world’s leading professional services firms and the fastest\\nNXP Semiconductors N.V. (NASDAQ: NXPI) enables a smarter, safer and more sustainable world\\nOver the past decade we have transformed into a focused leader in health\\nYou want more out of a career. A place to share your ideas\\nAt SAP, our purpose is to help the world run better and improve\\nP&G was founded more than 185 years ago as a soap and candle\\nBank of America is one of the world\\'s largest financial institutions, serving individuals,\\nElite is a leading, independent technology company that helps law firms drive profitability\\nWe’re one of the world’s leading communications services companies. At BT Group, the\\nWe’re celebrating 175 years of daring scientific innovation—and we’re not done yet. Every\\nAt Johnson & Johnson, we believe health is everything. As a focused healthcare\\nFrom gaining new experiences in different roles to acquiring fresh knowledge and skills\\nU.S. Army Corps of Engineers Mission: Provide vital public engineering services in peace\\nWells Fargo & Company (NYSE: WFC) is a diversified, community-based financial services company\\nBe part of the world’s most successful, purpose-led business. Work with brands that\\nSony’s purpose is simple. We aim to fill the world with emotion, through\\nWE ARE SONY Our spirit of innovation and challenge has created those special\\nSony Pictures Entertainment (SPE) is a subsidiary of Tokyo-based Sony Group Corporation. SPE\\'s\\nThis account discusses mainly (but not exclusively) the activities of Tech Foundations -\\nDeutsche Bank is the leading German bank with strong European roots and a\\nDWS Group (DWS) with EUR 896bn of assets under management (as of 31\\nChubb is a world leader in insurance. With operations in 54 countries and\\nShell is a global energy company with around 87,000 employees in more than\\nAt American Express, we know that with the right backing, people and businesses\\nWe are a global technology solutions company that powers breakthroughs for the world’s\\nInfosys is a global leader in next-generation digital services and consulting. We enable\\nYahoo serves as a trusted guide for hundreds of millions of people globally,\\nFrom classic animated features and exhilarating theme park attractions to cutting edge sports\\nFidelity’s mission is to strengthen the financial well-being of our customers and deliver\\nWipro Limited (NYSE: WIT, BSE: 507685, NSE: WIPRO) is a leading technology services\\nFounded in 2003, LinkedIn connects the world\\'s professionals to make them more productive\\nWHAT WE DO We lead the discovery, development and delivery of warfighting technologies\\nHoneywell is a Fortune 500 company that invents and manufactures technologies to address\\nTata Consultancy Services is an IT services, consulting and business solutions organization that\\nThere is a Place for You at NSA Whatever expertise you bring to\\nWHY CHOOSE NCS ? Top 5 reasons why clients choose NCS as their\\nMcKinsey & Company is a global management consulting firm. We are the trusted\\nFor more than 100 years, Xerox has continually redefined the workplace experience. Harnessing\\nFujitsu Network Communications, Inc., is a leading provider of digital transformation solutions for\\nAt Goldman Sachs, we believe progress is everyone’s business. That’s why we commit\\nWe are the world’s largest aerospace company and leading provider of commercial airplanes,\\nWe believe the world wants and needs a better and more balanced energy\\nT-Mobile US, Inc. (NASDAQ: TMUS) is America’s supercharged Un-carrier, delivering an advanced 4G\\nAs the world’s largest food and beverage company we are driven by a\\nWe are uniting science, technology and talent to get ahead of disease together.\\nThomson Reuters is the world’s leading provider of news and information-based tools to\\nTrusted to transform missions with the power of tomorrow’s technologies, Booz Allen Hamilton\\nNovartis is an innovative medicines company. Every day, working to reimagine medicine to\\nWe are a close-knit community of big thinkers collaborating to keep the world\\nInsights you can act on Founded in 1976, CGI is among the largest\\nAt Capital One, we’re changing banking for good. We were founded on the\\nBarclays is a British universal bank. We are diversified by business, by different\\nPepsiCo is a playground for curious people. We invite thinkers, doers, and changemakers\\nA problem isn\\'t truly solved until it\\'s solved for all. Googlers build products\\nWe exist to inspire the world to play. We put our people first,\\nSUSE is a global leader in innovative, reliable and secure enterprise open source\\nDesigning better ways to work through cutting-edge products, premium services and exceptional experiences\\nCDK Global is a leading provider of retail technology and software as a\\nAt Teradata, we believe that people thrive when empowered with better information. Our\\nWe are a technology company that unlocks access to energy for the benefit\\nGeneral Motors’ vision is to create a world with Zero Crashes, Zero Emissions\\nAlly Financial Inc. (NYSE: ALLY) is a leading digital financial services company and\\nAdobe is the global leader in digital media and digital marketing solutions. Our\\nAt eBay, we create pathways to connect millions of sellers and buyers in\\nWe\\'re championing possibilities for all by making money fast, easy, and more enjoyable.\\nWe don\\'t just make history -- we make the future. Ford put the\\nAt Merck, known as MSD outside of the United States and Canada, we\\nGet more done with faster, more productive AI and analytics from the most\\nAt Avaya, we give our customers the freedom to take their business in\\nWe care deeply about transforming lives with AMD technology to enrich our industry,\\nMIT Lincoln Laboratory is a federally funded research and development center chartered to\\nRaytheon, an RTX business, creates next-generation defense solutions that are smarter, faster and\\nBNP Paribas is a leading bank in Europe with an international reach. It\\nMondelēz International, Inc. (NASDAQ: MDLZ) is an American multinational confectionery, food, and beverage\\nKodak is a leading global manufacturer focused on commercial print and advanced materials\\nCarestream\\'s products make a difference every day. Carestream Health is a worldwide imaging\\nOperating in more than 200 countries and territories, we’re committed to moving our\\nAgilent customers are finding new ways to treat cancer, ensure food, water, air,\\nThe Home Depot, the world’s largest home improvement specialty retailer, values and rewards\\nWe help those who build the future to make it amazing. In an\\nWe’re a unified force of 140,000+ Associates, taking action every day toward the\\nWe are relentless in our pursuit of excellence. Founded nearly 80 years ago,\\nAmazon is guided by four principles: customer obsession rather than competitor focus, passion\\nBMC helps customers run and reinvent their businesses with open, scalable, and modular\\nRoche is a global pioneer in pharmaceuticals and diagnostics focused on advancing science\\nWe\\'re transforming the future of healthcare by unlocking the power of what science\\nAbbott is a global healthcare leader that helps people live more fully at\\nSAIC® is a premier Fortune 500® technology integrator focused on advancing the power\\nWe provide quality, compassionate health care at more than 40 hospitals and care\\nOwens & Minor, Inc. (NYSE: OMI) is a Fortune 500 global healthcare solutions\\nStanford Medicine Children’s Health, with Lucile Packard Children\\'s Hospital Stanford at its center,\\nBoston Scientific transforms lives through innovative medical technologies that improve the health of\\nWe are Sanofi, an innovative global healthcare company. We chase the miracles of\\nAt Harvard Medical School, our mission is to create and nurture a diverse\\nHarvard University is devoted to excellence in teaching, learning, and research, and to\\nHarvard Law School is one of the preeminent centers of legal education in\\nDana-Farber Cancer Institute is committed to providing expert, compassionate care to children and\\nBoston Children\\'s Hospital is a 404-bed comprehensive center for pediatric health care. As\\nBeth Israel Deaconess Medical Center (BIDMC) is part of Beth Israel Lahey Health,\\nLeading the world in beauty and pioneering the world of beauty tech; we\\nFor more than a century, we have stayed true to a core set\\nIntuit is a global technology platform that helps our customers and communities overcome\\nAt FedEx Ground we are extremely proud of our inclusive and diverse workforce.\\nFedEx Services connects businesses to solutions. Our team members coordinate sales, marketing, communications,\\nOgilvy has been creating impact for brands through iconic, culture-changing, value-driving ideas since\\nOur brands bridge the gaps we see in the world. Old Navy democratizes\\nExplore our amazing opportunities at jobs.bananarepublic.com Banana Republic is a global apparel and\\nCognizant (Nasdaq-100: CTSH) engineers modern businesses. We help our clients modernize technology, reimagine\\nRobert Half, the world’s first and largest specialized talent solutions firm, connects opportunities\\nThe need for energy is universal. That\\'s why ExxonMobil scientists and engineers are\\nSociete Generale is one of the leading European financial services groups. Based on\\nThe Coca‑Cola Company is a total beverage company with products sold in more\\nComcast delivers broadband, mobile, and video products that delight customers and technology that\\nNielsen shapes the world’s media and content as a global leader in audience\\nHCLTech is a global technology company, home to more than 224,000 people across\\nAmerican International Group, Inc. (NYSE: AIG) is a leading global insurance organization. AIG\\nThe BBC is the world’s leading public service broadcaster. We’re impartial and independent,\\nAt State Street, we partner with institutional investors all over the world to\\nAt Bristol Myers Squibb, we work every day to transform patients’ lives through\\nBoston Consulting Group partners with leaders in business and society to tackle their\\nWhat started as a group of 200 people, all focused on a single\\nStanford Medicine improves health through leadership, diversity and collaborative discoveries and innovation in\\nStanford is a place of discovery, creativity and innovation located in the San\\nManpowerGroup® (NYSE: MAN), the leading global workforce solutions company, helps organizations transform in\\nRoyal Bank of Canada is a global financial institution with a purpose-driven, principles-led\\nHave you ever thought of offering your skills and expertise to a multinational\\nA leading source of global news and information for more than 75 years.\\nWe create world-class content, which we distribute across our portfolio of film, television,\\nWelcome to CNBC\\'s home on LinkedIn! Follow us for regular updates about financial\\nAt Allstate, we\\'re advocates for peace of mind and a good life. And\\nA global healthcare technology leader — boldly attacking the most challenging health problems\\nPrudential Financial (NYSE:PRU) was founded on the belief that financial security should be\\nCharles Schwab is a different kind of investment services firm – one that\\n3M touches virtually every part of your life. Our people and technology make\\nCapco Energy Solutions is the Energy industry focused division of Capco, a fully\\nWe help our clients and colleagues grow — and our communities thrive —\\nAutodesk is changing how the world is designed and made. Our technology spans\\nMeaningful. Empowering. Remarkable. That’s a career at BAE Systems. Improving the future and\\nNickelodeon is the number-one entertainment brand for kids. It has built a diverse,\\nBayer is a global enterprise with core competencies in the life science fields\\nWelcome to the official LinkedIn page for McKesson Corporation. We\\'re an impact-driven healthcare\\nGDIT is a global technology and professional services company that delivers consulting, technology\\nInnovation is in Our DNA General Dynamics Land Systems is a global leader\\nAt General Dynamics Mission Systems, a business unit of General Dynamics, we develop\\nPhilip Morris International (PMI) is a leading international tobacco company working to deliver\\nMcCann Worldgroup, part of the Interpublic Group (NYSE: IPG), is the irrefutable leader\\nMRM is a leading marketing agency. Through a strong foundation in strategy, data\\nUM is a global media agency committed to helping our clients futureproof their\\nWe believe in people and their place in the world of work. Everything\\nPTC (NASDAQ: PTC) unleashes industrial innovation with award-winning, market-proven solutions that enable companies\\nThales is a global technology leader with more than 77,000 employees on five\\nPart of the Capgemini Group, Sogeti makes business value through technology for organizations\\nCoöperatieve Rabobank U.A. is a full-range financial services provider that operates on cooperative\\nMavenir is building the future of networks and pioneering advanced technology, focusing on\\nFor more than 60 years, NASA has been breaking barriers to achieve the\\nDelivering intelligent computing everywhere.\\nApplied Materials is the leader in materials engineering solutions used to produce virtually\\nMany know us as the most trusted way to send money to friends\\nNIKE, Inc. is a purpose-driven organization energized by a shared commitment to move\\nSpectrum Enterprise, a part of Charter Communications, is a national provider of scalable,\\nColdwell Banker Realty is one of the nation’s largest real estate brokerages operating\\nWe exist to shape decisions for the better — to protect and enrich\\nCNN Worldwide is a portfolio of more than two dozen news and information\\nTE Connectivity is a global industrial technology manufacturing leader creating a safer, sustainable,\\nAmgen is committed to unlocking the potential of biology for patients suffering from\\nWe deliver actionable, objective insight to executives and their teams. Our expert guidance\\nThe Volvo Group is one of the world’s leading manufacturers of trucks, buses,\\nVolvo Penta is a world-leading supplier of engines and complete power systems for\\nVolvo Buses is one of the world’s largest manufacturers of buses and bus\\nAt Mack, we design, build, and deliver the tools and services that support\\nVolvo Construction Equipment (Volvo CE) is a global leader in construction solutions, delivering\\nBuild an intelligent data infrastructure with NetApp that brings it all together —\\nAt Toyota, we’re known for making some of the highest quality vehicles on\\nBain & Company is a global consultancy that helps the world’s most ambitious\\nAvis Budget Group, Inc. is a leading global provider of transportation solutions, both\\nAt Best Buy, our purpose is to enrich lives through technology. To achieve\\nAt Pearson, our purpose is simple: to add life to a lifetime of\\nSemiconductors are crucial to solve the energy challenges of our time and shape\\nWe’re TEKsystems. We accelerate business transformation by solving complex technology, business and talent\\nAs the global leader in talent solutions, we take pride in what we\\nBeware of recruitment scams! Please read important information for job seekers: https://www.dupont.com/careers/hiring-faqs.html It\\'s\\nCadence is a pivotal leader in electronic systems design, building upon more than\\nCardinal Health is a distributor of pharmaceuticals, a global manufacturer and distributor of\\nWe work with our agencies and partners to support the transport network that\\nVisa (NYSE: V) is a world leader in digital payments, facilitating transactions between\\nOur greatest resource is our people. Their ingenuity, creativity and collaboration have met\\nCanon Solutions America is a Canon U.S.A. Company providing integrated systems technology that\\nThe Bosch division Building Technologies is a leading global supplier of security, safety,\\nLexisNexis Legal & Professional is a leading global provider of legal, regulatory and\\nWe live in a time of unprecedented change. A time when economies, regulations,\\nWe collaborate and engineer solutions to maximize asset value for our customers. Founded\\nWe deliver science, technology and engineering solutions to governments and companies around the\\nAustin, Texas-based Keller Williams, the world’s largest real estate franchise by agent count,\\nNovo Nordisk is a leading global healthcare company, founded in 1923 and headquartered\\nHanesBrands (NYSE: HBI) makes everyday apparel that is known and loved by consumers\\nDanone is a leading multi-local food and beverage company building on health-focused and\\nJuniper Networks is leading the revolution in networking, making it one of the\\nAt Johnson Controls (NYSE:JCI) we transform the environments where people live, work, learn\\nVictoria’s Secret & Co. (VS&Co), through Victoria’s Secret and Victoria’s Secret PINK, is\\nWe make the world a brighter, happier place through the power of fragrance.\\nWe’re Spherion—a staffing and recruiting pioneer that’s been driving careers and helping businesses\\nAt Starbucks, we like to say that we are not in the coffee\\nDelta Air Lines (NYSE: DAL) is the U.S. global airline leader in safety,\\nAbout Genentech We\\'re passionate about finding solutions for people facing the world\\'s most\\nWe’re the manufacturing partner of choice that helps a diverse customer base design\\nWinner of 37 Pulitzer Prizes for outstanding journalism, The Wall Street Journal includes\\nDow Jones is a global provider of news and business information, delivering content\\nMacy\\'s is America’s store for life. The largest retail brand of Macy\\'s, Inc.\\nInsight Enterprises, Inc. is a Fortune 500 solutions integrator helping organizations accelerate their\\nWe’ve been helping organizations find the people they need longer than any other\\nMarriott International, Inc. is based in Bethesda, Maryland, USA, and encompasses a portfolio\\nOperating across every dimension of commercial real estate, CBRE sees more so you\\nRandstad is the world’s largest talent company and a partner of choice to\\nIn Schneider Electric everything we do promotes progress and sustainability for all —\\nNationwide, a Fortune 100 company based in Columbus, Ohio, is one of the\\nFor nearly a century, we have delivered on our commitment to saving and\\nThis is the story of airline that leads the industry from ground to\\nAt State Farm®, our mission is to help people manage the risks of\\nDun & Bradstreet, a leading global provider of business decisioning data and analytics,\\nAt Mercer, we believe in building brighter futures. Together, our 25,000 employees in\\nPratt & Whitney, an RTX business, is a global leader in propulsion systems,\\nFounded by the inventor of modern air conditioning, Carrier is a world leader\\nForget what you think you know about professional services. We go beyond what’s\\nAlstom commits to contribute to a low carbon future by developing and promoting\\nNorthwestern Mutual is here for what’s most important—helping families and businesses achieve financial\\nHilton is a leading global hospitality company with a portfolio of 22 world-class\\nOliver Wyman is a global leader in management consulting. With offices in more\\nCatalyzing the era of pervasive intelligence, Synopsys delivers trusted and comprehensive silicon to\\nZurich North America is one of the largest providers of insurance solutions and\\nDigitas is the Networked Experience Agency, built on the vision that we create\\nHuman achievement is at the heart of what we do. We put our\\nFor more than half a century, UCLA Health has provided the best in\\nHere at CHLA, we believe every child deserves to enjoy all those special\\nUCLA offers a combination that’s rare, especially among public research universities. The breadth,\\nWolters Kluwer (EURONEXT: WKL) is a global leader in professional information, software solutions,\\nWe are a health benefits provider that advocates for better health through every\\nBloomberg is a global leader in business and financial information, delivering trusted data,\\nDiageo\\'s official LinkedIn account. We\\'re a global leader in premium drinks, across spirits\\nAt Rockwell Automation, we connect the imaginations of people with the potential of\\nMichigan Medicine, based in Ann Arbor, Michigan, is part of one of the\\nThe mission of the University of Michigan is to serve the people of\\nAt U.S. Bank, we help millions of clients achieve their goals with a\\nExperian is the world\\'s leading global information services company. During life\\'s big moments\\nWith over a quarter of a billion monthly listeners in the U.S. and\\nClear Channel Outdoor is at the forefront of driving innovation in the out-of-home\\nLife at home has been at the heart of our business for 111\\nWe’re one of the world’s leading materials science companies, serving customers in high-growth\\nIngram Micro helps businesses Realize the Promise of Technology™. It delivers a full\\nCrédit Agricole CIB is the corporate and investment banking arm of Crédit Agricole\\nFounded in 1861, the University of Washington is one of the oldest state-supported\\nPeople are no longer satisfied with simply \"hearing\"\\u200b a brand\\'s message. Now it\\'s\\nEaton is an intelligent power management company dedicated to improving the quality of\\nWe are specialists in complete solutions for the processing, packaging and distribution of\\nAt Panasonic, our technology and engineering expertise delivers innovation across diverse industries. It\\'s\\nPanasonic is a leading technology partner to businesses and governments, at the forefront\\nFor 40 years, Panasonic Avionics has strengthened the connection between the world’s airlines\\nFor nearly 100 years, we’ve been helping customers build a better, more sustainable\\nColumbia University Irving Medical Center (CUIMC) is a clinical, research, and educational enterprise\\nFor more than 250 years, Columbia has been a leader in higher education\\nAt BASF, we create chemistry for a sustainable future. We combine economic success\\nEmbark on an adventure with a commitment to service, excellence and humanity. Our\\nWhen we pioneered remote access, we believed people should be able to work\\nSixty years ago, Sam Walton started a single mom-and-pop shop and transformed it\\nUIC is Chicago\\'s largest university with more than 33,000 students, 12,000 employees, 16\\nThe University of Illinois Urbana-Champaign is dedicated to building upon its tradition of\\nFrom roads less traveled to highways supporting California’s demanding commute. The California Department\\nWe are committed to provide and retain a skilled, adaptable, and diverse workforce\\nFor more than eight decades, CalPERS has built retirement and health security for\\nAttorney General Rob Bonta is calling on attorneys and special agents from all\\nAs a technology company and partner to all automakers and new mobility players,\\nMcDonald’s is the world’s leading global foodservice retailer with over 37,000 locations in\\nCargill is a family company committed to providing food, ingredients, agricultural solutions, and\\nAt John Hancock, we have a simple mission: helping our customers live longer,\\nManulife is a leading international financial services group that helps people make their\\nAt Liberty Mutual, we want to help you embrace today and confidently pursue\\nOpenText is a world leader in Information Management, helping companies securely capture, govern\\nKLA develops industry-leading equipment and services that enable innovation throughout the electronics industry.\\nBombardier is a global leader in aviation, focused on designing, manufacturing, and servicing\\nRRD is a leading global provider of marketing, packaging, print, and supply chain\\nAcxiom®, an IPG company, is the global leader in customer intelligence and stands\\nThe IKEA vision is to create a better everyday life for the many\\nWe are Colgate, a caring, innovative growth company that is reimagining a healthier\\nAt Expedia Group (NASDAQ: EXPE), we believe travel is a force for good\\nEmerson is a leading global technology, software, and engineering company providing innovative solutions\\nThe Toronto-Dominion Bank & its subsidiaries are collectively known as TD Bank Group\\nFor more than 115 years, Andersen has designed, manufactured and marketed premium windows\\nThe Federal Reserve System is the Central Bank of the United States. It\\nWe are the San Francisco Fed, public servants with a congressionally mandated mission\\nThe Federal Reserve Bank of Boston is one of 12 banks in the\\nAt Sage, we knock down barriers with information, insights, and tools to help\\nYou can either adapt to change, ignore it or lead it. Publicis Worldwide,\\nWe exist to make food the world loves. But we do more than\\nTRUST. Where Security & Connectivity Converge. BlackBerry helps organizations defend against cyber threats.\\nAbout Mary Kay - Then. Now. Always. One of the original glass ceiling\\nUC Santa Cruz was founded in 1965 as the movement away from the\\nUC Davis was founded in 1908 to serve the state of California. We\\nUC Davis Health is improving lives and transforming health care by providing excellent\\nAustralia’s leading provider of financial services including retail, premium, business and institutional banking,\\nThe measure of our success is in what we achieve together. At BDO,\\nVisteon is advancing mobility through innovative technology solutions that enable a software-defined and\\nAt Seagate, we’re storing, protecting, and activating the world’s data as explosive growth\\nCanon Business Process Services helps clients enable business agility, digital transformation and lead\\nAt ITT, we have a clear purpose as an organization – to provide\\nFrom economic headwinds to talent complexities, the challenges facing North American industry are\\nBoston\\'s Brigham and Women\\'s Hospital (BWH) is an international leader in virtually every\\nGuided by the needs of our patients and their families, Massachusetts General Hospital\\nNewton-Wellesley Hospital is non-profit, community medical center with more than 4,000 employees. Located\\nThe New York City Public Schools is the branch of municipal government in\\nAlbertsons Companies is one of the largest food and drug retailers in the\\nAmerican owned and founded in 1860, Shaw\\'s Supermarkets is one longest continuously operating\\nYour Favorite Local Supermarket Celebrating 130 years as your neighborhood grocer. ACME Markets\\nThe Save Mart Companies is the largest regional grocer in California, operating nearly\\nTeradyne brings high-quality innovations such as smart devices, life-saving medical equipment and data\\nS&P Global (NYSE: SPGI) provides Essential Intelligence. We enable governments, businesses and individuals\\nThe Teacher Retirement System of Texas (TRS) is responsible for investing funds under\\nOverview The Texas Health and Human Services Commission (HHSC) is an agency within\\nTexas Workforce Commission (TWC) is the state agency charged with overseeing and providing\\nOfficial LinkedIn account for The Office of the Attorney General, an elected constitutional\\nAllianz Life Insurance Company of North America (Allianz Life®) has been keeping its\\nLexmark creates cloud-enabled imaging and IoT technologies that help customers worldwide quickly realize\\nSaint-Gobain designs, manufactures and distributes materials and solutions for the construction, mobility and\\nWhy we\\'re forever forward -- \\u200b\\u200b\\u200b\\u200bAt CSAA IG, one thing will always endure:\\nCertainTeed®, a subsidiary of Saint-Gobain, is North America’s leading brand of sustainable exterior\\nVMware by Broadcom delivers software that unifies and streamlines hybrid cloud environments for\\nThe Transportation Security Administration (TSA) was created in the wake of the September\\nWelcome to the official LinkedIn page for the Federal Emergency Management Agency (FEMA).\\nAs a part of the Department of Homeland Security, U.S. Customs and Border\\nUniversal Music Group (UMG) is the world leader in music-based entertainment, with a\\nAt Fifth Third Bank, everything we do is rooted in our purpose: to\\nMastercard is a global technology company in the payments industry. Our mission is\\nAt Staples, Business is Human, which means our people ‘think beyond the algorithm’\\nAs a global leader in information and analytics, Elsevier helps researchers and healthcare\\nUC San Francisco is driven by the idea that when the best research,\\nUCSF Health is an integrated health care network encompassing several entities, including UCSF\\nAt Ameriprise Financial, we have helped our clients feel confident about their financial\\nAt Sony Music Entertainment, we fuel the creative journey. We’ve played a pioneering\\nAlcoa (NYSE: AA) is a global industry leader in bauxite, alumina and aluminum\\nUniversity of Phoenix has helped pioneer online education since launching online courses in\\nWe are Accor We are more than 290,000 hospitality experts placing people at\\nTech Mahindra represents the connected world, offering innovative and customer-centric information technology experiences.\\nA global infrastructure technology leader built on more than 60 years of innovation,\\nKforce is a solutions firm specializing in technology and other professional staffing services.\\nAbout Thermo Fisher Scientific Thermo Fisher Scientific Inc. is the world leader in\\nThe University of Southern California is a leading private research university located in\\nTravelers provides insurance coverage to protect the things that are important to you\\nCheck Point Software Technologies Ltd. (www.checkpoint.com) is a leading AI-powered, cloud-delivered cybersecurity platform\\nEvery day, in everything we do, our purpose is to protect, heal and\\nThe U.S. Department of State is focused on accomplishing America\\'s mission of diplomacy\\nBD is one of the largest global medical technology companies in the world\\nOffice Depot, LLC, an operating company of The ODP Corporation, is a leading\\nLionbridge partners with brands to break barriers and build bridges all over the\\nWe are a global leader of vacuum and abatement. At Edwards, we enable\\nFIS is at the heart of the commerce and financial transactions that power\\nHEINEKEN - the world\\'s most international brewer. It is the leading developer and\\nWelcome to Hyatt Regency hotels, where connections flow seamlessly whether you’re traveling for\\nYou’re an original. So are we. We’re a company of people who like\\nWelcome to Scotiabank. We serve thousands of customers, families, and communities across the\\nFreddie Mac is serving America’s homebuyers, homeowners and renters by financing the creation\\nStop & Shop has been around for more than 100 years. We started\\nAt the SEI, we research complex software engineering, cybersecurity, and AI engineering problems;\\nNew York University Stern School of Business, located in the heart of Greenwich\\nThe University of Texas at Austin is one of the largest public universities\\nPenn Medicine’s mission is to advance knowledge and improve health through research, patient\\nThe University of Pennsylvania is one of the oldest universities in America and,\\nAt The Ohio State University Wexner Medical Center you will find more than\\nOne of the largest universities in the United States, The Ohio State University\\nThe Ohio Department of Education and Workforce\\nIngersoll Rand (NYSE:IR), driven by an entrepreneurial spirit and ownership mindset, is committed\\nWe’re a leading professional services firm that specializes in real estate and investment\\nOne of the nation’s largest schools, the University of Minnesota offers baccalaureate, master’s,\\n👋 We\\'re Salesforce, the customer company. CRM + Data + AI + Trust.\\nAt Mallinckrodt, we use strategic vision and employee-driven momentum to pursue a powerful\\nNorthwestern is one of the nation’s premier research universities, combining innovative teaching and\\nWe empower generations to explore the wonder of childhood and reach their full\\nSince 1792, we’ve been supplying the innovative paints and coatings that help to\\nThe Agfa-Gevaert Group develops, manufactures and distributes an extensive range of analogue and\\nOur people are our strength. And, together with over 56,000 colleagues, we\\'re creating\\nThe companies comprising the Farmers Insurance Group of Companies® currently make up one\\nInternational Paper (NYSE: IP) is a global producer of planet-friendly packaging, pulp and\\nCNA is one of the largest U.S. commercial property and casualty insurance companies.\\nAt KeyBank we’ve made a promise to our clients that they will always\\nPeople are living longer, and we are excited about the possibilities this brings.\\nDanfoss engineers solutions that increase machine productivity, reduce emissions, lower energy consumption, and\\nReality check: Most people don’t grow up dreaming about a job in insurance.\\nAs the world’s largest contract logistics specialist, we create competitive advantage for customers\\nStryker is a global leader in medical technologies and, together with its customers,\\nPhysio empowers people to move at the speed of their own lives so\\nBechtel is a trusted engineering, construction and project management partner to industry and\\nThere’s no such thing as too much information. We bring people, processes, and\\nWe are a global materials science and digital identification solutions company with locations\\nCox Communications is committed to creating more moments of real human connection. We\\nAt CDW, our experts partner with you to build IT solutions that don’t\\nTextron Inc. is a multi-industry company that leverages its global network of aircraft,\\nTextron Systems has been providing innovative solutions to the defense, homeland security and\\nKaplan is a global educational services company that provides individuals, universities, and businesses\\nFiserv, Inc. is a leading global technology provider serving the financial services industry,\\nAt Nordstrom, we empower our employees to set their sights high and blaze\\nRecognized as one of the top 15 research universities worldwide, our culture of\\nUC San Diego Health and Health Sciences has been caring for the community\\nIDC is the premier global provider of market intelligence, advisory services, and events\\nCelestica enables the world\\'s best brands. Through our unrivaled customer-centric approach, we partner\\nHeadquartered in Bozeman, Montana, USA, FICO® (NYSE:FICO) powers decisions that help people and\\nFounded in Marseille in 1966 by Pierre Bellon, Sodexo is the global leader\\nPizza Hut™ is committed to breakthrough innovation and the success of our employees.\\nTaco Bell was born and raised in California and has been around since\\nYum! Brands, Inc., based in Louisville, Kentucky, and its subsidiaries franchise or operate\\nGeorgia-Pacific and its subsidiaries are among the world’s leading manufacturers and marketers of\\nFor over 175 years, we\\'ve been helping people put love into action. As\\nAs a Kimberly-Clark employee, you have an opportunity to impact billions of lives\\nAs the preeminent international service organization of the United States, the Peace Corps\\nAnalog Devices, Inc. (NASDAQ: ADI) is a global semiconductor leader that bridges the\\nA $23 billion health care provider and insurer, Pittsburgh-based UPMC is inventing new\\nHow can we best serve our members and the community? UPMC Health Plan\\nElectrolux Group is a leading global appliance company that has shaped living for\\nWhat world do you want to live in? A world with greener cities?\\nWelcome to the Michael Page global company profile. Michael Page has five decades\\nWe are leaders in specialist recruitment and workforce solutions, offering advisory services such\\nIDEMIA Group unlocks simpler and safer ways to pay, connect, access, identify, travel\\nConagra has the most impactful, energized and inclusive culture in food. Our diverse\\nProgress (Nasdaq: PRGS) provides software that enables organizations to develop and deploy their\\nSafeway operates as a banner of Albertsons Companies. Locally great and nationally strong,\\nWeill Cornell Medicine is committed to excellence in patient care, scientific discovery and\\nCornell is a privately endowed research university and a partner of the State\\nThe mission of Johns Hopkins Medicine is to improve the health of the\\nWe are America’s first research university, founded in 1876 on the principle that\\nContinental develops pioneering technologies and services for sustainable and connected mobility of people\\nEdelman is a global communications firm that partners with businesses and organizations to\\nAt Macquarie, we empower people to innovate and invest for a better future.\\nRed Hat is the world’s leading provider of enterprise open source solutions, using\\nAbout IHG® IHG Hotels & Resorts [LON:IHG, NYSE:IHG (ADRs)] is a global hospitality\\nBoston University is one of the leading private research and teaching institutions in\\nThe Georgia Tech Research Institute (GTRI) is the nonprofit, applied research organization of\\nThe Georgia Institute of Technology is one of the nation\\'s premier research universities\\nHughes Network Systems, LLC (HUGHES), an innovator in satellite and multi-transport technologies and\\nEnabling technology solutions that help improve business and daily life, Arrow Electronics guides\\nComputacenter is a leading independent technology and services provider, trusted by large corporate\\nA leading applied technology services company, we innovate to deliver service excellence and\\nWe pride ourselves on being a premier information technology recruiting firm that delivers\\nWalgreens (www.walgreens.com) is included in the U.S. Retail Pharmacy Segment of Walgreens Boots\\nESPN, Inc., The Worldwide Leader in Sports, is the leading multinational, multimedia sports\\nSince its founding in 1993, NVIDIA (NASDAQ: NVDA) has been a pioneer in\\nAt Cummins, we empower everyone to grow their careers through meaningful work, building\\nHCA Healthcare is dedicated to giving people a healthier tomorrow. As one of\\nPhysician Services Group is the expert in physician employment, practice and urgent care\\nLiving mutual has always been at the core of our human existence, and\\nWhen it comes to the future of work, quite simply, we’re obsessed. Nothing\\nAs the State\\'s flagship, the University of Maryland (UMD) strives to bring students\\nLenovo is a US$62 billion revenue global technology powerhouse, ranked #217 in the\\nThere’s a reason Penn State consistently ranks among the top one percent of\\nPenn State Health is a multi-hospital health system serving patients and communities across\\nH&R Block’s purpose is simple: To provide help and inspire confidence in our\\nAt CACI International Inc (NYSE: CACI), our 23,000 talented and dynamic employees are\\nFranklin Resources, Inc. [NYSE:BEN] is a global investment management organization with subsidiaries operating\\nEdward Jones, a Fortune 500 firm, provides financial services in the U.S. and\\nCorning is one of the world\\'s leading innovators in materials science, with a\\nFluor Corporation is a global engineering, procurement and construction company. We work with\\nWe are a Digital Transformation IT Services company with a Digital First approach\\nAs we reinvent ourselves to fit the diversity of America, we are looking\\nMicron is a world leader in innovative memory solutions that transform how the\\nAs the United States Postal Service continues its evolution as a forward-thinking, fast-acting\\nAt Equifax (NYSE: EFX), we believe knowledge drives progress. As a global data,\\nLear, a global automotive technology leader in Seating and E-Systems, enables superior in-vehicle\\nFounded in Dayton, Ohio in 1866, Reynolds and Reynolds is a leading provider\\nWe are the LEGO Group, the company behind the world’s most loved LEGO®\\nArcelorMittal is the world\\'s leading steel and mining company, with a presence in\\nKorn Ferry. Business Advisors. Career Makers. Korn Ferry is a global organizational consulting\\nRSM is the leading provider of assurance, tax and consulting services to the\\nZF is a global technology company supplying advanced mobility products and systems for\\nInspired by our heritage, we push the boundaries of culture and human performance.\\nCarolina’s vibrant people and programs attest to the University’s long-standing place among leaders\\nWe are Discover. As one of the most recognized brands in U.S. financial\\nGroupM is WPP’s media investment group and the world’s leading media investment company\\nThe University of Colorado plays a profound role in the lives of individuals,\\nAs the flagship university of the state of Colorado, CU Boulder is a\\nWe believe that infrastructure powers progress. That execution is as essential as innovation.\\nEpsilon is a global advertising and marketing technology company positioned at the center\\nFor over 70 years, Iron Mountain Incorporated (NYSE: IRM) has been your strategic\\nFounded in 1837, John Deere is a world leader in providing advanced products,\\nAllianceBernstein (AB) is a leading global investment management firm that offers high-quality research\\nAir Liquide is a world leader in gases, technologies and services for industry\\nAs a global leader in innovative wealth management, asset servicing and investment solutions,\\nThe Swiss Re Group is a leading wholesale provider of reinsurance, insurance and\\nThe MITRE Corporation is working to solve some of the nation’s biggest challenges\\nDS Smith provides innovative packaging solutions, paper products and recycling services with a\\nInformatica (NYSE: INFA), an enterprise cloud data management leader, brings data and AI\\nOur Company: WebMD is a leading provider of health information services to consumers,\\nAs a leading business-to-business organization, more than 3.2 million customers rely on Grainger\\nAt FedEx Office, printing, packing and shipping are in our roots. But get\\nDelivering power and propulsion solutions in the air, at sea and on land\\nOne of the world’s great intellectual destinations, the University of Chicago empowers scholars\\nEmory Healthcare is the most comprehensive health care system in Georgia. We offer\\nEmory University, a top research university located in Atlanta, Georgia, is an inquiry-driven,\\nWho are we? ASML is an innovation leader in the global semiconductor industry.\\nPacific Gas and Electric Company, incorporated in California in 1905, is one of\\nFramatome is an international leader in nuclear energy recognized for its innovative, digital\\nGoodyear is one of the world\\'s largest tire companies. It employs about 72,000\\nThe U.S. House of Representatives (USHR) is one of two chambers in the\\nAt Akamai, we make life better for billions of people, billions of times\\nHillsborough County Public Schools is the seventh largest school district in the nation\\nWe are one of the world\\'s largest law firms with significant depth and\\nIntegrated legal solutions to complex business challenges. The global business community is more\\nCiena (NYSE:CIEN) is a global leader in optical and routing systems, services, and\\nFounded in 1978, Biogen is a leading biotechnology company that pioneers innovative science\\nHeidrick & Struggles is the premier provider of executive search, corporate culture and\\nOur work at HMH is the outcome of our guiding purpose, vision, and\\nAt WTW (NASDAQ: WTW), we provide data-driven, insight-led solutions in the areas of\\nOver 50 Million people worldwide have chosen Aflac because of our commitment to\\nSyngenta is one of the world’s leading agriculture companies. Our ambition is to\\nThe American Cancer Society is a leading cancer-fighting organization with a vision to\\nCapital Group was established in 1931 in Los Angeles, California, and now has\\nWe deliver impactful global solutions to create a more connected, sustainable world —\\nBose Corporation was founded in 1964 by Dr. Amar G. Bose, then a\\nAt FMC, our employees are guided by our purpose: Innovation for agriculture, Solutions\\nFounded to help educators retire with dignity, today we’re a market-leading retirement company\\nInvesco is dedicated to helping investors around the world rethink possibility. Our comprehensive\\nIQVIA (NYSE:IQV) is a leading global provider of advanced analytics, technology solutions, and\\nThe Estée Lauder Companies Inc. is one of the world’s leading manufacturers, marketers,\\nCushman & Wakefield (NYSE: CWK) is a leading global commercial real estate services\\nFaurecia is a world\\'s leading automotive tech company designing solutions for a safe,\\nDuke Energy, a Fortune 150 company headquartered in Charlotte, N.C., is one of\\nFounded in 1810, the Yale School of Medicine is a world-renowned center for\\nSun Life is a leading financial services organization dedicated to helping people achieve\\nOver the past 20 years, DreamWorks Animation has introduced the world to a\\nTata Communications is a digital ecosystem enabler that powers today’s fast-growing digital economy.\\nWe are Honda. A company built on dreams and the determination to make\\nIn achievement and prestige, the University of Wisconsin–Madison has long been recognized as\\nWith a history that dates back over 80 years, Starcom is a global\\nMichelin, the leading tire company, is dedicated to sustainably improving the mobility of\\nWelcome to Solvay, where science and mastery come together, creating excellence that stands\\nFor over 70 years, Pottery Barn has represented exceptional quality and unparalleled value.\\nFounded in 1956, Williams-Sonoma, Inc. is the premier specialty retailer of high-quality products\\nForrester is one of the most influential research and advisory firms in the\\nWe are SGS – the world’s leading testing, inspection and certification company. We\\nLowe’s Companies, Inc. (NYSE: LOW) is a FORTUNE® 50 home improvement company serving\\nPirelli was founded in Milan in 1872 and today stands as a global\\nAir Products (NYSE:APD) is a world-leading industrial gases company in operation for over\\nCareerBuilder is a global, end-to-end human capital solutions company focused on helping employers\\nWe’ll help keep your money boring so your life doesn’t have to be.\\nHydro is a leading industrial company that builds businesses and partnerships for a\\nGannett Co., Inc. (NYSE: GCI) is a diversified media company with expansive reach\\nFounded in 1962 and a public company since 1983, Raymond James Financial, Inc.\\nA global aerospace company headquartered in Brazil, Embraer has businesses in Commercial and\\nWith a mission to provide easy movement of people and goods from place\\nThe Ohio Department of Health is a state agency whose mission is to\\nTTEC (pronounced t.tec) We help companies build engaged, happy, profitable customer experiences powered\\nRegions Financial Corporation (NYSE:RF), with $155 billion in assets, is a member of\\nWe aspire to create, improve and prolong life for people living with difficult-to-treat\\nAs the future of work continues to evolve, Paychex leads the way by\\nAt CAE, we equip people in critical roles with the expertise and solutions\\nHumana will never ask, nor require a candidate to provide money for work\\nRutgers, The State University of New Jersey (also known as Rutgers University), is\\nVestas is the energy industry’s global partner on sustainable energy solutions. We design,\\nAt UF Health Jacksonville, exemplary medical care is complemented by outstanding service. Our\\nASU has developed a new model for the American research university, creating an\\nAMC Networks is the ultimate destination for mold breaking, genre defying, and premier\\nOur adventure began by changing the way people watched TV, bringing DISH to\\nBased in Charlottesville, Va., UVA Health embodies the leadership and inventiveness personified by\\nThe University of Virginia was founded in 1819 as the model for modern\\nLincoln Financial Group helps people to plan, protect and retire with confidence. As\\nTransUnion is a global information and insights company that makes trust possible in\\nWelcome to the New Logic of Work. No matter what that means to\\nBaker Hughes (NASDAQ: BKR) is an energy technology company that provides solutions for\\nSkanska Group uses knowledge & foresight to shape the way people live, work,\\nFounded in 1946, we push ourselves and our clients to rise above the\\nGrowth from Knowledge. For over 89 years, we have earned the trust of\\nSanmina Corporation (Nasdaq: SANM) is a leading integrated manufacturing solutions provider serving the\\nFor more than 30 years we have earned a reputation for building technology\\nWeber Shandwick is the earned-first global communications agency. Led by world-class strategic and\\nColoplast develops products and services to make life easier for people with deeply\\nAssurant is a leading global business services company that supports, protects, and connects\\nPrincipal Financial Group® is dedicated to improving the wealth and well-being of people\\nCemex is a global industry leader in producing and supplying cement, aggregates, ready-mix\\nDNV is the independent expert in risk management and assurance, operating in more\\nFounded in 1912, Paramount Pictures works with the entertainment industry’s biggest filmmakers and\\nPrimerica is a leading financial services company in North America, with more than\\nBarnes & Noble proudly serves America with approximately 600 bookstores across all fifty\\nUCI Health is committed to providing the highest quality healthcare to Orange County\\nDLA Piper is a global law firm capable of taking care of the\\nAquent is the leading global work solutions company helping guide businesses toward the\\nNomura is a global financial services group with an integrated network spanning approximately\\nAspenTech is a global software leader helping industries at the forefront of the\\nParexel is among the world’s largest clinical research organizations (CROs), providing the full\\nRyder System, Inc. (NYSE: R) is a leading logistics and transportation company. It\\nWe automate, digitize and transform the way people bank and shop. We offer\\nWe manage forests and manufacture products that make the world a better place.\\nSince the beginning, our mission has been to provide a range of financial\\nScholastic Corporation (NASDAQ: SCHL) is the world\\'s largest publisher and distributor of children\\'s\\nFor more than 160 years, Anheuser-Busch has been woven into the cultural fabric\\nAt UMass Chan Medical School, it\\'s not just what we do that makes\\nSince 1869, we’ve been connecting people through food they love. Our history was\\nHearst Magazines is part of Hearst, one of the nation’s largest diversified media,\\nAs one of the nation’s largest global, diversified information, services and media companies,\\nAt Houston Methodist, leading medicine is more than a description of what we\\nNous Infosystems is a global leader in digital solutions and product engineering, enabling\\nWith over 80,000 employees at almost 1,300 sites in close to 100 countries,\\nThe National Football League is America\\'s most popular sports league, comprised of 32\\nFive-Time Super Bowl Champion San Francisco 49ers. The San Francisco 49ers are a\\nOfficial LinkedIn Account of the Indianapolis Colts. For more information about the Indianapolis\\nTexas A&M University has a proud history that stretches back to 1876 when\\nFor 85 years, PerkinElmer has pushed the boundaries of science from food to\\nWe are committed to excellence in patient care, biomedical research, and medical education\\nVanderbilt University is a top-ranked teaching and research university in Nashville, Tennessee. Powered\\nLundbeck is a biopharmaceutical company focused exclusively on neuroscience. We discover, develop, and\\nParker Aerospace is a global leader in the research, design, manufacture, and service\\nParker Hannifin is a Fortune 250 global leader in motion and control technologies.\\nWhat started with the invention of the self-aligning bearing in 1907 has now\\nAt Western Digital we create data storage solutions that power the technology of\\nAt Southwest®, everything we do—from our smiling People to our policies—is designed to\\nAllen & Overy is a global law firm that helps the world’s leading\\nWashington University in St. Louis, a medium-sized, independent university, is dedicated to challenging\\nThe Massachusetts Department of Public Health prevents illness, injury, and premature death, assures\\nWe’re here for the hard-working businesses that keep the world turning. They’re the\\nCNH ( NYSE: CNHI ) is a world-class capital goods company specializing in\\nThe George Washington University, an independent academic institution chartered by the Congress of\\nFor more than 90 years, American Family Insurance has built its reputation on\\nThe Food and Drug Administration is an agency within the Department of Health\\nThe Possibilities are Endless When You #ChallengeTheNorm Birlasoft combines the power of domain,\\nThe North Face®, a VF Corporation brand, is the premier exploration company in\\nOur story began in 1983 with one clear vision: to create nautical-inspired, quality\\nVF Corporation is one of the world’s largest apparel, footwear and accessories companies\\nExelon Corporation (Nasdaq: EXC) is the nation’s largest utility company, serving more than\\nCVS Health is the leading health solutions company, delivering care like no one\\nTakeda Oncology, the Global Oncology Business Unit of Takeda Pharmaceutical Company Limited, is\\nRalph Lauren Corporation (NYSE:RL) is a global leader in the design, marketing and\\nSpirent Communications is a leading global provider of automated test and assurance solutions\\nBrown Brothers Harriman (BBH) is a privately-held financial institution that has been a\\n\"This work is so liberating: to be employed in an organization wherein we\\nA trusted partner for millions of customers, Ecolab (NYSE:ECL) is a global sustainability\\nPacific Northwest National Laboratory advances the frontiers of knowledge, taking on some of\\nA global leader in applied safety science, UL Solutions transforms safety, security, and\\nMayo Clinic has expanded and changed in many ways, but our values remain\\nQuest Diagnostics (NYSE: DGX) empowers people to take action to improve health outcomes.\\nNICE (Nasdaq: NICE) is the worldwide leading provider of both cloud and on-premises\\nConsidering where to invest your time, talent and ambition? Select the team that’s\\nSocial Security provides financial protection for our nation’s people, supporting more than 64\\nFounded in 1848, Lazard is one of the world\\'s preeminent financial advisory and\\nBlackRock is a global asset manager and technology provider. Our purpose is to\\nDeluxe, a trusted Payments and Data Company, champions business so communities thrive. Our\\nFreshfields Bruckhaus Deringer is a global law firm with a long-standing track record\\nIFC, a member of the World Bank Group, is the largest global development\\nApex Systems is a leading global technology services firm that incorporates industry insights\\nSmith+Nephew is a global medical technology company. We design and manufacture technology that\\nHallmark believes if you care enough you can change the world as we\\nGreat ideas accelerate innovation. At Atlas Copco, we have been turning industrial ideas\\nWith more than 34,000 students and 7,000 faculty and staff, North Carolina State\\nDB Schenker is one of the world’s leading global logistics provider — we\\nSEI (NASDAQ:SEIC) delivers technology and investment solutions that connect the financial services industry.\\nWe’re JTI, Japan Tobacco International and we believe in freedom. We think that\\nKonica Minolta Business Solutions U.S.A., Inc. is reshaping and revolutionizing the Workplace of\\nThe Department of Commerce’s mission is to create the conditions for economic growth\\nF5 is a multi-cloud application services and security company committed to bringing a\\nJabil (NYSE: JBL) is a manufacturing solutions provider with over 250,000 employees across\\nA career at EF is something different. You’ll think boldly, own your job,\\nPPG: We protect and beautify the world.® At PPG (NYSE:PPG), we work every\\nSkadden, Arps, Slate, Meagher & Flom LLP and Affiliates delivers the highest quality\\nWe educate leaders who make a difference in the world. --MBA Program: An\\nUNICEF works in some of the world’s toughest places, to reach the world’s\\nPulte Mortgage is a wholly-owned financial services subsidiary of PulteGroup, Inc. (NYSE: PHM)\\nPulteGroup, Inc. (NYSE: PHM), based in Atlanta, Georgia, is one of America’s largest\\nUniversity of Utah Health is the Intermountain West’s only academic health care system,\\nBlue Shield of California strives to create a healthcare system worthy of its\\nFounded in 1944, Parsons Corporation, a digitally enabled solutions provider, is focused on\\nA love for cars, trucks and SUVs is the motivating force behind the\\nAt Kroger, we believe no matter who you are or how you like\\nMetso is a frontrunner in sustainable technologies, end-to-end solutions and services for the\\nWhite & Case is a global law firm with longstanding offices in the\\nThe Internal Revenue Service\\'s official LinkedIn account features IRS updates to help America\\'s\\nAt Otis, we are dedicated to connecting you to the people and places\\nLatham & Watkins is a global law firm with more than 3,500 lawyers\\nHasbro is a leading toy and game company whose mission is to entertain\\nReebok is an American-inspired global brand with a deep fitness heritage and the\\nPorter Novelli is the strategic communications company, built on purpose to do business\\nFor more than 100 years, Bankers Trust has been a leading financial institution\\nAmerican Eagle Outfitters (AEO) is a portfolio of unique, loved and enduring brands:\\nSince 1993, EPAM Systems, Inc. (NYSE: EPAM) has used its software engineering expertise\\nAt Temple Health, patients have access to some of the most advanced research\\nPhoenix Technologies was the first independent firmware provider and has been pioneering firmware\\nLawrence Livermore National Laboratory, located in the San Francisco Bay Area, is a\\nA French luxury Maison, open-minded and curious about the world, Cartier designs timeless\\nCNO Financial Group, Inc. (NYSE: CNO) secures the future of middle-income America. CNO\\nBankers Life focuses on the insurance and investment needs of middle-income Americans who\\nThe University of Rochester Medical Center is one of the top academic medical\\nThe University of Rochester (UR) is a private, nonsectarian, research-intensive university located in\\nNews Corp is a global, diversified media and information services company focused on\\nWe are a trusted Digital Engineering and Enterprise Modernization partner, combining deep technical\\nThe FAA is on the leading edge of a new frontier in commercial\\nUSAID is the lead U.S. Government agency that works to end extreme global\\nCintas Corporation, a Fortune 500 company headquartered in Cincinnati, specializes in helping businesses\\nAt KONE, our mission is to improve the flow of urban life. This\\nAccelerating success for our customers, people and planet. Alfa Laval is a leading\\nDefeat Cyberattacks Sophos is a worldwide leader and innovator of advanced cybersecurity solutions,\\nWe are Ketchum, a global communications consultancy fueled by empathy and intelligence –\\nAs the foundational architects of satellite technology, Intelsat operates the world’s largest and\\nCHEP helps move more goods to more people, in more places than any\\nWheeled transportation might be taken for granted today, but more than a century\\nTogether with our subsidiaries, we deliver clean, safe, reliable and affordable energy to\\nWith its singular tradition and widely recognized record of client service, Jones Day\\nTicketmaster gives millions of fans – worldwide – fair and easy access to\\nWe’re a leading producer of the energy and chemicals that drive global commerce\\nLam Research Corp. (NASDAQ:LRCX) At Lam Research, we create equipment that drives technological\\nFounded in 1976, Acer is one of the world\\'s top ICT companies with\\nFuture generations will look back and see that we did everything possible to\\nA Fortune 200 company headquartered in Baltimore, Constellation Energy Corporation (Nasdaq: CEG) is\\nTJX is the leading off-price apparel and home fashions retailer in the U.S.\\nAt Nasdaq, our purpose is to advance economic progress for all. We power\\nSince 1895 Anritsu has been leading the way as a pioneer in information\\nVirtusa Corporation provides digital engineering and technology services to Forbes Global 2000 companies\\nIGT (NYSE:IGT) is the global leader in gaming. We deliver entertaining and responsible\\nVestcom is the industry leader in shelf-edge media for Retailers and CPGs. Our\\nJefferies is a leading global, full-service investment banking and capital markets firm that\\nDedicated to the world’s tomorrow, Trimble is a technology company delivering solutions that\\nMorningstar, Inc. is a leading provider of independent investment insights in North America,\\nThe Los Angeles Times is the largest metropolitan daily newspaper in the country,\\nSandvik is a global, high-tech engineering group providing solutions that enhance productivity, profitability\\nTogether with our customers and partners, Sandvik Coromant leads the way toward a\\nWe\\'re a leading global eye health organization that is dedicated to protecting and\\nAscensus helps millions of people save for a better future. We’re also one\\nPumps are our business. Every day, our energy efficient pumps provide comfort, deliver\\nL.E.K. Consulting is a global management consulting firm that uses deep industry expertise\\nTeleperformance is a global digital business services company. Our global scale and local\\nA global leader in water and process management solutions, Nalco Water, an Ecolab\\nColliers (NASDAQ, TSX: CIGI) is a leading diversified professional services and investment management\\nBe ready for what’s next with multicloud solutions from Rackspace Technology™. We are\\nWelcome to LHH! We\\'re a global leader in HR solutions that future-proofs organizations\\nZS is the place where ambitions are welcomed and where passion changes lives.\\nHCLTech is a global technology company, home to more than 221,000 people across\\nAt DSV, we keep supply chains flowing in a world of change. We\\nMcMaster-Carr is an e-commerce company offering more than half a million products used\\nAn independent non-profit institute headquartered in Silicon Valley, SRI is a global leader\\nFounded in 1898, Northeastern is a global research university with a distinctive, experience-driven\\nAlcon helps people see brilliantly. As the global leader in eye care with\\nRent. offers solutions that work as hard as you do. Period. We\\'re here\\nLPL Financial is a leader in the retail financial advice market and the\\nLuxoft, a DXC Technology Company (NYSE: DXC), is a digital strategy and software\\nEsri is the global market leader in geographic information system (GIS) software, location\\nOwens Corning (NYSE: OC) develops, manufactures, and markets insulation, roofing, and fiberglass composites.\\nTenet Healthcare Corporation (NYSE: THC) is a diversified healthcare services company headquartered in\\nFor almost a century, investors have trusted MFS to achieve their investment goals\\nALTEN Group supports the development strategy of its customers in the fields of\\nLos Alamos National Laboratory is one of the world’s most innovative multidisciplinary research\\nAt H&M, we welcome you to be yourself and feel like you truly\\nBlizzard Entertainment is a premier developer and publisher of entertainment software. After establishing\\nSysco is the global leader in selling, marketing and distributing food products to\\nFounded in 1982 by a small group of entrepreneurs, Softtek started out in\\nAs a Global IT Solutions Provider, we connect people with technology that enhances\\nGeneral Services Administration (GSA) is an independent agency of the United States government\\nG4S is a leading security and facility services company that provides proactive security\\nUC Santa Barbara is consistently recognized for excellence across broad fields of study.\\nFor more than 80 years, the VELUX Group has created better living environments\\nSandia National Laboratories is the nation’s premier DOE science and engineering lab for\\nThe Hanover is a leading provider of property and casualty insurance in the\\nAbercrombie & Fitch Co. (NYSE: ANF) is a leading, global, omnichannel specialty retailer\\nAs part of the state’s premier academic medical center, University of Missouri Health\\nWe are Mizzou! Our distinct mission, as Missouri\\'s only state-supported member of the\\nHess Corporation is a global independent energy company engaged in the exploration and\\nManTech is more than a technology company. We are a company dedicated to\\nAshland Inc. (NYSE: ASH) is a global additives and specialty ingredients company with\\nCapco, a Wipro company, is a global technology and management consultancy specializing in\\nWe\\'re the world’s largest family-owned wine and spirits company and the official wine\\nFounded in 1946 by Pietro and Giovanni Ferrero, the Ferrero Group is a\\nWe strive to transform lives. While the science we advance is constantly evolving,\\nThe Mercatus Center at George Mason University is the world’s premier university source\\nGeorge Mason University is Virginia’s largest and most diverse public research university. Located\\nAs the world\\'s leading derivatives marketplace, CME Group (www.cmegroup.com) is where the world\\nConsilio is a global leader in eDiscovery, document review, risk management, and legal\\nCrowe LLP is a public accounting, consulting, and technology firm with offices around\\nMorrison Foerster transforms complexity into advantage. With our collective intelligence, we shape powerful\\nFTI Consulting, Inc. is a global business advisory firm dedicated to helping organizations\\nConcurrent Technologies Corporation (CTC) is an independent, nonprofit, applied scientific research and development\\nA nationally ranked private university with seven degree-granting schools, SMU is a distinguished\\nKPIT Technologies is a global partner to the automotive and mobility ecosystem for\\nWe are a leading U.S.-based property and casualty insurance company with more than\\nThe customer is the center of all we do. Premera is a leading\\nADM unlocks the power of nature to enrich the quality of life. We’re\\nThe Standard is a leading provider of financial products and services, including group\\nSince 1979, Plexus has been partnering with companies to create the products that\\nOur world is increasing in complexity. Organizations are changing at an ever-increasing rate.\\nLotus is a global performance brand built on solid foundations and a rich\\nNintendo\\'s mission is to put smiles on the faces of everyone we touch.\\nForbes Media is a global media, branding and technology company, with a focus\\nUSANA Health Sciences is a U.S.-based international direct-selling company that researches, manufactures, and\\nMercury Systems is a technology company that makes the world a safer, more\\nCapella University (www.capella.edu) is an accredited online university* that offers online degree programs\\nGreenberg Traurig, LLP has more than 2750 attorneys in 47 locations in the\\nCirrus Logic is an industry leader in low-power audio and high-performance mixed-signal processing\\nCoach was founded in 1941 as a family-run workshop. In a Manhattan loft,\\nHerbalife is a global health and wellness community born to support you in\\nMcClatchy is an award-winning local news leader whose mission is to serve as\\nAt Varian, a Siemens Healthineers company, we envision a world without fear of\\nThe people of Memorial Sloan Kettering Cancer Center (MSK) are united by a\\nWelcome to Huntsman, where we\\'re not just a global chemical company; we\\'re a\\nCleveland Clinic, located in Cleveland, Ohio, is a not-for-profit, multispecialty academic medical center\\nAbout 6 million customers in 15 states energize their homes and businesses with\\nWe are LyondellBasell (NYSE: LYB) – a leader in the global chemical industry\\nWe’re a community of creators. Status quo busters. Difference makers. For the past\\nCooper University Health Care is the leading academic health system in South Jersey\\nFrom helping to invent the affiliate industry to performance marketing and what comes\\nAt Netia we deliver you the world online. It\\'s the real world enhanced\\nWelcome to the U.S. Department of Labor\\'s LinkedIn profile. We share info on\\nACCO Brands Corporation (NYSE: ACCO) is one of the world\\'s largest designers, marketers\\nAt Santander Bank, it’s our mission to help people and businesses prosper. That\\nSasol is a global chemicals and energy company. We harness our knowledge and\\nFounded in 1864 — just a few years after the city of Denver\\nBall Corporation is a global aluminum packaging company and sustainability leader providing packaging\\nAs one of the world’s leading law firms, we serve a broad range\\nFrom our offices in strategic hubs of commerce, law, and government across North\\nICF is a global consulting and technology services company with approximately 9,000 employees,\\nKohl’s is a leading omnichannel retailer with more than 1,100 stores in 49\\nCPS, Inc. has placed professionals in their desired, specialized industries for 50 years.\\nHuron is a global professional services firm that collaborates with clients to put\\nPenske Logistics is a Penske Transportation Solutions company. We provide supply chain management\\nPenske Truck Leasing is a Penske Transportation Solutions company headquartered in Reading, Pennsylvania.\\nWe are a leading full-line, full-service cooling tower and air-cooled heat exchanger manufacturer.\\nViasat is a global communications company that believes everyone, and everything can be\\nTurner is a North America-based, international construction services company and is a leading\\nAs the leading Hispanic media company in the U.S., Univision Communications Inc. entertains,\\nFor more than 150 years, men and women at Louis Vuitton have shared\\nEvery day, millions of people throughout the world consume foods and beverages containing\\nAt the forefront of radio and satellite communication technology for over 70 years\\nGensler is a global architecture, design, and planning firm with 53 locations and\\nEach day is an opportunity to imagine and plan for tomorrow. To think\\nRTI International is an independent, nonprofit research institute dedicated to improving the human\\nTOMMY HILFIGER is one of the world’s leading designer lifestyle brands creating a\\nThinking around corners. Understanding and solving the problem before it becomes a problem.\\nFairfax County Public Schools (FCPS), located in Northern Virginia, is the nation’s 11th\\nSince our foundation in Dublin, Ireland in 1990, our mission has been to\\nOrrick, Herrington & Sutcliffe LLP is a global law firm focused on serving\\nOur business is automation, and we envision a future in which people can\\nArcadis is the world’s leading company delivering sustainable design, engineering, digital and consultancy\\nAt Johns Manville, we build on decades of experience to manufacture commercial roofing,\\nFor more than eight decades, the Tennessee Valley Authority has provided affordable electricity,\\nWe are now Vericast - Vericast is reimagining marketing solutions one business-to-human connection\\nThe Federal Highway Administration (FHWA) is an agency within the U.S. Department of\\nAt the US Department of Transportation, we occupy a unique leadership role in\\nMeet IFF: We boldly bring together science and creativity to create what the\\nSmithsonian Enterprises (SE) was formed in 1999 by the Smithsonian Institution\\'s Board of\\nMKS Instruments enables technologies that transform our world. We deliver foundational technology solutions\\nMotion Recruitment delivers IT Talent Solutions for Contract, Direct Hire, Managed Solutions and\\nTDS Telecommunications LLC (TDS Telecom/TDS®) delivers high-speed internet, TV entertainment, and phone services\\nCubic creates and delivers technology solutions in transportation that make people’s lives easier\\nNational Grid lies at the heart of a transforming energy system. Our business\\nIt’s more than what you do: it’s how you do it. O’Melveny, a\\nThe University of Nebraska Foundation was created in 1936 by community leaders who\\nThe University of Nebraska-Lincoln is the state’s flagship university and the intellectual center\\nFlowserve is one of the world\\'s largest manufacturers of pumps, valves and seals\\nA business division of Info Edge India Limited (listed on NSE & BSE).\\nAutoliv, Inc. is the worldwide leader in automotive safety systems. We develop, manufacture\\nAs the birthplace of public education in this nation, the Boston Public Schools\\nArmstrong World Industries, Inc. (AWI) is a leader in the design and manufacture\\nChr. Hansen has combined with Novozymes to become Novonesis: linkedin.com/company/novonesis. This global biosolutions\\nFM Global is one of the world\\'s largest commercial property insurers. For nearly\\nFresenius Medical Care North America (FMCNA) is the premier healthcare company focused on\\nOne of America\\'s most recognized companies, Union Pacific Railroad connects 23 states in\\nW. L. Gore & Associates is a global materials science company dedicated to\\nThe University of Kentucky is a public, research-extensive, land grant university dedicated to\\nClients partner with Cooley on transformative deals, complex IP and regulatory matters, and\\nAt The Michaels Companies Inc, our purpose is to fuel the joy of\\nAt Yoh, we focus on helping you precisely navigate and fulfill your talent\\nMayer Brown is a leading international law firm, positioned to represent the world’s\\nChoice Hotels International, Inc. (NYSE: CHH) is one of the world’s largest and\\nRensselaer Polytechnic Institute is America’s first technological research university. Founded in 1824, our\\nAdvantage Technical aligns people and companies to create opportunity. Our staff of professionals\\nWith over 120 offices and nearly 7,000 associates throughout the U.S., CBIZ (NYSE:\\nLands’ End, Inc. (NASDAQ: LE) is a leading multi-channel retailer of clothing, accessories,\\nAppleOne Employment Services is a full-service employment company. Founded in 1964, we are\\nThe University of New South Wales (UNSW) is one of Australia\\'s leading research\\nNYU Langone Health is a world-class, patient-centered, integrated academic medical center. Ranked as\\nEmpowering Better Financial Outcomes for Everyday Americans Atlanticus’ technology allows bank, retail, and\\nFounded in 1998, Oracle NetSuite is the world’s first cloud company. For more\\nAgilysys delivers modular and integrated software solutions and expertise to businesses seeking to\\nThe County of Santa Clara is located at the southern end of the\\nThe Icahn School of Medicine at Mount Sinai is an international leader in\\nMatch pioneered the concept of online dating when we launched in 1995. Today,\\n7-Eleven introduced the world to convenience. And in return, the world made us\\nZions Bancorporation is one of the nation’s premier financial services companies with total\\nThe Schindler Group is a leading manufacturer and provider of related services for\\nNorth American operation of the Swiss-based company, a leading global elevator and escalator\\nBrunswick is a global leader in marine recreation, delivering innovation that transforms experiences\\nePlus is a customer-first, services-led, results-driven and trusted industry leader that helps organizations\\nBrady Corporation is an international manufacturer and marketer of complete solutions that identify\\nFUJIFILM Holdings America Corporation is the regional headquarters for the Americas. It is\\nFresche is an IT consulting and development company. We are experts in strategy\\nWe are AMS. We are a talent solutions business Working with clients across\\nAt Thrivent, we do work that matters—and we\\'re reimagining financial services in ways\\nAs one of the fastest-growing leaders and producers in North America’s food industry,\\nAs the largest not-for-profit health system in the state of Texas, Baylor Scott\\nThe Wertheim UF Scripps Institute advances human health through biomedical research, drug discovery\\nCSX is a company on the move. As the nation’s best run railroad,\\nCrain Communications is a leading business news and information company with a portfolio\\nLiving out our land-grant mission through instruction, research and outreach since 1890.\\nInfogain, a Silicon Valley-based human-centered digital platform engineering company, is dedicated to forging\\nPowering Performance Marketplaces In Digital Media QuinStreet is a pioneer in powering decentralized\\nFor more than 125 years, Landis+Gyr has helped the world manage energy better.\\nSafety-Kleen is a leading environmental services company engaged in used oil recycling and\\nAt Paul Hastings, our purpose is clear — to help our clients and\\nAt Reed Smith, everything we do is to apply our global experience in\\nWe are a digital transformation company. We make digital 𝐡𝐮𝐦𝐚𝐧™ by combining human-centered\\nMarcus & Millichap was founded in 1971 with the goal of being a\\nGeorgia State is an urban public research university and national model for student\\nWe are the National Institute of Standards and Technology (NIST), a non-regulatory federal\\nAt NewYork-Presbyterian, we put patients first. It’s the kind of work that requires\\nDräger is an international leader in the fields of medical and safety technology.\\nWe\\'re a global product engineering and digital services company focused on fulfilling our\\nRussell Investments is a leading outsourced CIO (OCIO) partner and global investment solutions\\nMSCI is a leading provider of critical decision support tools and services for\\nAxis enables a smarter and safer world by creating solutions for improving security\\nYou’re on a quest for more. Something deeper than a cookie-cutter, private-sector job\\nThe Oregon Department of Transportation is an award-winning organization, more than 4,500 employees\\nAltria has a leading portfolio of tobacco products for U.S. tobacco consumers age\\nHeadquartered in Stamford, Connecticut, HARMAN (harman.com) designs and engineers connected products and solutions\\nWe moved! Follow our new page on LinkedIn @ https://www.linkedin.com/company/TungstenAutomation ---- Tungsten Automation,\\nZimmer Biomet is a global medical technology leader with a comprehensive portfolio designed\\nSustainability is our business. As the largest global pure play sustainability consultancy, ERM\\nFortinet makes possible a digital world that we can always trust through its\\nLoyola Medicine is a member of Trinity Health. Loyola Medicine offers integrated academic\\nFounded in 1870, Loyola University Chicago is one of the nation’s largest Jesuit,\\nMicrochip Technology Inc. is a leading semiconductor supplier of smart, connected and secure\\nOur iconic Greyhound buses travel the length and breadth of the United States\\nDaVita means “to give life,” reflecting our proud history as leaders in dialysis—an\\nTetra Tech is a leading, global provider of consulting and engineering services. We\\nCelebrating over 35 years as an industry leader, 24 Hour Fitness is committed\\nUT Southwestern is an academic medical center, world-renowned for its research, regarded among\\nAirlines Reporting Corporation (ARC) accelerates growth for the travel industry and beyond by\\nSelect Medical made a commitment more than 20 years ago to deliver an\\nBoston Globe Media is New England\\'s largest newsgathering organization -- and much more.\\nFor more than 50 years, Ansys software has enabled innovators across industries to\\nConnexity, a Taboola company is a performance-marketing technology company whose core purpose is\\nGallagher, a global insurance brokerage, risk management, and consulting firm, serves communities around\\nSoftServe is a premier IT consulting and digital services provider. We expand the\\nSappi is a leading global provider of powerful everyday materials made from woodfibre-based\\nUMB Financial Corporation is a leading provider of financial services for individuals and\\nAdvocate Health Care is proud to be a part of Advocate Health, the\\nFor more than 95 years, Shure Incorporated has developed best-in-class audio products that\\nFounded in Florence, Italy in 1921, Gucci is one of the world’s leading\\nMSA Safety Incorporated (NYSE: MSA) is the global leader in advanced safety products,\\nSince 1827, Norfolk Southern (NYSE: NSC) and its predecessor companies have safely moved\\nRecognized three years in a row by Great Place to Work® and named\\ndunnhumby is the global leader in Customer Data Science, empowering businesses everywhere to\\nFounded in 1975, AMERICAN SYSTEMS is an employee-owned federal government contractor supporting national\\nHOK is a global design, architecture, engineering and planning firm with 25 studios\\nGibson Dunn is a leading global law firm, advising clients on significant transactions\\nMarathon Oil Corporation (NYSE: MRO) is an independent oil and natural gas exploration\\nPro Staff is an industry leader in Talent Acquisition, Talent Management and Human\\nAt Eisai Inc., human health care (hhc) is our goal. We give our\\nWorley is a global professional services company of energy, chemicals and resources experts\\nHollister Incorporated is an independent, employee-owned company that develops, manufactures, and markets healthcare\\nJoin a tight-knit team responsible for creating and publishing some of the most\\nInvited is a reflection of our inclusivity and welcoming spirit. Our unprecedented collection\\nAt CAS, our passion is advancing scientific progress. As a leader in scientific\\nOur name spells out our mission: a bridge to a cleaner energy future.\\nOur global associates are unified by a singular drive: to take on our\\nMSNBC defines news for the next generation with world-class reporting and a full\\nHERITAGE MADE MODERN We make modern classics with character. We believe in true\\nThe WVU Health System, which operates under the brand name WVU Medicine, is\\nThe Philadelphia Housing Authority, also known as PHA, is the biggest landlord in\\nAustin ISD is a diverse community of more than 10,000 employees, and we\\nIncyte is a global biopharmaceutical company focused on finding solutions for serious unmet\\nUniting more than 4,350 hospitals and approximately 300,000 other providers and organizations to\\nB. Braun Medical Inc., a leader in infusion therapy and pain management, develops,\\nMultiPlan is committed to helping healthcare payors manage the cost of care, improve\\nSirva Worldwide, Inc. provides HR and mobility professionals with the resources, guidance, and\\nA member of the prestigious Association of American Universities, Tulane University is consistently\\nAt Sephora, we stand together and we stand for something more. For empowerment,\\nSouthern Glazer’s Wine & Spirits is the world’s pre-eminent distributor of beverage alcohol,\\nBitdefender is a cybersecurity leader delivering best-in-class threat prevention, detection, and response solutions\\nMilliken & Company is a global manufacturing leader whose focus on materials science\\nState government is more than senators, representatives, and elected officials. We build highways,\\nOne of America\\'s leading health insurance organizations and an independent licensee of the\\nFrom epic concerts to premier music festivals to heart-stopping sporting events, AEG has\\nDevon Energy is a leading oil and gas producer in the U.S. with\\nDice’s tech-focused career marketplace enables direct, meaningful connections between recruiters and technologists. Our\\nSimpson Thacher & Bartlett LLP is one of the world’s leading international law\\nMarriott Vacations Worldwide encompasses a diverse portfolio of businesses — and a distinctive\\nVertex is a global biotechnology company that invests in scientific innovation to create\\nWe are dedicated to transforming lives by improving the journey to a healthy,\\nHennepin County is a vibrant blend of 45 cities that includes the city\\nARS® / Rescue Rooter® is a leading brand of American Residential Services LLC.,\\nAt Delta Dental, we’re behind millions of smiles and counting. For over 60\\nSince 1946, the American Institutes for Research (AIR) has been advancing evidence to\\nBJC HealthCare is one of the largest nonprofit health care organizations in the\\nFlorida International University is a Top 50 public university that drives real talent\\nRite Aid is a full-service pharmacy committed to improving health outcomes. Rite Aid\\nWith 50 years of experience, DTCC is the premier post-trade market infrastructure for'"
            ],
            "application/vnd.google.colaboratory.intrinsic+json": {
              "type": "string"
            }
          },
          "metadata": {},
          "execution_count": 12
        }
      ]
    },
    {
      "cell_type": "markdown",
      "metadata": {
        "id": "cP1JdiOIKQWi"
      },
      "source": [
        "### Elegir el tamaño del contexto\n",
        "\n",
        "En este caso, como el modelo de lenguaje es por caracteres, todo un gran corpus\n",
        "de texto puede ser considerado un documento en sí mismo y el tamaño de contexto\n",
        "puede ser elegido con más libertad en comparación a un modelo de lenguaje tokenizado por palabras y dividido en documentos más acotados."
      ]
    },
    {
      "cell_type": "code",
      "execution_count": 13,
      "metadata": {
        "id": "wumBNwdjJM3j"
      },
      "outputs": [],
      "source": [
        "# seleccionamos el tamaño de contexto\n",
        "max_context_size = 100"
      ]
    },
    {
      "cell_type": "code",
      "execution_count": 14,
      "metadata": {
        "id": "m5FeTaGvbDbw"
      },
      "outputs": [],
      "source": [
        "# Usaremos las utilidades de procesamiento de textos y secuencias de Keras\n",
        "from tensorflow.keras.utils import pad_sequences # se utilizará para padding"
      ]
    },
    {
      "cell_type": "code",
      "execution_count": 15,
      "metadata": {
        "id": "573Cg5n7VhWw"
      },
      "outputs": [],
      "source": [
        "# en este caso el vocabulario es el conjunto único de caracteres que existe en todo el texto\n",
        "chars_vocab = set(article_text)"
      ]
    },
    {
      "cell_type": "code",
      "execution_count": 16,
      "metadata": {
        "id": "VwTK6xgLJd8q",
        "colab": {
          "base_uri": "https://localhost:8080/"
        },
        "outputId": "66ebcbf7-6568-442c-f3ac-2988e419c4b5"
      },
      "outputs": [
        {
          "output_type": "execute_result",
          "data": {
            "text/plain": [
              "104"
            ]
          },
          "metadata": {},
          "execution_count": 16
        }
      ],
      "source": [
        "# la longitud de vocabulario de caracteres es:\n",
        "len(chars_vocab)"
      ]
    },
    {
      "cell_type": "code",
      "execution_count": 17,
      "metadata": {
        "id": "2W0AeQjXV1Ou"
      },
      "outputs": [],
      "source": [
        "# Construimos los dicionarios que asignan índices a caracteres y viceversa.\n",
        "# El diccionario `char2idx` servirá como tokenizador.\n",
        "char2idx = {k: v for v,k in enumerate(chars_vocab)}\n",
        "idx2char = {v: k for k,v in char2idx.items()}"
      ]
    },
    {
      "cell_type": "markdown",
      "metadata": {
        "id": "2oIUjVU0LB0r"
      },
      "source": [
        "###  Tokenizar"
      ]
    },
    {
      "cell_type": "code",
      "execution_count": 18,
      "metadata": {
        "id": "h07G3srdJppo"
      },
      "outputs": [],
      "source": [
        "# tokenizamos el texto completo\n",
        "tokenized_text = [char2idx[ch] for ch in article_text]"
      ]
    },
    {
      "cell_type": "code",
      "execution_count": 19,
      "metadata": {
        "id": "PwGVSKOiJ5bj",
        "colab": {
          "base_uri": "https://localhost:8080/"
        },
        "outputId": "3dd91b1a-9ec5-4aaa-c3a3-0d0292210b86"
      },
      "outputs": [
        {
          "output_type": "execute_result",
          "data": {
            "text/plain": [
              "[97,\n",
              " 73,\n",
              " 68,\n",
              " 60,\n",
              " 13,\n",
              " 29,\n",
              " 92,\n",
              " 68,\n",
              " 47,\n",
              " 14,\n",
              " 68,\n",
              " 58,\n",
              " 75,\n",
              " 68,\n",
              " 69,\n",
              " 75,\n",
              " 80,\n",
              " 14,\n",
              " 68,\n",
              " 73,\n",
              " 91,\n",
              " 62,\n",
              " 93,\n",
              " 68,\n",
              " 47,\n",
              " 75,\n",
              " 80,\n",
              " 99,\n",
              " 59,\n",
              " 68,\n",
              " 87,\n",
              " 14,\n",
              " 68,\n",
              " 11,\n",
              " 80,\n",
              " 14,\n",
              " 62,\n",
              " 73,\n",
              " 14,\n",
              " 59,\n",
              " 68,\n",
              " 87,\n",
              " 14,\n",
              " 68,\n",
              " 11,\n",
              " 80,\n",
              " 14,\n",
              " 62,\n",
              " 73,\n",
              " 14,\n",
              " 68,\n",
              " 62,\n",
              " 6,\n",
              " 68,\n",
              " 73,\n",
              " 14,\n",
              " 11,\n",
              " 91,\n",
              " 93,\n",
              " 75,\n",
              " 67,\n",
              " 75,\n",
              " 4,\n",
              " 2,\n",
              " 6,\n",
              " 73,\n",
              " 6,\n",
              " 92,\n",
              " 98,\n",
              " 40,\n",
              " 94,\n",
              " 14,\n",
              " 80,\n",
              " 90,\n",
              " 68,\n",
              " 58,\n",
              " 62,\n",
              " 90,\n",
              " 68,\n",
              " 69,\n",
              " 2,\n",
              " 67,\n",
              " 67,\n",
              " 2,\n",
              " 75,\n",
              " 93,\n",
              " 6,\n",
              " 68,\n",
              " 75,\n",
              " 84,\n",
              " 68,\n",
              " 35,\n",
              " 14,\n",
              " 75,\n",
              " 35,\n",
              " 67,\n",
              " 14,\n",
              " 68,\n",
              " 84,\n",
              " 14,\n",
              " 14,\n",
              " 67,\n",
              " 68,\n",
              " 73,\n",
              " 91,\n",
              " 14,\n",
              " 68,\n",
              " 2,\n",
              " 69,\n",
              " 35,\n",
              " 62,\n",
              " 11,\n",
              " 73,\n",
              " 68,\n",
              " 75,\n",
              " 84,\n",
              " 68,\n",
              " 75,\n",
              " 26,\n",
              " 80,\n",
              " 68,\n",
              " 2,\n",
              " 93,\n",
              " 73,\n",
              " 14,\n",
              " 67,\n",
              " 67,\n",
              " 2,\n",
              " 4,\n",
              " 14,\n",
              " 93,\n",
              " 73,\n",
              " 68,\n",
              " 58,\n",
              " 14,\n",
              " 94,\n",
              " 2,\n",
              " 11,\n",
              " 14,\n",
              " 6,\n",
              " 92,\n",
              " 68,\n",
              " 62,\n",
              " 58,\n",
              " 94,\n",
              " 62,\n",
              " 93,\n",
              " 11,\n",
              " 14,\n",
              " 58,\n",
              " 98,\n",
              " 3,\n",
              " 84,\n",
              " 84,\n",
              " 2,\n",
              " 11,\n",
              " 2,\n",
              " 62,\n",
              " 67,\n",
              " 68,\n",
              " 8,\n",
              " 2,\n",
              " 93,\n",
              " 99,\n",
              " 14,\n",
              " 58,\n",
              " 60,\n",
              " 93,\n",
              " 68,\n",
              " 75,\n",
              " 84,\n",
              " 68,\n",
              " 78,\n",
              " 14,\n",
              " 47,\n",
              " 67,\n",
              " 14,\n",
              " 73,\n",
              " 73,\n",
              " 68,\n",
              " 51,\n",
              " 62,\n",
              " 11,\n",
              " 99,\n",
              " 62,\n",
              " 80,\n",
              " 58,\n",
              " 68,\n",
              " 40,\n",
              " 93,\n",
              " 73,\n",
              " 14,\n",
              " 80,\n",
              " 35,\n",
              " 80,\n",
              " 2,\n",
              " 6,\n",
              " 14,\n",
              " 92,\n",
              " 68,\n",
              " 73,\n",
              " 91,\n",
              " 14,\n",
              " 68,\n",
              " 4,\n",
              " 67,\n",
              " 75,\n",
              " 95,\n",
              " 62,\n",
              " 67,\n",
              " 68,\n",
              " 14,\n",
              " 58,\n",
              " 4,\n",
              " 14,\n",
              " 24,\n",
              " 73,\n",
              " 75,\n",
              " 24,\n",
              " 11,\n",
              " 67,\n",
              " 75,\n",
              " 26,\n",
              " 58,\n",
              " 68,\n",
              " 11,\n",
              " 75,\n",
              " 69,\n",
              " 35,\n",
              " 62,\n",
              " 93,\n",
              " 90,\n",
              " 59,\n",
              " 68,\n",
              " 27,\n",
              " 91,\n",
              " 62,\n",
              " 80,\n",
              " 2,\n",
              " 93,\n",
              " 4,\n",
              " 68,\n",
              " 75,\n",
              " 26,\n",
              " 80,\n",
              " 68,\n",
              " 35,\n",
              " 62,\n",
              " 6,\n",
              " 6,\n",
              " 2,\n",
              " 75,\n",
              " 93,\n",
              " 98,\n",
              " 87,\n",
              " 14,\n",
              " 9,\n",
              " 80,\n",
              " 14,\n",
              " 68,\n",
              " 62,\n",
              " 68,\n",
              " 11,\n",
              " 67,\n",
              " 75,\n",
              " 26,\n",
              " 58,\n",
              " 68,\n",
              " 73,\n",
              " 14,\n",
              " 11,\n",
              " 91,\n",
              " 93,\n",
              " 75,\n",
              " 67,\n",
              " 75,\n",
              " 4,\n",
              " 90,\n",
              " 68,\n",
              " 11,\n",
              " 75,\n",
              " 69,\n",
              " 35,\n",
              " 62,\n",
              " 93,\n",
              " 90,\n",
              " 68,\n",
              " 73,\n",
              " 91,\n",
              " 62,\n",
              " 73,\n",
              " 68,\n",
              " 35,\n",
              " 80,\n",
              " 75,\n",
              " 94,\n",
              " 2,\n",
              " 58,\n",
              " 14,\n",
              " 6,\n",
              " 68,\n",
              " 75,\n",
              " 80,\n",
              " 4,\n",
              " 62,\n",
              " 93,\n",
              " 2,\n",
              " 88,\n",
              " 62,\n",
              " 73,\n",
              " 2,\n",
              " 75,\n",
              " 93,\n",
              " 6,\n",
              " 68,\n",
              " 62,\n",
              " 80,\n",
              " 75,\n",
              " 26,\n",
              " 93,\n",
              " 58,\n",
              " 68,\n",
              " 73,\n",
              " 91,\n",
              " 14,\n",
              " 68,\n",
              " 47,\n",
              " 75,\n",
              " 80,\n",
              " 67,\n",
              " 58,\n",
              " 68,\n",
              " 47,\n",
              " 2,\n",
              " 73,\n",
              " 91,\n",
              " 68,\n",
              " 11,\n",
              " 75,\n",
              " 69,\n",
              " 35,\n",
              " 26,\n",
              " 73,\n",
              " 2,\n",
              " 93,\n",
              " 4,\n",
              " 98,\n",
              " 97,\n",
              " 11,\n",
              " 11,\n",
              " 14,\n",
              " 93,\n",
              " 73,\n",
              " 26,\n",
              " 80,\n",
              " 14,\n",
              " 68,\n",
              " 2,\n",
              " 6,\n",
              " 68,\n",
              " 62,\n",
              " 68,\n",
              " 67,\n",
              " 14,\n",
              " 62,\n",
              " 58,\n",
              " 2,\n",
              " 93,\n",
              " 4,\n",
              " 68,\n",
              " 4,\n",
              " 67,\n",
              " 75,\n",
              " 95,\n",
              " 62,\n",
              " 67,\n",
              " 68,\n",
              " 35,\n",
              " 80,\n",
              " 75,\n",
              " 84,\n",
              " 14,\n",
              " 6,\n",
              " 6,\n",
              " 2,\n",
              " 75,\n",
              " 93,\n",
              " 62,\n",
              " 67,\n",
              " 68,\n",
              " 6,\n",
              " 14,\n",
              " 80,\n",
              " 94,\n",
              " 2,\n",
              " 11,\n",
              " 14,\n",
              " 6,\n",
              " 68,\n",
              " 11,\n",
              " 75,\n",
              " 69,\n",
              " 35,\n",
              " 62,\n",
              " 93,\n",
              " 90,\n",
              " 68,\n",
              " 73,\n",
              " 91,\n",
              " 62,\n",
              " 73,\n",
              " 68,\n",
              " 91,\n",
              " 14,\n",
              " 67,\n",
              " 35,\n",
              " 6,\n",
              " 68,\n",
              " 73,\n",
              " 91,\n",
              " 14,\n",
              " 68,\n",
              " 47,\n",
              " 75,\n",
              " 80,\n",
              " 67,\n",
              " 58,\n",
              " 9,\n",
              " 6,\n",
              " 68,\n",
              " 67,\n",
              " 14,\n",
              " 62,\n",
              " 58,\n",
              " 2,\n",
              " 93,\n",
              " 4,\n",
              " 98,\n",
              " 40,\n",
              " 94,\n",
              " 14,\n",
              " 80,\n",
              " 90,\n",
              " 68,\n",
              " 11,\n",
              " 75,\n",
              " 69,\n",
              " 35,\n",
              " 62,\n",
              " 93,\n",
              " 90,\n",
              " 68,\n",
              " 91,\n",
              " 62,\n",
              " 6,\n",
              " 68,\n",
              " 62,\n",
              " 68,\n",
              " 69,\n",
              " 2,\n",
              " 6,\n",
              " 6,\n",
              " 2,\n",
              " 75,\n",
              " 93,\n",
              " 59,\n",
              " 68,\n",
              " 87,\n",
              " 91,\n",
              " 62,\n",
              " 73,\n",
              " 41,\n",
              " 6,\n",
              " 68,\n",
              " 75,\n",
              " 26,\n",
              " 80,\n",
              " 6,\n",
              " 46,\n",
              " 68,\n",
              " 56,\n",
              " 75,\n",
              " 68,\n",
              " 14,\n",
              " 69,\n",
              " 35,\n",
              " 75,\n",
              " 47,\n",
              " 14,\n",
              " 80,\n",
              " 68,\n",
              " 14,\n",
              " 94,\n",
              " 14,\n",
              " 80,\n",
              " 90,\n",
              " 68,\n",
              " 35,\n",
              " 14,\n",
              " 80,\n",
              " 6,\n",
              " 75,\n",
              " 93,\n",
              " 68,\n",
              " 62,\n",
              " 93,\n",
              " 58,\n",
              " 68,\n",
              " 14,\n",
              " 94,\n",
              " 14,\n",
              " 80,\n",
              " 90,\n",
              " 98,\n",
              " 22,\n",
              " 14,\n",
              " 67,\n",
              " 75,\n",
              " 2,\n",
              " 73,\n",
              " 73,\n",
              " 14,\n",
              " 68,\n",
              " 58,\n",
              " 80,\n",
              " 2,\n",
              " 94,\n",
              " 14,\n",
              " 6,\n",
              " 68,\n",
              " 35,\n",
              " 80,\n",
              " 75,\n",
              " 4,\n",
              " 80,\n",
              " 14,\n",
              " 6,\n",
              " 6,\n",
              " 59,\n",
              " 68,\n",
              " 3,\n",
              " 26,\n",
              " 80,\n",
              " 68,\n",
              " 84,\n",
              " 2,\n",
              " 80,\n",
              " 69,\n",
              " 6,\n",
              " 68,\n",
              " 62,\n",
              " 80,\n",
              " 75,\n",
              " 26,\n",
              " 93,\n",
              " 58,\n",
              " 68,\n",
              " 73,\n",
              " 91,\n",
              " 14,\n",
              " 68,\n",
              " 47,\n",
              " 75,\n",
              " 80,\n",
              " 67,\n",
              " 58,\n",
              " 68,\n",
              " 91,\n",
              " 14,\n",
              " 67,\n",
              " 35,\n",
              " 68,\n",
              " 11,\n",
              " 67,\n",
              " 2,\n",
              " 14,\n",
              " 93,\n",
              " 73,\n",
              " 6,\n",
              " 68,\n",
              " 95,\n",
              " 14,\n",
              " 11,\n",
              " 75,\n",
              " 69,\n",
              " 14,\n",
              " 68,\n",
              " 67,\n",
              " 14,\n",
              " 62,\n",
              " 58,\n",
              " 14,\n",
              " 80,\n",
              " 6,\n",
              " 68,\n",
              " 47,\n",
              " 91,\n",
              " 14,\n",
              " 80,\n",
              " 14,\n",
              " 94,\n",
              " 14,\n",
              " 80,\n",
              " 98,\n",
              " 27,\n",
              " 2,\n",
              " 14,\n",
              " 69,\n",
              " 14,\n",
              " 93,\n",
              " 6,\n",
              " 68,\n",
              " 97,\n",
              " 70,\n",
              " 68,\n",
              " 16,\n",
              " 13,\n",
              " 14,\n",
              " 80,\n",
              " 67,\n",
              " 2,\n",
              " 93,\n",
              " 68,\n",
              " 62,\n",
              " 93,\n",
              " 58,\n",
              " 68,\n",
              " 29,\n",
              " 26,\n",
              " 93,\n",
              " 2,\n",
              " 11,\n",
              " 91,\n",
              " 23,\n",
              " 68,\n",
              " 2,\n",
              " 6,\n",
              " 68,\n",
              " 62,\n",
              " 68,\n",
              " 67,\n",
              " 14,\n",
              " 62,\n",
              " 58,\n",
              " 2,\n",
              " 93,\n",
              " 4,\n",
              " 68,\n",
              " 73,\n",
              " 14,\n",
              " 11,\n",
              " 91,\n",
              " 93,\n",
              " 75,\n",
              " 67,\n",
              " 75,\n",
              " 4,\n",
              " 90,\n",
              " 68,\n",
              " 11,\n",
              " 75,\n",
              " 69,\n",
              " 35,\n",
              " 62,\n",
              " 93,\n",
              " 90,\n",
              " 68,\n",
              " 84,\n",
              " 75,\n",
              " 11,\n",
              " 26,\n",
              " 6,\n",
              " 14,\n",
              " 58,\n",
              " 68,\n",
              " 75,\n",
              " 93,\n",
              " 68,\n",
              " 2,\n",
              " 93,\n",
              " 58,\n",
              " 26,\n",
              " 6,\n",
              " 73,\n",
              " 80,\n",
              " 90,\n",
              " 92,\n",
              " 98,\n",
              " 97,\n",
              " 73,\n",
              " 68,\n",
              " 51,\n",
              " 47,\n",
              " 82,\n",
              " 92,\n",
              " 68,\n",
              " 75,\n",
              " 26,\n",
              " 80,\n",
              " 68,\n",
              " 35,\n",
              " 26,\n",
              " 80,\n",
              " 35,\n",
              " 75,\n",
              " 6,\n",
              " 14,\n",
              " 68,\n",
              " 2,\n",
              " 6,\n",
              " 68,\n",
              " 73,\n",
              " 75,\n",
              " 68,\n",
              " 95,\n",
              " 26,\n",
              " 2,\n",
              " 67,\n",
              " 58,\n",
              " 68,\n",
              " 73,\n",
              " 80,\n",
              " 26,\n",
              " 6,\n",
              " 73,\n",
              " 68,\n",
              " 2,\n",
              " 93,\n",
              " 68,\n",
              " 6,\n",
              " 75,\n",
              " 11,\n",
              " 2,\n",
              " 14,\n",
              " 73,\n",
              " 90,\n",
              " 68,\n",
              " 62,\n",
              " 93,\n",
              " 58,\n",
              " 68,\n",
              " 6,\n",
              " 75,\n",
              " 67,\n",
              " 94,\n",
              " 14,\n",
              " 68,\n",
              " 2,\n",
              " 69,\n",
              " 35,\n",
              " 75,\n",
              " 80,\n",
              " 73,\n",
              " 62,\n",
              " 93,\n",
              " 73,\n",
              " 98,\n",
              " 87,\n",
              " 14,\n",
              " 68,\n",
              " 26,\n",
              " 93,\n",
              " 58,\n",
              " 14,\n",
              " 80,\n",
              " 6,\n",
              " 73,\n",
              " 62,\n",
              " 93,\n",
              " 58,\n",
              " 68,\n",
              " 73,\n",
              " 91,\n",
              " 62,\n",
              " 73,\n",
              " 68,\n",
              " 75,\n",
              " 26,\n",
              " 80,\n",
              " 68,\n",
              " 11,\n",
              " 26,\n",
              " 6,\n",
              " 73,\n",
              " 75,\n",
              " 69,\n",
              " 14,\n",
              " 80,\n",
              " 6,\n",
              " 68,\n",
              " 47,\n",
              " 62,\n",
              " 93,\n",
              " 73,\n",
              " 68,\n",
              " 62,\n",
              " 93,\n",
              " 68,\n",
              " 14,\n",
              " 62,\n",
              " 6,\n",
              " 2,\n",
              " 14,\n",
              " 80,\n",
              " 92,\n",
              " 68,\n",
              " 67,\n",
              " 14,\n",
              " 6,\n",
              " 6,\n",
              " 68,\n",
              " 11,\n",
              " 75,\n",
              " 69,\n",
              " 35,\n",
              " 67,\n",
              " 2,\n",
              " 11,\n",
              " 62,\n",
              " 73,\n",
              " 14,\n",
              " 58,\n",
              " 68,\n",
              " 67,\n",
              " 2,\n",
              " 84,\n",
              " 14,\n",
              " 59,\n",
              " 68,\n",
              " 87,\n",
              " 14,\n",
              " 9,\n",
              " 80,\n",
              " 14,\n",
              " 68,\n",
              " 26,\n",
              " 6,\n",
              " 2,\n",
              " 93,\n",
              " 4,\n",
              " 98,\n",
              " 60,\n",
              " 93,\n",
              " 73,\n",
              " 14,\n",
              " 67,\n",
              " 9,\n",
              " 6,\n",
              " 68,\n",
              " 69,\n",
              " 2,\n",
              " 6,\n",
              " 6,\n",
              " 2,\n",
              " 75,\n",
              " 93,\n",
              " 68,\n",
              " 2,\n",
              " 6,\n",
              " 68,\n",
              " 73,\n",
              " 75,\n",
              " 68,\n",
              " 6,\n",
              " 91,\n",
              " 62,\n",
              " 35,\n",
              " 14,\n",
              " 68,\n",
              " 73,\n",
              " 91,\n",
              " 14,\n",
              " 68,\n",
              " 84,\n",
              " 26,\n",
              " 73,\n",
              " 26,\n",
              " 80,\n",
              " 14,\n",
              " 68,\n",
              " 75,\n",
              " 84,\n",
              " 68,\n",
              " 73,\n",
              " 14,\n",
              " 11,\n",
              " 91,\n",
              " 93,\n",
              " 75,\n",
              " 67,\n",
              " 75,\n",
              " 4,\n",
              " 90,\n",
              " 68,\n",
              " 73,\n",
              " 75,\n",
              " 68,\n",
              " 91,\n",
              " 14,\n",
              " 67,\n",
              " 35,\n",
              " 68,\n",
              " 11,\n",
              " 80,\n",
              " 14,\n",
              " 62,\n",
              " 73,\n",
              " 14,\n",
              " 68,\n",
              " 62,\n",
              " 98,\n",
              " 3,\n",
              " 26,\n",
              " 80,\n",
              " 68,\n",
              " 35,\n",
              " 26,\n",
              " 80,\n",
              " 35,\n",
              " 75,\n",
              " 6,\n",
              " 14,\n",
              " 68,\n",
              " 56,\n",
              " 75,\n",
              " 68,\n",
              " 11,\n",
              " 80,\n",
              " 14,\n",
              " 62,\n",
              " 73,\n",
              " 14,\n",
              " 68,\n",
              " 11,\n",
              " 75,\n",
              " 93,\n",
              " 93,\n",
              " 14,\n",
              " 11,\n",
              " 73,\n",
              " 2,\n",
              " 75,\n",
              " 93,\n",
              " 6,\n",
              " 68,\n",
              " 73,\n",
              " 91,\n",
              " 62,\n",
              " 73,\n",
              " 68,\n",
              " 69,\n",
              " 62,\n",
              " 99,\n",
              " 14,\n",
              " 68,\n",
              " 73,\n",
              " 91,\n",
              " 14,\n",
              " 68,\n",
              " 26,\n",
              " 93,\n",
              " 2,\n",
              " 69,\n",
              " 62,\n",
              " 4,\n",
              " 2,\n",
              " 93,\n",
              " 62,\n",
              " 95,\n",
              " 67,\n",
              " 14,\n",
              " 68,\n",
              " 35,\n",
              " 75,\n",
              " 6,\n",
              " 6,\n",
              " 2,\n",
              " 95,\n",
              " 67,\n",
              " 14,\n",
              " 59,\n",
              " 68,\n",
              " 3,\n",
              " 26,\n",
              " 80,\n",
              " 68,\n",
              " 94,\n",
              " 2,\n",
              " 6,\n",
              " 2,\n",
              " 75,\n",
              " 93,\n",
              " 68,\n",
              " 97,\n",
              " 98,\n",
              " 82,\n",
              " 2,\n",
              " 6,\n",
              " 11,\n",
              " 75]"
            ]
          },
          "metadata": {},
          "execution_count": 19
        }
      ],
      "source": [
        "tokenized_text[:1000]"
      ]
    },
    {
      "cell_type": "markdown",
      "metadata": {
        "id": "pfpYcaypKcI9"
      },
      "source": [
        "### Organizando y estructurando el dataset"
      ]
    },
    {
      "cell_type": "code",
      "execution_count": 20,
      "metadata": {
        "id": "WSSmg9jtKP0T"
      },
      "outputs": [],
      "source": [
        "# separaremos el dataset entre entrenamiento y validación.\n",
        "# `p_val` será la proporción del corpus que se reservará para validación\n",
        "# `num_val` es la cantidad de secuencias de tamaño `max_context_size` que se usará en validación\n",
        "p_val = 0.1\n",
        "num_val = int(np.ceil(len(tokenized_text)*p_val/max_context_size))"
      ]
    },
    {
      "cell_type": "code",
      "execution_count": 21,
      "metadata": {
        "id": "b7dCpGrdKll0"
      },
      "outputs": [],
      "source": [
        "# separamos la porción de texto utilizada en entrenamiento de la de validación.\n",
        "train_text = tokenized_text[:-num_val*max_context_size]\n",
        "val_text = tokenized_text[-num_val*max_context_size:]"
      ]
    },
    {
      "cell_type": "code",
      "execution_count": 22,
      "metadata": {
        "id": "NmxQdxl8LRCg"
      },
      "outputs": [],
      "source": [
        "tokenized_sentences_val = [val_text[init*max_context_size:init*(max_context_size+1)] for init in range(num_val)]"
      ]
    },
    {
      "cell_type": "code",
      "execution_count": 23,
      "metadata": {
        "id": "_gyFT9koLqDm"
      },
      "outputs": [],
      "source": [
        "tokenized_sentences_train = [train_text[init:init+max_context_size] for init in range(len(train_text)-max_context_size+1)]"
      ]
    },
    {
      "cell_type": "code",
      "execution_count": 24,
      "metadata": {
        "id": "oVNqmmLRodT0"
      },
      "outputs": [],
      "source": [
        "X = np.array(tokenized_sentences_train[:-1])\n",
        "y = np.array(tokenized_sentences_train[1:])"
      ]
    },
    {
      "cell_type": "markdown",
      "metadata": {
        "id": "Vken7O4ETsAJ"
      },
      "source": [
        "Nótese que estamos estructurando el problema de aprendizaje como *many-to-many*:\n",
        "\n",
        "Entrada: secuencia de tokens [$x_0$, $x_1$, ..., $x_N$]\n",
        "\n",
        "Target: secuencia de tokens [$x_1$, $x_2$, ..., $x_{N+1}$]\n",
        "\n",
        "De manera que la red tiene que aprender que su salida deben ser los tokens desplazados en una posición y un nuevo token predicho (el N+1).\n",
        "\n",
        "La ventaja de estructurar el aprendizaje de esta manera es que para cada token de target se propaga una señal de gradiente por el grafo de cómputo recurrente, que es mejor que estructurar el problema como *many-to-one* en donde sólo una señal de gradiente se propaga."
      ]
    },
    {
      "cell_type": "markdown",
      "metadata": {
        "id": "l3iPTx-UJl6r"
      },
      "source": [
        "En este punto tenemos en la variable `tokenized_sentences` los versos tokenizados. Vamos a quedarnos con un conjunto de validación que utilizaremos para medir la calidad de la generación de secuencias con la métrica de Perplejidad."
      ]
    },
    {
      "cell_type": "code",
      "execution_count": 25,
      "metadata": {
        "id": "KFAyA4zCWE-5",
        "colab": {
          "base_uri": "https://localhost:8080/"
        },
        "outputId": "d61e8f0b-515a-44a2-e62a-31af337c6f5b"
      },
      "outputs": [
        {
          "output_type": "execute_result",
          "data": {
            "text/plain": [
              "(76337, 100)"
            ]
          },
          "metadata": {},
          "execution_count": 25
        }
      ],
      "source": [
        "X.shape"
      ]
    },
    {
      "cell_type": "code",
      "execution_count": 26,
      "metadata": {
        "id": "qcKRl70HFTzG",
        "colab": {
          "base_uri": "https://localhost:8080/"
        },
        "outputId": "198191ea-fabc-4a03-ac0c-5afc16a09a86"
      },
      "outputs": [
        {
          "output_type": "execute_result",
          "data": {
            "text/plain": [
              "array([97, 73, 68, 60, 13, 29, 92, 68, 47, 14])"
            ]
          },
          "metadata": {},
          "execution_count": 26
        }
      ],
      "source": [
        "X[0,:10]"
      ]
    },
    {
      "cell_type": "code",
      "execution_count": 27,
      "metadata": {
        "id": "TVpLCKSZFXZO",
        "colab": {
          "base_uri": "https://localhost:8080/"
        },
        "outputId": "d54a32d3-1499-4c98-cd58-fb150b15f677"
      },
      "outputs": [
        {
          "output_type": "execute_result",
          "data": {
            "text/plain": [
              "array([73, 68, 60, 13, 29, 92, 68, 47, 14, 68])"
            ]
          },
          "metadata": {},
          "execution_count": 27
        }
      ],
      "source": [
        "y[0,:10]"
      ]
    },
    {
      "cell_type": "code",
      "execution_count": 28,
      "metadata": {
        "id": "wOFCR-KqbW1N"
      },
      "outputs": [],
      "source": [
        "vocab_size = len(chars_vocab)"
      ]
    },
    {
      "cell_type": "markdown",
      "metadata": {
        "id": "tnnjdAQ5UAEJ"
      },
      "source": [
        "# Definiendo el modelo"
      ]
    },
    {
      "cell_type": "code",
      "execution_count": 29,
      "metadata": {
        "id": "rkMCZvmhrQz4"
      },
      "outputs": [],
      "source": [
        "from keras.layers import Input, TimeDistributed, CategoryEncoding, SimpleRNN, Dense\n",
        "from keras.models import Model, Sequential"
      ]
    },
    {
      "cell_type": "markdown",
      "metadata": {
        "id": "wgz7VKwTUbj6"
      },
      "source": [
        "El modelo que se propone como ejemplo consume los índices de los tokens y los transforma en vectores OHE (en este caso no entrenamos una capa de embedding para caracteres). Esa transformación se logra combinando las capas `CategoryEncoding` que transforma a índices a vectores OHE y `TimeDistributed` que aplica la capa a lo largo de la dimensión \"temporal\" de la secuencia."
      ]
    },
    {
      "cell_type": "code",
      "execution_count": 33,
      "metadata": {
        "id": "Zd2OkfQYs2Q7",
        "colab": {
          "base_uri": "https://localhost:8080/",
          "height": 234
        },
        "outputId": "d0a7e404-3563-4103-cc21-93d9a4385e99"
      },
      "outputs": [
        {
          "output_type": "display_data",
          "data": {
            "text/plain": [
              "\u001b[1mModel: \"sequential_1\"\u001b[0m\n"
            ],
            "text/html": [
              "<pre style=\"white-space:pre;overflow-x:auto;line-height:normal;font-family:Menlo,'DejaVu Sans Mono',consolas,'Courier New',monospace\"><span style=\"font-weight: bold\">Model: \"sequential_1\"</span>\n",
              "</pre>\n"
            ]
          },
          "metadata": {}
        },
        {
          "output_type": "display_data",
          "data": {
            "text/plain": [
              "┏━━━━━━━━━━━━━━━━━━━━━━━━━━━━━━━━━━━━━━┳━━━━━━━━━━━━━━━━━━━━━━━━━━━━━┳━━━━━━━━━━━━━━━━━┓\n",
              "┃\u001b[1m \u001b[0m\u001b[1mLayer (type)                        \u001b[0m\u001b[1m \u001b[0m┃\u001b[1m \u001b[0m\u001b[1mOutput Shape               \u001b[0m\u001b[1m \u001b[0m┃\u001b[1m \u001b[0m\u001b[1m        Param #\u001b[0m\u001b[1m \u001b[0m┃\n",
              "┡━━━━━━━━━━━━━━━━━━━━━━━━━━━━━━━━━━━━━━╇━━━━━━━━━━━━━━━━━━━━━━━━━━━━━╇━━━━━━━━━━━━━━━━━┩\n",
              "│ time_distributed_1 (\u001b[38;5;33mTimeDistributed\u001b[0m) │ (\u001b[38;5;45mNone\u001b[0m, \u001b[38;5;45mNone\u001b[0m, \u001b[38;5;34m104\u001b[0m)           │               \u001b[38;5;34m0\u001b[0m │\n",
              "├──────────────────────────────────────┼─────────────────────────────┼─────────────────┤\n",
              "│ simple_rnn_1 (\u001b[38;5;33mSimpleRNN\u001b[0m)             │ (\u001b[38;5;45mNone\u001b[0m, \u001b[38;5;45mNone\u001b[0m, \u001b[38;5;34m200\u001b[0m)           │          \u001b[38;5;34m61,000\u001b[0m │\n",
              "├──────────────────────────────────────┼─────────────────────────────┼─────────────────┤\n",
              "│ dense_1 (\u001b[38;5;33mDense\u001b[0m)                      │ (\u001b[38;5;45mNone\u001b[0m, \u001b[38;5;45mNone\u001b[0m, \u001b[38;5;34m104\u001b[0m)           │          \u001b[38;5;34m20,904\u001b[0m │\n",
              "└──────────────────────────────────────┴─────────────────────────────┴─────────────────┘\n"
            ],
            "text/html": [
              "<pre style=\"white-space:pre;overflow-x:auto;line-height:normal;font-family:Menlo,'DejaVu Sans Mono',consolas,'Courier New',monospace\">┏━━━━━━━━━━━━━━━━━━━━━━━━━━━━━━━━━━━━━━┳━━━━━━━━━━━━━━━━━━━━━━━━━━━━━┳━━━━━━━━━━━━━━━━━┓\n",
              "┃<span style=\"font-weight: bold\"> Layer (type)                         </span>┃<span style=\"font-weight: bold\"> Output Shape                </span>┃<span style=\"font-weight: bold\">         Param # </span>┃\n",
              "┡━━━━━━━━━━━━━━━━━━━━━━━━━━━━━━━━━━━━━━╇━━━━━━━━━━━━━━━━━━━━━━━━━━━━━╇━━━━━━━━━━━━━━━━━┩\n",
              "│ time_distributed_1 (<span style=\"color: #0087ff; text-decoration-color: #0087ff\">TimeDistributed</span>) │ (<span style=\"color: #00d7ff; text-decoration-color: #00d7ff\">None</span>, <span style=\"color: #00d7ff; text-decoration-color: #00d7ff\">None</span>, <span style=\"color: #00af00; text-decoration-color: #00af00\">104</span>)           │               <span style=\"color: #00af00; text-decoration-color: #00af00\">0</span> │\n",
              "├──────────────────────────────────────┼─────────────────────────────┼─────────────────┤\n",
              "│ simple_rnn_1 (<span style=\"color: #0087ff; text-decoration-color: #0087ff\">SimpleRNN</span>)             │ (<span style=\"color: #00d7ff; text-decoration-color: #00d7ff\">None</span>, <span style=\"color: #00d7ff; text-decoration-color: #00d7ff\">None</span>, <span style=\"color: #00af00; text-decoration-color: #00af00\">200</span>)           │          <span style=\"color: #00af00; text-decoration-color: #00af00\">61,000</span> │\n",
              "├──────────────────────────────────────┼─────────────────────────────┼─────────────────┤\n",
              "│ dense_1 (<span style=\"color: #0087ff; text-decoration-color: #0087ff\">Dense</span>)                      │ (<span style=\"color: #00d7ff; text-decoration-color: #00d7ff\">None</span>, <span style=\"color: #00d7ff; text-decoration-color: #00d7ff\">None</span>, <span style=\"color: #00af00; text-decoration-color: #00af00\">104</span>)           │          <span style=\"color: #00af00; text-decoration-color: #00af00\">20,904</span> │\n",
              "└──────────────────────────────────────┴─────────────────────────────┴─────────────────┘\n",
              "</pre>\n"
            ]
          },
          "metadata": {}
        },
        {
          "output_type": "display_data",
          "data": {
            "text/plain": [
              "\u001b[1m Total params: \u001b[0m\u001b[38;5;34m81,904\u001b[0m (319.94 KB)\n"
            ],
            "text/html": [
              "<pre style=\"white-space:pre;overflow-x:auto;line-height:normal;font-family:Menlo,'DejaVu Sans Mono',consolas,'Courier New',monospace\"><span style=\"font-weight: bold\"> Total params: </span><span style=\"color: #00af00; text-decoration-color: #00af00\">81,904</span> (319.94 KB)\n",
              "</pre>\n"
            ]
          },
          "metadata": {}
        },
        {
          "output_type": "display_data",
          "data": {
            "text/plain": [
              "\u001b[1m Trainable params: \u001b[0m\u001b[38;5;34m81,904\u001b[0m (319.94 KB)\n"
            ],
            "text/html": [
              "<pre style=\"white-space:pre;overflow-x:auto;line-height:normal;font-family:Menlo,'DejaVu Sans Mono',consolas,'Courier New',monospace\"><span style=\"font-weight: bold\"> Trainable params: </span><span style=\"color: #00af00; text-decoration-color: #00af00\">81,904</span> (319.94 KB)\n",
              "</pre>\n"
            ]
          },
          "metadata": {}
        },
        {
          "output_type": "display_data",
          "data": {
            "text/plain": [
              "\u001b[1m Non-trainable params: \u001b[0m\u001b[38;5;34m0\u001b[0m (0.00 B)\n"
            ],
            "text/html": [
              "<pre style=\"white-space:pre;overflow-x:auto;line-height:normal;font-family:Menlo,'DejaVu Sans Mono',consolas,'Courier New',monospace\"><span style=\"font-weight: bold\"> Non-trainable params: </span><span style=\"color: #00af00; text-decoration-color: #00af00\">0</span> (0.00 B)\n",
              "</pre>\n"
            ]
          },
          "metadata": {}
        }
      ],
      "source": [
        "model = Sequential()\n",
        "\n",
        "model.add(TimeDistributed(CategoryEncoding(num_tokens=vocab_size, output_mode = \"one_hot\"),input_shape=(None,1)))\n",
        "model.add(SimpleRNN(200, return_sequences=True, dropout=0.1, recurrent_dropout=0.1 ))\n",
        "model.add(Dense(vocab_size, activation='softmax'))\n",
        "model.compile(loss='sparse_categorical_crossentropy', optimizer='rmsprop')\n",
        "\n",
        "model.summary()"
      ]
    },
    {
      "cell_type": "markdown",
      "metadata": {
        "id": "GmJWNyxQwfCE"
      },
      "source": [
        "\n",
        "### Definir el modelo"
      ]
    },
    {
      "cell_type": "markdown",
      "metadata": {
        "id": "YWK3z85sQfUe"
      },
      "source": [
        "Dado que por el momento no hay implementaciones adecuadas de la perplejidad que puedan operar en tiempo de entrenamiento, armaremos un Callback *ad-hoc* que la calcule en cada epoch.\n",
        "\n",
        "**Nota**: un Callback es una rutina gatillada por algún evento, son muy útiles para relevar datos en diferentes momentos del desarrollo del modelo. En este caso queremos hacer un cálculo cada vez que termina una epoch de entrenamiento."
      ]
    },
    {
      "cell_type": "code",
      "execution_count": 34,
      "metadata": {
        "id": "zUHX3r5JD-MG"
      },
      "outputs": [],
      "source": [
        "class PplCallback(keras.callbacks.Callback):\n",
        "\n",
        "    '''\n",
        "    Este callback es una solución ad-hoc para calcular al final de cada epoch de\n",
        "    entrenamiento la métrica de Perplejidad sobre un conjunto de datos de validación.\n",
        "    La perplejidad es una métrica cuantitativa para evaluar la calidad de la generación de secuencias.\n",
        "    Además implementa la finalización del entrenamiento (Early Stopping)\n",
        "    si la perplejidad no mejora después de `patience` epochs.\n",
        "    '''\n",
        "\n",
        "    def __init__(self, val_data, history_ppl,patience=5):\n",
        "      # El callback lo inicializamos con secuencias de validación sobre las cuales\n",
        "      # mediremos la perplejidad\n",
        "      self.val_data = val_data\n",
        "\n",
        "      self.target = []\n",
        "      self.padded = []\n",
        "\n",
        "      count = 0\n",
        "      self.info = []\n",
        "      self.min_score = np.inf\n",
        "      self.patience_counter = 0\n",
        "      self.patience = patience\n",
        "\n",
        "      # nos movemos en todas las secuencias de los datos de validación\n",
        "      for seq in self.val_data:\n",
        "\n",
        "        len_seq = len(seq)\n",
        "        # armamos todas las subsecuencias\n",
        "        subseq = [seq[:i] for i in range(1,len_seq)]\n",
        "        self.target.extend([seq[i] for i in range(1,len_seq)])\n",
        "\n",
        "        if len(subseq)!=0:\n",
        "\n",
        "          self.padded.append(pad_sequences(subseq, maxlen=max_context_size, padding='pre'))\n",
        "\n",
        "          self.info.append((count,count+len_seq))\n",
        "          count += len_seq\n",
        "\n",
        "      self.padded = np.vstack(self.padded)\n",
        "\n",
        "\n",
        "    def on_epoch_end(self, epoch, logs=None):\n",
        "\n",
        "        # en `scores` iremos guardando la perplejidad de cada secuencia\n",
        "        scores = []\n",
        "\n",
        "        predictions = self.model.predict(self.padded,verbose=0)\n",
        "\n",
        "        # para cada secuencia de validación\n",
        "        for start,end in self.info:\n",
        "\n",
        "          # en `probs` iremos guardando las probabilidades de los términos target\n",
        "          probs = [predictions[idx_seq,-1,idx_vocab] for idx_seq, idx_vocab in zip(range(start,end),self.target[start:end])]\n",
        "\n",
        "          # calculamos la perplejidad por medio de logaritmos\n",
        "          scores.append(np.exp(-np.sum(np.log(probs))/(end-start)))\n",
        "\n",
        "        # promediamos todos los scores e imprimimos el valor promedio\n",
        "        current_score = np.mean(scores)\n",
        "        history_ppl.append(current_score)\n",
        "        print(f'\\n mean perplexity: {current_score} \\n')\n",
        "\n",
        "        # chequeamos si tenemos que detener el entrenamiento\n",
        "        if current_score < self.min_score:\n",
        "          self.min_score = current_score\n",
        "          self.model.save(\"my_model.h5\")\n",
        "          print(\"Saved new model!\")\n",
        "          self.patience_counter = 0\n",
        "        else:\n",
        "          self.patience_counter += 1\n",
        "          if self.patience_counter == self.patience:\n",
        "            print(\"Stopping training...\")\n",
        "            self.model.stop_training = True\n"
      ]
    },
    {
      "cell_type": "markdown",
      "metadata": {
        "id": "8HBZIwR0gruA"
      },
      "source": [
        "### Entrenamiento"
      ]
    },
    {
      "cell_type": "code",
      "execution_count": 35,
      "metadata": {
        "id": "oQq1PHDkxDvN",
        "colab": {
          "base_uri": "https://localhost:8080/"
        },
        "outputId": "81787d4e-f89f-4e81-ddeb-6988ae35d56b"
      },
      "outputs": [
        {
          "output_type": "stream",
          "name": "stdout",
          "text": [
            "Epoch 1/20\n",
            "\u001b[1m299/299\u001b[0m \u001b[32m━━━━━━━━━━━━━━━━━━━━\u001b[0m\u001b[37m\u001b[0m \u001b[1m0s\u001b[0m 24ms/step - loss: 3.1011"
          ]
        },
        {
          "output_type": "stream",
          "name": "stderr",
          "text": [
            "WARNING:absl:You are saving your model as an HDF5 file via `model.save()` or `keras.saving.save_model(model)`. This file format is considered legacy. We recommend using instead the native Keras format, e.g. `model.save('my_model.keras')` or `keras.saving.save_model(model, 'my_model.keras')`. \n"
          ]
        },
        {
          "output_type": "stream",
          "name": "stdout",
          "text": [
            "\n",
            " mean perplexity: 12.033841696906693 \n",
            "\n",
            "Saved new model!\n",
            "\b\b\b\b\b\b\b\b\b\b\b\b\b\b\b\b\b\b\b\b\b\b\b\b\b\b\b\b\b\b\b\b\b\b\b\b\b\b\b\b\b\b\b\b\b\b\b\b\b\b\b\b\b\b\b\b\r\u001b[1m299/299\u001b[0m \u001b[32m━━━━━━━━━━━━━━━━━━━━\u001b[0m\u001b[37m\u001b[0m \u001b[1m19s\u001b[0m 44ms/step - loss: 3.1000\n",
            "Epoch 2/20\n",
            "\u001b[1m296/299\u001b[0m \u001b[32m━━━━━━━━━━━━━━━━━━━\u001b[0m\u001b[37m━\u001b[0m \u001b[1m0s\u001b[0m 17ms/step - loss: 2.3096"
          ]
        },
        {
          "output_type": "stream",
          "name": "stderr",
          "text": [
            "WARNING:absl:You are saving your model as an HDF5 file via `model.save()` or `keras.saving.save_model(model)`. This file format is considered legacy. We recommend using instead the native Keras format, e.g. `model.save('my_model.keras')` or `keras.saving.save_model(model, 'my_model.keras')`. \n"
          ]
        },
        {
          "output_type": "stream",
          "name": "stdout",
          "text": [
            "\n",
            " mean perplexity: 10.68979934846866 \n",
            "\n",
            "Saved new model!\n",
            "\b\b\b\b\b\b\b\b\b\b\b\b\b\b\b\b\b\b\b\b\b\b\b\b\b\b\b\b\b\b\b\b\b\b\b\b\b\b\b\b\b\b\b\b\b\b\b\b\b\b\b\b\b\b\b\b\r\u001b[1m299/299\u001b[0m \u001b[32m━━━━━━━━━━━━━━━━━━━━\u001b[0m\u001b[37m\u001b[0m \u001b[1m6s\u001b[0m 20ms/step - loss: 2.3088\n",
            "Epoch 3/20\n",
            "\u001b[1m298/299\u001b[0m \u001b[32m━━━━━━━━━━━━━━━━━━━\u001b[0m\u001b[37m━\u001b[0m \u001b[1m0s\u001b[0m 16ms/step - loss: 2.1017"
          ]
        },
        {
          "output_type": "stream",
          "name": "stderr",
          "text": [
            "WARNING:absl:You are saving your model as an HDF5 file via `model.save()` or `keras.saving.save_model(model)`. This file format is considered legacy. We recommend using instead the native Keras format, e.g. `model.save('my_model.keras')` or `keras.saving.save_model(model, 'my_model.keras')`. \n"
          ]
        },
        {
          "output_type": "stream",
          "name": "stdout",
          "text": [
            "\n",
            " mean perplexity: 9.614065635819019 \n",
            "\n",
            "Saved new model!\n",
            "\b\b\b\b\b\b\b\b\b\b\b\b\b\b\b\b\b\b\b\b\b\b\b\b\b\b\b\b\b\b\b\b\b\b\b\b\b\b\b\b\b\b\b\b\b\b\b\b\b\b\b\b\b\b\b\b\r\u001b[1m299/299\u001b[0m \u001b[32m━━━━━━━━━━━━━━━━━━━━\u001b[0m\u001b[37m\u001b[0m \u001b[1m6s\u001b[0m 19ms/step - loss: 2.1015\n",
            "Epoch 4/20\n",
            "\u001b[1m297/299\u001b[0m \u001b[32m━━━━━━━━━━━━━━━━━━━\u001b[0m\u001b[37m━\u001b[0m \u001b[1m0s\u001b[0m 17ms/step - loss: 1.9635"
          ]
        },
        {
          "output_type": "stream",
          "name": "stderr",
          "text": [
            "WARNING:absl:You are saving your model as an HDF5 file via `model.save()` or `keras.saving.save_model(model)`. This file format is considered legacy. We recommend using instead the native Keras format, e.g. `model.save('my_model.keras')` or `keras.saving.save_model(model, 'my_model.keras')`. \n"
          ]
        },
        {
          "output_type": "stream",
          "name": "stdout",
          "text": [
            "\n",
            " mean perplexity: 8.768220939775256 \n",
            "\n",
            "Saved new model!\n",
            "\b\b\b\b\b\b\b\b\b\b\b\b\b\b\b\b\b\b\b\b\b\b\b\b\b\b\b\b\b\b\b\b\b\b\b\b\b\b\b\b\b\b\b\b\b\b\b\b\b\b\b\b\b\b\b\b\r\u001b[1m299/299\u001b[0m \u001b[32m━━━━━━━━━━━━━━━━━━━━\u001b[0m\u001b[37m\u001b[0m \u001b[1m6s\u001b[0m 19ms/step - loss: 1.9632\n",
            "Epoch 5/20\n",
            "\u001b[1m296/299\u001b[0m \u001b[32m━━━━━━━━━━━━━━━━━━━\u001b[0m\u001b[37m━\u001b[0m \u001b[1m0s\u001b[0m 16ms/step - loss: 1.8662"
          ]
        },
        {
          "output_type": "stream",
          "name": "stderr",
          "text": [
            "WARNING:absl:You are saving your model as an HDF5 file via `model.save()` or `keras.saving.save_model(model)`. This file format is considered legacy. We recommend using instead the native Keras format, e.g. `model.save('my_model.keras')` or `keras.saving.save_model(model, 'my_model.keras')`. \n"
          ]
        },
        {
          "output_type": "stream",
          "name": "stdout",
          "text": [
            "\n",
            " mean perplexity: 8.708027949851227 \n",
            "\n",
            "Saved new model!\n",
            "\b\b\b\b\b\b\b\b\b\b\b\b\b\b\b\b\b\b\b\b\b\b\b\b\b\b\b\b\b\b\b\b\b\b\b\b\b\b\b\b\b\b\b\b\b\b\b\b\b\b\b\b\b\b\b\b\r\u001b[1m299/299\u001b[0m \u001b[32m━━━━━━━━━━━━━━━━━━━━\u001b[0m\u001b[37m\u001b[0m \u001b[1m6s\u001b[0m 20ms/step - loss: 1.8660\n",
            "Epoch 6/20\n",
            "\u001b[1m297/299\u001b[0m \u001b[32m━━━━━━━━━━━━━━━━━━━\u001b[0m\u001b[37m━\u001b[0m \u001b[1m0s\u001b[0m 17ms/step - loss: 1.7951"
          ]
        },
        {
          "output_type": "stream",
          "name": "stderr",
          "text": [
            "WARNING:absl:You are saving your model as an HDF5 file via `model.save()` or `keras.saving.save_model(model)`. This file format is considered legacy. We recommend using instead the native Keras format, e.g. `model.save('my_model.keras')` or `keras.saving.save_model(model, 'my_model.keras')`. \n"
          ]
        },
        {
          "output_type": "stream",
          "name": "stdout",
          "text": [
            "\n",
            " mean perplexity: 8.22502106002819 \n",
            "\n",
            "Saved new model!\n",
            "\b\b\b\b\b\b\b\b\b\b\b\b\b\b\b\b\b\b\b\b\b\b\b\b\b\b\b\b\b\b\b\b\b\b\b\b\b\b\b\b\b\b\b\b\b\b\b\b\b\b\b\b\b\b\b\b\r\u001b[1m299/299\u001b[0m \u001b[32m━━━━━━━━━━━━━━━━━━━━\u001b[0m\u001b[37m\u001b[0m \u001b[1m6s\u001b[0m 20ms/step - loss: 1.7949\n",
            "Epoch 7/20\n",
            "\u001b[1m296/299\u001b[0m \u001b[32m━━━━━━━━━━━━━━━━━━━\u001b[0m\u001b[37m━\u001b[0m \u001b[1m0s\u001b[0m 17ms/step - loss: 1.7406"
          ]
        },
        {
          "output_type": "stream",
          "name": "stderr",
          "text": [
            "WARNING:absl:You are saving your model as an HDF5 file via `model.save()` or `keras.saving.save_model(model)`. This file format is considered legacy. We recommend using instead the native Keras format, e.g. `model.save('my_model.keras')` or `keras.saving.save_model(model, 'my_model.keras')`. \n"
          ]
        },
        {
          "output_type": "stream",
          "name": "stdout",
          "text": [
            "\n",
            " mean perplexity: 8.161613231249461 \n",
            "\n",
            "Saved new model!\n",
            "\b\b\b\b\b\b\b\b\b\b\b\b\b\b\b\b\b\b\b\b\b\b\b\b\b\b\b\b\b\b\b\b\b\b\b\b\b\b\b\b\b\b\b\b\b\b\b\b\b\b\b\b\b\b\b\b\r\u001b[1m299/299\u001b[0m \u001b[32m━━━━━━━━━━━━━━━━━━━━\u001b[0m\u001b[37m\u001b[0m \u001b[1m11s\u001b[0m 21ms/step - loss: 1.7405\n",
            "Epoch 8/20\n",
            "\u001b[1m299/299\u001b[0m \u001b[32m━━━━━━━━━━━━━━━━━━━━\u001b[0m\u001b[37m\u001b[0m \u001b[1m0s\u001b[0m 16ms/step - loss: 1.7007"
          ]
        },
        {
          "output_type": "stream",
          "name": "stderr",
          "text": [
            "WARNING:absl:You are saving your model as an HDF5 file via `model.save()` or `keras.saving.save_model(model)`. This file format is considered legacy. We recommend using instead the native Keras format, e.g. `model.save('my_model.keras')` or `keras.saving.save_model(model, 'my_model.keras')`. \n"
          ]
        },
        {
          "output_type": "stream",
          "name": "stdout",
          "text": [
            "\n",
            " mean perplexity: 8.116242744584943 \n",
            "\n",
            "Saved new model!\n",
            "\b\b\b\b\b\b\b\b\b\b\b\b\b\b\b\b\b\b\b\b\b\b\b\b\b\b\b\b\b\b\b\b\b\b\b\b\b\b\b\b\b\b\b\b\b\b\b\b\b\b\b\b\b\b\b\b\r\u001b[1m299/299\u001b[0m \u001b[32m━━━━━━━━━━━━━━━━━━━━\u001b[0m\u001b[37m\u001b[0m \u001b[1m10s\u001b[0m 19ms/step - loss: 1.7006\n",
            "Epoch 9/20\n",
            "\u001b[1m299/299\u001b[0m \u001b[32m━━━━━━━━━━━━━━━━━━━━\u001b[0m\u001b[37m\u001b[0m \u001b[1m0s\u001b[0m 17ms/step - loss: 1.6680"
          ]
        },
        {
          "output_type": "stream",
          "name": "stderr",
          "text": [
            "WARNING:absl:You are saving your model as an HDF5 file via `model.save()` or `keras.saving.save_model(model)`. This file format is considered legacy. We recommend using instead the native Keras format, e.g. `model.save('my_model.keras')` or `keras.saving.save_model(model, 'my_model.keras')`. \n"
          ]
        },
        {
          "output_type": "stream",
          "name": "stdout",
          "text": [
            "\n",
            " mean perplexity: 8.085000974258344 \n",
            "\n",
            "Saved new model!\n",
            "\b\b\b\b\b\b\b\b\b\b\b\b\b\b\b\b\b\b\b\b\b\b\b\b\b\b\b\b\b\b\b\b\b\b\b\b\b\b\b\b\b\b\b\b\b\b\b\b\b\b\b\b\b\b\b\b\r\u001b[1m299/299\u001b[0m \u001b[32m━━━━━━━━━━━━━━━━━━━━\u001b[0m\u001b[37m\u001b[0m \u001b[1m10s\u001b[0m 19ms/step - loss: 1.6680\n",
            "Epoch 10/20\n",
            "\u001b[1m298/299\u001b[0m \u001b[32m━━━━━━━━━━━━━━━━━━━\u001b[0m\u001b[37m━\u001b[0m \u001b[1m0s\u001b[0m 17ms/step - loss: 1.6375\n",
            " mean perplexity: 8.388544897890833 \n",
            "\n",
            "\u001b[1m299/299\u001b[0m \u001b[32m━━━━━━━━━━━━━━━━━━━━\u001b[0m\u001b[37m\u001b[0m \u001b[1m6s\u001b[0m 22ms/step - loss: 1.6374\n",
            "Epoch 11/20\n",
            "\u001b[1m297/299\u001b[0m \u001b[32m━━━━━━━━━━━━━━━━━━━\u001b[0m\u001b[37m━\u001b[0m \u001b[1m0s\u001b[0m 17ms/step - loss: 1.6176\n",
            " mean perplexity: 8.335157289454726 \n",
            "\n",
            "\u001b[1m299/299\u001b[0m \u001b[32m━━━━━━━━━━━━━━━━━━━━\u001b[0m\u001b[37m\u001b[0m \u001b[1m10s\u001b[0m 21ms/step - loss: 1.6175\n",
            "Epoch 12/20\n",
            "\u001b[1m299/299\u001b[0m \u001b[32m━━━━━━━━━━━━━━━━━━━━\u001b[0m\u001b[37m\u001b[0m \u001b[1m0s\u001b[0m 16ms/step - loss: 1.5988\n",
            " mean perplexity: 8.332261477137813 \n",
            "\n",
            "\u001b[1m299/299\u001b[0m \u001b[32m━━━━━━━━━━━━━━━━━━━━\u001b[0m\u001b[37m\u001b[0m \u001b[1m6s\u001b[0m 19ms/step - loss: 1.5988\n",
            "Epoch 13/20\n",
            "\u001b[1m296/299\u001b[0m \u001b[32m━━━━━━━━━━━━━━━━━━━\u001b[0m\u001b[37m━\u001b[0m \u001b[1m0s\u001b[0m 17ms/step - loss: 1.5835\n",
            " mean perplexity: 8.378926448196284 \n",
            "\n",
            "\u001b[1m299/299\u001b[0m \u001b[32m━━━━━━━━━━━━━━━━━━━━\u001b[0m\u001b[37m\u001b[0m \u001b[1m6s\u001b[0m 20ms/step - loss: 1.5834\n",
            "Epoch 14/20\n",
            "\u001b[1m296/299\u001b[0m \u001b[32m━━━━━━━━━━━━━━━━━━━\u001b[0m\u001b[37m━\u001b[0m \u001b[1m0s\u001b[0m 17ms/step - loss: 1.5685\n",
            " mean perplexity: 8.208452116486555 \n",
            "\n",
            "Stopping training...\n",
            "\u001b[1m299/299\u001b[0m \u001b[32m━━━━━━━━━━━━━━━━━━━━\u001b[0m\u001b[37m\u001b[0m \u001b[1m6s\u001b[0m 19ms/step - loss: 1.5685\n"
          ]
        }
      ],
      "source": [
        "# fiteamos, nótese el agregado del callback con su inicialización. El batch_size lo podemos seleccionar a mano\n",
        "# en general, lo mejor es escoger el batch más grande posible que minimice el tiempo de cada época.\n",
        "# En la variable `history_ppl` se guardarán los valores de perplejidad para cada época.\n",
        "history_ppl = []\n",
        "hist = model.fit(X, y, epochs=20, callbacks=[PplCallback(tokenized_sentences_val,history_ppl)], batch_size=256)"
      ]
    },
    {
      "cell_type": "code",
      "execution_count": 36,
      "metadata": {
        "id": "K30JHB3Dv-mx",
        "colab": {
          "base_uri": "https://localhost:8080/",
          "height": 430
        },
        "outputId": "438b937b-459c-4886-ee44-ec265a4dc338"
      },
      "outputs": [
        {
          "output_type": "display_data",
          "data": {
            "text/plain": [
              "<Figure size 640x480 with 1 Axes>"
            ],
            "image/png": "[encoded data removed]"
          },
          "metadata": {}
        }
      ],
      "source": [
        "import matplotlib.pyplot as plt\n",
        "import seaborn as sns\n",
        "\n",
        "# Entrenamiento\n",
        "epoch_count = range(1, len(history_ppl) + 1)\n",
        "sns.lineplot(x=epoch_count,  y=history_ppl)\n",
        "plt.show()"
      ]
    },
    {
      "cell_type": "code",
      "execution_count": 37,
      "metadata": {
        "id": "Rhy5hZN38qfO",
        "colab": {
          "base_uri": "https://localhost:8080/"
        },
        "outputId": "9bcebb98-f084-405a-f75a-e200d910da35"
      },
      "outputs": [
        {
          "output_type": "stream",
          "name": "stderr",
          "text": [
            "WARNING:absl:Compiled the loaded model, but the compiled metrics have yet to be built. `model.compile_metrics` will be empty until you train or evaluate the model.\n"
          ]
        }
      ],
      "source": [
        "# Cargamos el mejor modelo guardado del entrenamiento para hacer inferencia\n",
        "model = keras.models.load_model('my_model.h5')"
      ]
    },
    {
      "cell_type": "markdown",
      "metadata": {
        "id": "KN6Fg_BsxJe6"
      },
      "source": [
        "\n",
        "### Predicción del próximo caracter"
      ]
    },
    {
      "cell_type": "code",
      "execution_count": 38,
      "metadata": {
        "id": "IBvKHFPmzpy2",
        "colab": {
          "base_uri": "https://localhost:8080/"
        },
        "outputId": "30967be5-4267-47e6-ba03-95788a6811d0"
      },
      "outputs": [
        {
          "output_type": "stream",
          "name": "stdout",
          "text": [
            "\u001b[2K     \u001b[90m━━━━━━━━━━━━━━━━━━━━━━━━━━━━━━━━━━━━━━━━\u001b[0m \u001b[32m50.4/50.4 kB\u001b[0m \u001b[31m3.6 MB/s\u001b[0m eta \u001b[36m0:00:00\u001b[0m\n",
            "\u001b[2K   \u001b[90m━━━━━━━━━━━━━━━━━━━━━━━━━━━━━━━━━━━━━━━━\u001b[0m \u001b[32m18.1/18.1 MB\u001b[0m \u001b[31m94.7 MB/s\u001b[0m eta \u001b[36m0:00:00\u001b[0m\n",
            "\u001b[2K   \u001b[90m━━━━━━━━━━━━━━━━━━━━━━━━━━━━━━━━━━━━━━━━\u001b[0m \u001b[32m318.7/318.7 kB\u001b[0m \u001b[31m27.5 MB/s\u001b[0m eta \u001b[36m0:00:00\u001b[0m\n",
            "\u001b[2K   \u001b[90m━━━━━━━━━━━━━━━━━━━━━━━━━━━━━━━━━━━━━━━━\u001b[0m \u001b[32m94.6/94.6 kB\u001b[0m \u001b[31m9.3 MB/s\u001b[0m eta \u001b[36m0:00:00\u001b[0m\n",
            "\u001b[2K   \u001b[90m━━━━━━━━━━━━━━━━━━━━━━━━━━━━━━━━━━━━━━━━\u001b[0m \u001b[32m76.4/76.4 kB\u001b[0m \u001b[31m8.1 MB/s\u001b[0m eta \u001b[36m0:00:00\u001b[0m\n",
            "\u001b[2K   \u001b[90m━━━━━━━━━━━━━━━━━━━━━━━━━━━━━━━━━━━━━━━━\u001b[0m \u001b[32m77.9/77.9 kB\u001b[0m \u001b[31m5.5 MB/s\u001b[0m eta \u001b[36m0:00:00\u001b[0m\n",
            "\u001b[2K   \u001b[90m━━━━━━━━━━━━━━━━━━━━━━━━━━━━━━━━━━━━━━━━\u001b[0m \u001b[32m141.9/141.9 kB\u001b[0m \u001b[31m12.7 MB/s\u001b[0m eta \u001b[36m0:00:00\u001b[0m\n",
            "\u001b[2K   \u001b[90m━━━━━━━━━━━━━━━━━━━━━━━━━━━━━━━━━━━━━━━━\u001b[0m \u001b[32m11.9/11.9 MB\u001b[0m \u001b[31m105.7 MB/s\u001b[0m eta \u001b[36m0:00:00\u001b[0m\n",
            "\u001b[2K   \u001b[90m━━━━━━━━━━━━━━━━━━━━━━━━━━━━━━━━━━━━━━━━\u001b[0m \u001b[32m62.8/62.8 kB\u001b[0m \u001b[31m5.5 MB/s\u001b[0m eta \u001b[36m0:00:00\u001b[0m\n",
            "\u001b[2K   \u001b[90m━━━━━━━━━━━━━━━━━━━━━━━━━━━━━━━━━━━━━━━━\u001b[0m \u001b[32m58.3/58.3 kB\u001b[0m \u001b[31m5.6 MB/s\u001b[0m eta \u001b[36m0:00:00\u001b[0m\n",
            "\u001b[2K   \u001b[90m━━━━━━━━━━━━━━━━━━━━━━━━━━━━━━━━━━━━━━━━\u001b[0m \u001b[32m71.4/71.4 kB\u001b[0m \u001b[31m6.0 MB/s\u001b[0m eta \u001b[36m0:00:00\u001b[0m\n",
            "\u001b[2K   \u001b[90m━━━━━━━━━━━━━━━━━━━━━━━━━━━━━━━━━━━━━━━━\u001b[0m \u001b[32m130.2/130.2 kB\u001b[0m \u001b[31m11.2 MB/s\u001b[0m eta \u001b[36m0:00:00\u001b[0m\n",
            "\u001b[?25h"
          ]
        }
      ],
      "source": [
        "# Se puede usar gradio para probar el modelo\n",
        "# Gradio es una herramienta muy útil para crear interfaces para ensayar modelos\n",
        "# https://gradio.app/\n",
        "\n",
        "!pip install -q gradio"
      ]
    },
    {
      "cell_type": "code",
      "execution_count": 39,
      "metadata": {
        "id": "HNyBykvhzs7-",
        "colab": {
          "base_uri": "https://localhost:8080/",
          "height": 767
        },
        "outputId": "9f3e0c51-2074-46b5-8546-671761a389e1"
      },
      "outputs": [
        {
          "output_type": "stream",
          "name": "stdout",
          "text": [
            "Setting queue=True in a Colab notebook requires sharing enabled. Setting `share=True` (you can turn this off by setting `share=False` in `launch()` explicitly).\n",
            "\n",
            "Colab notebook detected. This cell will run indefinitely so that you can see errors and logs. To turn off, set debug=False in launch().\n",
            "Running on public URL: https://499ca4680d960511d1.gradio.live\n",
            "\n",
            "This share link expires in 72 hours. For free permanent hosting and GPU upgrades, run `gradio deploy` from Terminal to deploy to Spaces (https://huggingface.co/spaces)\n"
          ]
        },
        {
          "output_type": "display_data",
          "data": {
            "text/plain": [
              "<IPython.core.display.HTML object>"
            ],
            "text/html": [
              "<div><iframe src=\"https://499ca4680d960511d1.gradio.live\" width=\"100%\" height=\"500\" allow=\"autoplay; camera; microphone; clipboard-read; clipboard-write;\" frameborder=\"0\" allowfullscreen></iframe></div>"
            ]
          },
          "metadata": {}
        },
        {
          "output_type": "stream",
          "name": "stdout",
          "text": [
            "\u001b[1m1/1\u001b[0m \u001b[32m━━━━━━━━━━━━━━━━━━━━\u001b[0m\u001b[37m\u001b[0m \u001b[1m2s\u001b[0m 2s/step\n",
            "\u001b[1m1/1\u001b[0m \u001b[32m━━━━━━━━━━━━━━━━━━━━\u001b[0m\u001b[37m\u001b[0m \u001b[1m0s\u001b[0m 26ms/step\n",
            "\u001b[1m1/1\u001b[0m \u001b[32m━━━━━━━━━━━━━━━━━━━━\u001b[0m\u001b[37m\u001b[0m \u001b[1m0s\u001b[0m 17ms/step\n",
            "\u001b[1m1/1\u001b[0m \u001b[32m━━━━━━━━━━━━━━━━━━━━\u001b[0m\u001b[37m\u001b[0m \u001b[1m0s\u001b[0m 16ms/step\n",
            "\u001b[1m1/1\u001b[0m \u001b[32m━━━━━━━━━━━━━━━━━━━━\u001b[0m\u001b[37m\u001b[0m \u001b[1m0s\u001b[0m 20ms/step\n",
            "Keyboard interruption in main thread... closing server.\n",
            "Killing tunnel 127.0.0.1:7860 <> https://499ca4680d960511d1.gradio.live\n"
          ]
        },
        {
          "output_type": "execute_result",
          "data": {
            "text/plain": []
          },
          "metadata": {},
          "execution_count": 39
        }
      ],
      "source": [
        "import gradio as gr\n",
        "\n",
        "def model_response(human_text):\n",
        "\n",
        "    # Encodeamos\n",
        "    encoded = [char2idx[ch] for ch in human_text.lower() ]\n",
        "    # Si tienen distinto largo\n",
        "    encoded = pad_sequences([encoded], maxlen=max_context_size, padding='pre')\n",
        "\n",
        "    # Predicción softmax\n",
        "    y_hat = np.argmax(model.predict(encoded)[0,-1,:])\n",
        "\n",
        "\n",
        "    # Debemos buscar en el vocabulario el caracter\n",
        "    # que corresopnde al indice (y_hat) predicho por le modelo\n",
        "    out_word = ''\n",
        "    out_word = idx2char[y_hat]\n",
        "\n",
        "    # Agrego la palabra a la frase predicha\n",
        "    return human_text + out_word\n",
        "\n",
        "iface = gr.Interface(\n",
        "    fn=model_response,\n",
        "    inputs=[\"textbox\"],\n",
        "    outputs=\"text\")\n",
        "\n",
        "iface.launch(debug=True)"
      ]
    },
    {
      "cell_type": "markdown",
      "metadata": {
        "id": "mCeMWWupxN1-"
      },
      "source": [
        "### Generación de secuencias"
      ]
    },
    {
      "cell_type": "code",
      "execution_count": 40,
      "metadata": {
        "id": "bwbS_pfhxvB3"
      },
      "outputs": [],
      "source": [
        "def generate_seq(model, seed_text, max_length, n_words):\n",
        "    \"\"\"\n",
        "        Exec model sequence prediction\n",
        "\n",
        "        Args:\n",
        "            model (keras): modelo entrenado\n",
        "            seed_text (string): texto de entrada (input_seq)\n",
        "            max_length (int): máxima longitud de la sequencia de entrada\n",
        "            n_words (int): números de caracteres a agregar a la sequencia de entrada\n",
        "        returns:\n",
        "            output_text (string): sentencia con las \"n_words\" agregadas\n",
        "    \"\"\"\n",
        "    output_text = seed_text\n",
        "\t# generate a fixed number of words\n",
        "    for _ in range(n_words):\n",
        "\t\t# Encodeamos\n",
        "        encoded = [char2idx[ch] for ch in output_text.lower() ]\n",
        "\t\t# Si tienen distinto largo\n",
        "        encoded = pad_sequences([encoded], maxlen=max_length, padding='pre')\n",
        "\n",
        "\t\t# Predicción softmax\n",
        "        y_hat = np.argmax(model.predict(encoded,verbose=0)[0,-1,:])\n",
        "\t\t# Vamos concatenando las predicciones\n",
        "        out_word = ''\n",
        "\n",
        "        out_word = idx2char[y_hat]\n",
        "\n",
        "\t\t# Agrego las palabras a la frase predicha\n",
        "        output_text += out_word\n",
        "    return output_text"
      ]
    },
    {
      "cell_type": "code",
      "execution_count": 47,
      "metadata": {
        "id": "JoFqRC5pxzqS",
        "colab": {
          "base_uri": "https://localhost:8080/",
          "height": 35
        },
        "outputId": "afe12749-ce62-4d26-9dd8-8249dacf346a"
      },
      "outputs": [
        {
          "output_type": "execute_result",
          "data": {
            "text/plain": [
              "'at ibm we doversity of the world’s leadin'"
            ],
            "application/vnd.google.colaboratory.intrinsic+json": {
              "type": "string"
            }
          },
          "metadata": {},
          "execution_count": 47
        }
      ],
      "source": [
        "input_text='at ibm we d'\n",
        "\n",
        "generate_seq(model, input_text, max_length=max_context_size, n_words=30)"
      ]
    },
    {
      "cell_type": "markdown",
      "metadata": {
        "id": "drJ6xn5qW1Hl"
      },
      "source": [
        "###  Beam search y muestreo aleatorio"
      ]
    },
    {
      "cell_type": "code",
      "execution_count": 48,
      "metadata": {
        "id": "_vovn9XZW1Hl"
      },
      "outputs": [],
      "source": [
        "# funcionalidades para hacer encoding y decoding\n",
        "\n",
        "def encode(text,max_length=max_context_size):\n",
        "\n",
        "    encoded = [char2idx[ch] for ch in text]\n",
        "    encoded = pad_sequences([encoded], maxlen=max_length, padding='pre')\n",
        "\n",
        "    return encoded\n",
        "\n",
        "def decode(seq):\n",
        "    return ''.join([idx2char[ch] for ch in seq])"
      ]
    },
    {
      "cell_type": "code",
      "execution_count": 49,
      "metadata": {
        "id": "I_lZiQwkW1Hl"
      },
      "outputs": [],
      "source": [
        "from scipy.special import softmax\n",
        "\n",
        "# función que selecciona candidatos para el beam search\n",
        "def select_candidates(pred,num_beams,vocab_size,history_probs,history_tokens,temp,mode):\n",
        "\n",
        "  # colectar todas las probabilidades para la siguiente búsqueda\n",
        "  pred_large = []\n",
        "\n",
        "  for idx,pp in enumerate(pred):\n",
        "    pred_large.extend(np.log(pp+1E-10)+history_probs[idx])\n",
        "\n",
        "  pred_large = np.array(pred_large)\n",
        "\n",
        "  # criterio de selección\n",
        "  if mode == 'det':\n",
        "    idx_select = np.argsort(pred_large)[::-1][:num_beams] # beam search determinista\n",
        "  elif mode == 'sto':\n",
        "    idx_select = np.random.choice(np.arange(pred_large.shape[0]), num_beams, p=softmax(pred_large/temp)) # beam search con muestreo aleatorio\n",
        "  else:\n",
        "    raise ValueError(f'Wrong selection mode. {mode} was given. det and sto are supported.')\n",
        "\n",
        "  # traducir a índices de token en el vocabulario\n",
        "  new_history_tokens = np.concatenate((np.array(history_tokens)[idx_select//vocab_size],\n",
        "                        np.array([idx_select%vocab_size]).T),\n",
        "                      axis=1)\n",
        "\n",
        "  # devolver el producto de las probabilidades (log) y la secuencia de tokens seleccionados\n",
        "  return pred_large[idx_select.astype(int)], new_history_tokens.astype(int)\n",
        "\n",
        "\n",
        "def beam_search(model,num_beams,num_words,input,temp=1,mode='det'):\n",
        "\n",
        "    # first iteration\n",
        "\n",
        "    # encode\n",
        "    encoded = encode(input)\n",
        "\n",
        "    # first prediction\n",
        "    y_hat = model.predict(encoded,verbose=0)[0,-1,:]\n",
        "\n",
        "    # get vocabulary size\n",
        "    vocab_size = y_hat.shape[0]\n",
        "\n",
        "    # initialize history\n",
        "    history_probs = [0]*num_beams\n",
        "    history_tokens = [encoded[0]]*num_beams\n",
        "\n",
        "    # select num_beams candidates\n",
        "    history_probs, history_tokens = select_candidates([y_hat],\n",
        "                                        num_beams,\n",
        "                                        vocab_size,\n",
        "                                        history_probs,\n",
        "                                        history_tokens,\n",
        "                                        temp,\n",
        "                                        mode)\n",
        "\n",
        "    # beam search loop\n",
        "    for i in range(num_words-1):\n",
        "\n",
        "      preds = []\n",
        "\n",
        "      for hist in history_tokens:\n",
        "\n",
        "        # actualizar secuencia de tokens\n",
        "        input_update = np.array([hist[i+1:]]).copy()\n",
        "\n",
        "        # predicción\n",
        "        y_hat = model.predict(input_update,verbose=0)[0,-1,:]\n",
        "\n",
        "        preds.append(y_hat)\n",
        "\n",
        "      history_probs, history_tokens = select_candidates(preds,\n",
        "                                                        num_beams,\n",
        "                                                        vocab_size,\n",
        "                                                        history_probs,\n",
        "                                                        history_tokens,\n",
        "                                                        temp,\n",
        "                                                        mode)\n",
        "\n",
        "    return history_tokens[:,-(len(input)+num_words):]"
      ]
    },
    {
      "cell_type": "code",
      "execution_count": 50,
      "metadata": {
        "id": "GeLqAoOYW1Hm"
      },
      "outputs": [],
      "source": [
        "# predicción con beam search\n",
        "salidas = beam_search(model,num_beams=10,num_words=20,input=\"at ibm we d\")"
      ]
    },
    {
      "cell_type": "code",
      "execution_count": 51,
      "metadata": {
        "id": "P8HQoLhw-NYg",
        "colab": {
          "base_uri": "https://localhost:8080/"
        },
        "outputId": "5239d69d-4164-4ed5-c3c8-c4212797bb23"
      },
      "outputs": [
        {
          "output_type": "execute_result",
          "data": {
            "text/plain": [
              "array([62, 73, 68,  2, 95, 69, 68, 47, 14, 68, 58, 14, 67,  2, 94, 14, 80,\n",
              "        6, 68, 73, 91, 14, 68, 47, 75, 80, 67, 58,  9,  6, 68])"
            ]
          },
          "metadata": {},
          "execution_count": 51
        }
      ],
      "source": [
        "salidas[0]"
      ]
    },
    {
      "cell_type": "code",
      "execution_count": 52,
      "metadata": {
        "id": "2S3_I3S1W1Hm",
        "colab": {
          "base_uri": "https://localhost:8080/",
          "height": 35
        },
        "outputId": "9e8e45d4-75fd-4536-c08f-6da59622cb61"
      },
      "outputs": [
        {
          "output_type": "execute_result",
          "data": {
            "text/plain": [
              "'at ibm we delivers the world’s '"
            ],
            "application/vnd.google.colaboratory.intrinsic+json": {
              "type": "string"
            }
          },
          "metadata": {},
          "execution_count": 52
        }
      ],
      "source": [
        "# veamos las salidas\n",
        "decode(salidas[0])"
      ]
    },
    {
      "cell_type": "markdown",
      "source": [
        "# Conclusión\n",
        "\n",
        "Para el mismo dataset se obtuvo un mejor comportamiento con el modelo que tokeniza los caracteres en vez de las palabras."
      ],
      "metadata": {
        "id": "4DY1kbOcZV7_"
      }
    }
  ],
  "metadata": {
    "accelerator": "GPU",
    "colab": {
      "gpuType": "T4",
      "provenance": []
    },
    "kernelspec": {
      "display_name": "Python 3",
      "name": "python3"
    },
    "language_info": {
      "name": "python"
    }
  },
  "nbformat": 4,
  "nbformat_minor": 0
}